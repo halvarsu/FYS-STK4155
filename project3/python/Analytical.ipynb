{
 "cells": [
  {
   "cell_type": "code",
   "execution_count": null,
   "metadata": {},
   "outputs": [],
   "source": [
    "%matplotlib inline \n",
    "%load_ext autoreload\n",
    "%autoreload  2\n",
    "import numpy as np\n",
    "import matplotlib.pyplot as plt\n",
    "import pandas as pd"
   ]
  },
  {
   "cell_type": "code",
   "execution_count": null,
   "metadata": {},
   "outputs": [],
   "source": [
    "a = np.arange(10)\n",
    "a"
   ]
  },
  {
   "cell_type": "code",
   "execution_count": null,
   "metadata": {},
   "outputs": [],
   "source": [
    "Nt = 1000\n",
    "Nx = 20\n",
    "\n",
    "T = 2\n",
    "x0 = 0\n",
    "xN = 1\n",
    "\n",
    "x = np.linspace(x0, xN, Nx)\n",
    "times = np.linspace(0,  T,  Nt)\n",
    "\n",
    "u = np.zeros((Nt,Nx))\n",
    "u[0] = np.sin(np.pi*x)\n",
    "print(u[0])\n",
    "\n",
    "u_a = np.zeros((Nt,Nx))\n",
    "u_a[0] = np.sin(np.pi*x)\n",
    "\n",
    "\n",
    "\n",
    "dx = (xN - x0)/(Nx-1)\n",
    "dt = T/(Nt-1)\n",
    "r = dt/dx**2\n",
    "factor = (1-2*r)\n",
    "\n",
    "print(r)\n",
    "\n",
    "for j,t in enumerate(times):\n",
    "    if j == 0:\n",
    "        continue\n",
    "    # u[j,0] = 0\n",
    "    # u[j,-1] = 0\n",
    "    for i in range(1,Nx-1):\n",
    "        u[j,i] = u[j-1,i]*factor + r * (u[j-1,i+1] + u[j-1, i-1])\n",
    "        \n",
    "    u_a[j] = np.exp(-t) * np.sin(np.pi*x)\n",
    "        \n",
    "fig,[ax1,ax2] = plt.subplots(2, figsize = [8,8])\n",
    "\n",
    "m = ax1.imshow(u[:100].T)\n",
    "plt.colorbar(m,ax=ax1)\n",
    "m = ax2.imshow(u_a[:100].T)\n",
    "plt.colorbar(m,ax=ax2)"
   ]
  },
  {
   "cell_type": "code",
   "execution_count": null,
   "metadata": {},
   "outputs": [],
   "source": []
  },
  {
   "cell_type": "code",
   "execution_count": null,
   "metadata": {},
   "outputs": [],
   "source": []
  },
  {
   "cell_type": "code",
   "execution_count": null,
   "metadata": {},
   "outputs": [],
   "source": []
  },
  {
   "cell_type": "code",
   "execution_count": null,
   "metadata": {},
   "outputs": [],
   "source": []
  },
  {
   "cell_type": "code",
   "execution_count": null,
   "metadata": {},
   "outputs": [],
   "source": []
  },
  {
   "cell_type": "code",
   "execution_count": null,
   "metadata": {},
   "outputs": [],
   "source": []
  },
  {
   "cell_type": "code",
   "execution_count": null,
   "metadata": {},
   "outputs": [],
   "source": []
  },
  {
   "cell_type": "code",
   "execution_count": null,
   "metadata": {},
   "outputs": [],
   "source": []
  }
 ],
 "metadata": {
  "kernelspec": {
   "display_name": "Python 3",
   "language": "python",
   "name": "python3"
  },
  "language_info": {
   "codemirror_mode": {
    "name": "ipython",
    "version": 3
   },
   "file_extension": ".py",
   "mimetype": "text/x-python",
   "name": "python",
   "nbconvert_exporter": "python",
   "pygments_lexer": "ipython3",
   "version": "3.6.6"
  }
 },
 "nbformat": 4,
 "nbformat_minor": 2
}
