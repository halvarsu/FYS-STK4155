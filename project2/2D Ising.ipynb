{
 "cells": [
  {
   "cell_type": "code",
   "execution_count": null,
   "metadata": {},
   "outputs": [],
   "source": [
    "%load_ext autoreload\n",
    "%autoreload 2\n",
    "\n",
    "# Add project 1 to sys path \n",
    "import sys\n",
    "sys.path.append('../project1/')\n",
    "import tools as proj1_tools\n",
    "import project2_tools as proj2_tools\n",
    "\n",
    "import numpy as np\n",
    "import matplotlib.pyplot as plt"
   ]
  },
  {
   "cell_type": "code",
   "execution_count": null,
   "metadata": {},
   "outputs": [],
   "source": [
    "L = 40\n",
    "temps = proj2_tools.get_available_t()\n",
    "states = proj2_tools.read_t(temps[0])\n",
    "states.shape"
   ]
  },
  {
   "cell_type": "code",
   "execution_count": null,
   "metadata": {},
   "outputs": [],
   "source": [
    "print(temps)\n",
    "t_crit = 2.3\n",
    "for t_low in temps:\n",
    "    \n",
    "    label = int(t_crit > t_low)\n",
    "    # t_low = temps[1]\n",
    "    \n",
    "    plt.figure()\n",
    "    states_low_t = proj2_tools.read_t(t_low)\n",
    "    plt.imshow(states_low_t[1].reshape(L,L))\n",
    "    plt.title(t_low)\n",
    "    print(t_low)"
   ]
  },
  {
   "cell_type": "code",
   "execution_count": null,
   "metadata": {},
   "outputs": [],
   "source": [
    "t_high = temps[-1]\n",
    "states_high_t = proj2_tools.read_t(t_high)\n",
    "plt.imshow(states_high_t[3].reshape(L,L))\n",
    "print(t_high)"
   ]
  },
  {
   "cell_type": "code",
   "execution_count": null,
   "metadata": {},
   "outputs": [],
   "source": [
    "def get_train_data(n, L):\n",
    "    \"\"\"Pick some random training data from whole data set\"\"\"\n",
    "    Nt = temps.size\n",
    "    Nl = L * L\n",
    "    data = np.zeros((Nt, n, Nl),dtype=np.int8)\n",
    "    for i,t in enumerate(temps):\n",
    "        d = proj2_tools.read_t(t)\n",
    "        d[np.where(d == 0)] = -1\n",
    "        data[i] = d\n",
    "        \n",
    "    n_ordered = np.sum(temps > t_crit)\n",
    "    classes = np.zeros((Nt,n),dtype = np.int8)\n",
    "    classes[:-n_ordered] = 1\n",
    "    \n",
    "    data = data.reshape(-1, Nl)\n",
    "    \n",
    "    classes = classes.ravel()\n",
    "    return data, classes\n",
    "\n",
    "    \n",
    "n = 10000\n",
    "L = 40\n",
    "data,classes = get_train_data(n, L)\n"
   ]
  },
  {
   "cell_type": "code",
   "execution_count": null,
   "metadata": {},
   "outputs": [],
   "source": [
    "N_train = 1000\n",
    "\n",
    "np.random.seed(0)\n",
    "indx = np.arange(data.shape[0])\n",
    "np.random.shuffle(indx)\n",
    "\n",
    "X = data[indx][:N_train]\n",
    "X = np.c_[np.ones_like(X[:,0]), X]\n",
    "y = classes[indx][:N_train]\n",
    "\n",
    "\n",
    "Nd = 2\n",
    "Np = X.shape[1]"
   ]
  },
  {
   "cell_type": "markdown",
   "metadata": {},
   "source": [
    "# Newton raphson"
   ]
  },
  {
   "cell_type": "code",
   "execution_count": null,
   "metadata": {},
   "outputs": [],
   "source": [
    "y.shape"
   ]
  },
  {
   "cell_type": "code",
   "execution_count": null,
   "metadata": {},
   "outputs": [],
   "source": [
    "p0"
   ]
  },
  {
   "cell_type": "code",
   "execution_count": null,
   "metadata": {},
   "outputs": [],
   "source": [
    "p1"
   ]
  },
  {
   "cell_type": "code",
   "execution_count": null,
   "metadata": {},
   "outputs": [],
   "source": [
    "gamma = 1e-4\n",
    "beta = 2e-6*(np.random.random(size = (Np,Nd-1)) - 0.5).squeeze()\n",
    "\n",
    "for i in range(10):\n",
    "    a = (X @ beta).T\n",
    "    p0  =  1/ (1 + np.exp(a)).squeeze()\n",
    "    p1 = 1 - p0 #(np.exp(a)*p0).squeeze()\n",
    "    \n",
    "    p = np.choose(y, [p0, p1])\n",
    "    \n",
    "    \n",
    "    Wii = np.diag(p*(1-p))\n",
    "    hess = (X.T @ Wii) @ X\n",
    "    deriv_cost = - X.T @ (y - p)\n",
    "    \n",
    "    dbeta = - np.linalg.inv(hess) @ deriv_cost\n",
    "    beta = beta + gamma*dbeta\n",
    "    \n",
    "    correct = p > 0.5\n",
    "    print(np.mean(correct))"
   ]
  },
  {
   "cell_type": "markdown",
   "metadata": {},
   "source": [
    "# Gradient descent"
   ]
  },
  {
   "cell_type": "code",
   "execution_count": null,
   "metadata": {},
   "outputs": [],
   "source": [
    "niter = 40\n",
    "ngamma = 36\n",
    "\n",
    "\n",
    "gamma_values = np.logspace(-8,-3,ngamma)\n",
    "value = np.zeros((niter,ngamma))\n",
    "\n",
    "colors = plt.cm.viridis(np.linspace(0,1,ngamma+1)[:-1])\n",
    "print(len(colors))\n",
    "for j,gamma in enumerate(gamma_values):\n",
    "    beta = 1e-6*(np.random.random(size = (Np,Nd-1)) - 0.5).squeeze()\n",
    "    for i in range(niter):\n",
    "        #gamma = gamma_values[j]\n",
    "        a = (X @ beta).T\n",
    "        p0  =  1/ (1 + np.exp(a)).squeeze()\n",
    "        p1 = (np.exp(a)*p0).squeeze()\n",
    "        p = np.choose(y,[p0, p1])\n",
    "\n",
    "        deriv_cost = - X.T @ (y - p)\n",
    "        beta = beta - gamma * deriv_cost \n",
    "\n",
    "        correct = p > 0.5\n",
    "        value[i,j] = np.mean(correct)\n",
    "        \n",
    "    if j%6 == 0 :\n",
    "        plt.plot(value[:,j], c = colors[j], label='$\\gamma = {:.2g}$'.format(gamma))\n",
    "plt.legend()\n",
    "    "
   ]
  },
  {
   "cell_type": "code",
   "execution_count": null,
   "metadata": {},
   "outputs": [],
   "source": [
    "plt.semilogx(gamma_values, value[-1],)"
   ]
  },
  {
   "cell_type": "code",
   "execution_count": null,
   "metadata": {},
   "outputs": [],
   "source": []
  },
  {
   "cell_type": "code",
   "execution_count": null,
   "metadata": {},
   "outputs": [],
   "source": []
  },
  {
   "cell_type": "code",
   "execution_count": null,
   "metadata": {},
   "outputs": [],
   "source": []
  },
  {
   "cell_type": "code",
   "execution_count": null,
   "metadata": {},
   "outputs": [],
   "source": []
  },
  {
   "cell_type": "code",
   "execution_count": null,
   "metadata": {},
   "outputs": [],
   "source": []
  },
  {
   "cell_type": "code",
   "execution_count": null,
   "metadata": {},
   "outputs": [],
   "source": [
    "t_crit = 2.3\n",
    "t = temps[9]\n",
    "states = proj2_tools.read_t(t)\n",
    "\n",
    "X = np.c_[np.ones(states.shape[0]), states]\n",
    "plt.imshow(states[0].reshape(L,L))"
   ]
  },
  {
   "cell_type": "code",
   "execution_count": null,
   "metadata": {},
   "outputs": [],
   "source": [
    "\n",
    "plt.plot(p0 + p1)"
   ]
  },
  {
   "cell_type": "code",
   "execution_count": null,
   "metadata": {},
   "outputs": [],
   "source": [
    "classes"
   ]
  },
  {
   "cell_type": "code",
   "execution_count": null,
   "metadata": {},
   "outputs": [],
   "source": []
  },
  {
   "cell_type": "code",
   "execution_count": null,
   "metadata": {},
   "outputs": [],
   "source": []
  },
  {
   "cell_type": "code",
   "execution_count": null,
   "metadata": {},
   "outputs": [],
   "source": []
  },
  {
   "cell_type": "code",
   "execution_count": null,
   "metadata": {},
   "outputs": [],
   "source": []
  }
 ],
 "metadata": {
  "kernelspec": {
   "display_name": "Python 3",
   "language": "python",
   "name": "python3"
  },
  "language_info": {
   "codemirror_mode": {
    "name": "ipython",
    "version": 3
   },
   "file_extension": ".py",
   "mimetype": "text/x-python",
   "name": "python",
   "nbconvert_exporter": "python",
   "pygments_lexer": "ipython3",
   "version": "3.6.5"
  }
 },
 "nbformat": 4,
 "nbformat_minor": 2
}
