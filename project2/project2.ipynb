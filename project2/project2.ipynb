{
 "cells": [
  {
   "cell_type": "markdown",
   "metadata": {},
   "source": [
    "# Add project 1 to sys path "
   ]
  },
  {
   "cell_type": "code",
   "execution_count": null,
   "metadata": {},
   "outputs": [],
   "source": [
    "%load_ext autoreload\n",
    "%autoreload 2"
   ]
  },
  {
   "cell_type": "code",
   "execution_count": null,
   "metadata": {},
   "outputs": [],
   "source": [
    "import sys\n",
    "sys.path.append('../project1/')\n",
    "import tools as proj1_tools"
   ]
  },
  {
   "cell_type": "code",
   "execution_count": null,
   "metadata": {},
   "outputs": [],
   "source": [
    "import numpy as np\n",
    "import matplotlib.pyplot as plt"
   ]
  },
  {
   "cell_type": "code",
   "execution_count": null,
   "metadata": {},
   "outputs": [],
   "source": [
    "import scipy.sparse as sp\n",
    "np.random.seed(12)\n",
    "import warnings\n",
    "#Comment this to turn on warnings\n",
    "warnings.filterwarnings('ignore')\n",
    "### define Ising model aprams\n",
    "# system size\n",
    "L = 40\n",
    "n = 20\n",
    "# create 10000 random Ising states\n",
    "states=np.random.choice([-1, 1], size=(n,L))\n",
    "def ising_energies(states):\n",
    "    \"\"\"\n",
    "    This function calculates the energies of the states in the nn Ising Hamiltonian\n",
    "    \"\"\"\n",
    "    L = states.shape[1]\n",
    "    J=np.zeros((L,L),)\n",
    "    for i in range(L):\n",
    "        J[i,(i+1)%L]-=1.0\n",
    "    # compute energies\n",
    "    E = np.einsum('...i,ij,...j->...',states,J,states)\n",
    "    return E\n",
    "# calculate Ising energies\n",
    "energies=ising_energies(states)"
   ]
  },
  {
   "cell_type": "code",
   "execution_count": null,
   "metadata": {},
   "outputs": [],
   "source": [
    "L = 40\n",
    "n = 400\n",
    "\n",
    "s=np.random.choice([-1, 1], size=(n,L))\n",
    "\n",
    "E = ising_energies(s)\n",
    "X = np.einsum('...i,...j->...ij',s,s) "
   ]
  },
  {
   "cell_type": "code",
   "execution_count": null,
   "metadata": {},
   "outputs": [],
   "source": [
    "X_vectors = X.reshape(n,-1)\n",
    "J_vec = J.reshape(-1)"
   ]
  },
  {
   "cell_type": "code",
   "execution_count": null,
   "metadata": {},
   "outputs": [],
   "source": [
    "regr_ols = proj1_tools.Regression(X_vectors, E, solve_method = 'svd')\n",
    "regr_ridge = proj1_tools.Regression(X_vectors, E, lmbd = 1e-6, solve_method = 'svd')  "
   ]
  },
  {
   "cell_type": "code",
   "execution_count": null,
   "metadata": {},
   "outputs": [],
   "source": [
    "J_fit_ols = regr_ols.beta\n",
    "J_fit_ridge = regr_ridge.beta\n",
    "\n",
    "vmin = np.min(J_fit_ols)\n",
    "assert vmin < 0\n",
    "fig,[ax1,ax2] = plt.subplots(1,2)\n",
    "ax1.imshow(J_fit_ols.reshape((L,L)), vmin = vmin, vmax = - vmin, cmap = plt.cm.bwr)\n",
    "ax2.imshow(J_fit_ridge.reshape((L,L)), vmin = vmin, vmax = - vmin, cmap = plt.cm.bwr)\n",
    "# plt.colorbar(m)"
   ]
  },
  {
   "cell_type": "code",
   "execution_count": null,
   "metadata": {},
   "outputs": [],
   "source": [
    "_,bins,_ = plt.hist(J_fit_ridge, bins = 30, histtype='step',density = True, label='ridge')\n",
    "_ = plt.hist(J_fit_ols, bins = bins, histtype='step', density = True, label='ols')\n",
    "plt.legend()"
   ]
  },
  {
   "cell_type": "code",
   "execution_count": null,
   "metadata": {},
   "outputs": [],
   "source": []
  },
  {
   "cell_type": "code",
   "execution_count": null,
   "metadata": {},
   "outputs": [],
   "source": []
  },
  {
   "cell_type": "code",
   "execution_count": null,
   "metadata": {},
   "outputs": [],
   "source": []
  },
  {
   "cell_type": "code",
   "execution_count": null,
   "metadata": {},
   "outputs": [],
   "source": []
  },
  {
   "cell_type": "code",
   "execution_count": null,
   "metadata": {},
   "outputs": [],
   "source": []
  }
 ],
 "metadata": {
  "kernelspec": {
   "display_name": "Python 3",
   "language": "python",
   "name": "python3"
  },
  "language_info": {
   "codemirror_mode": {
    "name": "ipython",
    "version": 3
   },
   "file_extension": ".py",
   "mimetype": "text/x-python",
   "name": "python",
   "nbconvert_exporter": "python",
   "pygments_lexer": "ipython3",
   "version": "3.6.6"
  }
 },
 "nbformat": 4,
 "nbformat_minor": 2
}
