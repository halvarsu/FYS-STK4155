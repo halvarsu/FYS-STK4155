{
 "cells": [
  {
   "cell_type": "code",
   "execution_count": null,
   "metadata": {},
   "outputs": [],
   "source": [
    "%load_ext autoreload\n",
    "%load_ext line_profiler\n",
    "%autoreload 2"
   ]
  },
  {
   "cell_type": "code",
   "execution_count": null,
   "metadata": {},
   "outputs": [],
   "source": [
    "import numpy as np\n",
    "import pandas as pd\n",
    "import matplotlib.pyplot as plt\n",
    "from scipy.special import expit"
   ]
  },
  {
   "cell_type": "markdown",
   "metadata": {},
   "source": [
    "# 2D classification"
   ]
  },
  {
   "cell_type": "code",
   "execution_count": null,
   "metadata": {},
   "outputs": [],
   "source": [
    "from project2_tools import get_2Ddata, to_onehot, from_onehot\n",
    "from neuralnet import NeuralNet"
   ]
  },
  {
   "cell_type": "code",
   "execution_count": null,
   "metadata": {},
   "outputs": [],
   "source": [
    "data_input, data_targets = get_2Ddata(t_crit = 2.3, onehot = True)"
   ]
  },
  {
   "cell_type": "code",
   "execution_count": null,
   "metadata": {},
   "outputs": [],
   "source": [
    "from sklearn.model_selection import train_test_split\n",
    "temp = train_test_split(data_input, data_targets, test_size = 0.33)\n",
    "input_train, input_test, target_train, target_test = temp"
   ]
  },
  {
   "cell_type": "markdown",
   "metadata": {},
   "source": [
    "## Setup network and run"
   ]
  },
  {
   "cell_type": "code",
   "execution_count": null,
   "metadata": {},
   "outputs": [],
   "source": [
    "input_train.shape"
   ]
  },
  {
   "cell_type": "code",
   "execution_count": null,
   "metadata": {},
   "outputs": [],
   "source": [
    "import pandas as pd"
   ]
  },
  {
   "cell_type": "code",
   "execution_count": null,
   "metadata": {},
   "outputs": [],
   "source": [
    "# eta = 1e-2\n",
    "n_batches = 10000\n",
    "\n",
    "eta_values = 10**(np.arange(-4,0,dtype=np.float64))\n",
    "\n",
    "# np.logspace(np.log10(5),2, 15, dtype=int)\n",
    "n_hidden_values = [100]"
   ]
  },
  {
   "cell_type": "code",
   "execution_count": null,
   "metadata": {},
   "outputs": [],
   "source": [
    "accuracies = []"
   ]
  },
  {
   "cell_type": "code",
   "execution_count": null,
   "metadata": {},
   "outputs": [],
   "source": [
    "from IPython.display import clear_output\n",
    "# n_hidden = 10\n",
    "\n",
    "for eta in eta_values:\n",
    "    for n_hidden in n_hidden_values:\n",
    "        \n",
    "        layer_sizes = [1600, n_hidden, 2]\n",
    "\n",
    "        net = NeuralNet(layer_sizes, act_func = ['sigmoid', 'softmax'], net_type = 'classifier')\n",
    "        min_epochs = 40\n",
    "        max_epochs = 100\n",
    "\n",
    "        tot = max_epochs * n_batches\n",
    "        tol = 1e-10\n",
    "        accuracy = []\n",
    "        current = len(accuracy) + 1\n",
    "\n",
    "        import time\n",
    "        start = time.time()\n",
    "        from project2_tools import batches\n",
    "\n",
    "        inp =input_train\n",
    "        tar = target_train\n",
    "\n",
    "        for j in range(max_epochs):\n",
    "            b = batches(input_train, target_train, n_batches = n_batches, zipped = False)\n",
    "\n",
    "            for k, (x,y) in enumerate(b):\n",
    "                if k%1000 == 0:\n",
    "                    clear_output(wait = True)\n",
    "                    print('n hidden nodes: ', n_hidden)\n",
    "                    print('eta: ', eta)\n",
    "                    print('batch size: ', x.shape[0])\n",
    "                    print('batch, epoch, accuracy')\n",
    "                    print('{:5}/{}  {:5}/{}  {:.2f}'.format(k, n_batches, j, max_epochs, accuracy[-1] if len(accuracy) else 0))#, 'o', markersize = 9)\n",
    "                    now = time.time() \n",
    "                    print('Time estimate: {:.0f} seconds left'.format((now - start)/current * (tot-current)))\n",
    "                net.update_batch_vectorized(x, y, eta)\n",
    "\n",
    "                current += 1\n",
    "\n",
    "            acc = net.accuracy(input_test, target_test)\n",
    "            accuracy.append(acc)\n",
    "\n",
    "            if len(accuracy) > min_epochs:\n",
    "                cond1 = np.all(accuracy[-1] < np.array(accuracy[-5:-1]))  # decreasing accuracy\n",
    "                cond2 = np.abs(accuracy[-1] - accuracy[-2])/accuracy[-1] < tol # stabilized accuracy\n",
    "                if cond1 or cond2:\n",
    "                    print('earlystop at epoch number {}'.format(len(accuracy)))\n",
    "                    break\n",
    "\n",
    "        accuracies.append({'eta':eta,'nhidden':layer_sizes[1], 'accuracy':accuracy, \n",
    "                           'epochs':len(accuracy),'n_batches':n_batches})"
   ]
  },
  {
   "cell_type": "code",
   "execution_count": null,
   "metadata": {},
   "outputs": [],
   "source": [
    "df = pd.DataFrame(accuracies)\n",
    "df['final_accuracy'] = df['accuracy'].str[-1]\n",
    "df['max_accuracy'] = df['accuracy'].apply(np.max)\n",
    "df"
   ]
  },
  {
   "cell_type": "code",
   "execution_count": null,
   "metadata": {},
   "outputs": [],
   "source": [
    "\n",
    "layer_sizes = [input_train.shape[1], n_hidden,\n",
    "                    target_train.shape[1]]\n",
    "layer_sizes\n",
    "\n",
    "def a(**kwargs):\n",
    "    params = { 'n_batches':10000, 'min_epochs':40, 'max_epochs':100,\n",
    "            'tol':1e-10, 'hidden_act_func':'sigmoid'}\n",
    "    params.update(kwargs)\n",
    "    tol = params.pop('tol')\n",
    "    n_batches = params.pop('n_batches')\n",
    "    min_epochs = params.pop('min_epochs')\n",
    "    max_epochs = params.pop('max_epochs')\n",
    "    hidden_act_func = params.pop('hidden_act_func')\n",
    "        \n",
    "    if params:\n",
    "        raise TypeError(\"unrecognized kwarg(s): {}\".format(\n",
    "        \", \".join(params.keys())))\n",
    "\n",
    "\n",
    "\n",
    "    pass\n",
    "a(tol = 1)"
   ]
  },
  {
   "cell_type": "code",
   "execution_count": null,
   "metadata": {},
   "outputs": [],
   "source": [
    "a = {'a':1}\n",
    "b = {'b':2}\n",
    "\n",
    "a.update(b)\n",
    "a"
   ]
  },
  {
   "cell_type": "code",
   "execution_count": null,
   "metadata": {},
   "outputs": [],
   "source": [
    "df.to_pickle"
   ]
  },
  {
   "cell_type": "code",
   "execution_count": null,
   "metadata": {},
   "outputs": [],
   "source": [
    "df = pd.read_pickle('neural_net_run1.pickle')\n",
    "df"
   ]
  },
  {
   "cell_type": "code",
   "execution_count": null,
   "metadata": {},
   "outputs": [],
   "source": [
    "plt.figure(figsize = [16,9])\n",
    "markers = ['--','-.','-',':']\n",
    "colors = plt.cm.viridis(np.linspace(0,1,len(n_hidden_values)))\n",
    "\n",
    "\n",
    "for (nhidden, item), c in zip(df.groupby('nhidden'),colors):\n",
    "    \n",
    "    print(nhidden)\n",
    "    \n",
    "    for (eta, eta_item),m in zip(item.groupby('eta'), markers):\n",
    "        if True:#eta == 0.1:\n",
    "            y = eta_item['accuracy'].values[0]\n",
    "            plt.plot(y, label = 'eta = {:6.4f}, nhidden = {}'.format(eta, nhidden), c= c, linestyle = m)\n",
    "        # print(y[-1])\n",
    "    \n",
    "plt.grid()\n",
    "plt.legend()"
   ]
  },
  {
   "cell_type": "code",
   "execution_count": null,
   "metadata": {},
   "outputs": [],
   "source": []
  },
  {
   "cell_type": "code",
   "execution_count": null,
   "metadata": {},
   "outputs": [],
   "source": [
    "temp = df[['nhidden','eta','max_accuracy']]\n",
    "temp = temp.set_index(['nhidden','eta'],drop=True).unstack()\n",
    "temp.columns = temp.columns.droplevel(level=0)\n",
    "temp"
   ]
  },
  {
   "cell_type": "code",
   "execution_count": null,
   "metadata": {},
   "outputs": [],
   "source": [
    "ax = plt.gca()\n",
    "m = ax.imshow(temp)\n",
    "\n",
    "ax.set_yticks([0,1,2,3,4])\n",
    "ax.set_yticklabels(temp.index)\n",
    "ax.set_ylabel('Number of hidden nodes')\n",
    "\n",
    "ax.set_xticks([0,1,2,3])\n",
    "ax.set_xticklabels(temp.columns)\n",
    "ax.set_xlabel('Eta')\n",
    "\n",
    "plt.colorbar(m)"
   ]
  },
  {
   "cell_type": "code",
   "execution_count": null,
   "metadata": {},
   "outputs": [],
   "source": [
    "ax = plt.gca()\n",
    "temp2 = temp.iloc[:,2:]\n",
    "m = ax.imshow(temp2)\n",
    "\n",
    "ax.set_yticks([0,1,2,3,4])\n",
    "ax.set_yticklabels(temp2.index)\n",
    "ax.set_ylabel('Number of hidden nodes')\n",
    "\n",
    "ax.set_xticks([0,1])\n",
    "ax.set_xticklabels(temp2.columns)\n",
    "ax.set_xlabel('Eta')\n",
    "\n",
    "plt.colorbar(m)"
   ]
  },
  {
   "cell_type": "code",
   "execution_count": null,
   "metadata": {},
   "outputs": [],
   "source": [
    "temp.plot.bar(rot = 0)"
   ]
  },
  {
   "cell_type": "code",
   "execution_count": null,
   "metadata": {},
   "outputs": [],
   "source": [
    "\n",
    "speed = [0.1, 17.5, 40, 48, 52, 69, 88]\n",
    "lifespan = [2, 8, 70, 1.5, 25, 12, 28]\n",
    "index = ['snail', 'pig', 'elephant',\n",
    "         'rabbit', 'giraffe', 'coyote', 'horse']\n",
    "df = pd.DataFrame({'speed': speed,\n",
    "                   'lifespan': lifespan}, index=index)\n",
    "ax = df.plot.bar(rot=0)\n"
   ]
  },
  {
   "cell_type": "code",
   "execution_count": null,
   "metadata": {},
   "outputs": [],
   "source": [
    "df"
   ]
  },
  {
   "cell_type": "code",
   "execution_count": null,
   "metadata": {},
   "outputs": [],
   "source": []
  },
  {
   "cell_type": "code",
   "execution_count": null,
   "metadata": {},
   "outputs": [],
   "source": []
  },
  {
   "cell_type": "code",
   "execution_count": null,
   "metadata": {},
   "outputs": [],
   "source": [
    "plt.plot(accuracy)\n",
    "\n",
    "plt.grid()"
   ]
  },
  {
   "cell_type": "code",
   "execution_count": null,
   "metadata": {},
   "outputs": [],
   "source": [
    "print(np.abs(accuracy[-1] - accuracy[-2])/accuracy[-2])"
   ]
  },
  {
   "cell_type": "code",
   "execution_count": null,
   "metadata": {},
   "outputs": [],
   "source": [
    "from IPython.display import clear_output\n",
    "i = 0\n",
    "\n",
    "eta = 1e-3\n",
    "mse = []\n",
    "n_epochs = 100\n",
    "n_batches = 10000\n",
    "\n",
    "tot = n_epochs * n_batches\n",
    "current = 1\n",
    "\n",
    "import time\n",
    "start = time.time()\n",
    "\n",
    "for j in range(n_epochs):\n",
    "    b = batches(input_train, target_train, n_batches = n_batches)\n",
    "    for k, batch in enumerate(b):\n",
    "        clear_output(wait = True)\n",
    "        print('batch, epoch, MSE')\n",
    "        print('{:5}/{}  {:5}/{}  {:.2f}'.format(k, n_batches, j, n_epochs, mse[-1] if len(mse) else 0))#, 'o', markersize = 9)\n",
    "        now = time.time() \n",
    "        print('Time estimate: {:.0f} seconds left'.format((now - start)/current * (tot-current)))\n",
    "        net.update_batch(batch, eta)\n",
    "    \n",
    "        current += 1\n",
    "\n",
    "    mse.append(np.average(test_net(input_test, target_test, net)))\n",
    "    if np.isnan(mse[-1]) or np.any([np.any(np.isnan(w)) for w in net.weights]):\n",
    "        print('NAN!!! Break! Abort mission!')\n",
    "        break"
   ]
  },
  {
   "cell_type": "code",
   "execution_count": null,
   "metadata": {},
   "outputs": [],
   "source": [
    "def f(x,y,z):\n",
    "    return x+y+z\n",
    "\n",
    "a = [1,2,3]\n",
    "\n",
    "f(*a)"
   ]
  },
  {
   "cell_type": "markdown",
   "metadata": {},
   "source": [
    "$\\in$"
   ]
  },
  {
   "cell_type": "code",
   "execution_count": null,
   "metadata": {},
   "outputs": [],
   "source": [
    "from project2_tools import softmax\n",
    "\n",
    "%timeit net.feed_forward(input_train[0])\n"
   ]
  },
  {
   "cell_type": "code",
   "execution_count": null,
   "metadata": {},
   "outputs": [],
   "source": [
    "net.backpropagate(input_train[0], target_train[0])"
   ]
  },
  {
   "cell_type": "code",
   "execution_count": null,
   "metadata": {},
   "outputs": [],
   "source": []
  },
  {
   "cell_type": "code",
   "execution_count": null,
   "metadata": {},
   "outputs": [],
   "source": [
    "plt.plot(mse)"
   ]
  },
  {
   "cell_type": "code",
   "execution_count": null,
   "metadata": {},
   "outputs": [],
   "source": [
    "from nielsen_network import Network as nNetwork\n",
    "\n",
    "net2 = nNetwork(layer_sizes)\n",
    "net2.backprop(np.atleast_2d(x),np.atleast_2d(y))\n",
    "# x,y = batch[0]"
   ]
  },
  {
   "cell_type": "code",
   "execution_count": null,
   "metadata": {},
   "outputs": [],
   "source": [
    "np.atleast_2d(x).shape"
   ]
  },
  {
   "cell_type": "code",
   "execution_count": null,
   "metadata": {},
   "outputs": [],
   "source": [
    "y"
   ]
  },
  {
   "cell_type": "markdown",
   "metadata": {},
   "source": [
    "find last delta:\n",
    "$$ \\delta_j^L = f'(z_j^L) \\frac{\\partial \\mathcal{C}}{\\partial a_j^L} $$\n",
    "\n",
    "propagate deltas for each layer\n",
    "$$ \\delta_j^l = \\sum_k \\delta_k^{l+1} w_{kj}^{l+1} f'(z_j^l)$$\n",
    "\n",
    "update weights and bias\n",
    "$$w_{jk}^l \\leftarrow w_{jk}^l - \\eta \\delta_j^l a_k^{l-1} $$\n",
    "$$b_{j}^l \\leftarrow b_{j}^l - \\eta \\delta_j^l  $$\n",
    "\n",
    "\n",
    "\n",
    "we have\n",
    "\n",
    "$$ \\frac{\\partial \\mathcal{C}}{\\partial a_j^L} = a_j^L - t_j, $$\n",
    "and\n",
    "$$ f'(z_j^l) = f(z_j^l)  (1 - f(z_j^l) $$\n",
    "for sigmoid"
   ]
  },
  {
   "cell_type": "code",
   "execution_count": null,
   "metadata": {},
   "outputs": [],
   "source": [
    "for i, batch in enumerate(batches(input_train, target_train, n_batches = 100)):\n",
    "    break\n",
    "    "
   ]
  },
  {
   "cell_type": "code",
   "execution_count": null,
   "metadata": {},
   "outputs": [],
   "source": [
    "x,y = batch[0]\n",
    "x,y"
   ]
  },
  {
   "cell_type": "code",
   "execution_count": null,
   "metadata": {},
   "outputs": [],
   "source": [
    "net = NeuralNet(layer_sizes, act_func = ['sigmoid','identity'])\n",
    "\n",
    "for k in range(20):\n",
    "    for i, batch in enumerate(batches(input_train, target_train, n_batches = 100)):\n",
    "        net.update_batch(batch, eta = 1e-2)\n",
    "\n",
    "    plt.plot(k, np.average(test_net(input_test, target_test, net)), 'o', markersize = 10)"
   ]
  },
  {
   "cell_type": "code",
   "execution_count": null,
   "metadata": {},
   "outputs": [],
   "source": [
    "fig,[ax1,ax2] = plt.subplots(1,2, figsize = [8,4])\n",
    "i = 43\n",
    "test_out = np.array([net.feed_forward(inp)[1][-1] for inp in input_test]).squeeze()\n",
    "ax1.scatter(test_out, target_test)\n",
    "ax1.set_xlabel('predicted')\n",
    "ax1.set_ylabel('target')\n",
    "\n",
    "ax1.plot([-12,12],[-12,12])\n",
    "ax1.axis('equal')\n",
    "\n",
    "\n",
    "#ax2.hist(test_out,  alpha = 0.5)\n",
    "#ax2.hist(target_test,  alpha = 0.5);"
   ]
  },
  {
   "cell_type": "code",
   "execution_count": null,
   "metadata": {},
   "outputs": [],
   "source": []
  },
  {
   "cell_type": "code",
   "execution_count": null,
   "metadata": {},
   "outputs": [],
   "source": []
  },
  {
   "cell_type": "code",
   "execution_count": null,
   "metadata": {},
   "outputs": [],
   "source": []
  },
  {
   "cell_type": "code",
   "execution_count": null,
   "metadata": {},
   "outputs": [],
   "source": []
  },
  {
   "cell_type": "code",
   "execution_count": null,
   "metadata": {},
   "outputs": [],
   "source": []
  },
  {
   "cell_type": "code",
   "execution_count": null,
   "metadata": {},
   "outputs": [],
   "source": []
  },
  {
   "cell_type": "code",
   "execution_count": null,
   "metadata": {},
   "outputs": [],
   "source": []
  },
  {
   "cell_type": "code",
   "execution_count": null,
   "metadata": {},
   "outputs": [],
   "source": []
  },
  {
   "cell_type": "code",
   "execution_count": null,
   "metadata": {},
   "outputs": [],
   "source": []
  },
  {
   "cell_type": "code",
   "execution_count": null,
   "metadata": {},
   "outputs": [],
   "source": []
  }
 ],
 "metadata": {
  "kernelspec": {
   "display_name": "Python 3",
   "language": "python",
   "name": "python3"
  },
  "language_info": {
   "codemirror_mode": {
    "name": "ipython",
    "version": 3
   },
   "file_extension": ".py",
   "mimetype": "text/x-python",
   "name": "python",
   "nbconvert_exporter": "python",
   "pygments_lexer": "ipython3",
   "version": "3.6.6"
  }
 },
 "nbformat": 4,
 "nbformat_minor": 2
}
