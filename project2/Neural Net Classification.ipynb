{
 "cells": [
  {
   "cell_type": "code",
   "execution_count": null,
   "metadata": {},
   "outputs": [],
   "source": [
    "%load_ext autoreload\n",
    "%load_ext line_profiler\n",
    "%autoreload 2"
   ]
  },
  {
   "cell_type": "code",
   "execution_count": null,
   "metadata": {},
   "outputs": [],
   "source": [
    "import numpy as np\n",
    "import pandas as pd\n",
    "import matplotlib.pyplot as plt\n",
    "from scipy.special import expit"
   ]
  },
  {
   "cell_type": "markdown",
   "metadata": {},
   "source": [
    "# 2D classification"
   ]
  },
  {
   "cell_type": "code",
   "execution_count": null,
   "metadata": {},
   "outputs": [],
   "source": [
    "from project2_tools import get_2Ddata, to_onehot, from_onehot\n",
    "from neuralnet import NeuralNet"
   ]
  },
  {
   "cell_type": "code",
   "execution_count": null,
   "metadata": {},
   "outputs": [],
   "source": [
    "data_input, data_targets = get_2Ddata(t_crit = 2.3, onehot = True)"
   ]
  },
  {
   "cell_type": "code",
   "execution_count": null,
   "metadata": {},
   "outputs": [],
   "source": [
    "from sklearn.model_selection import train_test_split\n",
    "temp = train_test_split(data_input, data_targets, test_size = 0.33)\n",
    "input_train, input_test, target_train, target_test = temp"
   ]
  },
  {
   "cell_type": "code",
   "execution_count": null,
   "metadata": {},
   "outputs": [],
   "source": [
    "def test_logistic_net(test_inputs, test_targets, net, onehot = True):\n",
    "    _, outputs = net.feed_forward_vectorized(test_inputs)\n",
    "    \n",
    "    mle = np.argmax(outputs[-1], axis = 1)\n",
    "    target = from_onehot(target_test)\n",
    "\n",
    "    accuracy = np.mean(mle == target)\n",
    "    \n",
    "    return accuracy\n",
    "\n",
    "\n",
    "def batches_vectorized(inputs, targets, n_batches = 10):\n",
    "    \n",
    "    mask = np.arange(len(inputs), dtype = np.int64)\n",
    "    np.random.shuffle(mask)\n",
    "    inputs = inputs[mask]\n",
    "    targets = targets[mask]\n",
    "    \n",
    "    if len(inputs) != len(targets):\n",
    "        raise ValueError('length of inputs and targets must be equal')\n",
    "    indx = np.linspace(0, len(inputs), n_batches + 1, dtype=int)\n",
    "    for i in range(n_batches):\n",
    "        x = inputs[indx[i]:indx[i+1]]\n",
    "        y = targets[indx[i]:indx[i+1]]\n",
    "        yield x, y\n",
    "\n",
    "def batches(inputs, targets, n_batches = 10):\n",
    "    \n",
    "    mask = np.arange(len(inputs), dtype = np.int64)\n",
    "    np.random.shuffle(mask)\n",
    "    inputs = inputs[mask]\n",
    "    targets = targets[mask]\n",
    "    \n",
    "    if len(inputs) != len(targets):\n",
    "        raise ValueError('length of inputs and targets must be equal')\n",
    "    indx = np.linspace(0, len(inputs), n_batches + 1, dtype=int)\n",
    "    for i in range(n_batches):\n",
    "        batch = [(x,y) for x, y in zip(inputs[indx[i]:indx[i+1]], targets[indx[i]:indx[i+1]])] \n",
    "        yield batch\n",
    "   "
   ]
  },
  {
   "cell_type": "code",
   "execution_count": null,
   "metadata": {},
   "outputs": [],
   "source": [
    "layer_sizes = [1600,100, 2]\n",
    "net = NeuralNet(layer_sizes, act_func = ['sigmoid', 'softmax'], net_type = 'classifier')"
   ]
  },
  {
   "cell_type": "code",
   "execution_count": null,
   "metadata": {},
   "outputs": [],
   "source": [
    "zs, outputs = net.feed_forward_vectorized(input_test)\n",
    "to_onehot( np.argmax(outputs[-1], axis = 1))"
   ]
  },
  {
   "cell_type": "code",
   "execution_count": null,
   "metadata": {},
   "outputs": [],
   "source": [
    "test_logistic_net(input_test, target_test, net)"
   ]
  },
  {
   "cell_type": "code",
   "execution_count": null,
   "metadata": {},
   "outputs": [],
   "source": [
    "%lprun -f net.feed_forward_vectorized net.feed_forward_vectorized(input_test)"
   ]
  },
  {
   "cell_type": "code",
   "execution_count": null,
   "metadata": {},
   "outputs": [],
   "source": [
    "net = NeuralNet(layer_sizes, act_func = ['sigmoid', 'softmax'], net_type = 'classifier')\n",
    "\n",
    "N = 1000\n",
    "x = input_train[:N]\n",
    "y = target_train[:N]\n",
    "\n",
    "%lprun -f net.backpropagate_vectorized net.backpropagate_vectorized(x, y, vector_input = True)"
   ]
  },
  {
   "cell_type": "code",
   "execution_count": null,
   "metadata": {},
   "outputs": [],
   "source": [
    "np.einsum('...i,...j->...ij', a, b, out = c)\n"
   ]
  },
  {
   "cell_type": "code",
   "execution_count": null,
   "metadata": {},
   "outputs": [],
   "source": []
  },
  {
   "cell_type": "code",
   "execution_count": null,
   "metadata": {},
   "outputs": [],
   "source": [
    "np.all(np.isclose())"
   ]
  },
  {
   "cell_type": "code",
   "execution_count": null,
   "metadata": {},
   "outputs": [],
   "source": [
    "import numpy as np\n",
    "a = np.arange(10)\n",
    "np.einsum('i,j->i+j',a,a)"
   ]
  },
  {
   "cell_type": "code",
   "execution_count": null,
   "metadata": {},
   "outputs": [],
   "source": [
    "a.shape,b.shape\n",
    "c = np.zeros((a.shape[0], a.shape[1], b.shape[1]))"
   ]
  },
  {
   "cell_type": "code",
   "execution_count": null,
   "metadata": {},
   "outputs": [],
   "source": [
    "np.outer(a,b)"
   ]
  },
  {
   "cell_type": "code",
   "execution_count": null,
   "metadata": {},
   "outputs": [],
   "source": [
    "from project2_tools import calc_sum, calc_sum2"
   ]
  },
  {
   "cell_type": "code",
   "execution_count": null,
   "metadata": {},
   "outputs": [],
   "source": [
    "? np.einsum"
   ]
  },
  {
   "cell_type": "code",
   "execution_count": null,
   "metadata": {},
   "outputs": [],
   "source": [
    "%timeit calc_sum(a,b,c)\n",
    "%timeit np.einsum('...i,...j->...ij',a,b, out = c)"
   ]
  },
  {
   "cell_type": "code",
   "execution_count": null,
   "metadata": {},
   "outputs": [],
   "source": [
    "%timeit a[:,None]*b[:,:,None]\n",
    "c.shape"
   ]
  },
  {
   "cell_type": "code",
   "execution_count": null,
   "metadata": {},
   "outputs": [],
   "source": [
    "a.shape,b.shape"
   ]
  },
  {
   "cell_type": "code",
   "execution_count": null,
   "metadata": {},
   "outputs": [],
   "source": [
    "%timeit calc_sum2(a,b,c)"
   ]
  },
  {
   "cell_type": "code",
   "execution_count": null,
   "metadata": {},
   "outputs": [],
   "source": [
    "c.shape"
   ]
  },
  {
   "cell_type": "code",
   "execution_count": null,
   "metadata": {},
   "outputs": [],
   "source": [
    "kkk"
   ]
  },
  {
   "cell_type": "code",
   "execution_count": null,
   "metadata": {},
   "outputs": [],
   "source": [
    "from neuralnet import calc_sum"
   ]
  },
  {
   "cell_type": "code",
   "execution_count": null,
   "metadata": {},
   "outputs": [],
   "source": [
    "z,z2,z3 = net.feed_forward_vectorized(input_test)"
   ]
  },
  {
   "cell_type": "code",
   "execution_count": null,
   "metadata": {},
   "outputs": [],
   "source": [
    "np.all(z == z2)"
   ]
  },
  {
   "cell_type": "code",
   "execution_count": null,
   "metadata": {},
   "outputs": [],
   "source": [
    "np.all(np.isclose(z2, z3))"
   ]
  },
  {
   "cell_type": "code",
   "execution_count": null,
   "metadata": {},
   "outputs": [],
   "source": []
  },
  {
   "cell_type": "code",
   "execution_count": null,
   "metadata": {},
   "outputs": [],
   "source": [
    "x = input_test[:1000]\n",
    "x"
   ]
  },
  {
   "cell_type": "code",
   "execution_count": null,
   "metadata": {},
   "outputs": [],
   "source": [
    "a = np.tensordot(x, net.weights[0], axes = [1,1]) + net.biases[0]\n",
    "b = np.einsum('...ij,...j->...i',net.weights[0] , x) + net.biases[0]\n",
    "c = np.matmul(net.weights[0], x.T).T + net.biases[0]\n",
    "d = np.matmul(x, net.weights[0].T) + net.biases[0]\n",
    "\n",
    "[np.all(np.isclose(a, other)) for other in [b,c,d]]"
   ]
  },
  {
   "cell_type": "code",
   "execution_count": null,
   "metadata": {},
   "outputs": [],
   "source": [
    "print('matmul')\n",
    "%timeit np.matmul(net.weights[0], x.T).T \n",
    "print('matmul, x first')\n",
    "%timeit np.matmul(x, net.weights[0].T) \n",
    "print('tensordot')\n",
    "%timeit np.tensordot(x, net.weights[0], axes = [1,1]) \n",
    "print('einsum')\n",
    "%timeit np.einsum('...ij,...j->...i',net.weights[0] , x) "
   ]
  },
  {
   "cell_type": "code",
   "execution_count": null,
   "metadata": {},
   "outputs": [],
   "source": []
  },
  {
   "cell_type": "code",
   "execution_count": null,
   "metadata": {},
   "outputs": [],
   "source": []
  },
  {
   "cell_type": "code",
   "execution_count": null,
   "metadata": {},
   "outputs": [],
   "source": [
    "zs[0].shape, net.weights[0].shape"
   ]
  },
  {
   "cell_type": "code",
   "execution_count": null,
   "metadata": {},
   "outputs": [],
   "source": [
    "from IPython.display import clear_output\n",
    "i = 0\n",
    "\n",
    "net = NeuralNet(layer_sizes, act_func = ['sigmoid', 'softmax'], net_type = 'classifier')\n",
    "\n",
    "eta = 1e-3\n",
    "mse = []\n",
    "n_epochs = 1\n",
    "n_batches = 10000\n",
    "\n",
    "tot = n_epochs * n_batches\n",
    "current = 1\n",
    "\n",
    "import time\n",
    "start = time.time()\n",
    "\n",
    "for j in range(n_epochs):\n",
    "    b = batches_vectorized(input_train, target_train, n_batches = n_batches)\n",
    "    for k, (x,y) in enumerate(b):\n",
    "        clear_output(wait = True)\n",
    "        print('batch, epoch, MSE')\n",
    "        print('{:5}/{}  {:5}/{}  {:.2f}'.format(k, n_batches, j, n_epochs, mse[-1] if len(mse) else 0))#, 'o', markersize = 9)\n",
    "        now = time.time() \n",
    "        print('Time estimate: {:.0f} seconds left'.format((now - start)/current * (tot-current)))\n",
    "        net.update_batch_vectorized(x, y, eta)\n",
    "    \n",
    "        current += 1\n",
    "\n",
    "    mse.append(np.average(test_net(input_test, target_test, net)))\n",
    "    if np.isnan(mse[-1]) or np.any([np.any(np.isnan(w)) for w in net.weights]):\n",
    "        print('NAN!!! Break! Abort mission!')\n",
    "        break"
   ]
  },
  {
   "cell_type": "code",
   "execution_count": null,
   "metadata": {},
   "outputs": [],
   "source": []
  },
  {
   "cell_type": "code",
   "execution_count": null,
   "metadata": {},
   "outputs": [],
   "source": [
    "from IPython.display import clear_output\n",
    "i = 0\n",
    "\n",
    "eta = 1e-3\n",
    "mse = []\n",
    "n_epochs = 100\n",
    "n_batches = 10000\n",
    "\n",
    "tot = n_epochs * n_batches\n",
    "current = 1\n",
    "\n",
    "import time\n",
    "start = time.time()\n",
    "\n",
    "for j in range(n_epochs):\n",
    "    b = batches(input_train, target_train, n_batches = n_batches)\n",
    "    for k, batch in enumerate(b):\n",
    "        clear_output(wait = True)\n",
    "        print('batch, epoch, MSE')\n",
    "        print('{:5}/{}  {:5}/{}  {:.2f}'.format(k, n_batches, j, n_epochs, mse[-1] if len(mse) else 0))#, 'o', markersize = 9)\n",
    "        now = time.time() \n",
    "        print('Time estimate: {:.0f} seconds left'.format((now - start)/current * (tot-current)))\n",
    "        net.update_batch(batch, eta)\n",
    "    \n",
    "        current += 1\n",
    "\n",
    "    mse.append(np.average(test_net(input_test, target_test, net)))\n",
    "    if np.isnan(mse[-1]) or np.any([np.any(np.isnan(w)) for w in net.weights]):\n",
    "        print('NAN!!! Break! Abort mission!')\n",
    "        break"
   ]
  },
  {
   "cell_type": "code",
   "execution_count": null,
   "metadata": {},
   "outputs": [],
   "source": [
    "def f(x,y,z):\n",
    "    return x+y+z\n",
    "\n",
    "a = [1,2,3]\n",
    "\n",
    "f(*a)"
   ]
  },
  {
   "cell_type": "markdown",
   "metadata": {},
   "source": [
    "$\\in$"
   ]
  },
  {
   "cell_type": "code",
   "execution_count": null,
   "metadata": {},
   "outputs": [],
   "source": [
    "from project2_tools import softmax\n",
    "\n",
    "%timeit net.feed_forward(input_train[0])\n"
   ]
  },
  {
   "cell_type": "code",
   "execution_count": null,
   "metadata": {},
   "outputs": [],
   "source": [
    "net.backpropagate(input_train[0], target_train[0])"
   ]
  },
  {
   "cell_type": "code",
   "execution_count": null,
   "metadata": {},
   "outputs": [],
   "source": []
  },
  {
   "cell_type": "code",
   "execution_count": null,
   "metadata": {},
   "outputs": [],
   "source": [
    "plt.plot(mse)"
   ]
  },
  {
   "cell_type": "code",
   "execution_count": null,
   "metadata": {},
   "outputs": [],
   "source": [
    "from nielsen_network import Network as nNetwork\n",
    "\n",
    "net2 = nNetwork(layer_sizes)\n",
    "net2.backprop(np.atleast_2d(x),np.atleast_2d(y))\n",
    "# x,y = batch[0]"
   ]
  },
  {
   "cell_type": "code",
   "execution_count": null,
   "metadata": {},
   "outputs": [],
   "source": [
    "np.atleast_2d(x).shape"
   ]
  },
  {
   "cell_type": "code",
   "execution_count": null,
   "metadata": {},
   "outputs": [],
   "source": [
    "y"
   ]
  },
  {
   "cell_type": "markdown",
   "metadata": {},
   "source": [
    "find last delta:\n",
    "$$ \\delta_j^L = f'(z_j^L) \\frac{\\partial \\mathcal{C}}{\\partial a_j^L} $$\n",
    "\n",
    "propagate deltas for each layer\n",
    "$$ \\delta_j^l = \\sum_k \\delta_k^{l+1} w_{kj}^{l+1} f'(z_j^l)$$\n",
    "\n",
    "update weights and bias\n",
    "$$w_{jk}^l \\leftarrow w_{jk}^l - \\eta \\delta_j^l a_k^{l-1} $$\n",
    "$$b_{j}^l \\leftarrow b_{j}^l - \\eta \\delta_j^l  $$\n",
    "\n",
    "\n",
    "\n",
    "we have\n",
    "\n",
    "$$ \\frac{\\partial \\mathcal{C}}{\\partial a_j^L} = a_j^L - t_j, $$\n",
    "and\n",
    "$$ f'(z_j^l) = f(z_j^l)  (1 - f(z_j^l) $$\n",
    "for sigmoid"
   ]
  },
  {
   "cell_type": "code",
   "execution_count": null,
   "metadata": {},
   "outputs": [],
   "source": [
    "for i, batch in enumerate(batches(input_train, target_train, n_batches = 100)):\n",
    "    break\n",
    "    "
   ]
  },
  {
   "cell_type": "code",
   "execution_count": null,
   "metadata": {},
   "outputs": [],
   "source": [
    "x,y = batch[0]\n",
    "x,y"
   ]
  },
  {
   "cell_type": "code",
   "execution_count": null,
   "metadata": {},
   "outputs": [],
   "source": [
    "net = NeuralNet(layer_sizes, act_func = ['sigmoid','identity'])\n",
    "\n",
    "for k in range(20):\n",
    "    for i, batch in enumerate(batches(input_train, target_train, n_batches = 100)):\n",
    "        net.update_batch(batch, eta = 1e-2)\n",
    "\n",
    "    plt.plot(k, np.average(test_net(input_test, target_test, net)), 'o', markersize = 10)"
   ]
  },
  {
   "cell_type": "code",
   "execution_count": null,
   "metadata": {},
   "outputs": [],
   "source": [
    "fig,[ax1,ax2] = plt.subplots(1,2, figsize = [8,4])\n",
    "i = 43\n",
    "test_out = np.array([net.feed_forward(inp)[1][-1] for inp in input_test]).squeeze()\n",
    "ax1.scatter(test_out, target_test)\n",
    "ax1.set_xlabel('predicted')\n",
    "ax1.set_ylabel('target')\n",
    "\n",
    "ax1.plot([-12,12],[-12,12])\n",
    "ax1.axis('equal')\n",
    "\n",
    "\n",
    "#ax2.hist(test_out,  alpha = 0.5)\n",
    "#ax2.hist(target_test,  alpha = 0.5);"
   ]
  },
  {
   "cell_type": "code",
   "execution_count": null,
   "metadata": {},
   "outputs": [],
   "source": []
  },
  {
   "cell_type": "code",
   "execution_count": null,
   "metadata": {},
   "outputs": [],
   "source": []
  },
  {
   "cell_type": "code",
   "execution_count": null,
   "metadata": {},
   "outputs": [],
   "source": []
  },
  {
   "cell_type": "code",
   "execution_count": null,
   "metadata": {},
   "outputs": [],
   "source": []
  },
  {
   "cell_type": "code",
   "execution_count": null,
   "metadata": {},
   "outputs": [],
   "source": []
  },
  {
   "cell_type": "code",
   "execution_count": null,
   "metadata": {},
   "outputs": [],
   "source": []
  },
  {
   "cell_type": "code",
   "execution_count": null,
   "metadata": {},
   "outputs": [],
   "source": []
  },
  {
   "cell_type": "code",
   "execution_count": null,
   "metadata": {},
   "outputs": [],
   "source": []
  },
  {
   "cell_type": "code",
   "execution_count": null,
   "metadata": {},
   "outputs": [],
   "source": []
  },
  {
   "cell_type": "code",
   "execution_count": null,
   "metadata": {},
   "outputs": [],
   "source": []
  }
 ],
 "metadata": {
  "kernelspec": {
   "display_name": "Python 3",
   "language": "python",
   "name": "python3"
  },
  "language_info": {
   "codemirror_mode": {
    "name": "ipython",
    "version": 3
   },
   "file_extension": ".py",
   "mimetype": "text/x-python",
   "name": "python",
   "nbconvert_exporter": "python",
   "pygments_lexer": "ipython3",
   "version": "3.6.5"
  }
 },
 "nbformat": 4,
 "nbformat_minor": 2
}
