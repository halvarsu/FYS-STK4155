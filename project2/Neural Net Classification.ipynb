{
 "cells": [
  {
   "cell_type": "code",
   "execution_count": null,
   "metadata": {},
   "outputs": [],
   "source": [
    "%load_ext autoreload\n",
    "%load_ext line_profiler\n",
    "%autoreload 2"
   ]
  },
  {
   "cell_type": "code",
   "execution_count": null,
   "metadata": {},
   "outputs": [],
   "source": [
    "import numpy as np\n",
    "import pandas as pd\n",
    "import matplotlib.pyplot as plt\n",
    "from scipy.special import expit"
   ]
  },
  {
   "cell_type": "markdown",
   "metadata": {},
   "source": [
    "# 2D classification"
   ]
  },
  {
   "cell_type": "code",
   "execution_count": null,
   "metadata": {},
   "outputs": [],
   "source": [
    "from project2_tools import get_2Ddata, to_onehot, from_onehot, get_data_sigmoid\n",
    "from neuralnet import NeuralNet\n",
    "from plotting import PlotWrap\n",
    "plotter = PlotWrap()"
   ]
  },
  {
   "cell_type": "code",
   "execution_count": null,
   "metadata": {},
   "outputs": [],
   "source": [
    "data_input, data_targets = get_2Ddata(t_crit = 2.3, onehot = True)"
   ]
  },
  {
   "cell_type": "code",
   "execution_count": null,
   "metadata": {},
   "outputs": [],
   "source": [
    "from sklearn.model_selection import train_test_split\n",
    "temp = train_test_split(data_input, data_targets, test_size = 0.33)\n",
    "input_train, input_test, target_train, target_test = temp"
   ]
  },
  {
   "cell_type": "markdown",
   "metadata": {},
   "source": [
    "## Setup network and run. Warning, this takes time\n",
    "\n",
    "Runs minibatch stochastic gradient descent on network with one hidden layer. Multiple parameters can be set, see the docstring of run_minbatch_sgd_one_hidden."
   ]
  },
  {
   "cell_type": "code",
   "execution_count": null,
   "metadata": {},
   "outputs": [],
   "source": [
    "from result_functions import run_minibatch_sgd_one_hidden as sgd\n",
    "n_hidden_values = [8 ,10, 16, 20, 32, 64, 96, 128]\n",
    "eta_values = np.logspace(-2,2,9)\n",
    "\n",
    "sgd(input_train,target_train, input_test, target_test, eta_values = eta_values,  n_hidden_values = n_hidden_values)"
   ]
  },
  {
   "cell_type": "code",
   "execution_count": null,
   "metadata": {},
   "outputs": [],
   "source": [
    "from result_functions import run_minibatch_sgd_one_hidden as sgd\n",
    "sgd(input_train,target_train, input_test, target_test, eta_values = eta_values, \n",
    "    n_hidden_values = n_hidden_values)\n"
   ]
  },
  {
   "cell_type": "code",
   "execution_count": null,
   "metadata": {},
   "outputs": [],
   "source": []
  },
  {
   "cell_type": "markdown",
   "metadata": {},
   "source": [
    "# Load data"
   ]
  },
  {
   "cell_type": "code",
   "execution_count": null,
   "metadata": {},
   "outputs": [],
   "source": [
    "import glob\n",
    "files = glob.glob('output/mb_sgd*.pickle')\n",
    "files"
   ]
  },
  {
   "cell_type": "markdown",
   "metadata": {},
   "source": [
    "# Example of how data looks"
   ]
  },
  {
   "cell_type": "code",
   "execution_count": null,
   "metadata": {},
   "outputs": [],
   "source": [
    "df = pd.read_pickle(files[3])\n",
    "df['eta_val'] = np.log10(df['eta'])\n",
    "df"
   ]
  },
  {
   "cell_type": "code",
   "execution_count": null,
   "metadata": {},
   "outputs": [],
   "source": [
    "df_best = df.sort_values(by='max_accuracy')\n",
    "df_best = df_best.iloc[:5]"
   ]
  },
  {
   "cell_type": "code",
   "execution_count": null,
   "metadata": {},
   "outputs": [],
   "source": [
    "plt.figure(figsize = [7,4])\n",
    "markers = ['--','-.','-',':']\n",
    "colors = plt.cm.viridis(np.linspace(0,1,len(n_hidden_values)))\n",
    "\n",
    "\n",
    "for (nhidden, item), c in zip(df_best.groupby('nhidden'),colors):\n",
    "    \n",
    "    print(nhidden)\n",
    "    \n",
    "    for (eta, eta_item),m in zip(item.groupby('eta'), markers):\n",
    "        if True:#eta == 0.1:\n",
    "            y = eta_item['accuracy'].values[0]\n",
    "            eta_val = eta_item['eta_val'].iloc[0]\n",
    "            plt.plot(y, label = 'eta = $10^{{{:6}}}$, nhidden = {}'.format(eta_val, nhidden), c= c, linestyle = m)\n",
    "        # print(y[-1])\n",
    "    \n",
    "plt.grid()\n",
    "plt.legend()"
   ]
  },
  {
   "cell_type": "markdown",
   "metadata": {},
   "source": [
    "### Push sigmoid  data into nicer format"
   ]
  },
  {
   "cell_type": "code",
   "execution_count": null,
   "metadata": {},
   "outputs": [],
   "source": [
    "def eta_nhidden_df(df):\n",
    "    temp = df[['nhidden','eta','max_accuracy']]\n",
    "    temp = temp.set_index(['nhidden','eta'],drop=True).unstack()\n",
    "    temp.columns = temp.columns.droplevel(level=0)\n",
    "    temp.columns = np.log10(temp.columns)\n",
    "    return temp"
   ]
  },
  {
   "cell_type": "code",
   "execution_count": null,
   "metadata": {},
   "outputs": [],
   "source": [
    "\n",
    "dfs_sigmoid = [pd.read_pickle(f) for f in files if 'sigmoid' in f]\n",
    "data_sigmoid = [eta_nhidden_df(d) for d in dfs_sigmoid]\n",
    "# dfs_sigmoid[2] = dfs_sigmoid[2][np.log10(dfs_sigmoid[2]['eta']) != -0.5]\n",
    "dfs_sigmoid[1] = dfs_sigmoid[1][np.log10(dfs_sigmoid[1]['eta']) != -0.5]\n",
    "\n",
    "d1,d2,d3 = dfs_sigmoid\n",
    "eta_vals = np.linspace(-2, 2, 9)\n",
    "for d in [d1,d2,d3]:\n",
    "    d['eta_val'] = np.log10(d.eta)\n",
    "\n",
    "for i, old in enumerate(np.unique(d1.eta_val)):\n",
    "    print(old, eta_vals[i])\n",
    "    d1.loc[d1['eta_val'] == old, 'eta_val'] = eta_vals[i]\n",
    "    \n",
    "    \n",
    "for i, old in enumerate(np.unique(d2.eta_val)):\n",
    "    print(old, eta_vals[i+5])\n",
    "    d2.loc[d2['eta_val'] == old, 'eta_val'] = eta_vals[i+5]\n",
    "    \n",
    "d1.eta = 10**d1.eta_val\n",
    "d2.eta = 10**d2.eta_val\n",
    "dfs_sigmoid = [d1,d2,d3]"
   ]
  },
  {
   "cell_type": "code",
   "execution_count": null,
   "metadata": {},
   "outputs": [],
   "source": [
    "pcer = [line.rstrip() for line in open('/home/halvard/pcer.txt')]\n",
    "tanh_files = ['mb_sgd{}_0.pickle'.format(pc) for pc in pcer]\n",
    "df_tanh = pd.concat([pd.read_pickle(f) for f in files if f.split('/')[-1] in tanh_files], ignore_index = True)\n",
    "df_relu = pd.concat([pd.read_pickle(f) for f in files if 'relu' in f], ignore_index = True)\n",
    "df_sigmoid = pd.concat(dfs_sigmoid,ignore_index = True)\n",
    "\n",
    "data_relu = eta_nhidden_df(df_relu) \n",
    "data_tanh = eta_nhidden_df(df_tanh) \n",
    "\n",
    "for df in [df_relu, df_sigmoid, df_tanh]:\n",
    "    df['eta_val'] = np.log10(df['eta'])\n",
    "    df['optimal_epoch'] = df['accuracy'].apply(np.argmax)+1\n",
    "    \n",
    "df_relu['hidden_act'] = 'relu'\n",
    "df_tanh['hidden_act'] = 'tanh'\n",
    "df_sigmoid['hidden_act'] = 'sigmoid'\n",
    "\n"
   ]
  },
  {
   "cell_type": "code",
   "execution_count": null,
   "metadata": {},
   "outputs": [],
   "source": [
    "num_rows = np.unique(df_sigmoid.eta_val).size\n",
    "\n",
    "fig, axes = plt.subplots(num_rows,3, figsize = [16,32])\n",
    "axes_T = [ax_row for ax_row in zip(*axes)]\n",
    "\n",
    "df = df_sigmoid\n",
    "for df, ax_col in zip([df_sigmoid, df_tanh, df_relu], axes_T):\n",
    "\n",
    "    n_hidden_values = np.unique(df.nhidden)\n",
    "    colors = plt.cm.viridis(np.linspace(0,1,len(n_hidden_values)))\n",
    "\n",
    "\n",
    "    for i,(eta, item) in enumerate(df.groupby('eta_val')):\n",
    "        ax = ax_col[i]\n",
    "\n",
    "        print(eta)\n",
    "        ax.set_title(eta)\n",
    "        for (nhidden, item), c in zip(item.groupby('nhidden'),colors):\n",
    "\n",
    "\n",
    "            if True:#eta == 0.1:\n",
    "                y =  1-np.array(item['accuracy'].values[0])\n",
    "                eta_val = item['eta_val'].iloc[0]\n",
    "                ax.semilogy(np.arange(y.size) + 1  , y, label = 'nhidden = {}'.format(nhidden), c= c, linestyle = '-')\n",
    "            # print(y[-1])\n",
    "\n",
    "        ax.grid()\n",
    "        ax.legend()\n",
    "\n",
    "fig.tight_layout()"
   ]
  },
  {
   "cell_type": "code",
   "execution_count": null,
   "metadata": {},
   "outputs": [],
   "source": [
    "# plt.imshow(data)\n",
    "\n",
    "x = nhidden_values\n",
    "y = eta_values\n",
    "\n",
    "plotter.plot_mispred(data_sigmoid, x, y, title = 'Sigmoid', filename = 'mispred_sigmoid')\n"
   ]
  },
  {
   "cell_type": "code",
   "execution_count": null,
   "metadata": {},
   "outputs": [],
   "source": [
    "x = data_tanh.index\n",
    "y = data_tanh.columns\n",
    "plotter.plot_mispred(data_tanh.values.T, x, y, title = 'tanh', filename = 'mispred_tanh')"
   ]
  },
  {
   "cell_type": "code",
   "execution_count": null,
   "metadata": {},
   "outputs": [],
   "source": [
    "x = data_relu.index\n",
    "y = data_relu.columns\n",
    "plotter.plot_mispred(data_relu.values.T, x, y, title = 'relu', filename = 'mispred_relu')"
   ]
  },
  {
   "cell_type": "code",
   "execution_count": null,
   "metadata": {},
   "outputs": [],
   "source": [
    "super_df = pd.concat([df_sigmoid, df_relu, df_tanh], ignore_index= True)\n",
    "plotter.plot_eta_compare(super_df, eta_val = -1.5)"
   ]
  },
  {
   "cell_type": "markdown",
   "metadata": {},
   "source": [
    "# Collect best parameters"
   ]
  },
  {
   "cell_type": "code",
   "execution_count": null,
   "metadata": {},
   "outputs": [],
   "source": []
  },
  {
   "cell_type": "code",
   "execution_count": null,
   "metadata": {},
   "outputs": [],
   "source": [
    "from collections import defaultdict\n",
    "values = {}\n",
    "\n",
    "\n",
    "for name, df in zip(['relu','sigmoid','tanh'], [df_relu, df_sigmoid, df_tanh]):\n",
    "    temp = []\n",
    "    \n",
    "    for nhidden, item in df.groupby('nhidden'):\n",
    "        indx = item.max_accuracy.idxmax\n",
    "        best = item.loc[indx]\n",
    "        \n",
    "        temp.append(best)\n",
    "    values[name] = temp"
   ]
  },
  {
   "cell_type": "code",
   "execution_count": null,
   "metadata": {},
   "outputs": [],
   "source": [
    "dfs = [pd.DataFrame(val) for val in values.values()]\n",
    "best_df = pd.concat(dfs, ignore_index = True).set_index(['hidden_act', 'nhidden'])#.stac\n",
    "best_df = best_df[['eta_val','max_accuracy','optimal_epoch']]\n",
    "best_df = best_df.swaplevel(axis = 0).unstack()\n",
    "best_df.columns = best_df.columns.rename(\"\", level=1)\n",
    "best_df.index = best_df.index.rename(\"$N_h$\")\n",
    "best_df['eta_val'] = best_df['eta_val'].apply(lambda x:x.apply('10^{{{}}}'.format))\n",
    "best_df= best_df.swaplevel(axis=1).sort_index(1)\n",
    "best_df = best_df.rename(columns={'eta_val':'$\\eta$','max_accuracy':'Accuracy', 'optimal_epoch':'Epoch',\n",
    "                       'sigmoid':'sig'})\n",
    "\n",
    "best_df"
   ]
  },
  {
   "cell_type": "code",
   "execution_count": null,
   "metadata": {},
   "outputs": [],
   "source": [
    "print(best_df.to_latex(float_format = '%.3f', escape = False))"
   ]
  },
  {
   "cell_type": "code",
   "execution_count": null,
   "metadata": {},
   "outputs": [],
   "source": [
    "plotter.plot_best([df_relu, df_tanh, df_sigmoid])"
   ]
  },
  {
   "cell_type": "code",
   "execution_count": null,
   "metadata": {},
   "outputs": [],
   "source": [
    "best_three = pd.concat([df.iloc[df.max_accuracy.idxmax()] for df in [df_relu, df_tanh, df_sigmoid]],axis = 1).T\n",
    "best_three = best_three.set_index('hidden_act', drop = True)\n",
    "\n",
    "for hact, item in best_three.T.items():\n",
    "    y = 1-np.array(item['accuracy'])\n",
    "    epoch = np.arange(len(y))\n",
    "    plt.loglog(epoch, y, label = hact)\n",
    "    \n",
    "plt.xlabel()\n",
    "plt.grid()\n",
    "plt.legend()"
   ]
  },
  {
   "cell_type": "code",
   "execution_count": null,
   "metadata": {},
   "outputs": [],
   "source": []
  },
  {
   "cell_type": "code",
   "execution_count": null,
   "metadata": {},
   "outputs": [],
   "source": [
    "df_sigmoid.sort_values(by = 'max_accuracy').iloc[0]"
   ]
  },
  {
   "cell_type": "code",
   "execution_count": null,
   "metadata": {},
   "outputs": [],
   "source": [
    "df_tanh.sort_values(by = 'max_accuracy').iloc[0]"
   ]
  },
  {
   "cell_type": "code",
   "execution_count": null,
   "metadata": {},
   "outputs": [],
   "source": []
  },
  {
   "cell_type": "code",
   "execution_count": null,
   "metadata": {},
   "outputs": [],
   "source": [
    "plt.plot(x)\n",
    "plt.plot(x[:9])"
   ]
  },
  {
   "cell_type": "code",
   "execution_count": null,
   "metadata": {},
   "outputs": [],
   "source": [
    "np.unique(y).size"
   ]
  },
  {
   "cell_type": "code",
   "execution_count": null,
   "metadata": {},
   "outputs": [],
   "source": [
    "np.unique(x.round(decimals=4))"
   ]
  },
  {
   "cell_type": "code",
   "execution_count": null,
   "metadata": {},
   "outputs": [],
   "source": [
    "data = data[indx]"
   ]
  },
  {
   "cell_type": "code",
   "execution_count": null,
   "metadata": {},
   "outputs": [],
   "source": [
    "np.block([[data[2].T],[data[0].T,data[1].T]])"
   ]
  },
  {
   "cell_type": "code",
   "execution_count": null,
   "metadata": {},
   "outputs": [],
   "source": [
    "plt.pcolormesh(mesh[0], mesh)"
   ]
  },
  {
   "cell_type": "code",
   "execution_count": null,
   "metadata": {},
   "outputs": [],
   "source": [
    "df_tot = pd.concat(dataframes[1:3],axis = 1)"
   ]
  },
  {
   "cell_type": "code",
   "execution_count": null,
   "metadata": {},
   "outputs": [],
   "source": [
    "df_tot.columns"
   ]
  },
  {
   "cell_type": "code",
   "execution_count": null,
   "metadata": {},
   "outputs": [],
   "source": []
  },
  {
   "cell_type": "code",
   "execution_count": null,
   "metadata": {},
   "outputs": [],
   "source": [
    "np.linspace(-2,2.5,13)"
   ]
  },
  {
   "cell_type": "code",
   "execution_count": null,
   "metadata": {},
   "outputs": [],
   "source": [
    "[d.columns for d in dataframes]\n",
    "for i,d in enumerate(dataframes[1:]):\n",
    "    x,y = np.meshgrid(d.columns, d.index)\n",
    "    plt.scatter(x.ravel(), y.ravel(), label = i)\n",
    "plt.legend()"
   ]
  },
  {
   "cell_type": "code",
   "execution_count": null,
   "metadata": {},
   "outputs": [],
   "source": []
  },
  {
   "cell_type": "code",
   "execution_count": null,
   "metadata": {},
   "outputs": [],
   "source": []
  },
  {
   "cell_type": "code",
   "execution_count": null,
   "metadata": {},
   "outputs": [],
   "source": [
    "\n",
    "old_eta_vals"
   ]
  },
  {
   "cell_type": "code",
   "execution_count": null,
   "metadata": {},
   "outputs": [],
   "source": [
    "df_tot = pd.concat(dataframes[1:])\n",
    "df_tot"
   ]
  },
  {
   "cell_type": "code",
   "execution_count": null,
   "metadata": {},
   "outputs": [],
   "source": [
    "df_tot = pd.merge(dataframes[1], dataframes[2], left_index=True, right_index=True, how = 'outer')\n",
    "df_tot = pd.merge(df_tot, dataframes[3], left_index=True, right_index=True, how = 'outer')\n",
    "if '0.01_x' in df_tot.index:\n",
    "    df_tot[0.01] = np.nanmean(df_tot[['0.01_y','0.01_x']],axis = 1)\n",
    "    df_tot = df_tot.drop(['0.01_x', '0.01_y'], axis = 1)\n",
    "df_tot# .T.sort_values(by = 'eta').T"
   ]
  },
  {
   "cell_type": "code",
   "execution_count": null,
   "metadata": {},
   "outputs": [],
   "source": [
    "eta_n_df = eta_nhidden_df(df)"
   ]
  },
  {
   "cell_type": "code",
   "execution_count": null,
   "metadata": {},
   "outputs": [],
   "source": [
    "ax = plt.gca()\n",
    "\n",
    "a = dataframes[3].T # eta_n_df.T#[eta_n_df.T.index > 0.001]\n",
    "m = ax.matshow(a)\n",
    "\n",
    "x = a.columns\n",
    "y = a.index\n",
    "\n",
    "ax.set_xticks(np.arange(len(x)))\n",
    "ax.set_xticklabels(x)\n",
    "ax.set_xlabel('Number of hidden nodes')\n",
    "\n",
    "ax.set_yticks(np.arange(len(y)))\n",
    "ax.set_yticklabels(['$10^{{{}}}$'.format(f) for f in np.linspace(-2,-0.5,5)])\n",
    "ax.set_ylabel('Eta')\n",
    "\n",
    "for i, x_val in enumerate(np.arange(len(x))):\n",
    "    for j, y_val in enumerate(np.arange(len(y))):\n",
    "        c = \"${0:.1f}\\\\%$\".format( 100*a.values[i,j])  \n",
    "        ax.text(x_val, y_val, c, va='center', ha='center')\n",
    "\n",
    "plt.colorbar(m)"
   ]
  },
  {
   "cell_type": "code",
   "execution_count": null,
   "metadata": {},
   "outputs": [],
   "source": [
    "np.linspace(-2, -0.5, 5)"
   ]
  },
  {
   "cell_type": "code",
   "execution_count": null,
   "metadata": {},
   "outputs": [],
   "source": [
    "10**(-0.5)"
   ]
  },
  {
   "cell_type": "code",
   "execution_count": null,
   "metadata": {},
   "outputs": [],
   "source": []
  },
  {
   "cell_type": "code",
   "execution_count": null,
   "metadata": {},
   "outputs": [],
   "source": [
    "ax = plt.gca()\n",
    "temp2 = temp.iloc[:,2:]\n",
    "m = ax.imshow(temp2)\n",
    "\n",
    "ax.set_yticks([0,1,2,3,4])\n",
    "ax.set_yticklabels(temp2.index)\n",
    "ax.set_ylabel('Number of hidden nodes')\n",
    "\n",
    "ax.set_xticks([0,1])\n",
    "ax.set_xticklabels(temp2.columns)\n",
    "ax.set_xlabel('Eta')\n",
    "\n",
    "plt.colorbar(m)"
   ]
  },
  {
   "cell_type": "code",
   "execution_count": null,
   "metadata": {},
   "outputs": [],
   "source": [
    "temp.plot.bar(rot = 0)"
   ]
  },
  {
   "cell_type": "code",
   "execution_count": null,
   "metadata": {},
   "outputs": [],
   "source": [
    "\n",
    "speed = [0.1, 17.5, 40, 48, 52, 69, 88]\n",
    "lifespan = [2, 8, 70, 1.5, 25, 12, 28]\n",
    "index = ['snail', 'pig', 'elephant',\n",
    "         'rabbit', 'giraffe', 'coyote', 'horse']\n",
    "df = pd.DataFrame({'speed': speed,\n",
    "                   'lifespan': lifespan}, index=index)\n",
    "ax = df.plot.bar(rot=0)\n"
   ]
  },
  {
   "cell_type": "code",
   "execution_count": null,
   "metadata": {},
   "outputs": [],
   "source": [
    "df"
   ]
  },
  {
   "cell_type": "code",
   "execution_count": null,
   "metadata": {},
   "outputs": [],
   "source": []
  },
  {
   "cell_type": "code",
   "execution_count": null,
   "metadata": {},
   "outputs": [],
   "source": []
  },
  {
   "cell_type": "code",
   "execution_count": null,
   "metadata": {},
   "outputs": [],
   "source": [
    "plt.plot(accuracy)\n",
    "\n",
    "plt.grid()"
   ]
  },
  {
   "cell_type": "code",
   "execution_count": null,
   "metadata": {},
   "outputs": [],
   "source": [
    "print(np.abs(accuracy[-1] - accuracy[-2])/accuracy[-2])"
   ]
  },
  {
   "cell_type": "code",
   "execution_count": null,
   "metadata": {},
   "outputs": [],
   "source": [
    "from IPython.display import clear_output\n",
    "i = 0\n",
    "\n",
    "eta = 1e-3\n",
    "mse = []\n",
    "n_epochs = 100\n",
    "n_batches = 10000\n",
    "\n",
    "tot = n_epochs * n_batches\n",
    "current = 1\n",
    "\n",
    "import time\n",
    "start = time.time()\n",
    "\n",
    "for j in range(n_epochs):\n",
    "    b = batches(input_train, target_train, n_batches = n_batches)\n",
    "    for k, batch in enumerate(b):\n",
    "        clear_output(wait = True)\n",
    "        print('batch, epoch, MSE')\n",
    "        print('{:5}/{}  {:5}/{}  {:.2f}'.format(k, n_batches, j, n_epochs, mse[-1] if len(mse) else 0))#, 'o', markersize = 9)\n",
    "        now = time.time() \n",
    "        print('Time estimate: {:.0f} seconds left'.format((now - start)/current * (tot-current)))\n",
    "        net.update_batch(batch, eta)\n",
    "    \n",
    "        current += 1\n",
    "\n",
    "    mse.append(np.average(test_net(input_test, target_test, net)))\n",
    "    if np.isnan(mse[-1]) or np.any([np.any(np.isnan(w)) for w in net.weights]):\n",
    "        print('NAN!!! Break! Abort mission!')\n",
    "        break"
   ]
  },
  {
   "cell_type": "code",
   "execution_count": null,
   "metadata": {},
   "outputs": [],
   "source": [
    "def f(x,y,z):\n",
    "    return x+y+z\n",
    "\n",
    "a = [1,2,3]\n",
    "\n",
    "f(*a)"
   ]
  },
  {
   "cell_type": "markdown",
   "metadata": {},
   "source": [
    "$\\in$"
   ]
  },
  {
   "cell_type": "code",
   "execution_count": null,
   "metadata": {},
   "outputs": [],
   "source": [
    "from project2_tools import softmax\n",
    "\n",
    "%timeit net.feed_forward(input_train[0])\n"
   ]
  },
  {
   "cell_type": "code",
   "execution_count": null,
   "metadata": {},
   "outputs": [],
   "source": [
    "net.backpropagate(input_train[0], target_train[0])"
   ]
  },
  {
   "cell_type": "code",
   "execution_count": null,
   "metadata": {},
   "outputs": [],
   "source": []
  },
  {
   "cell_type": "code",
   "execution_count": null,
   "metadata": {},
   "outputs": [],
   "source": [
    "plt.plot(mse)"
   ]
  },
  {
   "cell_type": "code",
   "execution_count": null,
   "metadata": {},
   "outputs": [],
   "source": [
    "from nielsen_network import Network as nNetwork\n",
    "\n",
    "net2 = nNetwork(layer_sizes)\n",
    "net2.backprop(np.atleast_2d(x),np.atleast_2d(y))\n",
    "# x,y = batch[0]"
   ]
  },
  {
   "cell_type": "code",
   "execution_count": null,
   "metadata": {},
   "outputs": [],
   "source": [
    "np.atleast_2d(x).shape"
   ]
  },
  {
   "cell_type": "code",
   "execution_count": null,
   "metadata": {},
   "outputs": [],
   "source": [
    "y"
   ]
  },
  {
   "cell_type": "markdown",
   "metadata": {},
   "source": [
    "find last delta:\n",
    "$$ \\delta_j^L = f'(z_j^L) \\frac{\\partial \\mathcal{C}}{\\partial a_j^L} $$\n",
    "\n",
    "propagate deltas for each layer\n",
    "$$ \\delta_j^l = \\sum_k \\delta_k^{l+1} w_{kj}^{l+1} f'(z_j^l)$$\n",
    "\n",
    "update weights and bias\n",
    "$$w_{jk}^l \\leftarrow w_{jk}^l - \\eta \\delta_j^l a_k^{l-1} $$\n",
    "$$b_{j}^l \\leftarrow b_{j}^l - \\eta \\delta_j^l  $$\n",
    "\n",
    "\n",
    "\n",
    "we have\n",
    "\n",
    "$$ \\frac{\\partial \\mathcal{C}}{\\partial a_j^L} = a_j^L - t_j, $$\n",
    "and\n",
    "$$ f'(z_j^l) = f(z_j^l)  (1 - f(z_j^l) $$\n",
    "for sigmoid"
   ]
  },
  {
   "cell_type": "code",
   "execution_count": null,
   "metadata": {},
   "outputs": [],
   "source": [
    "for i, batch in enumerate(batches(input_train, target_train, n_batches = 100)):\n",
    "    break\n",
    "    "
   ]
  },
  {
   "cell_type": "code",
   "execution_count": null,
   "metadata": {},
   "outputs": [],
   "source": [
    "x,y = batch[0]\n",
    "x,y"
   ]
  },
  {
   "cell_type": "code",
   "execution_count": null,
   "metadata": {},
   "outputs": [],
   "source": [
    "net = NeuralNet(layer_sizes, act_func = ['sigmoid','identity'])\n",
    "\n",
    "for k in range(20):\n",
    "    for i, batch in enumerate(batches(input_train, target_train, n_batches = 100)):\n",
    "        net.update_batch(batch, eta = 1e-2)\n",
    "\n",
    "    plt.plot(k, np.average(test_net(input_test, target_test, net)), 'o', markersize = 10)"
   ]
  },
  {
   "cell_type": "code",
   "execution_count": null,
   "metadata": {},
   "outputs": [],
   "source": [
    "fig,[ax1,ax2] = plt.subplots(1,2, figsize = [8,4])\n",
    "i = 43\n",
    "test_out = np.array([net.feed_forward(inp)[1][-1] for inp in input_test]).squeeze()\n",
    "ax1.scatter(test_out, target_test)\n",
    "ax1.set_xlabel('predicted')\n",
    "ax1.set_ylabel('target')\n",
    "\n",
    "ax1.plot([-12,12],[-12,12])\n",
    "ax1.axis('equal')\n",
    "\n",
    "\n",
    "#ax2.hist(test_out,  alpha = 0.5)\n",
    "#ax2.hist(target_test,  alpha = 0.5);"
   ]
  },
  {
   "cell_type": "code",
   "execution_count": null,
   "metadata": {},
   "outputs": [],
   "source": []
  },
  {
   "cell_type": "code",
   "execution_count": null,
   "metadata": {},
   "outputs": [],
   "source": []
  },
  {
   "cell_type": "code",
   "execution_count": null,
   "metadata": {},
   "outputs": [],
   "source": []
  },
  {
   "cell_type": "code",
   "execution_count": null,
   "metadata": {},
   "outputs": [],
   "source": []
  },
  {
   "cell_type": "code",
   "execution_count": null,
   "metadata": {},
   "outputs": [],
   "source": []
  },
  {
   "cell_type": "code",
   "execution_count": null,
   "metadata": {},
   "outputs": [],
   "source": []
  },
  {
   "cell_type": "code",
   "execution_count": null,
   "metadata": {},
   "outputs": [],
   "source": []
  },
  {
   "cell_type": "code",
   "execution_count": null,
   "metadata": {},
   "outputs": [],
   "source": []
  },
  {
   "cell_type": "code",
   "execution_count": null,
   "metadata": {},
   "outputs": [],
   "source": []
  },
  {
   "cell_type": "code",
   "execution_count": null,
   "metadata": {},
   "outputs": [],
   "source": []
  }
 ],
 "metadata": {
  "kernelspec": {
   "display_name": "Python 3",
   "language": "python",
   "name": "python3"
  },
  "language_info": {
   "codemirror_mode": {
    "name": "ipython",
    "version": 3
   },
   "file_extension": ".py",
   "mimetype": "text/x-python",
   "name": "python",
   "nbconvert_exporter": "python",
   "pygments_lexer": "ipython3",
   "version": "3.6.5"
  }
 },
 "nbformat": 4,
 "nbformat_minor": 2
}
