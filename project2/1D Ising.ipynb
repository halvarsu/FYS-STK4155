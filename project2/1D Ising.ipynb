{
 "cells": [
  {
   "cell_type": "code",
   "execution_count": null,
   "metadata": {},
   "outputs": [],
   "source": [
    "%load_ext autoreload\n",
    "%autoreload 2\n",
    "%matplotlib inline\n",
    "\n",
    "# Add project 1 to sys path \n",
    "import sys\n",
    "sys.path.append('../project1/')\n",
    "import tools as proj1_tools\n",
    "\n",
    "import numpy as np\n",
    "import matplotlib.pyplot as plt\n",
    "\n",
    "from sklearn.linear_model import Lasso\n",
    "\n",
    "from IPython.display import clear_output"
   ]
  },
  {
   "cell_type": "code",
   "execution_count": null,
   "metadata": {},
   "outputs": [],
   "source": [
    "import scipy.sparse as sp\n",
    "np.random.seed(12)\n",
    "import warnings\n",
    "#Comment this to turn on warnings\n",
    "warnings.filterwarnings('ignore')\n",
    "### define Ising model params\n",
    "# system size\n",
    "L = 40\n",
    "n = 10000\n",
    "# create 10000 random Ising states\n",
    "states=np.random.choice([-1, 1], size=(n,L))\n",
    "from project2_tools import ising_energies1D \n",
    "\n",
    "# calculate Ising energies\n",
    "energies=ising_energies1D(states)"
   ]
  },
  {
   "cell_type": "code",
   "execution_count": null,
   "metadata": {},
   "outputs": [],
   "source": [
    "energies"
   ]
  },
  {
   "cell_type": "code",
   "execution_count": null,
   "metadata": {},
   "outputs": [],
   "source": [
    "L = 40\n",
    "n = 10000\n",
    "\n",
    "s=np.random.choice([-1, 1], size=(n,L))\n",
    "\n",
    "E = ising_energies1D(s)\n",
    "X = np.einsum('...i,...j->...ij',s,s) "
   ]
  },
  {
   "cell_type": "code",
   "execution_count": null,
   "metadata": {},
   "outputs": [],
   "source": [
    "X_vectors = X.reshape(n,-1)"
   ]
  },
  {
   "cell_type": "markdown",
   "metadata": {},
   "source": [
    "## One dimensional Ising model with linear regression"
   ]
  },
  {
   "cell_type": "markdown",
   "metadata": {},
   "source": [
    "Fit the linear models and get the parameters; the coupling constant $J$"
   ]
  },
  {
   "cell_type": "code",
   "execution_count": null,
   "metadata": {},
   "outputs": [],
   "source": [
    "# OLS\n",
    "regr_ols = proj1_tools.Regression(X_vectors, E, solve_method = 'svd')\n",
    "J_fit_ols = regr_ols.beta\n",
    "\n",
    "# Ridge and Lasso\n",
    "#lambdas = np.logspace(-10,0,11)\n",
    "lambdas = np.array([1e-05,1e-04,1e-03,1e-02,1e-01])\n",
    "\n",
    "J_fit_ridge = []\n",
    "J_fit_lasso = []\n",
    "\n",
    "for i,lmbd in enumerate(lambdas):\n",
    "    print('Lambdas: ',i+1,'/',lambdas.shape[0])\n",
    "    regr_ridge = proj1_tools.Regression(X_vectors, E, lmbd = lmbd, solve_method = 'svd')\n",
    "    J_fit_ridge.append(regr_ridge.beta)\n",
    "    regr_lasso = Lasso(alpha=lmbd, fit_intercept=False)\n",
    "    J_fit_lasso.append(regr_lasso.fit(X_vectors, E).coef_)\n",
    "    clear_output(wait=0.1)"
   ]
  },
  {
   "cell_type": "markdown",
   "metadata": {},
   "source": [
    "### Plot"
   ]
  },
  {
   "cell_type": "markdown",
   "metadata": {},
   "source": [
    "Parameters as matrix:"
   ]
  },
  {
   "cell_type": "code",
   "execution_count": null,
   "metadata": {},
   "outputs": [],
   "source": [
    "vmin = np.min(J_fit_ols)\n",
    "assert vmin < 0\n",
    "# OLS\n",
    "plt.figure(figsize=[3,3])\n",
    "plt.title('OLS')\n",
    "plt.imshow(J_fit_ols.reshape((L,L)), vmin = vmin, vmax = - vmin, cmap = plt.cm.bwr)\n",
    "plt.show()\n",
    "# Ridge and Lasso\n",
    "for i,lmbd in enumerate(lambdas):\n",
    "    print('Lambda = ',lmbd)\n",
    "    fig,[ax1,ax2] = plt.subplots(1,2)\n",
    "    ax1.imshow(J_fit_ridge[i].reshape((L,L)), vmin = vmin, vmax = - vmin, cmap = plt.cm.bwr)\n",
    "    ax1.set_title('Ridge')\n",
    "    ax2.imshow(J_fit_lasso[i].reshape((L,L)), vmin = vmin, vmax = - vmin, cmap = plt.cm.bwr)\n",
    "    ax2.set_title('Lasso')\n",
    "    plt.show()\n",
    "# plt.colorbar(m)"
   ]
  },
  {
   "cell_type": "markdown",
   "metadata": {},
   "source": [
    "Histogram of paramters:"
   ]
  },
  {
   "cell_type": "code",
   "execution_count": null,
   "metadata": {},
   "outputs": [],
   "source": [
    "for i,lmbd in enumerate(lambdas):\n",
    "    print('Lambda = ',lmbd)\n",
    "    _,bins,_ = plt.hist(J_fit_ridge[i], bins = 30, histtype='step',density = True, label='ridge')\n",
    "    _ = plt.hist(J_fit_ols, bins = bins, histtype='step', density = True, label='ols')\n",
    "    _ = plt.hist(J_fit_lasso[i], bins = bins, histtype='step', density = True, label='lasso')\n",
    "    plt.legend()\n",
    "    plt.show()"
   ]
  },
  {
   "cell_type": "code",
   "execution_count": null,
   "metadata": {},
   "outputs": [],
   "source": [
    "print(ridge_r2)\n",
    "print(lasso_r2)"
   ]
  },
  {
   "cell_type": "markdown",
   "metadata": {},
   "source": [
    "# TODO:"
   ]
  },
  {
   "cell_type": "markdown",
   "metadata": {},
   "source": [
    "- Bias variance decomposition\n",
    "- R2 and squared error (discussion)"
   ]
  },
  {
   "cell_type": "code",
   "execution_count": null,
   "metadata": {},
   "outputs": [],
   "source": [
    "np.diag(J_fit_lasso[7].reshape((L,L)))"
   ]
  },
  {
   "cell_type": "code",
   "execution_count": null,
   "metadata": {},
   "outputs": [],
   "source": []
  },
  {
   "cell_type": "markdown",
   "metadata": {},
   "source": [
    "# TEST performance with mse and r2"
   ]
  },
  {
   "cell_type": "code",
   "execution_count": null,
   "metadata": {},
   "outputs": [],
   "source": [
    "ridge_mse = []\n",
    "ridge_r2 = []\n",
    "\n",
    "lasso_mse = []\n",
    "lasso_r2 = []\n",
    "\n",
    "lambdas = np.array([1e-05,1e-04,1e-03,1e-02,1e-01])\n",
    "\n",
    "for i,lmbd in enumerate(lambdas):\n",
    "    print('Lambdas: ',i+1,'/',lambdas.shape[0])\n",
    "    ridge = proj1_tools.Regression(X_vectors, E, lmbd = lmbd, solve_method = 'svd')\n",
    "    r_pred = ridge.predict(test)\n",
    "    lasso = Lasso(alpha=lmbd, fit_intercept=False)\n",
    "    l_pred = lasso.predict(test)\n",
    "    \n",
    "    clear_output(wait=0.1)"
   ]
  },
  {
   "cell_type": "code",
   "execution_count": null,
   "metadata": {},
   "outputs": [],
   "source": []
  },
  {
   "cell_type": "code",
   "execution_count": null,
   "metadata": {},
   "outputs": [],
   "source": []
  },
  {
   "cell_type": "code",
   "execution_count": null,
   "metadata": {},
   "outputs": [],
   "source": [
    "a=np.random.randint(0,9,5)\n",
    "print(a,'\\n')\n",
    "b=np.random.randint(0,9,5)\n",
    "print(b)"
   ]
  },
  {
   "cell_type": "code",
   "execution_count": null,
   "metadata": {},
   "outputs": [],
   "source": [
    "np.einsum('...i,...j->...ij',a,b)"
   ]
  },
  {
   "cell_type": "code",
   "execution_count": null,
   "metadata": {},
   "outputs": [],
   "source": [
    "energies.shape"
   ]
  },
  {
   "cell_type": "code",
   "execution_count": null,
   "metadata": {},
   "outputs": [],
   "source": [
    "np.einsum('...i,...j->...ij')"
   ]
  }
 ],
 "metadata": {
  "kernelspec": {
   "display_name": "Python 3",
   "language": "python",
   "name": "python3"
  },
  "language_info": {
   "codemirror_mode": {
    "name": "ipython",
    "version": 3
   },
   "file_extension": ".py",
   "mimetype": "text/x-python",
   "name": "python",
   "nbconvert_exporter": "python",
   "pygments_lexer": "ipython3",
   "version": "3.6.6"
  }
 },
 "nbformat": 4,
 "nbformat_minor": 2
}
