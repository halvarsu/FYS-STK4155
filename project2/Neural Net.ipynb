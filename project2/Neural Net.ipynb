{
 "cells": [
  {
   "cell_type": "code",
   "execution_count": null,
   "metadata": {},
   "outputs": [],
   "source": [
    "import numpy as np\n",
    "import pandas as pd\n",
    "import matplotlib.pyplot as plt\n",
    "from scipy.special import expit"
   ]
  },
  {
   "cell_type": "code",
   "execution_count": null,
   "metadata": {},
   "outputs": [],
   "source": [
    "def relu(x):\n",
    "    return np.maximum(0, x)\n",
    "\n",
    "\n",
    "def der_expit(x=None, act=None):\n",
    "    if x is None:\n",
    "        return act*(1-act)\n",
    "    elif act is None:\n",
    "        return expit(x)*(1-expit(x))\n",
    "    else:\n",
    "        raise ValueError('must include either x or act')\n",
    "\n",
    "def der_tanh(x = None, act = None):\n",
    "    if x is None:\n",
    "        return 1 - act**2\n",
    "    elif act is None:\n",
    "        return 1 - np.tanh(x)**2\n",
    "    else:\n",
    "        raise ValueError('must include either x or act')\n",
    "\n",
    "\n",
    "activation_choices = {'sigmoid':expit,'tanh':np.tanh}\n",
    "act_derivatives = {'sigmoid':der_expit,'tanh':der_tanh}\n",
    "\n",
    "activation = 'tanh'\n",
    "act_func = activation_choices[activation]\n",
    "act_deriv = act_derivatives[activation]"
   ]
  },
  {
   "cell_type": "code",
   "execution_count": null,
   "metadata": {},
   "outputs": [],
   "source": [
    "def gen_data(n):\n",
    "    spins = np.random.choice(np.array([-1,1],dtype=np.int8), size = n)\n",
    "    return np.einsum('i,j->ij', spins, spins, dtype = np.int8)\n",
    "\n",
    "\n",
    "L = 40\n",
    "n = L*L\n",
    "N = 100\n",
    "\n",
    "data_input = [gen_data(L) for i in range(N)]\n",
    "print(data_input[0].size)\n",
    "data_targets = [np.sum(inp) for inp in data_input]"
   ]
  },
  {
   "cell_type": "code",
   "execution_count": null,
   "metadata": {},
   "outputs": [],
   "source": [
    "data_targets"
   ]
  },
  {
   "cell_type": "code",
   "execution_count": null,
   "metadata": {},
   "outputs": [],
   "source": [
    "from sklearn.model_selection import train_test_split\n",
    "train_inp,  test_inp, test_targets, train_targets = train_test_split(data_input,data_targets, test_size = 0.33)\n",
    "len(train_inp),len(train_targets),len(test_inp),len(test_targets)\n"
   ]
  },
  {
   "cell_type": "code",
   "execution_count": null,
   "metadata": {},
   "outputs": [],
   "source": [
    "def forward(inp):\n",
    "    outs = []\n",
    "    activations = []\n",
    "    z = inp\n",
    "    act = act_func(inp)\n",
    "\n",
    "    \n",
    "    for i,n in enumerate(n_nodes[:-1]):\n",
    "        z = weights[i] @ np.append(act, 1)  # add a bias\n",
    "        act = act_func(z)\n",
    "\n",
    "        outs.append(z)\n",
    "        activations.append(act)\n",
    "    return outs, activations\n",
    "    \n",
    "N_layers = 3\n",
    "n_nodes = [20, 10, 5, 1] # input, hidden, ..., hidden, output\n",
    "\n",
    "small = 1e-2\n",
    "weights = [small*np.random.random(size = (n,m+1)) for n,m in zip(n_nodes[1:], n_nodes[:-1])]\n",
    "biases = [small*np.random.random(size = n) for n in n_nodes[1:]]\n",
    "    \n",
    "for inp, target in zip(train_inp, train_targets):\n",
    "    outs,activations = forward(inp)\n",
    "\n",
    "    L = len(n_nodes)-2\n",
    "    deltas = [np.zeros(n) for n in n_nodes[1:]]\n",
    "    # print('hei0', list(map(np.shape,deltas)))\n",
    "    deltas[L] = act_deriv(outs[-1])*(activations[-1] - target)\n",
    "\n",
    "    for i in range(1,L+1):\n",
    "        l = L-i\n",
    "        deltas[l] = np.einsum('k,kj,j->j', deltas[l+1], weights[l+1][:,:-1],act_deriv(outs[l]))\n",
    "        \n",
    "    eta = 1e-2\n",
    "    for i in range(0,L):\n",
    "        l = L-i\n",
    "        weights[l] = weights[l] - eta * np.outer(deltas[l], np.append(activations[l-1], 1))"
   ]
  },
  {
   "cell_type": "markdown",
   "metadata": {},
   "source": [
    "find last delta:\n",
    "$$ \\delta_j^L = f'(z_j^L) \\frac{\\partial \\mathcal{C}}{\\partial a_j^L} $$\n",
    "\n",
    "propagate deltas for each layer\n",
    "$$ \\delta_j^l = \\sum_k \\delta_k^{l+1} w_{kj}^{l+1} f'(z_j^l)$$\n",
    "\n",
    "update weights and bias\n",
    "$$w_{jk}^l \\leftarrow w_{jk}^l - \\eta \\delta_j^l a_k^{l-1} $$\n",
    "$$b_{j}^l \\leftarrow b_{j}^l - \\eta \\delta_j^l  $$\n",
    "\n"
   ]
  },
  {
   "cell_type": "markdown",
   "metadata": {},
   "source": [
    "we have\n",
    "\n",
    "$$ \\frac{\\partial \\mathcal{C}}{\\partial a_j^L} = a_j^L - t_i, $$\n",
    "and\n",
    "$$ f'(z_j^l) = f(z_j^l) * (1 - f(z_j^l) $$"
   ]
  },
  {
   "cell_type": "code",
   "execution_count": null,
   "metadata": {},
   "outputs": [],
   "source": []
  },
  {
   "cell_type": "code",
   "execution_count": null,
   "metadata": {},
   "outputs": [],
   "source": [
    "?expit"
   ]
  },
  {
   "cell_type": "code",
   "execution_count": null,
   "metadata": {},
   "outputs": [],
   "source": [
    "np.c_"
   ]
  },
  {
   "cell_type": "code",
   "execution_count": null,
   "metadata": {},
   "outputs": [],
   "source": []
  },
  {
   "cell_type": "code",
   "execution_count": null,
   "metadata": {},
   "outputs": [],
   "source": []
  },
  {
   "cell_type": "code",
   "execution_count": null,
   "metadata": {},
   "outputs": [],
   "source": []
  },
  {
   "cell_type": "code",
   "execution_count": null,
   "metadata": {},
   "outputs": [],
   "source": []
  }
 ],
 "metadata": {
  "kernelspec": {
   "display_name": "Python 3",
   "language": "python",
   "name": "python3"
  },
  "language_info": {
   "codemirror_mode": {
    "name": "ipython",
    "version": 3
   },
   "file_extension": ".py",
   "mimetype": "text/x-python",
   "name": "python",
   "nbconvert_exporter": "python",
   "pygments_lexer": "ipython3",
   "version": "3.6.5"
  }
 },
 "nbformat": 4,
 "nbformat_minor": 2
}
