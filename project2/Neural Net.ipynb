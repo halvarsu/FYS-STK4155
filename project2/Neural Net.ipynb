{
 "cells": [
  {
   "cell_type": "code",
   "execution_count": null,
   "metadata": {},
   "outputs": [],
   "source": [
    "%load_ext autoreload\n",
    "%autoreload 2"
   ]
  },
  {
   "cell_type": "code",
   "execution_count": null,
   "metadata": {},
   "outputs": [],
   "source": [
    "import numpy as np\n",
    "import pandas as pd\n",
    "import matplotlib.pyplot as plt\n",
    "from scipy.special import expit"
   ]
  },
  {
   "cell_type": "code",
   "execution_count": null,
   "metadata": {},
   "outputs": [],
   "source": [
    "def gen_1Ddata(n_spins, n_sets):\n",
    "    J = 1\n",
    "    spins    = np.random.choice(np.array([-1,1],dtype=np.int8), size = (n_sets, n_spins))\n",
    "    energies = np.sum(-J*spins*np.roll(spins,1, axis = 1), axis = 1)\n",
    "    return np.einsum('...i,...j->...ij', spins, spins).reshape(n_sets,-1), energies\n",
    "\n",
    "input_data, target_data = gen_1Ddata(40, 100)\n",
    "input_data.shape, target_data.shape"
   ]
  },
  {
   "cell_type": "code",
   "execution_count": null,
   "metadata": {},
   "outputs": [],
   "source": [
    "from neuralnet import NeuralNet\n",
    "def test_net(test_inputs, test_targets, net):\n",
    "    cost = []\n",
    "    \n",
    "    for x,y in zip(test_inputs, test_targets):\n",
    "        zs, outputs = net.feed_forward(x)\n",
    "        cost.append(np.mean((outputs[-1] - y)**2))\n",
    "    return np.array(cost)\n",
    "\n",
    "def batches(inputs, targets, n_batches = 10):\n",
    "    \n",
    "    mask = np.arange(len(inputs), dtype = np.int64)\n",
    "    np.random.shuffle(mask)\n",
    "    inputs = inputs[mask]\n",
    "    targets = targets[mask]\n",
    "    \n",
    "    if len(inputs) != len(targets):\n",
    "        raise ValueError('length of inputs and targets must be equal')\n",
    "    indx = np.linspace(0, len(inputs), n_batches + 1, dtype=int)\n",
    "    for i in range(n_batches):\n",
    "        batch = [(x,y) for x, y in zip(inputs[indx[i]:indx[i+1]], targets[indx[i]:indx[i+1]])] \n",
    "        yield batch\n",
    "   "
   ]
  },
  {
   "cell_type": "code",
   "execution_count": null,
   "metadata": {},
   "outputs": [],
   "source": [
    "L = 40\n",
    "n = L*L\n",
    "N = 1000\n",
    "J = 1\n",
    "\n",
    "from sklearn.model_selection import train_test_split\n",
    "data_input, data_targets = gen_1Ddata(n_spins = L, n_sets = N) \n",
    "\n",
    "temp = train_test_split(data_input, data_targets, test_size = 0.33)\n",
    "input_train, input_test, target_train, target_test = temp\n",
    "\n",
    "list(map(np.shape, temp))"
   ]
  },
  {
   "cell_type": "markdown",
   "metadata": {},
   "source": [
    "find last delta:\n",
    "$$ \\delta_j^L = f'(z_j^L) \\frac{\\partial \\mathcal{C}}{\\partial a_j^L} $$\n",
    "\n",
    "propagate deltas for each layer\n",
    "$$ \\delta_j^l = \\sum_k \\delta_k^{l+1} w_{kj}^{l+1} f'(z_j^l)$$\n",
    "\n",
    "update weights and bias\n",
    "$$w_{jk}^l \\leftarrow w_{jk}^l - \\eta \\delta_j^l a_k^{l-1} $$\n",
    "$$b_{j}^l \\leftarrow b_{j}^l - \\eta \\delta_j^l  $$\n",
    "\n",
    "\n",
    "\n",
    "we have\n",
    "\n",
    "$$ \\frac{\\partial \\mathcal{C}}{\\partial a_j^L} = a_j^L - t_j, $$\n",
    "and\n",
    "$$ f'(z_j^l) = f(z_j^l)  (1 - f(z_j^l) $$\n",
    "for sigmoid"
   ]
  },
  {
   "cell_type": "code",
   "execution_count": null,
   "metadata": {},
   "outputs": [],
   "source": [
    "layer_sizes = [1600, 1]\n",
    "print(layer_sizes)"
   ]
  },
  {
   "cell_type": "code",
   "execution_count": null,
   "metadata": {},
   "outputs": [],
   "source": [
    "%load_ext line_profiler"
   ]
  },
  {
   "cell_type": "code",
   "execution_count": null,
   "metadata": {},
   "outputs": [],
   "source": [
    "from IPython.display import clear_output\n",
    "#def test():\n",
    "i = 0\n",
    "net = NeuralNet(layer_sizes, act_func = ['identity'])\n",
    "# net = NeuralNet(layer_sizes, act_func = ['identity'])\n",
    "\n",
    "eta = 1e-3\n",
    "mse = []\n",
    "\n",
    "print('epoch, MSE')\n",
    "for j in range(100):\n",
    "    b = batches(input_train, target_train, n_batches = 99)\n",
    "    for k, batch in enumerate(b):\n",
    "        net.update_batch(batch, eta)\n",
    "\n",
    "    mse.append(np.average(test_net(input_test, target_test, net)))\n",
    "    print('{:5}  {:.2f}'.format(j, mse[-1]))#, 'o', markersize = 9)\n",
    "    if np.isnan(mse[-1]) or np.any([np.any(np.isnan(w)) for w in net.weights]):\n",
    "        print('NAN!!! Break! Abort mission!')\n",
    "        break"
   ]
  },
  {
   "cell_type": "markdown",
   "metadata": {},
   "source": [
    "$\\in$"
   ]
  },
  {
   "cell_type": "code",
   "execution_count": null,
   "metadata": {},
   "outputs": [],
   "source": [
    "net.weights"
   ]
  },
  {
   "cell_type": "code",
   "execution_count": null,
   "metadata": {},
   "outputs": [],
   "source": [
    "mse[-1]"
   ]
  },
  {
   "cell_type": "code",
   "execution_count": null,
   "metadata": {},
   "outputs": [],
   "source": [
    "plt.plot(mse)"
   ]
  },
  {
   "cell_type": "code",
   "execution_count": null,
   "metadata": {},
   "outputs": [],
   "source": [
    "from nielsen_network import Network as nNetwork\n",
    "\n",
    "net2 = nNetwork(layer_sizes)\n",
    "net2.backprop(np.atleast_2d(x),np.atleast_2d(y))\n",
    "# x,y = batch[0]"
   ]
  },
  {
   "cell_type": "code",
   "execution_count": null,
   "metadata": {},
   "outputs": [],
   "source": [
    "np.atleast_2d(x).shape"
   ]
  },
  {
   "cell_type": "code",
   "execution_count": null,
   "metadata": {},
   "outputs": [],
   "source": [
    "y"
   ]
  },
  {
   "cell_type": "code",
   "execution_count": null,
   "metadata": {},
   "outputs": [],
   "source": [
    "for i, batch in enumerate(batches(input_train, target_train, n_batches = 100)):\n",
    "    break\n",
    "    "
   ]
  },
  {
   "cell_type": "code",
   "execution_count": null,
   "metadata": {},
   "outputs": [],
   "source": [
    "x,y = batch[0]\n",
    "x,y"
   ]
  },
  {
   "cell_type": "code",
   "execution_count": null,
   "metadata": {},
   "outputs": [],
   "source": [
    "net = NeuralNet(layer_sizes, act_func = ['sigmoid','identity'])\n",
    "\n",
    "for k in range(20):\n",
    "    for i, batch in enumerate(batches(input_train, target_train, n_batches = 100)):\n",
    "        net.update_batch(batch, eta = 1e-2)\n",
    "\n",
    "    plt.plot(k, np.average(test_net(input_test, target_test, net)), 'o', markersize = 10)"
   ]
  },
  {
   "cell_type": "code",
   "execution_count": null,
   "metadata": {},
   "outputs": [],
   "source": [
    "fig,[ax1,ax2] = plt.subplots(1,2, figsize = [8,4])\n",
    "i = 43\n",
    "test_out = np.array([net.feed_forward(inp)[1][-1] for inp in input_test]).squeeze()\n",
    "ax1.scatter(test_out, target_test)\n",
    "ax1.set_xlabel('predicted')\n",
    "ax1.set_ylabel('target')\n",
    "\n",
    "ax1.plot([-12,12],[-12,12])\n",
    "ax1.axis('equal')\n",
    "\n",
    "\n",
    "#ax2.hist(test_out,  alpha = 0.5)\n",
    "#ax2.hist(target_test,  alpha = 0.5);"
   ]
  },
  {
   "cell_type": "code",
   "execution_count": null,
   "metadata": {},
   "outputs": [],
   "source": [
    "grad_b, grad_w = net.backpropagate(x,y)"
   ]
  },
  {
   "cell_type": "code",
   "execution_count": null,
   "metadata": {},
   "outputs": [],
   "source": [
    "a = np.arange(10)\n",
    "b = a - 5\n",
    "a,b"
   ]
  },
  {
   "cell_type": "code",
   "execution_count": null,
   "metadata": {},
   "outputs": [],
   "source": []
  },
  {
   "cell_type": "code",
   "execution_count": null,
   "metadata": {},
   "outputs": [],
   "source": [
    "# def relu(x):\n",
    "#     return np.maximum(0, x)\n",
    "\n",
    "\n",
    "# def der_expit(x=None, act=None):\n",
    "#     if x is None:\n",
    "#         return act*(1-act)\n",
    "#     elif act is None:\n",
    "#         return expit(x)*(1-expit(x))\n",
    "#     else:\n",
    "#         raise ValueError('must include either x or act')\n",
    "\n",
    "# def der_tanh(x = None, act = None):\n",
    "#     if x is None:\n",
    "#         return 1 - act**2\n",
    "#     elif act is None:\n",
    "#         return 1 - np.tanh(x)**2\n",
    "#     else:\n",
    "#         raise ValueError('must include either x or act')\n",
    "\n",
    "\n",
    "# activation_choices = {'sigmoid':expit,'tanh':np.tanh}\n",
    "# act_derivatives = {'sigmoid':der_expit,'tanh':der_tanh}\n",
    "\n",
    "# activation = 'tanh'\n",
    "# act_func = activation_choices[activation]\n",
    "# act_deriv = act_derivatives[activation]"
   ]
  },
  {
   "cell_type": "code",
   "execution_count": null,
   "metadata": {},
   "outputs": [],
   "source": [
    "for x,y in zip(a,b):\n",
    "    print(x,y)"
   ]
  },
  {
   "cell_type": "code",
   "execution_count": null,
   "metadata": {},
   "outputs": [],
   "source": []
  },
  {
   "cell_type": "code",
   "execution_count": null,
   "metadata": {},
   "outputs": [],
   "source": [
    "# def forward(inp):\n",
    "#     outs = []\n",
    "#     activations = []\n",
    "#     z = inp\n",
    "#     act = act_func(inp)\n",
    "\n",
    "    \n",
    "#     for i,n in enumerate(n_nodes[:-1]):\n",
    "#         z = weights[i] @ np.append(act, 1)  # add a bias\n",
    "#         act = act_func(z)\n",
    "\n",
    "#         outs.append(z)\n",
    "#         activations.append(act)\n",
    "#     return outs, activations\n",
    "    \n",
    "# N_layers = 3\n",
    "# n_nodes = [20, 10, 5, 1] # input, hidden, ..., hidden, output\n",
    "# L = len(n_nodes)-2\n",
    "# eta = 1e-2\n",
    "\n",
    "# small = 1e-2\n",
    "# weights = [small*np.random.random(size = (n,m+1)) for n,m in zip(n_nodes[1:], n_nodes[:-1])]\n",
    "# biases = [small*np.random.random(size = n) for n in n_nodes[1:]]\n",
    "    \n",
    "# for inp, target in zip(train_inp, train_targets):\n",
    "#     outs,activations = forward(inp)\n",
    "\n",
    "#     deltas = [np.zeros(n) for n in n_nodes[1:]]\n",
    "#     # print('hei0', list(map(np.shape,deltas)))\n",
    "#     deltas[L] = act_deriv(outs[-1])*(activations[-1] - target)\n",
    "\n",
    "#     for i in range(1,L+1):\n",
    "#         l = L-i\n",
    "#         deltas[l] = np.einsum('k,kj,j->j', deltas[l+1], weights[l+1][:,:-1],act_deriv(outs[l]))\n",
    "        \n",
    "#     for i in range(0,L):\n",
    "#         l = L-i\n",
    "#         weights[l] = weights[l] - eta * np.outer(deltas[l], np.append(activations[l-1], 1))"
   ]
  },
  {
   "cell_type": "code",
   "execution_count": null,
   "metadata": {},
   "outputs": [],
   "source": []
  },
  {
   "cell_type": "code",
   "execution_count": null,
   "metadata": {},
   "outputs": [],
   "source": [
    "np.c_"
   ]
  },
  {
   "cell_type": "code",
   "execution_count": null,
   "metadata": {},
   "outputs": [],
   "source": []
  },
  {
   "cell_type": "code",
   "execution_count": null,
   "metadata": {},
   "outputs": [],
   "source": []
  },
  {
   "cell_type": "code",
   "execution_count": null,
   "metadata": {},
   "outputs": [],
   "source": []
  },
  {
   "cell_type": "code",
   "execution_count": null,
   "metadata": {},
   "outputs": [],
   "source": []
  }
 ],
 "metadata": {
  "kernelspec": {
   "display_name": "Python 3",
   "language": "python",
   "name": "python3"
  },
  "language_info": {
   "codemirror_mode": {
    "name": "ipython",
    "version": 3
   },
   "file_extension": ".py",
   "mimetype": "text/x-python",
   "name": "python",
   "nbconvert_exporter": "python",
   "pygments_lexer": "ipython3",
   "version": "3.6.6"
  }
 },
 "nbformat": 4,
 "nbformat_minor": 2
}
