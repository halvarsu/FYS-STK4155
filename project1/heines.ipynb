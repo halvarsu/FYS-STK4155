{
 "cells": [
  {
   "cell_type": "code",
   "execution_count": 1,
   "metadata": {
    "collapsed": true
   },
   "outputs": [],
   "source": [
    "import numpy as np\n",
    "import matplotlib\n",
    "import matplotlib.pyplot as plt\n",
    "from mpl_toolkits.axes_grid1 import AxesGrid\n",
    "from scipy import linalg"
   ]
  },
  {
   "cell_type": "code",
   "execution_count": 2,
   "metadata": {
    "collapsed": false
   },
   "outputs": [],
   "source": [
    "%matplotlib inline"
   ]
  },
  {
   "cell_type": "code",
   "execution_count": 3,
   "metadata": {
    "collapsed": false
   },
   "outputs": [],
   "source": [
    "from sklearn.linear_model import Ridge\n",
    "from sklearn.metrics import r2_score\n",
    "\n",
    "def skridge(x,y,z,l,deg):\n",
    "    model = Ridge(l)\n",
    "    sk_X = get_X_poly2D(x,y,deg)\n",
    "    par = model.fit(sk_X,z)\n",
    "    pred = model.predict(sk_X)\n",
    "    \n",
    "    return pred,model.coef_"
   ]
  },
  {
   "cell_type": "code",
   "execution_count": 2,
   "metadata": {
    "collapsed": false,
    "scrolled": false
   },
   "outputs": [
    {
     "ename": "NameError",
     "evalue": "name 'skridge' is not defined",
     "output_type": "error",
     "traceback": [
      "\u001b[0;31m---------------------------------------------------------------------------\u001b[0m",
      "\u001b[0;31mNameError\u001b[0m                                 Traceback (most recent call last)",
      "\u001b[0;32m<ipython-input-2-7100ee53bc14>\u001b[0m in \u001b[0;36m<module>\u001b[0;34m()\u001b[0m\n\u001b[1;32m     19\u001b[0m     \u001b[0mR2\u001b[0m\u001b[0;34m[\u001b[0m\u001b[0mk\u001b[0m\u001b[0;34m-\u001b[0m\u001b[0;36m1\u001b[0m\u001b[0;34m]\u001b[0m \u001b[0;34m=\u001b[0m \u001b[0mr2score\u001b[0m\u001b[0;34m(\u001b[0m\u001b[0mz\u001b[0m\u001b[0;34m,\u001b[0m \u001b[0mregr\u001b[0m\u001b[0;34m.\u001b[0m\u001b[0myhat\u001b[0m\u001b[0;34m)\u001b[0m\u001b[0;34m\u001b[0m\u001b[0m\n\u001b[1;32m     20\u001b[0m \u001b[0;34m\u001b[0m\u001b[0m\n\u001b[0;32m---> 21\u001b[0;31m     \u001b[0msk_z\u001b[0m\u001b[0;34m,\u001b[0m\u001b[0msk_beta\u001b[0m \u001b[0;34m=\u001b[0m \u001b[0mskridge\u001b[0m\u001b[0;34m(\u001b[0m\u001b[0mx\u001b[0m\u001b[0;34m,\u001b[0m\u001b[0my\u001b[0m\u001b[0;34m,\u001b[0m\u001b[0mz\u001b[0m\u001b[0;34m,\u001b[0m\u001b[0mlambd\u001b[0m\u001b[0;34m,\u001b[0m\u001b[0mdeg\u001b[0m\u001b[0;34m)\u001b[0m\u001b[0;34m\u001b[0m\u001b[0m\n\u001b[0m\u001b[1;32m     22\u001b[0m     \u001b[0mR2_sk\u001b[0m\u001b[0;34m[\u001b[0m\u001b[0mk\u001b[0m\u001b[0;34m-\u001b[0m\u001b[0;36m1\u001b[0m\u001b[0;34m]\u001b[0m \u001b[0;34m=\u001b[0m \u001b[0mr2_score\u001b[0m\u001b[0;34m(\u001b[0m\u001b[0mz\u001b[0m\u001b[0;34m,\u001b[0m \u001b[0msk_z\u001b[0m\u001b[0;34m)\u001b[0m\u001b[0;34m\u001b[0m\u001b[0m\n\u001b[1;32m     23\u001b[0m \u001b[0;34m\u001b[0m\u001b[0m\n",
      "\u001b[0;31mNameError\u001b[0m: name 'skridge' is not defined"
     ]
    }
   ],
   "source": [
    "from tools import *\n",
    "from plotting import *\n",
    "\n",
    "x,y,z,noise = generate_data()\n",
    "\n",
    "deg = 5\n",
    "\n",
    "runs = 1000\n",
    "MSE = np.zeros((runs,))\n",
    "R2 = np.zeros((runs,))\n",
    "R2_sk = np.zeros((runs,))\n",
    "lmbd_step = 1\n",
    "for k in range(1,runs+1):\n",
    "    lambd = k * lmbd_step\n",
    "    regr = fit_poly2D(x, y, z, deg = deg, lmbd = lambd)\n",
    "    #plot_data_3D(x,y,z,regr.yhat,regr.beta)\n",
    "    #plt.show()\n",
    "    MSE[k-1] = squared_error(z, regr.yhat)\n",
    "    R2[k-1] = r2score(z, regr.yhat)\n",
    "    \n",
    "    sk_z,sk_beta = skridge(x,y,z,lambd,deg)\n",
    "    R2_sk[k-1] = r2_score(z, sk_z)\n",
    "    \n",
    "    \n",
    "x_ = lmbd_step*np.arange(1,runs+1)\n",
    "plt.subplot(121)\n",
    "plt.plot(x_,R2)\n",
    "\n",
    "plt.subplot(122)\n",
    "plt.plot(x_,R2_sk)\n",
    "\n",
    "print('%-20s%-20s%-20s' % ('model','sklearn','difference'))\n",
    "for i in range(runs):\n",
    "    print('%-20s%-20s%-20s' % (R2[i],R2_sk[i], np.abs(R2[i] - R2_sk[i])))\n",
    "\n",
    "plt.plot(R2,R2_sk, 'ro')\n",
    "#plt.plot([0,R2[-1]], [0,R2[-1]])\n",
    "plt.axis('equal')\n",
    "# plt.axis([np.min(R2), np.max(R2), np.min(R2_sk),np.max(R2_sk)])\n",
    "\n",
    "plt.xlabel('model')\n",
    "plt.ylabel('sklearn')\n",
    "plt.show()\n",
    "\n",
    "    \n",
    "    "
   ]
  },
  {
   "cell_type": "code",
   "execution_count": 5,
   "metadata": {
    "collapsed": false,
    "scrolled": false
   },
   "outputs": [
    {
     "data": {
      "text/plain": [
       "0.89846807801257367"
      ]
     },
     "execution_count": 5,
     "metadata": {},
     "output_type": "execute_result"
    }
   ],
   "source": [
    "r2score(z, regr.yhat)"
   ]
  },
  {
   "cell_type": "code",
   "execution_count": null,
   "metadata": {
    "collapsed": false
   },
   "outputs": [],
   "source": []
  },
  {
   "cell_type": "code",
   "execution_count": null,
   "metadata": {
    "collapsed": false
   },
   "outputs": [],
   "source": []
  }
 ],
 "metadata": {
  "kernelspec": {
   "display_name": "Python 3",
   "language": "python",
   "name": "python3"
  },
  "language_info": {
   "codemirror_mode": {
    "name": "ipython",
    "version": 3
   },
   "file_extension": ".py",
   "mimetype": "text/x-python",
   "name": "python",
   "nbconvert_exporter": "python",
   "pygments_lexer": "ipython3",
   "version": "3.6.0"
  }
 },
 "nbformat": 4,
 "nbformat_minor": 2
}
