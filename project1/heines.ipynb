{
 "cells": [
  {
   "cell_type": "code",
   "execution_count": 1,
   "metadata": {
    "collapsed": true
   },
   "outputs": [],
   "source": [
    "import numpy as np\n",
    "import matplotlib\n",
    "import matplotlib.pyplot as plt\n",
    "from mpl_toolkits.axes_grid1 import AxesGrid\n",
    "from scipy import linalg"
   ]
  },
  {
   "cell_type": "code",
   "execution_count": 2,
   "metadata": {
    "collapsed": false
   },
   "outputs": [],
   "source": [
    "%matplotlib inline\n",
    "%load_ext autoreload\n",
    "%autoreload 2"
   ]
  },
  {
   "cell_type": "code",
   "execution_count": 3,
   "metadata": {
    "collapsed": false
   },
   "outputs": [],
   "source": [
    "from sklearn.linear_model import Ridge\n",
    "from sklearn.metrics import r2_score\n",
    "\n",
    "def skridge(x,y,z,l,deg):\n",
    "    model = Ridge(l)\n",
    "    sk_X = get_X_poly2D(x,y,deg)\n",
    "    par = model.fit(sk_X,z)\n",
    "    pred = model.predict(sk_X)\n",
    "    \n",
    "    return pred,model.coef_"
   ]
  },
  {
   "cell_type": "code",
   "execution_count": 37,
   "metadata": {
    "collapsed": false,
    "scrolled": false
   },
   "outputs": [
    {
     "data": {
      "image/png": "[encoded data removed]",
      "text/plain": [
       "<Figure size 504x504 with 2 Axes>"
      ]
     },
     "metadata": {},
     "output_type": "display_data"
    }
   ],
   "source": [
    "import tools\n",
    "import plotting\n",
    "\n",
    "\n",
    "#x,y,z,noise = generate_data()\n",
    "\n",
    "deg = 5\n",
    "\n",
    "lmbd_runs = 100\n",
    "noise_runs = 3\n",
    "MSE_in = np.zeros((lmbd_runs,noise_runs))\n",
    "MSE_out = np.zeros((lmbd_runs,noise_runs))\n",
    "R2_in = np.zeros((lmbd_runs,noise_runs))\n",
    "R2_out = np.zeros((lmbd_runs,noise_runs))\n",
    "lmbd_values = np.linspace(0, 1, lmbd_runs)\n",
    "#k = 20\n",
    "#noise_values = np.linspace(0.1, 0.7, 3)\n",
    "noise_values = [0.1]\n",
    "for j,noise in enumerate(noise_values):\n",
    "    x,y,z,_ = tools.generate_data(N = 1000, noise = noise)\n",
    "    for a, lmbd in enumerate(lmbd_values):\n",
    "        # lambd = a * lmbd_step\n",
    "        #regr = fit_poly2D(x, y, z, deg = deg, lmbd = lambd)\n",
    "#         #plot_data_3D(x,y,z,regr.yhat,regr.beta)\n",
    "#         #plt.show()\n",
    "\n",
    "        #MSE[a-1][j] = squared_error(z, regr.yhat)\n",
    "        #R2[a-1][j] = r2score(z, regr.yhat) #BAD: scoring training data\n",
    "        \n",
    "        r2_train,mse_train, r2_test, mse_test = tools.k_fold_val(x,y,z,k=10,lmbd = lmbd,\n",
    "                                                          method = 'ridge')\n",
    "        R2_in[a][j] = r2_train\n",
    "        MSE_in[a][j] = mse_train\n",
    "        \n",
    "        R2_out[a][j] = r2_test\n",
    "        MSE_out[a][j] = mse_test\n",
    "\n",
    "        #sk_z,sk_beta = skridge(x,y,z,lambd,deg)\n",
    "        #MSE_sk[a-1][j] = squared_error(z, sk_z)\n",
    "        #R2_sk[a-1][j] = r2_score(z, sk_z)\n",
    "    \n",
    "    \n",
    "x_ = lmbd_values\n",
    "\n",
    "\n",
    "clr = ['b', 'g', 'r', 'm', 'y']\n",
    "\n",
    "plt.figure(figsize=(7,7))\n",
    "plt.subplot(211)\n",
    "for q,noise in enumerate(noise_values):\n",
    "    if noise == 0.1:\n",
    "        #plt.plot(x_,R2_in[:,q],clr[q]+'-', label = 'Noise in = {}'.format(noise))\n",
    "        plt.plot(x_,R2_out[:,q],clr[q]+'-', label = 'Noise out= {}'.format(noise))\n",
    "    \n",
    "plt.rcParams.update({'font.size': 16})\n",
    "plt.title('Ridge',fontsize=20)\n",
    "plt.xlabel('Lambda',fontsize=15)\n",
    "plt.ylabel('R2',fontsize=15)\n",
    "#plt.savefig('ridgeR2.pdf')\n",
    "\n",
    "#plt.figure(figsize=(7,5))\n",
    "plt.subplot(212)\n",
    "for q,noise in enumerate(noise_values):\n",
    "    if noise == 0.1:\n",
    "        #plt.plot(x_,MSE_in[:,q],clr[q]+'-', label = 'Noise in = {}'.format(noise))\n",
    "        plt.plot(x_,MSE_out[:,q],clr[q]+'-', label = 'Noise out= {}'.format(noise))\n",
    "    #print('MSE out for noise=',noise,': ', MSE_in[:,q])\n",
    "    \n",
    "#plt.legend()\n",
    "plt.rcParams.update({'font.size': 16})\n",
    "#plt.title('Ridge',fontsize=20)\n",
    "plt.xlabel('Ridge',fontsize=15)\n",
    "plt.ylabel('MSE',fontsize=15)\n",
    "plt.tight_layout()\n",
    "plt.savefig('ridgeOpt.pdf')\n",
    "# for q in range(noise_runs):\n",
    "#     plt.plot(x_,R2[:,q],clr[q]+'--')\n",
    "\n",
    "# plt.subplot(122)\n",
    "# for q in range(noise_runs):\n",
    "#     plt.plot(x_,R2_cross[:,q],'-')\n",
    "#     #plt.plot(x_,MSE_sk[:,q],'--')\n",
    "# plt.legend(['noise = {}'.format((i+1)*0.02) for i in range(noise_runs)])\n",
    "# plt.xlabel('Lambda')\n",
    "# plt.ylabel('R2 k-fold average')\n",
    "\n",
    "# plt.subplot(122)\n",
    "# plt.plot(x_, np.abs(R2 - R2_sk))\n",
    "# #plt.plot(x_,R2_sk)\n",
    "\n",
    "# #print('%-20s%-20s%-20s' % ('model','sklearn','difference'))\n",
    "# #for i in range(runs):\n",
    "# #    print('%-20s%-20s%-20s' % (R2[i],R2_sk[i], np.abs(R2[i] - R2_sk[i])))\n",
    "\n",
    "# plt.plot(R2,R2_sk, 'ro')\n",
    "# #plt.plot([0,R2[-1]], [0,R2[-1]])\n",
    "# plt.axis('equal')\n",
    "# # plt.axis([np.min(R2), np.max(R2), np.min(R2_sk),np.max(R2_sk)])\n",
    "\n",
    "# plt.xlabel('model')\n",
    "# plt.ylabel('sklearn')\n",
    "#plt.show()\n",
    "    "
   ]
  },
  {
   "cell_type": "code",
   "execution_count": null,
   "metadata": {
    "collapsed": true
   },
   "outputs": [],
   "source": []
  },
  {
   "cell_type": "code",
   "execution_count": 20,
   "metadata": {
    "collapsed": false
   },
   "outputs": [
    {
     "data": {
      "text/plain": [
       "array([ 0.1298855 ,  0.12538242,  0.12269366,  0.1206646 ,  0.11895923,\n",
       "        0.11744769,  0.1160703 ,  0.11479576,  0.1136057 ,  0.11248823,\n",
       "        0.11143491,  0.11043932,  0.10949629,  0.10860147,  0.10775112,\n",
       "        0.10694194,  0.10617096,  0.10543553,  0.10473324,  0.10406188,\n",
       "        0.10341944,  0.10280407,  0.10221407,  0.10164789,  0.10110408,\n",
       "        0.10058131,  0.10007834,  0.09959404,  0.09912735,  0.09867728,\n",
       "        0.09824294,  0.09782346,  0.09741806,  0.097026  ,  0.0966466 ,\n",
       "        0.09627921,  0.09592324,  0.09557813,  0.09524334,  0.09491839,\n",
       "        0.09460281,  0.09429617,  0.09399806,  0.0937081 ,  0.09342593,\n",
       "        0.0931512 ,  0.0928836 ,  0.09262281,  0.09236856,  0.09212058,\n",
       "        0.0918786 ,  0.09164239,  0.09141171,  0.09118635,  0.0909661 ,\n",
       "        0.09075077,  0.09054016,  0.09033411,  0.09013244,  0.089935  ,\n",
       "        0.08974163,  0.08955218,  0.08936653,  0.08918453,  0.08900606,\n",
       "        0.088831  ,  0.08865924,  0.08849066,  0.08832517,  0.08816266,\n",
       "        0.08800303,  0.0878462 ,  0.08769207,  0.08754056,  0.0873916 ,\n",
       "        0.08724509,  0.08710098,  0.08695918,  0.08681963,  0.08668227,\n",
       "        0.08654702,  0.08641383,  0.08628265,  0.08615341,  0.08602605,\n",
       "        0.08590054,  0.08577681,  0.08565482,  0.08553453,  0.08541588,\n",
       "        0.08529884,  0.08518336,  0.0850694 ,  0.08495693,  0.0848459 ,\n",
       "        0.08473628,  0.08462804,  0.08452114,  0.08441554,  0.14361724])"
      ]
     },
     "execution_count": 20,
     "metadata": {},
     "output_type": "execute_result"
    }
   ],
   "source": [
    "R2[:,q]"
   ]
  },
  {
   "cell_type": "code",
   "execution_count": 5,
   "metadata": {
    "collapsed": false
   },
   "outputs": [],
   "source": [
    "def k_fold(x, y, z, k = 2, lmbd=0, method = 'ridge',\n",
    "        return_average = True):\n",
    "    N = x.size\n",
    "    if method.lower() not in ['ols','ridge','lasso']:\n",
    "        raise ValueError('Invalid method flag, {}'.format(method))\n",
    "    if method.lower() == 'ols' and lmbd != 0:\n",
    "        raise ValueError('lmbd != 0 does not make sense for OLS.')\n",
    "    if method.lower() == 'lasso':\n",
    "        from sklearn.linear_model import Lasso\n",
    "\n",
    "\n",
    "    N = x.size\n",
    "    indexes = np.linspace(0,N,k+1, dtype = int)\n",
    "    sizes = np.diff(indexes)\n",
    "    \n",
    "    r2_test = []\n",
    "    mse_test = []\n",
    "    r2_train = []\n",
    "    mse_train = []\n",
    "    for size in sizes:\n",
    "        x_test = x[:size]\n",
    "        y_test = y[:size]\n",
    "        z_test = z[:size]\n",
    "        x_train = x[size:]\n",
    "        y_train = y[size:]\n",
    "        z_train = z[size:]\n",
    "    \n",
    "        # print(x_train.shape, x_test.shape)\n",
    "        design_train = get_X_poly2D(x_train, y_train, deg =5)\n",
    "        design_test = get_X_poly2D(x_test, y_test, deg =5)\n",
    "\n",
    "        if method.lower() == 'ols' or method.lower() == 'ridge':\n",
    "            regr = Regression(design_train,z_train, lmbd = lmbd)\n",
    "            var = np.diag(((design_test.dot(regr.betaVar)) @ design_test.T))\n",
    "        else:\n",
    "            regr = Lasso( alpha = lmbd ,fit_intercept = False)\n",
    "            regr.fit(design_train, z_train)\n",
    "\n",
    "        z_pred_test = regr.predict(design_test)\n",
    "        z_pred_train = regr.predict(design_train)\n",
    "\n",
    "        r2_test.append(r2score(z_test, z_pred_test))\n",
    "        mse_test.append(squared_error(z_test, z_pred_test))\n",
    "        r2_train.append(r2score(z_train, z_pred_train))\n",
    "        mse_train.append(squared_error(z_train,z_pred_train))\n",
    "\n",
    "        # print(\"{:6.3f}  {:6.3f}\".format(r2[i], se[i]), )\n",
    "\n",
    "        x = np.roll(x, - size)\n",
    "        y = np.roll(y, - size)\n",
    "        z = np.roll(z, - size)\n",
    "    \n",
    "    if return_average:\n",
    "        #return ([np.average(v) for v in [r2_train,mse_train,\n",
    "                                       #r2_test, mse_test]], var)\n",
    "        return var\n",
    "    else:\n",
    "        return r2_train,mse_train, r2_test, mse_test"
   ]
  },
  {
   "cell_type": "code",
   "execution_count": 6,
   "metadata": {
    "collapsed": false
   },
   "outputs": [
    {
     "data": {
      "image/png": "[encoded data removed]",
      "text/plain": [
       "<matplotlib.figure.Figure at 0x10c468f98>"
      ]
     },
     "metadata": {},
     "output_type": "display_data"
    }
   ],
   "source": [
    "x,y,z,noise = generate_data(N = 220, noise = 0.02)\n",
    "runs = 1000\n",
    "Var = np.zeros((runs,))\n",
    "for i in range(runs):\n",
    "    lambd = 0.1 + i*0.1\n",
    "    var = k_fold(x,y,z,k=k,lmbd = lambd,\n",
    "                                                          method = 'ridge')\n",
    "    Var[i] = np.average(var)\n",
    "    \n",
    "x_ = np.arange(runs)\n",
    "\n",
    "plt.plot(x_,Var,'--')\n",
    "plt.show()"
   ]
  },
  {
   "cell_type": "code",
   "execution_count": 7,
   "metadata": {
    "collapsed": false
   },
   "outputs": [
    {
     "ename": "NameError",
     "evalue": "name 'getdata' is not defined",
     "output_type": "error",
     "traceback": [
      "\u001b[0;31m---------------------------------------------------------------------------\u001b[0m",
      "\u001b[0;31mNameError\u001b[0m                                 Traceback (most recent call last)",
      "\u001b[0;32m<ipython-input-7-dace2f0e0a27>\u001b[0m in \u001b[0;36m<module>\u001b[0;34m()\u001b[0m\n\u001b[0;32m----> 1\u001b[0;31m \u001b[0;32mfrom\u001b[0m \u001b[0mreaddata\u001b[0m \u001b[0;32mimport\u001b[0m \u001b[0mplotdata\u001b[0m\u001b[0;34m\u001b[0m\u001b[0m\n\u001b[0m\u001b[1;32m      2\u001b[0m \u001b[0;34m\u001b[0m\u001b[0m\n\u001b[1;32m      3\u001b[0m \u001b[0mfile\u001b[0m \u001b[0;34m=\u001b[0m \u001b[0;34m'./data/n59_e010_1arc_v3.tif'\u001b[0m\u001b[0;34m\u001b[0m\u001b[0m\n\u001b[1;32m      4\u001b[0m \u001b[0;31m#file2 = './data/nepal.tif'\u001b[0m\u001b[0;34m\u001b[0m\u001b[0;34m\u001b[0m\u001b[0m\n\u001b[1;32m      5\u001b[0m \u001b[0;34m\u001b[0m\u001b[0m\n",
      "\u001b[0;32m/Users/heine2307/Documents/Universitet/UiO/FYS-STK4155/project1/readdata.py\u001b[0m in \u001b[0;36m<module>\u001b[0;34m()\u001b[0m\n\u001b[1;32m     21\u001b[0m \u001b[0mfile\u001b[0m \u001b[0;34m=\u001b[0m \u001b[0;34m'./data/n59_e010_1arc_v3.tif'\u001b[0m\u001b[0;34m\u001b[0m\u001b[0m\n\u001b[1;32m     22\u001b[0m \u001b[0;34m\u001b[0m\u001b[0m\n\u001b[0;32m---> 23\u001b[0;31m \u001b[0mplotdata\u001b[0m\u001b[0;34m(\u001b[0m\u001b[0mfile\u001b[0m\u001b[0;34m)\u001b[0m\u001b[0;34m\u001b[0m\u001b[0m\n\u001b[0m",
      "\u001b[0;32m/Users/heine2307/Documents/Universitet/UiO/FYS-STK4155/project1/readdata.py\u001b[0m in \u001b[0;36mplotdata\u001b[0;34m(name)\u001b[0m\n\u001b[1;32m     11\u001b[0m \u001b[0;34m\u001b[0m\u001b[0m\n\u001b[1;32m     12\u001b[0m \u001b[0;32mdef\u001b[0m \u001b[0mplotdata\u001b[0m\u001b[0;34m(\u001b[0m\u001b[0mname\u001b[0m\u001b[0;34m)\u001b[0m\u001b[0;34m:\u001b[0m\u001b[0;34m\u001b[0m\u001b[0m\n\u001b[0;32m---> 13\u001b[0;31m     \u001b[0mterrain1\u001b[0m \u001b[0;34m=\u001b[0m \u001b[0mgetdata\u001b[0m\u001b[0;34m(\u001b[0m\u001b[0mname\u001b[0m\u001b[0;34m)\u001b[0m\u001b[0;34m\u001b[0m\u001b[0m\n\u001b[0m\u001b[1;32m     14\u001b[0m     \u001b[0mplt\u001b[0m\u001b[0;34m.\u001b[0m\u001b[0mfigure\u001b[0m\u001b[0;34m(\u001b[0m\u001b[0;34m)\u001b[0m\u001b[0;34m\u001b[0m\u001b[0m\n\u001b[1;32m     15\u001b[0m     \u001b[0mplt\u001b[0m\u001b[0;34m.\u001b[0m\u001b[0mtitle\u001b[0m\u001b[0;34m(\u001b[0m\u001b[0;34m'Terrain over Norway 1'\u001b[0m\u001b[0;34m)\u001b[0m\u001b[0;34m\u001b[0m\u001b[0m\n",
      "\u001b[0;31mNameError\u001b[0m: name 'getdata' is not defined"
     ]
    }
   ],
   "source": [
    "from readdata import plotdata\n",
    "\n",
    "file = './data/n59_e010_1arc_v3.tif'\n",
    "#file2 = './data/nepal.tif'\n",
    "\n",
    "\n",
    "plotdata(file)\n"
   ]
  },
  {
   "cell_type": "code",
   "execution_count": null,
   "metadata": {
    "collapsed": false
   },
   "outputs": [],
   "source": [
    "%matplotlib"
   ]
  },
  {
   "cell_type": "code",
   "execution_count": null,
   "metadata": {
    "collapsed": false
   },
   "outputs": [],
   "source": [
    "from imageio import imread\n",
    "\n",
    "file = './data/n59_e010_1arc_v3.tif'\n",
    "#plt.rcParams.update({'font.size': 13})\n",
    "#fig = plt.figure(figsize = [10,6])\n",
    "#ax = fig.add_subplot(111,projection = '3d')\n",
    "\n",
    "z = imread(file)\n",
    "n,m = z.shape\n",
    "x = np.arange(0,m)\n",
    "y = np.arange(0,n)\n",
    "x, y = np.meshgrid(x,y)\n",
    "\n",
    "m = plt.imshow(z)\n",
    "plt.colorbar(m)\n",
    "\n",
    "\n",
    "#X = get_X_poly2D(x, y, deg = 3)\n",
    "regr = fit_poly2D(x.ravel(),y.ravel(),z.ravel(), deg = 3, lmbd = 0)\n",
    "print(regr.beta)\n",
    "\n",
    "\n",
    "# ax.scatter(x,y,z)\n",
    "# ax.set_xlabel('$x$')\n",
    "# ax.set_ylabel('$y$')\n",
    "# ax.set_zlabel('$f(x,y)$')"
   ]
  },
  {
   "cell_type": "code",
   "execution_count": null,
   "metadata": {
    "collapsed": false
   },
   "outputs": [],
   "source": [
    "a= regr.r2score()\n",
    "print(a)"
   ]
  },
  {
   "cell_type": "code",
   "execution_count": null,
   "metadata": {
    "collapsed": false
   },
   "outputs": [],
   "source": [
    "plt.show()"
   ]
  },
  {
   "cell_type": "code",
   "execution_count": null,
   "metadata": {
    "collapsed": true
   },
   "outputs": [],
   "source": []
  },
  {
   "cell_type": "code",
   "execution_count": null,
   "metadata": {
    "collapsed": true
   },
   "outputs": [],
   "source": []
  },
  {
   "cell_type": "code",
   "execution_count": 3,
   "metadata": {
    "collapsed": false
   },
   "outputs": [],
   "source": [
    "import tools\n",
    "import plotting\n",
    "import random\n",
    "\n",
    "def bootstrap(x,y,z, rep=50, smplsize = 50):\n",
    "    MSE = np.zeros((rep,))\n",
    "    \n",
    "    indx = np.arange(x.size)\n",
    "    for r in range(rep):\n",
    "        rnd1 = np.random.choice(indx, size = smplsize)\n",
    "        uniq =  np.unique(rnd1)\n",
    "        \n",
    "        train_x = x[rnd1]\n",
    "        train_y = y[rnd1]\n",
    "        train_z = z[rnd1]\n",
    "\n",
    "        mask = np.zeros_like(x, dtype=bool)\n",
    "        mask[uniq] = True\n",
    "        test_x = x[~mask]\n",
    "        test_y = y[~mask]\n",
    "        test_z = z[~mask]\n",
    "\n",
    "        X_train = tools.get_X_poly2D(train_x,train_y, deg=5)\n",
    "        X_test = tools.get_X_poly2D(test_x,test_y, deg=5)\n",
    "        \n",
    "        regr = tools.Regression(X_train, train_z)\n",
    "        z_pred = regr.predict(X_test)\n",
    "        MSE[r] = tools.squared_error(z_pred, test_z)\n",
    "        \n",
    "    return MSE\n"
   ]
  },
  {
   "cell_type": "code",
   "execution_count": 4,
   "metadata": {
    "collapsed": false
   },
   "outputs": [
    {
     "ename": "NameError",
     "evalue": "name 'x' is not defined",
     "output_type": "error",
     "traceback": [
      "\u001b[0;31m---------------------------------------------------------------------------\u001b[0m",
      "\u001b[0;31mNameError\u001b[0m                                 Traceback (most recent call last)",
      "\u001b[0;32m<ipython-input-4-72dd9859b00b>\u001b[0m in \u001b[0;36m<module>\u001b[0;34m()\u001b[0m\n\u001b[1;32m     26\u001b[0m \u001b[0;34m\u001b[0m\u001b[0m\n\u001b[1;32m     27\u001b[0m \u001b[0mx0\u001b[0m\u001b[0;34m,\u001b[0m \u001b[0my0\u001b[0m \u001b[0;34m=\u001b[0m \u001b[0;34m[\u001b[0m\u001b[0;36m0.5\u001b[0m\u001b[0;34m,\u001b[0m\u001b[0;36m0.5\u001b[0m\u001b[0;34m]\u001b[0m\u001b[0;34m\u001b[0m\u001b[0m\n\u001b[0;32m---> 28\u001b[0;31m \u001b[0mpoints\u001b[0m \u001b[0;34m=\u001b[0m \u001b[0mbootstrap_predict_point\u001b[0m\u001b[0;34m(\u001b[0m\u001b[0mx\u001b[0m\u001b[0;34m,\u001b[0m\u001b[0my\u001b[0m\u001b[0;34m,\u001b[0m\u001b[0mz\u001b[0m\u001b[0;34m,\u001b[0m \u001b[0mx0\u001b[0m\u001b[0;34m,\u001b[0m \u001b[0my0\u001b[0m\u001b[0;34m,\u001b[0m \u001b[0mrep\u001b[0m \u001b[0;34m=\u001b[0m \u001b[0;36m200\u001b[0m\u001b[0;34m)\u001b[0m\u001b[0;34m\u001b[0m\u001b[0m\n\u001b[0m",
      "\u001b[0;31mNameError\u001b[0m: name 'x' is not defined"
     ]
    }
   ],
   "source": [
    "\n",
    "def bootstrap_predict_point(x,y,z,x0 = 0.5, y0 = 0.5, rep=50):\n",
    "    points = np.zeros((rep,))\n",
    "    \n",
    "    indx = np.arange(x.size)\n",
    "    for r in range(rep):\n",
    "        rnd1 = np.random.choice(indx, size = x.size)\n",
    "        uniq =  np.unique(rnd1)\n",
    "        \n",
    "        train_x = x[rnd1]\n",
    "        train_y = y[rnd1]\n",
    "        train_z = z[rnd1]\n",
    "\n",
    "        mask = np.zeros_like(x, dtype=bool)\n",
    "        mask[uniq] = True\n",
    "\n",
    "\n",
    "        X_train = tools.get_X_poly2D(train_x,train_y, deg=5)\n",
    "        X_test = tools.get_X_poly2D(np.array([x0]),np.array([y0]), deg=5)\n",
    "        \n",
    "        regr = tools.Regression(X_train, train_z)\n",
    "        z_pred = regr.predict(X_test)\n",
    "        points[r] = z_pred\n",
    "        \n",
    "    return points\n",
    "\n",
    "x0, y0 = [0.5,0.5]\n",
    "points = bootstrap_predict_point(x,y,z, x0, y0, rep = 200)"
   ]
  },
  {
   "cell_type": "code",
   "execution_count": 263,
   "metadata": {
    "collapsed": false
   },
   "outputs": [
    {
     "data": {
      "text/plain": [
       "(0.01, 0.02276824997593559, 0.0086301531175774545, 0.018544909385970563)"
      ]
     },
     "execution_count": 263,
     "metadata": {},
     "output_type": "execute_result"
    },
    {
     "data": {
      "image/png": "[encoded data removed]",
      "text/plain": [
       "<matplotlib.figure.Figure at 0x10fd85630>"
      ]
     },
     "metadata": {},
     "output_type": "display_data"
    }
   ],
   "source": [
    "from franke import FrankeFunction\n",
    "plt.hist(points)\n",
    "z0 = FrankeFunction(x0,y0)\n",
    "plt.axvline(z0)\n",
    "var = np.var(points) #squared\n",
    "err = np.mean((points-z0)**2) #squared\n",
    "bias = err-noise**2-var #squared\n",
    "noise,np.sqrt(err), np.sqrt(var), np.sqrt(bias)"
   ]
  },
  {
   "cell_type": "code",
   "execution_count": null,
   "metadata": {
    "collapsed": true
   },
   "outputs": [],
   "source": [
    "x,y,z,noise = tools.generate_data(N = 220, noise = 1)\n",
    "mse = bootstrap(x,y,z, smplsize=22)\n",
    "print(np.average(mse))\n",
    "\n"
   ]
  },
  {
   "cell_type": "code",
   "execution_count": 13,
   "metadata": {
    "collapsed": false
   },
   "outputs": [
    {
     "name": "stdout",
     "output_type": "stream",
     "text": [
      "[16  4  8  0  4  2]\n",
      "[16  4  0  4  2]\n",
      "[ 0  2  4 16]\n"
     ]
    }
   ],
   "source": [
    "a = np.array([16,4,8,0,4,2])\n",
    "print(a)\n",
    "#a = np.sort(a)\n",
    "a= np.delete(a,2)\n",
    "print(a)\n",
    "print(np.unique(a))\n"
   ]
  },
  {
   "cell_type": "code",
   "execution_count": 136,
   "metadata": {
    "collapsed": false
   },
   "outputs": [
    {
     "name": "stdout",
     "output_type": "stream",
     "text": [
      "[0 1 5]\n",
      "a [16  4  8  0  4  4  4  4  2]\n",
      "r [16  4  4  4]\n",
      "ikke med:  [8 0 4 4 4 2]\n",
      "med [16  4  4]\n"
     ]
    }
   ],
   "source": [
    "\n",
    "a = np.array([16,4,8,0,4,4,4,4,2])\n",
    "indx = np.arange(a.size)\n",
    "rnd1 = np.array([0,1,1,5])# np.random.choice(indx, size = 4)\n",
    "u =  np.unique(rnd1)\n",
    "print(u)\n",
    "r = a[rnd1]\n",
    "print('a',a)\n",
    "print('r',r)\n",
    "\n",
    "mask = np.zeros(a.shape,dtype=bool)\n",
    "mask[u] = True\n",
    "print('ikke med: ',a[~mask])\n",
    "print('med', a[mask])"
   ]
  },
  {
   "cell_type": "code",
   "execution_count": null,
   "metadata": {
    "collapsed": true
   },
   "outputs": [],
   "source": []
  },
  {
   "cell_type": "code",
   "execution_count": null,
   "metadata": {
    "collapsed": true
   },
   "outputs": [],
   "source": []
  },
  {
   "cell_type": "code",
   "execution_count": null,
   "metadata": {
    "collapsed": true
   },
   "outputs": [],
   "source": []
  },
  {
   "cell_type": "code",
   "execution_count": null,
   "metadata": {
    "collapsed": true
   },
   "outputs": [],
   "source": []
  },
  {
   "cell_type": "code",
   "execution_count": null,
   "metadata": {
    "collapsed": true
   },
   "outputs": [],
   "source": []
  },
  {
   "cell_type": "code",
   "execution_count": null,
   "metadata": {
    "collapsed": true
   },
   "outputs": [],
   "source": []
  },
  {
   "cell_type": "code",
   "execution_count": null,
   "metadata": {
    "collapsed": true
   },
   "outputs": [],
   "source": []
  },
  {
   "cell_type": "code",
   "execution_count": null,
   "metadata": {
    "collapsed": true
   },
   "outputs": [],
   "source": []
  },
  {
   "cell_type": "code",
   "execution_count": null,
   "metadata": {
    "collapsed": true
   },
   "outputs": [],
   "source": []
  },
  {
   "cell_type": "code",
   "execution_count": null,
   "metadata": {
    "collapsed": true
   },
   "outputs": [],
   "source": []
  },
  {
   "cell_type": "code",
   "execution_count": null,
   "metadata": {
    "collapsed": true
   },
   "outputs": [],
   "source": []
  }
 ],
 "metadata": {
  "kernelspec": {
   "display_name": "Python 3",
   "language": "python",
   "name": "python3"
  },
  "language_info": {
   "codemirror_mode": {
    "name": "ipython",
    "version": 3
   },
   "file_extension": ".py",
   "mimetype": "text/x-python",
   "name": "python",
   "nbconvert_exporter": "python",
   "pygments_lexer": "ipython3",
   "version": "3.6.0"
  }
 },
 "nbformat": 4,
 "nbformat_minor": 2
}
