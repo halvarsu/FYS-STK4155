{
 "cells": [
  {
   "cell_type": "code",
   "execution_count": 1,
   "metadata": {
    "collapsed": true
   },
   "outputs": [],
   "source": [
    "import numpy as np\n",
    "import matplotlib.pyplot as plt\n",
    "import tools"
   ]
  },
  {
   "cell_type": "code",
   "execution_count": 2,
   "metadata": {
    "collapsed": false
   },
   "outputs": [],
   "source": [
    "%matplotlib inline\n",
    "%load_ext autoreload\n",
    "%autoreload 2"
   ]
  },
  {
   "cell_type": "code",
   "execution_count": 64,
   "metadata": {
    "collapsed": false
   },
   "outputs": [],
   "source": [
    "def varBeta(regr, method, lmbd = 0):\n",
    "    if method == 'ols':\n",
    "        Bvar = np.sqrt(np.diag(regr.betaVar))\n",
    "        return Bvar, regr.sigma_y\n",
    "    if method == 'ridge':\n",
    "        sigma = regr.sigma_y\n",
    "        x = regr.symX\n",
    "        W = np.linalg.inv(x+lmbd*np.eye(x.shape[0]))@x\n",
    "        Bvar = np.sqrt(np.diag(sigma*W@np.linalg.inv(x)@W.T))\n",
    "        \n",
    "        return Bvar, sigma\n",
    "    else:\n",
    "        raise ValueError('method needs to be either \"ols\" or \"ridge\"')\n",
    "    "
   ]
  },
  {
   "cell_type": "code",
   "execution_count": 4,
   "metadata": {
    "collapsed": false
   },
   "outputs": [],
   "source": [
    "def printvar(regr,Bvar,deg=5):\n",
    "    mse = regr.squared_error()\n",
    "    r2 = regr.r2score()\n",
    "    print('MSE: ', mse)\n",
    "    print('R2: ', r2)\n",
    "    print('Conf. int.: ')\n",
    "    for i in range(len(Bvar)):\n",
    "        print('B{:}: {:f} {} {:f}'.format(i,regr.beta[i],u'\\xb1',Bvar[i]))\n",
    "        \n",
    "    df = tools.get_exp_coeffs(beta=regr.beta,deg=deg, print_beta = False)\n",
    "    plt.imshow(df)\n",
    "    plt.colorbar()\n",
    "    plt.xlabel('x order')\n",
    "    plt.ylabel('y order')\n",
    "    \n",
    "    \n",
    "    return mse,r2\n",
    "\n",
    "def printvar_lasso(mse,r2,Bvar,reg, deg = 5):\n",
    "    betas = np.zeros((len(Bvar),))\n",
    "    print('MSE: ', mse)\n",
    "    print('R2: ', r2)\n",
    "    print('Conf. int.: ')\n",
    "    for i in range(len(Bvar)):\n",
    "        beta = reg.coef_[i]\n",
    "        betas[i] = beta\n",
    "        print('B{:}: {:f} {} {:f}'.format(i,beta,u'\\xb1',Bvar[i]))\n",
    "        \n",
    "    df = tools.get_exp_coeffs(beta=betas,deg=deg, print_beta = False)\n",
    "    plt.imshow(df)\n",
    "    plt.colorbar()\n",
    "    plt.xlabel('x order')\n",
    "    plt.ylabel('y order')"
   ]
  },
  {
   "cell_type": "markdown",
   "metadata": {},
   "source": [
    "## Ordinary linear regression\n",
    "Make data"
   ]
  },
  {
   "cell_type": "code",
   "execution_count": 45,
   "metadata": {
    "collapsed": true
   },
   "outputs": [],
   "source": [
    "deg = 5\n",
    "N = 2000\n",
    "lambd = 0.01\n",
    "noise = 0.1\n",
    "x,y,z,noise = tools.generate_data(N=N, noise=noise)\n",
    "\n",
    "X = tools.get_X_poly2D(x,y,deg=deg)"
   ]
  },
  {
   "cell_type": "markdown",
   "metadata": {},
   "source": [
    "Do regression and print MSE, R2 and beta with conf.int."
   ]
  },
  {
   "cell_type": "code",
   "execution_count": 65,
   "metadata": {
    "collapsed": false
   },
   "outputs": [],
   "source": [
    "# X = tools.get_X_poly2D(x,y,deg=deg)\n",
    "\n",
    "def olsBeta(X,z, errors = False):\n",
    "    regr = tools.Regression(X,z,lmbd = 0)\n",
    "\n",
    "    zpred = regr.yhat\n",
    "    Bvar,sigma = varBeta(regr,method='ols')\n",
    "    \n",
    "    if errors == True:\n",
    "        mse,r2 = printvar(regr,Bvar)\n",
    "        \n",
    "    return regr.beta,Bvar,sigma"
   ]
  },
  {
   "cell_type": "code",
   "execution_count": 6,
   "metadata": {
    "collapsed": true
   },
   "outputs": [],
   "source": [
    "## VAR PLoT\n",
    "# plt.figure(figsize=(10,6))\n",
    "# plt.subplot(2,2,1)\n",
    "# plt.imshow(Bvar)\n",
    "# plt.subplot(1,2,2)\n",
    "# plt.errorbar(np.arange(len(Bvar)), regr.beta/regr.beta, yerr = np.sqrt(np.diag(Bvar)), fmt=\".\")\n",
    "# plt.tight_layout()"
   ]
  },
  {
   "cell_type": "code",
   "execution_count": 77,
   "metadata": {
    "collapsed": true
   },
   "outputs": [
    {
     "name": "stdout",
     "output_type": "stream",
     "text": [
      "      c:  0.05\n",
      "    y^1:  0.48\n",
      "    y^2:  0.47\n",
      "    y^3:  2.21\n",
      "    y^4:  1.78\n",
      "    y^5:  2.20\n",
      "   x^1 :  4.87\n",
      "x^1 y^1:  3.69\n",
      "x^1 y^2:  3.74\n",
      "x^1 y^3:  4.87\n",
      "x^1 y^4:  5.06\n",
      "   x^2 :  3.93\n",
      "x^2 y^1:  3.67\n",
      "x^2 y^2:  3.98\n",
      "x^2 y^3:  5.06\n",
      "   x^3 :  2.00\n",
      "x^3 y^1:  1.74\n",
      "x^3 y^2:  1.71\n",
      "   x^4 :  1.70\n",
      "x^4 y^1:  1.75\n",
      "   x^5 :  1.99\n",
      "\\begin{tabular}{lllllll}\n",
      "\\toprule\n",
      "{} &       x^0 &       x^1 &       x^2 &       x^3 &       x^4 &       x^5 \\\\\n",
      "\\midrule\n",
      "y^0 &  0.045241 &  0.477578 &  0.473107 &  2.211665 &  1.776748 &  2.201117 \\\\\n",
      "y^1 &  4.869500 &  3.693231 &  3.737937 &  4.868020 &  5.064018 &           \\\\\n",
      "y^2 &  3.927566 &  3.665026 &  3.977169 &  5.062300 &           &           \\\\\n",
      "y^3 &  1.995442 &  1.744240 &  1.707438 &           &           &           \\\\\n",
      "y^4 &  1.700617 &  1.751833 &           &           &           &           \\\\\n",
      "y^5 &  1.987609 &           &           &           &           &           \\\\\n",
      "\\bottomrule\n",
      "\\end{tabular}\n",
      "\n"
     ]
    }
   ],
   "source": [
    "df = tools.get_exp_coeffs(Bvar)\n",
    "df.columns = ['x^{}'.format(i) for i in df.columns]\n",
    "df.index = ['y^{}'.format(i) for i in df.index]\n",
    "print(df.to_latex(na_rep='', escape = False,  column_format='lllllll'))"
   ]
  },
  {
   "cell_type": "markdown",
   "metadata": {},
   "source": [
    "# Ridge regression"
   ]
  },
  {
   "cell_type": "code",
   "execution_count": 66,
   "metadata": {
    "collapsed": false
   },
   "outputs": [],
   "source": [
    "# X = tools.get_X_poly2D(x,y,deg=deg)\n",
    "def ridgeBeta(X,z,lambd, errors = False):\n",
    "    regr = tools.Regression(X,z,lmbd = lambd)\n",
    "    \n",
    "    zpred = regr.yhat\n",
    "    Bvar,sigma = varBeta(regr,method = 'ridge', lmbd = lambd)\n",
    "\n",
    "    if errors == True:\n",
    "        mse,r2 = printvar(regr, Bvar)\n",
    "    \n",
    "    return regr.beta, Bvar, sigma\n",
    "    "
   ]
  },
  {
   "cell_type": "markdown",
   "metadata": {},
   "source": [
    "# Lasso regression"
   ]
  },
  {
   "cell_type": "code",
   "execution_count": 67,
   "metadata": {
    "collapsed": false
   },
   "outputs": [],
   "source": [
    "from sklearn.linear_model import Lasso\n",
    "\n",
    "def lassoBeta(X,z,lambd, errors = False):\n",
    "    reg = Lasso(alpha = lambd)\n",
    "    reg.fit(X,z)\n",
    "    zpred = reg.predict(X)\n",
    "\n",
    "    mse = tools.squared_error(z,zpred)\n",
    "    r2 = tools.r2score(z,zpred)\n",
    "    sigma = 1/(N-deg-1) * np.sum((z-zpred)**2)\n",
    "    Bvar = np.sqrt(np.diag(np.linalg.inv(X.T@X)*sigma))\n",
    "    if errors == True:\n",
    "        printvar_lasso(mse,r2,Bvar,reg,deg)\n",
    "        \n",
    "    return reg.coef_, Bvar, sigma"
   ]
  },
  {
   "cell_type": "markdown",
   "metadata": {
    "collapsed": true
   },
   "source": [
    "# Plot beta as a function of lambda\n",
    "For b_4"
   ]
  },
  {
   "cell_type": "code",
   "execution_count": 106,
   "metadata": {
    "collapsed": false
   },
   "outputs": [
    {
     "name": "stdout",
     "output_type": "stream",
     "text": [
      "Bnum:  0\n"
     ]
    },
    {
     "name": "stderr",
     "output_type": "stream",
     "text": [
      "/Users/heine2307/anaconda/lib/python3.6/site-packages/ipykernel/__main__.py:5: UserWarning: With alpha=0, this algorithm does not converge well. You are advised to use the LinearRegression estimator\n",
      "/Users/heine2307/anaconda/lib/python3.6/site-packages/sklearn/linear_model/coordinate_descent.py:470: UserWarning: Coordinate descent with alpha=0 may lead to unexpected results and is discouraged.\n",
      "  positive)\n",
      "/Users/heine2307/anaconda/lib/python3.6/site-packages/sklearn/linear_model/coordinate_descent.py:484: ConvergenceWarning: Objective did not converge. You might want to increase the number of iterations. Fitting data with very small alpha may cause precision problems.\n",
      "  ConvergenceWarning)\n"
     ]
    },
    {
     "ename": "ValueError",
     "evalue": "x and y must have same first dimension, but have shapes (50,) and (1,)",
     "output_type": "error",
     "traceback": [
      "\u001b[0;31m---------------------------------------------------------------------------\u001b[0m",
      "\u001b[0;31mValueError\u001b[0m                                Traceback (most recent call last)",
      "\u001b[0;32m<ipython-input-106-c50626f121b4>\u001b[0m in \u001b[0;36m<module>\u001b[0;34m()\u001b[0m\n\u001b[1;32m     49\u001b[0m \u001b[0mplt\u001b[0m\u001b[0;34m.\u001b[0m\u001b[0msubplot\u001b[0m\u001b[0;34m(\u001b[0m\u001b[0;36m121\u001b[0m\u001b[0;34m)\u001b[0m\u001b[0;34m\u001b[0m\u001b[0m\n\u001b[1;32m     50\u001b[0m \u001b[0;32mfor\u001b[0m \u001b[0mi\u001b[0m \u001b[0;32min\u001b[0m \u001b[0mrange\u001b[0m\u001b[0;34m(\u001b[0m\u001b[0mruns\u001b[0m\u001b[0;34m)\u001b[0m\u001b[0;34m:\u001b[0m\u001b[0;34m\u001b[0m\u001b[0m\n\u001b[0;32m---> 51\u001b[0;31m     \u001b[0mplt\u001b[0m\u001b[0;34m.\u001b[0m\u001b[0mplot\u001b[0m\u001b[0;34m(\u001b[0m\u001b[0mx\u001b[0m\u001b[0;34m,\u001b[0m\u001b[0mRbeta\u001b[0m\u001b[0;34m[\u001b[0m\u001b[0mi\u001b[0m\u001b[0;34m]\u001b[0m\u001b[0;34m,\u001b[0m\u001b[0;34m'b-'\u001b[0m\u001b[0;34m)\u001b[0m\u001b[0;34m\u001b[0m\u001b[0m\n\u001b[0m\u001b[1;32m     52\u001b[0m     \u001b[0mplt\u001b[0m\u001b[0;34m.\u001b[0m\u001b[0mfill_between\u001b[0m\u001b[0;34m(\u001b[0m\u001b[0mx\u001b[0m\u001b[0;34m,\u001b[0m\u001b[0mRbeta\u001b[0m\u001b[0;34m[\u001b[0m\u001b[0mi\u001b[0m\u001b[0;34m]\u001b[0m\u001b[0;34m+\u001b[0m\u001b[0mRsig\u001b[0m\u001b[0;34m,\u001b[0m\u001b[0mRbeta\u001b[0m\u001b[0;34m[\u001b[0m\u001b[0mi\u001b[0m\u001b[0;34m]\u001b[0m\u001b[0;34m-\u001b[0m\u001b[0mRsig\u001b[0m\u001b[0;34m,\u001b[0m\u001b[0malpha\u001b[0m\u001b[0;34m=\u001b[0m\u001b[0;36m0.1\u001b[0m\u001b[0;34m,\u001b[0m\u001b[0mcolor\u001b[0m\u001b[0;34m=\u001b[0m\u001b[0;34m'b'\u001b[0m\u001b[0;34m)\u001b[0m\u001b[0;34m\u001b[0m\u001b[0m\n\u001b[1;32m     53\u001b[0m \u001b[0mplt\u001b[0m\u001b[0;34m.\u001b[0m\u001b[0msubplot\u001b[0m\u001b[0;34m(\u001b[0m\u001b[0;36m122\u001b[0m\u001b[0;34m)\u001b[0m\u001b[0;34m\u001b[0m\u001b[0m\n",
      "\u001b[0;32m/Users/heine2307/anaconda/lib/python3.6/site-packages/matplotlib/pyplot.py\u001b[0m in \u001b[0;36mplot\u001b[0;34m(*args, **kwargs)\u001b[0m\n\u001b[1;32m   3316\u001b[0m                       mplDeprecation)\n\u001b[1;32m   3317\u001b[0m     \u001b[0;32mtry\u001b[0m\u001b[0;34m:\u001b[0m\u001b[0;34m\u001b[0m\u001b[0m\n\u001b[0;32m-> 3318\u001b[0;31m         \u001b[0mret\u001b[0m \u001b[0;34m=\u001b[0m \u001b[0max\u001b[0m\u001b[0;34m.\u001b[0m\u001b[0mplot\u001b[0m\u001b[0;34m(\u001b[0m\u001b[0;34m*\u001b[0m\u001b[0margs\u001b[0m\u001b[0;34m,\u001b[0m \u001b[0;34m**\u001b[0m\u001b[0mkwargs\u001b[0m\u001b[0;34m)\u001b[0m\u001b[0;34m\u001b[0m\u001b[0m\n\u001b[0m\u001b[1;32m   3319\u001b[0m     \u001b[0;32mfinally\u001b[0m\u001b[0;34m:\u001b[0m\u001b[0;34m\u001b[0m\u001b[0m\n\u001b[1;32m   3320\u001b[0m         \u001b[0max\u001b[0m\u001b[0;34m.\u001b[0m\u001b[0m_hold\u001b[0m \u001b[0;34m=\u001b[0m \u001b[0mwashold\u001b[0m\u001b[0;34m\u001b[0m\u001b[0m\n",
      "\u001b[0;32m/Users/heine2307/anaconda/lib/python3.6/site-packages/matplotlib/__init__.py\u001b[0m in \u001b[0;36minner\u001b[0;34m(ax, *args, **kwargs)\u001b[0m\n\u001b[1;32m   1890\u001b[0m                     warnings.warn(msg % (label_namer, func.__name__),\n\u001b[1;32m   1891\u001b[0m                                   RuntimeWarning, stacklevel=2)\n\u001b[0;32m-> 1892\u001b[0;31m             \u001b[0;32mreturn\u001b[0m \u001b[0mfunc\u001b[0m\u001b[0;34m(\u001b[0m\u001b[0max\u001b[0m\u001b[0;34m,\u001b[0m \u001b[0;34m*\u001b[0m\u001b[0margs\u001b[0m\u001b[0;34m,\u001b[0m \u001b[0;34m**\u001b[0m\u001b[0mkwargs\u001b[0m\u001b[0;34m)\u001b[0m\u001b[0;34m\u001b[0m\u001b[0m\n\u001b[0m\u001b[1;32m   1893\u001b[0m         \u001b[0mpre_doc\u001b[0m \u001b[0;34m=\u001b[0m \u001b[0minner\u001b[0m\u001b[0;34m.\u001b[0m\u001b[0m__doc__\u001b[0m\u001b[0;34m\u001b[0m\u001b[0m\n\u001b[1;32m   1894\u001b[0m         \u001b[0;32mif\u001b[0m \u001b[0mpre_doc\u001b[0m \u001b[0;32mis\u001b[0m \u001b[0;32mNone\u001b[0m\u001b[0;34m:\u001b[0m\u001b[0;34m\u001b[0m\u001b[0m\n",
      "\u001b[0;32m/Users/heine2307/anaconda/lib/python3.6/site-packages/matplotlib/axes/_axes.py\u001b[0m in \u001b[0;36mplot\u001b[0;34m(self, *args, **kwargs)\u001b[0m\n\u001b[1;32m   1404\u001b[0m         \u001b[0mkwargs\u001b[0m \u001b[0;34m=\u001b[0m \u001b[0mcbook\u001b[0m\u001b[0;34m.\u001b[0m\u001b[0mnormalize_kwargs\u001b[0m\u001b[0;34m(\u001b[0m\u001b[0mkwargs\u001b[0m\u001b[0;34m,\u001b[0m \u001b[0m_alias_map\u001b[0m\u001b[0;34m)\u001b[0m\u001b[0;34m\u001b[0m\u001b[0m\n\u001b[1;32m   1405\u001b[0m \u001b[0;34m\u001b[0m\u001b[0m\n\u001b[0;32m-> 1406\u001b[0;31m         \u001b[0;32mfor\u001b[0m \u001b[0mline\u001b[0m \u001b[0;32min\u001b[0m \u001b[0mself\u001b[0m\u001b[0;34m.\u001b[0m\u001b[0m_get_lines\u001b[0m\u001b[0;34m(\u001b[0m\u001b[0;34m*\u001b[0m\u001b[0margs\u001b[0m\u001b[0;34m,\u001b[0m \u001b[0;34m**\u001b[0m\u001b[0mkwargs\u001b[0m\u001b[0;34m)\u001b[0m\u001b[0;34m:\u001b[0m\u001b[0;34m\u001b[0m\u001b[0m\n\u001b[0m\u001b[1;32m   1407\u001b[0m             \u001b[0mself\u001b[0m\u001b[0;34m.\u001b[0m\u001b[0madd_line\u001b[0m\u001b[0;34m(\u001b[0m\u001b[0mline\u001b[0m\u001b[0;34m)\u001b[0m\u001b[0;34m\u001b[0m\u001b[0m\n\u001b[1;32m   1408\u001b[0m             \u001b[0mlines\u001b[0m\u001b[0;34m.\u001b[0m\u001b[0mappend\u001b[0m\u001b[0;34m(\u001b[0m\u001b[0mline\u001b[0m\u001b[0;34m)\u001b[0m\u001b[0;34m\u001b[0m\u001b[0m\n",
      "\u001b[0;32m/Users/heine2307/anaconda/lib/python3.6/site-packages/matplotlib/axes/_base.py\u001b[0m in \u001b[0;36m_grab_next_args\u001b[0;34m(self, *args, **kwargs)\u001b[0m\n\u001b[1;32m    405\u001b[0m                 \u001b[0;32mreturn\u001b[0m\u001b[0;34m\u001b[0m\u001b[0m\n\u001b[1;32m    406\u001b[0m             \u001b[0;32mif\u001b[0m \u001b[0mlen\u001b[0m\u001b[0;34m(\u001b[0m\u001b[0mremaining\u001b[0m\u001b[0;34m)\u001b[0m \u001b[0;34m<=\u001b[0m \u001b[0;36m3\u001b[0m\u001b[0;34m:\u001b[0m\u001b[0;34m\u001b[0m\u001b[0m\n\u001b[0;32m--> 407\u001b[0;31m                 \u001b[0;32mfor\u001b[0m \u001b[0mseg\u001b[0m \u001b[0;32min\u001b[0m \u001b[0mself\u001b[0m\u001b[0;34m.\u001b[0m\u001b[0m_plot_args\u001b[0m\u001b[0;34m(\u001b[0m\u001b[0mremaining\u001b[0m\u001b[0;34m,\u001b[0m \u001b[0mkwargs\u001b[0m\u001b[0;34m)\u001b[0m\u001b[0;34m:\u001b[0m\u001b[0;34m\u001b[0m\u001b[0m\n\u001b[0m\u001b[1;32m    408\u001b[0m                     \u001b[0;32myield\u001b[0m \u001b[0mseg\u001b[0m\u001b[0;34m\u001b[0m\u001b[0m\n\u001b[1;32m    409\u001b[0m                 \u001b[0;32mreturn\u001b[0m\u001b[0;34m\u001b[0m\u001b[0m\n",
      "\u001b[0;32m/Users/heine2307/anaconda/lib/python3.6/site-packages/matplotlib/axes/_base.py\u001b[0m in \u001b[0;36m_plot_args\u001b[0;34m(self, tup, kwargs)\u001b[0m\n\u001b[1;32m    383\u001b[0m             \u001b[0mx\u001b[0m\u001b[0;34m,\u001b[0m \u001b[0my\u001b[0m \u001b[0;34m=\u001b[0m \u001b[0mindex_of\u001b[0m\u001b[0;34m(\u001b[0m\u001b[0mtup\u001b[0m\u001b[0;34m[\u001b[0m\u001b[0;34m-\u001b[0m\u001b[0;36m1\u001b[0m\u001b[0;34m]\u001b[0m\u001b[0;34m)\u001b[0m\u001b[0;34m\u001b[0m\u001b[0m\n\u001b[1;32m    384\u001b[0m \u001b[0;34m\u001b[0m\u001b[0m\n\u001b[0;32m--> 385\u001b[0;31m         \u001b[0mx\u001b[0m\u001b[0;34m,\u001b[0m \u001b[0my\u001b[0m \u001b[0;34m=\u001b[0m \u001b[0mself\u001b[0m\u001b[0;34m.\u001b[0m\u001b[0m_xy_from_xy\u001b[0m\u001b[0;34m(\u001b[0m\u001b[0mx\u001b[0m\u001b[0;34m,\u001b[0m \u001b[0my\u001b[0m\u001b[0;34m)\u001b[0m\u001b[0;34m\u001b[0m\u001b[0m\n\u001b[0m\u001b[1;32m    386\u001b[0m \u001b[0;34m\u001b[0m\u001b[0m\n\u001b[1;32m    387\u001b[0m         \u001b[0;32mif\u001b[0m \u001b[0mself\u001b[0m\u001b[0;34m.\u001b[0m\u001b[0mcommand\u001b[0m \u001b[0;34m==\u001b[0m \u001b[0;34m'plot'\u001b[0m\u001b[0;34m:\u001b[0m\u001b[0;34m\u001b[0m\u001b[0m\n",
      "\u001b[0;32m/Users/heine2307/anaconda/lib/python3.6/site-packages/matplotlib/axes/_base.py\u001b[0m in \u001b[0;36m_xy_from_xy\u001b[0;34m(self, x, y)\u001b[0m\n\u001b[1;32m    242\u001b[0m         \u001b[0;32mif\u001b[0m \u001b[0mx\u001b[0m\u001b[0;34m.\u001b[0m\u001b[0mshape\u001b[0m\u001b[0;34m[\u001b[0m\u001b[0;36m0\u001b[0m\u001b[0;34m]\u001b[0m \u001b[0;34m!=\u001b[0m \u001b[0my\u001b[0m\u001b[0;34m.\u001b[0m\u001b[0mshape\u001b[0m\u001b[0;34m[\u001b[0m\u001b[0;36m0\u001b[0m\u001b[0;34m]\u001b[0m\u001b[0;34m:\u001b[0m\u001b[0;34m\u001b[0m\u001b[0m\n\u001b[1;32m    243\u001b[0m             raise ValueError(\"x and y must have same first dimension, but \"\n\u001b[0;32m--> 244\u001b[0;31m                              \"have shapes {} and {}\".format(x.shape, y.shape))\n\u001b[0m\u001b[1;32m    245\u001b[0m         \u001b[0;32mif\u001b[0m \u001b[0mx\u001b[0m\u001b[0;34m.\u001b[0m\u001b[0mndim\u001b[0m \u001b[0;34m>\u001b[0m \u001b[0;36m2\u001b[0m \u001b[0;32mor\u001b[0m \u001b[0my\u001b[0m\u001b[0;34m.\u001b[0m\u001b[0mndim\u001b[0m \u001b[0;34m>\u001b[0m \u001b[0;36m2\u001b[0m\u001b[0;34m:\u001b[0m\u001b[0;34m\u001b[0m\u001b[0m\n\u001b[1;32m    246\u001b[0m             raise ValueError(\"x and y can be no greater than 2-D, but have \"\n",
      "\u001b[0;31mValueError\u001b[0m: x and y must have same first dimension, but have shapes (50,) and (1,)"
     ]
    },
    {
     "data": {
      "image/png": "[encoded data removed]",
      "text/plain": [
       "<matplotlib.figure.Figure at 0x10dedfc18>"
      ]
     },
     "metadata": {},
     "output_type": "display_data"
    }
   ],
   "source": [
    "runs = 50\n",
    "bnum = 10\n",
    "\n",
    "# OLS beta is not dependent of lambda, so every point is the same\n",
    "Sb,Sv,Ss = olsBeta(X,z)\n",
    "Bnum = np.argsort(np.abs(Sb))\n",
    "bnum = Bnum[0]\n",
    "print('Bnum: ',bnum)\n",
    "Sbeta = np.ones(runs)*Sb[bnum]\n",
    "Svar = np.ones(runs)*Sv[bnum]\n",
    "Ssig = np.ones(runs)*Ss\n",
    "\n",
    "Rbeta = np.zeros(runs)\n",
    "Rvar = np.zeros(runs)\n",
    "Rsig = np.zeros(runs)\n",
    "\n",
    "Rlist = np.empty\n",
    "\n",
    "Lbeta = np.zeros(runs)\n",
    "Lvar = np.zeros(runs)\n",
    "Lsig = np.zeros(runs)\n",
    "\n",
    "Llist = np.empty\n",
    "\n",
    "#x = 100*np.log10(np.arange(runs))\n",
    "# x = np.logspace(-3, 2, runs)\n",
    "x = np.linspace(0, 100, runs)\n",
    "\n",
    "for i, lambd in enumerate(x):\n",
    "    #print(lambd)\n",
    "    Rb,Rv,Rs = ridgeBeta(X,z,lambd=lambd)\n",
    "    #np.append()\n",
    "    Rbeta[i] = Rb[bnum]\n",
    "    Rvar[i] = Rv[bnum]\n",
    "    Rsig[i] = Rs\n",
    "    \n",
    "    Lb,Lv,Ls = lassoBeta(X,z,lambd=lambd)\n",
    "    Lbeta[i] = Lb[bnum]\n",
    "    Lvar[i] = Lv[bnum]\n",
    "    Lsig[i] = Ls\n",
    "\n",
    "# #OLS\n",
    "# plt.plot(x,Sbeta, 'r-')\n",
    "# plt.fill_between(x,Sbeta+Ssig,Sbeta-Ssig,alpha=0.1,color='r')\n",
    "# #Ridge\n",
    "# plt.plot(x,Rbeta, 'b-')\n",
    "# plt.fill_between(x,Rbeta+Rsig,Rbeta-Rsig,alpha=0.1,color='b')\n",
    "# #Lasso\n",
    "# plt.plot(x,Lbeta, 'g-')\n",
    "# plt.fill_between(x,Lbeta+Lsig,Lbeta-Lsig,alpha=0.1,color='g')\n",
    "\n",
    "\n",
    "# plt.figure(figsize=[20,10])\n",
    "# plt.subplot(121)\n",
    "# for i in range(runs):\n",
    "#     plt.plot(x,Rbeta[i],'b-')\n",
    "#     plt.fill_between(x,Rbeta[i]+Rsig,Rbeta[i]-Rsig,alpha=0.1,color='b')\n",
    "# plt.subplot(122)\n",
    "# for i in range(runs):\n",
    "#     plt.plot(x,Lbeta[i],'g-')\n",
    "#     plt.fill_between(x,Lbeta[i]+Lsig,Lbeta[i]-Lsig,alpha=0.1,color='g')\n",
    "\n",
    "plt.show()\n"
   ]
  },
  {
   "cell_type": "code",
   "execution_count": null,
   "metadata": {
    "collapsed": false
   },
   "outputs": [],
   "source": []
  },
  {
   "cell_type": "code",
   "execution_count": null,
   "metadata": {
    "collapsed": true
   },
   "outputs": [],
   "source": []
  },
  {
   "cell_type": "code",
   "execution_count": null,
   "metadata": {
    "collapsed": true
   },
   "outputs": [],
   "source": []
  }
 ],
 "metadata": {
  "kernelspec": {
   "display_name": "Python 3",
   "language": "python",
   "name": "python3"
  },
  "language_info": {
   "codemirror_mode": {
    "name": "ipython",
    "version": 3
   },
   "file_extension": ".py",
   "mimetype": "text/x-python",
   "name": "python",
   "nbconvert_exporter": "python",
   "pygments_lexer": "ipython3",
   "version": "3.6.0"
  }
 },
 "nbformat": 4,
 "nbformat_minor": 2
}
