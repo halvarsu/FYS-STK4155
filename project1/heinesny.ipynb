{
 "cells": [
  {
   "cell_type": "code",
   "execution_count": 1,
   "metadata": {
    "collapsed": false
   },
   "outputs": [],
   "source": [
    "import numpy as np\n",
    "import matplotlib.pyplot as plt\n",
    "import tools"
   ]
  },
  {
   "cell_type": "code",
   "execution_count": 2,
   "metadata": {
    "collapsed": false
   },
   "outputs": [],
   "source": [
    "%matplotlib inline\n",
    "%load_ext autoreload\n",
    "%autoreload 2"
   ]
  },
  {
   "cell_type": "markdown",
   "metadata": {},
   "source": [
    "# Functions used:"
   ]
  },
  {
   "cell_type": "code",
   "execution_count": 67,
   "metadata": {
    "collapsed": false
   },
   "outputs": [],
   "source": [
    "def varBeta(regr, method, lmbd = 0):\n",
    "    if method == 'ols':\n",
    "        Bvar = np.sqrt(np.diag(regr.betaVar))\n",
    "        return Bvar, regr.sigma_y\n",
    "    if method == 'ridge':\n",
    "        sigma = regr.sigma_y\n",
    "        x = regr.symX\n",
    "        W = np.linalg.inv(x+lmbd*np.eye(x.shape[0]))@x\n",
    "        Bvar = np.sqrt(np.diag(sigma*W@np.linalg.inv(x)@W.T))\n",
    "        \n",
    "        return Bvar, sigma\n",
    "    else:\n",
    "        raise ValueError('method needs to be either \"ols\" or \"ridge\"')\n",
    "    \n",
    "def printvar(regr,Bvar,deg=5):\n",
    "    mse = regr.squared_error()\n",
    "    r2 = regr.r2score()\n",
    "    print('MSE: ', mse)\n",
    "    print('R2: ', r2)\n",
    "    print('----- Conf. int.: -----')\n",
    "    for i in range(len(Bvar)):\n",
    "        print('B{:}: {:f} {} {:f}'.format(i,regr.beta[i],u'\\xb1',Bvar[i]))\n",
    "        \n",
    "    df = tools.get_exp_coeffs(beta=regr.beta,deg=deg, print_beta = False)\n",
    "    plt.imshow(df)\n",
    "    plt.colorbar()\n",
    "    plt.xlabel('x order')\n",
    "    plt.ylabel('y order')\n",
    "    \n",
    "    \n",
    "    return mse,r2"
   ]
  },
  {
   "cell_type": "code",
   "execution_count": 33,
   "metadata": {
    "collapsed": false
   },
   "outputs": [],
   "source": [
    "def printvar_lasso(mse,r2,Bvar,reg, deg = 5):\n",
    "    betas = np.zeros((len(Bvar),))\n",
    "    print('MSE: ', mse)\n",
    "    print('R2: ', r2)\n",
    "    print('----- Conf. int.: -----')\n",
    "    for i in range(len(Bvar)):\n",
    "        beta = reg.coef_[i]\n",
    "        betas[i] = beta\n",
    "        print('B{:}: {:f} {} {:f}'.format(i,beta,u'\\xb1',Bvar[i]))\n",
    "        \n",
    "    df = tools.get_exp_coeffs(beta=betas,deg=deg, print_beta = False)\n",
    "    plt.imshow(df)\n",
    "    plt.colorbar()\n",
    "    plt.xlabel('x order')\n",
    "    plt.ylabel('y order')"
   ]
  },
  {
   "cell_type": "code",
   "execution_count": 77,
   "metadata": {
    "collapsed": true
   },
   "outputs": [],
   "source": [
    "def print_scores_with_resmpl(X,z, lmbd=0, method = 'ols', smplsize=1000):\n",
    "    if method.lower() not in ['ols','ridge','lasso']:\n",
    "        raise ValueError('Invalid method flag, {}'.format(method))\n",
    "    if method.lower() == 'ols' and lmbd != 0:\n",
    "        raise ValueError('lmbd != 0 does not make sense for OLS.')\n",
    "    if method.lower() == 'lasso':\n",
    "        from sklearn.linear_model import Lasso \n",
    "\n",
    "    ## Without resampling\n",
    "    if method.lower() == 'ols':\n",
    "        regr = tools.Regression(X,z)\n",
    "        zpred = regr.yhat\n",
    "        mse = regr.squared_error()\n",
    "        r2 = regr.r2score()\n",
    "        out = tools.k_fold_val(x,y,z, method = 'ols')\n",
    "        b_MSE_out, b_R2_out = tools.bootstrap(x,y,z, method = 'ols', r2_score=True, smplsize=smplsize)\n",
    "    if method.lower() == 'ridge':\n",
    "        regr = tools.Regression(X,z,lmbd = lmbd)\n",
    "        zpred = regr.yhat\n",
    "        mse = regr.squared_error()\n",
    "        r2 = regr.r2score()\n",
    "        out = tools.k_fold_val(x,y,z, method = 'ridge', lmbd=lmbd)\n",
    "        b_MSE_out, b_R2_out = tools.bootstrap(x,y,z, lmbd=lmbd, method = 'ridge', r2_score=True, smplsize=smplsize)\n",
    "    if method.lower() == 'lasso':\n",
    "        reg = Lasso(alpha = lmbd)\n",
    "        reg.fit(X,z)\n",
    "        zpred = reg.predict(X)\n",
    "        mse = tools.squared_error(z,zpred)\n",
    "        r2 = tools.r2score(z,zpred)\n",
    "        out = tools.k_fold_val(x,y,z, method = 'lasso', lmbd=lmbd)\n",
    "        b_MSE_out, b_R2_out = tools.bootstrap(x,y,z, lmbd=lmbd, method = 'lasso', r2_score=True, smplsize=smplsize)\n",
    "\n",
    "    print('--------- Without resampling ---------')\n",
    "    print('MSE: ', mse)\n",
    "    print('R2: ', r2)\n",
    "\n",
    "    ## With k-fold\n",
    "    k_R2_in = out[0]\n",
    "    k_MSE_in = out[1]\n",
    "    k_R2_out = out[2]\n",
    "    k_MSE_out = out[3]\n",
    "\n",
    "    print('------- With k-fold validation -------')\n",
    "    print('MSE (in): ', k_MSE_in)\n",
    "    print('R2 (in): ', k_R2_in)\n",
    "    print('MSE (out): ', k_MSE_out)\n",
    "    print('R2 (out): ', k_R2_out)\n",
    "\n",
    "    ## With bootstrap\n",
    "    print('----------- With bootstrap -----------')\n",
    "    print('MSE (out): ', np.average(b_MSE_out))\n",
    "    print('R2 (out): ', np.average(b_R2_out))"
   ]
  },
  {
   "cell_type": "markdown",
   "metadata": {},
   "source": [
    "# Regression analysis\n",
    "Performed on the data set is the franke function for x,y$\\in$[0,1], defined below with additional variables used in the regression analysis"
   ]
  },
  {
   "cell_type": "code",
   "execution_count": 27,
   "metadata": {
    "collapsed": true
   },
   "outputs": [],
   "source": [
    "deg = 5 # degree of polynomial fit\n",
    "N = 2000 # Data points\n",
    "lambd = 0.01\n",
    "noise = 0.1\n",
    "\n",
    "x,y,z,noise = tools.generate_data(N=N, noise=noise)\n",
    "\n",
    "X = tools.get_X_poly2D(x,y,deg=deg)"
   ]
  },
  {
   "cell_type": "markdown",
   "metadata": {},
   "source": [
    "## Ordinary linear regression\n"
   ]
  },
  {
   "cell_type": "markdown",
   "metadata": {},
   "source": [
    "Do regression and print MSE, R2 and beta with conf.int."
   ]
  },
  {
   "cell_type": "code",
   "execution_count": 6,
   "metadata": {
    "collapsed": false
   },
   "outputs": [],
   "source": [
    "# X = tools.get_X_poly2D(x,y,deg=deg)\n",
    "\n",
    "def olsBeta(X,z, errors = False):\n",
    "    regr = tools.Regression(X,z,lmbd = 0)\n",
    "\n",
    "    zpred = regr.yhat\n",
    "    Bvar,sigma = varBeta(regr,method='ols')\n",
    "    \n",
    "    if errors == True:\n",
    "        mse,r2 = printvar(regr,Bvar)\n",
    "        \n",
    "    return regr.beta,Bvar,sigma"
   ]
  },
  {
   "cell_type": "markdown",
   "metadata": {},
   "source": [
    "### - Mean squared error and R2-score\n",
    "MSE and R2 of ordinary linear regression, with and without k-fold and bootstrap"
   ]
  },
  {
   "cell_type": "code",
   "execution_count": 78,
   "metadata": {
    "collapsed": false
   },
   "outputs": [
    {
     "name": "stdout",
     "output_type": "stream",
     "text": [
      "--------- Without resampling ---------\n",
      "MSE:  0.011630949401532312\n",
      "R2:  0.8718329698063473\n",
      "------- With k-fold validation -------\n",
      "MSE (in):  0.011556890046793604\n",
      "R2 (in):  0.8723115488730819\n",
      "MSE (out):  0.011864149585266649\n",
      "R2 (out):  0.8689125844322063\n",
      "----------- With bootstrap -----------\n",
      "MSE (out):  0.012197386124725764\n",
      "R2 (out):  0.8469821249932149\n"
     ]
    }
   ],
   "source": [
    "print_scores_with_resmpl(X,z, method = 'ols', smplsize=1000)"
   ]
  },
  {
   "cell_type": "code",
   "execution_count": 8,
   "metadata": {
    "collapsed": true
   },
   "outputs": [],
   "source": [
    "## VAR PLoT\n",
    "# plt.figure(figsize=(10,6))\n",
    "# plt.subplot(2,2,1)\n",
    "# plt.imshow(Bvar)\n",
    "# plt.subplot(1,2,2)\n",
    "# plt.errorbar(np.arange(len(Bvar)), regr.beta/regr.beta, yerr = np.sqrt(np.diag(Bvar)), fmt=\".\")\n",
    "# plt.tight_layout()"
   ]
  },
  {
   "cell_type": "code",
   "execution_count": 9,
   "metadata": {
    "collapsed": true
   },
   "outputs": [],
   "source": [
    "# df = tools.get_exp_coeffs(Bvar)\n",
    "# df.columns = ['x^{}'.format(i) for i in df.columns]\n",
    "# df.index = ['y^{}'.format(i) for i in df.index]\n",
    "# print(df.to_latex(na_rep='', escape = False,  column_format='lllllll'))"
   ]
  },
  {
   "cell_type": "markdown",
   "metadata": {},
   "source": [
    "##### Beta coefficients and their confidence intervals"
   ]
  },
  {
   "cell_type": "code",
   "execution_count": 66,
   "metadata": {
    "collapsed": false
   },
   "outputs": [
    {
     "name": "stdout",
     "output_type": "stream",
     "text": [
      "MSE:  0.011630949401532312\n",
      "R2:  0.8718329698063473\n",
      "----- Conf. int.: -----\n",
      "B0: 0.384642 ± 0.044824\n",
      "B1: 4.071236 ± 0.474005\n",
      "B2: 7.389450 ± 0.475029\n",
      "B3: -10.241731 ± 2.206240\n",
      "B4: -14.425860 ± 1.798619\n",
      "B5: -31.380557 ± 2.214729\n",
      "B6: -5.314420 ± 4.901262\n",
      "B7: 22.749281 ± 3.703494\n",
      "B8: 38.679329 ± 3.791105\n",
      "B9: 42.691431 ± 4.926614\n",
      "B10: 27.809862 ± 5.146926\n",
      "B11: -33.809008 ± 3.966875\n",
      "B12: -6.617896 ± 3.721571\n",
      "B13: -44.822619 ± 3.950117\n",
      "B14: -19.392499 ± 5.128895\n",
      "B15: -16.632938 ± 2.049502\n",
      "B16: 19.215431 ± 1.796074\n",
      "B17: -5.447688 ± 1.722855\n",
      "B18: 9.236784 ± 1.761850\n",
      "B19: 15.569334 ± 1.734900\n",
      "B20: 0.305264 ± 2.004291\n"
     ]
    },
    {
     "data": {
      "text/plain": [
       "(array([  0.38464197,   4.07123648,   7.38944971, -10.24173098,\n",
       "        -14.42585968, -31.38055736,  -5.31441973,  22.74928147,\n",
       "         38.67932939,  42.69143119,  27.80986229, -33.80900752,\n",
       "         -6.61789635, -44.82261854, -19.39249876, -16.63293828,\n",
       "         19.21543108,  -5.44768801,   9.23678406,  15.56933416,\n",
       "          0.30526417]),\n",
       " array([0.0448241 , 0.47400489, 0.47502928, 2.20623971, 1.79861875,\n",
       "        2.21472862, 4.90126185, 3.70349441, 3.79110488, 4.92661371,\n",
       "        5.14692568, 3.96687507, 3.7215713 , 3.95011661, 5.12889517,\n",
       "        2.04950239, 1.7960738 , 1.72285511, 1.76184952, 1.73490021,\n",
       "        2.00429103]),\n",
       " 0.011760312842803147)"
      ]
     },
     "execution_count": 66,
     "metadata": {},
     "output_type": "execute_result"
    },
    {
     "data": {
      "image/png": "[encoded data removed]",
      "text/plain": [
       "<Figure size 432x288 with 2 Axes>"
      ]
     },
     "metadata": {},
     "output_type": "display_data"
    }
   ],
   "source": [
    "olsBeta(X,z, errors=True)"
   ]
  },
  {
   "cell_type": "markdown",
   "metadata": {},
   "source": [
    "# Ridge regression"
   ]
  },
  {
   "cell_type": "code",
   "execution_count": 65,
   "metadata": {
    "collapsed": false
   },
   "outputs": [],
   "source": [
    "# X = tools.get_X_poly2D(x,y,deg=deg)\n",
    "def ridgeBeta(X,z,lambd, errors = False):\n",
    "    regr = tools.Regression(X,z,lmbd = lambd)\n",
    "    \n",
    "    zpred = regr.yhat\n",
    "    Bvar,sigma = varBeta(regr,method = 'ridge', lmbd = lambd)\n",
    "\n",
    "    if errors == True:\n",
    "        mse,r2 = printvar(regr, Bvar)\n",
    "    \n",
    "    return regr.beta, Bvar, sigma\n",
    "    "
   ]
  },
  {
   "cell_type": "markdown",
   "metadata": {},
   "source": [
    "### - Mean squared error and R2-score\n",
    "MSE and R2 of ridge regression, with and without k-fold and bootstrap"
   ]
  },
  {
   "cell_type": "code",
   "execution_count": 72,
   "metadata": {
    "collapsed": false
   },
   "outputs": [
    {
     "name": "stdout",
     "output_type": "stream",
     "text": [
      "------- Without resampling -------\n",
      "MSE:  0.013743220966329881\n",
      "R2:  0.8485568326591134\n",
      "------- With k-fold validation -------\n",
      "MSE (in):  0.014372594300745535\n",
      "R2 (in):  0.8413923369184237\n",
      "MSE (out):  0.014671108767649713\n",
      "R2 (out):  0.8381649261259175\n",
      "------- With bootstrap -------\n",
      "MSE (out):  0.014798009914319501\n",
      "R2 (out):  0.7992801541928468\n"
     ]
    }
   ],
   "source": [
    "print_scores_with_resmpl(X,z, lmbd=lambd, method = 'ridge', smplsize=1000)"
   ]
  },
  {
   "cell_type": "markdown",
   "metadata": {},
   "source": [
    "##### Beta coefficients and their confidence intervals"
   ]
  },
  {
   "cell_type": "code",
   "execution_count": 35,
   "metadata": {
    "collapsed": false
   },
   "outputs": [
    {
     "name": "stdout",
     "output_type": "stream",
     "text": [
      "MSE:  0.013743220966329881\n",
      "R2:  0.8485568326591134\n",
      "----- Conf. int.: -----\n",
      "B0: 0.853391 ± 0.024193\n",
      "B1: 1.578100 ± 0.143930\n",
      "B2: 1.445800 ± 0.142215\n",
      "B3: -6.696984 ± 0.337876\n",
      "B4: 0.967441 ± 0.291652\n",
      "B5: -7.752727 ± 0.337079\n",
      "B6: 2.660414 ± 0.253086\n",
      "B7: -1.595517 ± 0.269969\n",
      "B8: 2.006817 ± 0.272980\n",
      "B9: 5.037907 ± 0.251559\n",
      "B10: 4.826920 ± 0.258973\n",
      "B11: -1.145942 ± 0.267007\n",
      "B12: 1.373164 ± 0.300644\n",
      "B13: 0.584781 ± 0.273570\n",
      "B14: 4.840275 ± 0.260739\n",
      "B15: -2.885955 ± 0.252077\n",
      "B16: 1.372775 ± 0.292659\n",
      "B17: -1.880863 ± 0.374362\n",
      "B18: 0.816244 ± 0.378541\n",
      "B19: -1.930280 ± 0.290802\n",
      "B20: -4.587824 ± 0.248870\n"
     ]
    },
    {
     "data": {
      "text/plain": [
       "(array([ 0.85339125,  1.57809994,  1.44580004, -6.69698387,  0.96744061,\n",
       "        -7.75272666,  2.66041382, -1.59551677,  2.00681699,  5.03790748,\n",
       "         4.82692008, -1.14594206,  1.37316444,  0.58478055,  4.84027545,\n",
       "        -2.88595462,  1.37277455, -1.88086328,  0.81624437, -1.93027965,\n",
       "        -4.58782367]),\n",
       " array([0.02419269, 0.14393019, 0.14221463, 0.33787643, 0.29165184,\n",
       "        0.33707934, 0.25308624, 0.26996855, 0.2729799 , 0.25155897,\n",
       "        0.25897251, 0.26700718, 0.30064389, 0.27357025, 0.2607392 ,\n",
       "        0.25207693, 0.29265947, 0.37436235, 0.37854077, 0.29080203,\n",
       "        0.24886953]),\n",
       " 0.013896077822376018)"
      ]
     },
     "execution_count": 35,
     "metadata": {},
     "output_type": "execute_result"
    },
    {
     "data": {
      "image/png": "[encoded data removed]",
      "text/plain": [
       "<Figure size 432x288 with 2 Axes>"
      ]
     },
     "metadata": {},
     "output_type": "display_data"
    }
   ],
   "source": [
    "ridgeBeta(X,z,lambd= lambd, errors=True)"
   ]
  },
  {
   "cell_type": "markdown",
   "metadata": {},
   "source": [
    "# Lasso regression"
   ]
  },
  {
   "cell_type": "code",
   "execution_count": 12,
   "metadata": {
    "collapsed": false
   },
   "outputs": [],
   "source": [
    "from sklearn.linear_model import Lasso\n",
    "\n",
    "def lassoBeta(X,z,lambd, errors = False):\n",
    "    reg = Lasso(alpha = lambd)\n",
    "    reg.fit(X,z)\n",
    "    zpred = reg.predict(X)\n",
    "\n",
    "    mse = tools.squared_error(z,zpred)\n",
    "    r2 = tools.r2score(z,zpred)\n",
    "    sigma = 1/(N-deg-1) * np.sum((z-zpred)**2)\n",
    "    Bvar = np.sqrt(np.diag(np.linalg.inv(X.T@X)*sigma))\n",
    "    if errors == True:\n",
    "        printvar_lasso(mse,r2,Bvar,reg,deg)\n",
    "        \n",
    "    return reg.coef_, Bvar, sigma"
   ]
  },
  {
   "cell_type": "markdown",
   "metadata": {},
   "source": [
    "### - Mean squared error and R2-score\n",
    "MSE and R2 of lasso regression, with and without k-fold and bootstrap"
   ]
  },
  {
   "cell_type": "code",
   "execution_count": 30,
   "metadata": {
    "collapsed": false
   },
   "outputs": [
    {
     "name": "stdout",
     "output_type": "stream",
     "text": [
      "------- Without resampling -------\n",
      "MSE:  0.03471208582373778\n",
      "R2:  0.617490817106509\n",
      "------- With k-fold validation -------\n",
      "MSE (in):  0.03788231310846023\n",
      "R2 (in):  0.5821742558570622\n",
      "MSE (out):  0.038146076047751304\n",
      "R2 (out):  0.5803478930423245\n",
      "------- With bootstrap -------\n",
      "MSE (out):  0.03844988496002034\n",
      "R2 (out):  -0.28201230375797925\n"
     ]
    }
   ],
   "source": [
    "print_scores_with_resmpl(X,z, lmbd=lambd, method = 'lasso', smplsize=1000)"
   ]
  },
  {
   "cell_type": "markdown",
   "metadata": {},
   "source": [
    "##### Beta coefficients and their confidence intervals\n",
    "Confidence intervals not correct, using formula for OLS "
   ]
  },
  {
   "cell_type": "code",
   "execution_count": 43,
   "metadata": {
    "collapsed": false
   },
   "outputs": [
    {
     "name": "stdout",
     "output_type": "stream",
     "text": [
      "MSE:  0.03471208582373778\n",
      "R2:  0.617490817106509\n",
      "----- Conf. int.: -----\n",
      "B0: 0.000000 ± 0.077125\n",
      "B1: -0.143627 ± 0.815579\n",
      "B2: -0.384565 ± 0.817342\n",
      "B3: -0.402616 ± 3.796086\n",
      "B4: -0.000000 ± 3.094728\n",
      "B5: -0.000000 ± 3.810692\n",
      "B6: -0.000000 ± 8.433178\n",
      "B7: -0.000000 ± 6.372283\n",
      "B8: -0.000000 ± 6.523026\n",
      "B9: -0.000000 ± 8.476798\n",
      "B10: -0.000000 ± 8.855870\n",
      "B11: -0.000000 ± 6.825459\n",
      "B12: -0.000000 ± 6.403386\n",
      "B13: -0.000000 ± 6.796624\n",
      "B14: -0.000000 ± 8.824847\n",
      "B15: -0.000000 ± 3.526402\n",
      "B16: -0.000000 ± 3.090349\n",
      "B17: -0.000000 ± 2.964368\n",
      "B18: -0.000000 ± 3.031462\n",
      "B19: -0.000000 ± 2.985093\n",
      "B20: -0.000000 ± 3.448610\n"
     ]
    },
    {
     "data": {
      "text/plain": [
       "(array([ 0.        , -0.14362697, -0.38456465, -0.40261603, -0.        ,\n",
       "        -0.        , -0.        , -0.        , -0.        , -0.        ,\n",
       "        -0.        , -0.        , -0.        , -0.        , -0.        ,\n",
       "        -0.        , -0.        , -0.        , -0.        , -0.        ,\n",
       "        -0.        ]),\n",
       " array([0.07712496, 0.81557925, 0.81734181, 3.79608594, 3.0947278 ,\n",
       "        3.81069207, 8.43317756, 6.37228267, 6.52302644, 8.47679831,\n",
       "        8.85587006, 6.825459  , 6.40338601, 6.79662417, 8.82484653,\n",
       "        3.52640159, 3.09034892, 2.96436785, 3.03146216, 2.98509281,\n",
       "        3.44861031]),\n",
       " 0.03481653543002786)"
      ]
     },
     "execution_count": 43,
     "metadata": {},
     "output_type": "execute_result"
    },
    {
     "data": {
      "image/png": "[encoded data removed]",
      "text/plain": [
       "<Figure size 432x288 with 2 Axes>"
      ]
     },
     "metadata": {},
     "output_type": "display_data"
    }
   ],
   "source": [
    "lassoBeta(X,z,lambd=0.01, errors=True)"
   ]
  },
  {
   "cell_type": "markdown",
   "metadata": {
    "collapsed": true
   },
   "source": [
    "# Plot beta as a function of lambda"
   ]
  },
  {
   "cell_type": "code",
   "execution_count": 80,
   "metadata": {
    "collapsed": false
   },
   "outputs": [
    {
     "name": "stderr",
     "output_type": "stream",
     "text": [
      "/Users/heine2307/anaconda/lib/python3.6/site-packages/ipykernel/__main__.py:5: UserWarning: With alpha=0, this algorithm does not converge well. You are advised to use the LinearRegression estimator\n",
      "/Users/heine2307/anaconda/lib/python3.6/site-packages/sklearn/linear_model/coordinate_descent.py:477: UserWarning: Coordinate descent with no regularization may lead to unexpected results and is discouraged.\n",
      "  positive)\n",
      "/Users/heine2307/anaconda/lib/python3.6/site-packages/sklearn/linear_model/coordinate_descent.py:491: ConvergenceWarning: Objective did not converge. You might want to increase the number of iterations. Fitting data with very small alpha may cause precision problems.\n",
      "  ConvergenceWarning)\n"
     ]
    },
    {
     "data": {
      "image/png": "[encoded data removed]",
      "text/plain": [
       "<Figure size 720x720 with 1 Axes>"
      ]
     },
     "metadata": {},
     "output_type": "display_data"
    },
    {
     "data": {
      "image/png": "[encoded data removed]",
      "text/plain": [
       "<Figure size 720x720 with 1 Axes>"
      ]
     },
     "metadata": {},
     "output_type": "display_data"
    }
   ],
   "source": [
    "runs = 50\n",
    "bnum = 10\n",
    "\n",
    "# OLS beta is not dependent of lambda, so every point is the same\n",
    "Sb,Sv,Ss = olsBeta(X,z)\n",
    "Bnum = np.argsort(np.abs(Sb))\n",
    "bnum = Bnum[0]\n",
    "#print('Bnum: ',bnum)\n",
    "Sbeta = np.ones(runs)*Sb[bnum]\n",
    "Svar = np.ones(runs)*Sv[bnum]\n",
    "Ssig = np.ones(runs)*Ss\n",
    "\n",
    "Rbeta = np.zeros(runs)\n",
    "Rvar = np.zeros(runs)\n",
    "Rsig = np.zeros(runs)\n",
    "\n",
    "Rlist = np.zeros((runs,X.shape[1]))\n",
    "\n",
    "Lbeta = np.zeros(runs)\n",
    "Lvar = np.zeros(runs)\n",
    "Lsig = np.zeros(runs)\n",
    "\n",
    "Llist = np.zeros((runs,X.shape[1]))\n",
    "\n",
    "#x = 100*np.log10(np.arange(runs))\n",
    "# x = np.logspace(-3, 2, runs)\n",
    "x = np.linspace(0, 0.5, runs)\n",
    "\n",
    "for i, lambd in enumerate(x):\n",
    "    Rb,Rv,Rs = ridgeBeta(X,z,lambd=lambd)\n",
    "    Rbeta[i] = Rb[bnum]\n",
    "    Rvar[i] = Rv[bnum]\n",
    "    Rsig[i] = Rs\n",
    "    Rlist[i][:] = Rb\n",
    "    \n",
    "    Lb,Lv,Ls = lassoBeta(X,z,lambd=lambd)\n",
    "    Lbeta[i] = Lb[bnum]\n",
    "    Lvar[i] = Lv[bnum]\n",
    "    Lsig[i] = Ls\n",
    "    Llist[i][:] = Lb\n",
    "\n",
    "# #OLS\n",
    "# plt.plot(x,Sbeta, 'r-')\n",
    "# plt.fill_between(x,Sbeta+Ssig,Sbeta-Ssig,alpha=0.1,color='r')\n",
    "# #Ridge\n",
    "# plt.plot(x,Rbeta, 'b-')\n",
    "# plt.fill_between(x,Rbeta+Rsig,Rbeta-Rsig,alpha=0.1,color='b')\n",
    "# #Lasso\n",
    "# plt.plot(x,Lbeta, 'g-')\n",
    "# plt.fill_between(x,Lbeta+Lsig,Lbeta-Lsig,alpha=0.1,color='g')\n",
    "\n",
    "figridge = plt.figure(figsize=[10,10])\n",
    "#plt.subplot(121)\n",
    "for i in range(X.shape[1]):\n",
    "    plt.plot(x,Rlist.T[i])#,'b-')\n",
    "    plt.fill_between(x,Rlist.T[i]+Rsig,Rlist.T[i]-Rsig,alpha=0.1)#,color='b')\n",
    "plt.xlabel(r'$ \\lambda $',fontsize=15)\n",
    "plt.ylabel(r'$ \\beta_j $',fontsize=15)\n",
    "plt.title('Ridge',fontsize=20)\n",
    "#plt.legend(['B_{}'.format(i) for i in range(X.shape[1])])\n",
    "plt.savefig('betaRidge.pdf')\n",
    "\n",
    "figlasso = plt.figure(figsize=[10,10])\n",
    "for i in range(X.shape[1]):\n",
    "    plt.plot(x,Llist.T[i])#,'g-')\n",
    "    #plt.fill_between(x,Lbeta[i]+Lsig,Lbeta[i]-Lsig,alpha=0.1)#,color='g')\n",
    "plt.xlabel(r'$ \\lambda $',fontsize=15)\n",
    "plt.ylabel(r'$ \\beta_j $',fontsize=15)\n",
    "plt.title('Lasso',fontsize=20)\n",
    "plt.savefig('betaLasso.pdf')\n",
    "\n",
    "plt.show()\n",
    "\n",
    "\n"
   ]
  },
  {
   "cell_type": "code",
   "execution_count": null,
   "metadata": {
    "collapsed": false
   },
   "outputs": [],
   "source": []
  },
  {
   "cell_type": "code",
   "execution_count": null,
   "metadata": {
    "collapsed": true
   },
   "outputs": [],
   "source": []
  },
  {
   "cell_type": "code",
   "execution_count": null,
   "metadata": {
    "collapsed": true
   },
   "outputs": [],
   "source": []
  }
 ],
 "metadata": {
  "kernelspec": {
   "display_name": "Python 3",
   "language": "python",
   "name": "python3"
  },
  "language_info": {
   "codemirror_mode": {
    "name": "ipython",
    "version": 3
   },
   "file_extension": ".py",
   "mimetype": "text/x-python",
   "name": "python",
   "nbconvert_exporter": "python",
   "pygments_lexer": "ipython3",
   "version": "3.6.0"
  }
 },
 "nbformat": 4,
 "nbformat_minor": 2
}
