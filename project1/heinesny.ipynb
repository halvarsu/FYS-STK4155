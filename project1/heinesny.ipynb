{
 "cells": [
  {
   "cell_type": "code",
   "execution_count": 22,
   "metadata": {
    "collapsed": false
   },
   "outputs": [],
   "source": [
    "import numpy as np\n",
    "import matplotlib.pyplot as plt\n",
    "import tools\n",
    "\n",
    "from IPython.display import clear_output"
   ]
  },
  {
   "cell_type": "code",
   "execution_count": 2,
   "metadata": {
    "collapsed": false
   },
   "outputs": [],
   "source": [
    "%matplotlib inline\n",
    "%load_ext autoreload\n",
    "%autoreload 2"
   ]
  },
  {
   "cell_type": "markdown",
   "metadata": {},
   "source": [
    "# Functions used:"
   ]
  },
  {
   "cell_type": "code",
   "execution_count": 3,
   "metadata": {
    "collapsed": false
   },
   "outputs": [],
   "source": [
    "def varBeta(regr, method, lmbd = 0):\n",
    "    if method == 'ols':\n",
    "        Bvar = np.sqrt(np.diag(regr.betaVar))\n",
    "        return Bvar, regr.sigma_y\n",
    "    if method == 'ridge':\n",
    "        sigma = regr.sigma_y\n",
    "        x = regr.symX\n",
    "        W = np.linalg.inv(x+lmbd*np.eye(x.shape[0]))@x\n",
    "        Bvar = np.sqrt(np.diag(sigma*W@np.linalg.inv(x)@W.T))\n",
    "        \n",
    "        return Bvar, sigma\n",
    "    else:\n",
    "        raise ValueError('method needs to be either \"ols\" or \"ridge\"')\n",
    "    \n",
    "def printvar(regr,Bvar,deg=5):\n",
    "    mse = regr.squared_error()\n",
    "    r2 = regr.r2score()\n",
    "    print('MSE: ', mse)\n",
    "    print('R2: ', r2)\n",
    "    print('----- Conf. int.: -----')\n",
    "    for i in range(len(Bvar)):\n",
    "        if i in [0,5,10,15,20]:\n",
    "            #print('B{:}: {:.4f} {} {:.4f}'.format(i,regr.beta[i],u'\\xb1',Bvar[i]))\n",
    "            #For latex\n",
    "            print('$j={:}$ & {:.4f} {} {:.4f} \\\\'.format(i,regr.beta[i],'$\\pm$',2*Bvar[i]))\n",
    "        \n",
    "    df = tools.get_exp_coeffs(beta=regr.beta,deg=deg, print_beta = False)\n",
    "    plt.imshow(df)\n",
    "    plt.colorbar()\n",
    "    plt.xlabel('x order')\n",
    "    plt.ylabel('y order')\n",
    "    \n",
    "    \n",
    "    return mse,r2"
   ]
  },
  {
   "cell_type": "code",
   "execution_count": 4,
   "metadata": {
    "collapsed": false
   },
   "outputs": [],
   "source": [
    "def printvar_lasso(mse,r2,Bvar,reg, deg = 5):\n",
    "    betas = np.zeros((len(Bvar),))\n",
    "    print('MSE: ', mse)\n",
    "    print('R2: ', r2)\n",
    "    print('----- Conf. int.: -----')\n",
    "    for i in range(len(Bvar)):\n",
    "        beta = reg.coef_[i]\n",
    "        betas[i] = beta\n",
    "        #print('B{:}: {:f} {} {:f}'.format(i,beta,u'\\xb1',Bvar[i]))\n",
    "        if i in [0,5,10,15,20]:\n",
    "            #For latex\n",
    "            print('$j={:}$ & {:.4f} {} {:.4f} \\\\'.format(i,beta,'$\\pm$',2*Bvar[i]))\n",
    "        \n",
    "    df = tools.get_exp_coeffs(beta=betas,deg=deg, print_beta = False)\n",
    "    plt.imshow(df)\n",
    "    plt.colorbar()\n",
    "    plt.xlabel('x order')\n",
    "    plt.ylabel('y order')"
   ]
  },
  {
   "cell_type": "code",
   "execution_count": 90,
   "metadata": {
    "collapsed": false
   },
   "outputs": [],
   "source": [
    "def print_scores_with_resmpl(X,z, lmbd=0, method = 'ols', smplsize=2000, deg = 5):\n",
    "    if method.lower() not in ['ols','ridge','lasso']:\n",
    "        raise ValueError('Invalid method flag, {}'.format(method))\n",
    "    if method.lower() == 'ols' and lmbd != 0:\n",
    "        raise ValueError('lmbd != 0 does not make sense for OLS.')\n",
    "    if method.lower() == 'lasso':\n",
    "        from sklearn.linear_model import Lasso \n",
    "    \n",
    "    #mse=0\n",
    "    #b_MSE_out = 0\n",
    "    #b_R2_out = 0\n",
    "    ## Without resampling\n",
    "    if method.lower() == 'ols':\n",
    "        regr = tools.Regression(X,z)\n",
    "        zpred = regr.yhat\n",
    "        mse = regr.squared_error()\n",
    "        r2 = regr.r2score()\n",
    "        out = tools.k_fold_val(x,y,z, method = 'ols', return_average=False,k=100, deg = deg)\n",
    "        b_MSE_out, b_R2_out = tools.bootstrap(x,y,z, method = 'ols', r2_score=True, smplsize=smplsize, rep=100)\n",
    "    if method.lower() == 'ridge':\n",
    "        regr = tools.Regression(X,z,lmbd = lmbd)\n",
    "        zpred = regr.yhat\n",
    "        mse = regr.squared_error()\n",
    "        r2 = regr.r2score()\n",
    "        out = tools.k_fold_val(x,y,z, method = 'ridge', lmbd=lmbd, return_average=False,k=100, deg=deg)\n",
    "        b_MSE_out, b_R2_out = tools.bootstrap(x,y,z, lmbd=lmbd, method = 'ridge', r2_score=True, smplsize=smplsize, rep=100)\n",
    "    if method.lower() == 'lasso':\n",
    "        reg = Lasso(alpha = lmbd, fit_intercept=False)\n",
    "        reg.fit(X,z)\n",
    "        zpred = reg.predict(X)\n",
    "        mse = tools.squared_error(z,zpred)\n",
    "        r2 = tools.r2score(z,zpred)\n",
    "        out = tools.k_fold_val(x,y,z, method = 'lasso', lmbd=lmbd, return_average=False,k=100, deg=deg)\n",
    "        b_MSE_out, b_R2_out = tools.bootstrap(x,y,z, lmbd=lmbd, method = 'lasso', r2_score=True, smplsize=smplsize, rep=100)\n",
    "    \n",
    "    ## With k-fold\n",
    "    k_R2_in = out.T[0]\n",
    "    k_MSE_in = out.T[1]\n",
    "    k_R2_out = out.T[2]\n",
    "    k_MSE_out = out.T[3]   \n",
    "        \n",
    "# REGULAR PRINT, not for latex\n",
    "#     print('--------- Without resampling ---------')\n",
    "#     print('MSE: ', mse)\n",
    "#     print('R2: ', r2)\n",
    "\n",
    "#     print('------- With k-fold validation -------')\n",
    "#     print('MSE (in): ', k_MSE_in)\n",
    "#     print('R2 (in): ', k_R2_in)\n",
    "#     print('MSE (out): ', k_MSE_out)\n",
    "#     print('R2 (out): ', k_R2_out)\n",
    "\n",
    "#     ## With bootstrap\n",
    "#     print('----------- With bootstrap -----------')\n",
    "#     print('MSE (out): ', np.average(b_MSE_out))\n",
    "#     print('R2 (out): ', np.average(b_R2_out))\n",
    "\n",
    "    # FOR latex\n",
    "    print('MSE &',round(mse,4) ,\\\n",
    "          '&',round(np.average(k_MSE_out),4),'$\\pm$',round(np.std(k_MSE_out),4),\\\n",
    "          '&', round(np.average(b_MSE_out),4),'$\\pm$',round(np.std(b_MSE_out),4), '\\\\')\n",
    "    print('R2 &',round(r2,4) ,\\\n",
    "          '&',round(np.average(k_R2_out),4),'$\\pm$',round(np.std(k_R2_out),4),\\\n",
    "          '&', round(np.average(b_R2_out),4),'$\\pm$',round(np.std(b_R2_out),4), '\\\\')"
   ]
  },
  {
   "cell_type": "markdown",
   "metadata": {},
   "source": [
    "# Regression analysis\n",
    "Performed on the data set is the franke function for x,y$\\in$[0,1], defined below with additional variables used in the regression analysis"
   ]
  },
  {
   "cell_type": "code",
   "execution_count": 60,
   "metadata": {
    "collapsed": false
   },
   "outputs": [],
   "source": [
    "from franke import FrankeFunction\n",
    "\n",
    "N = 2000\n",
    "deg = 5\n",
    "x = np.random.random(size = N)\n",
    "y = np.random.random(size = N)\n",
    "\n",
    "def frankenoise(x,y,noise):\n",
    "    np.random.seed(1)\n",
    "    z = FrankeFunction(x,y) \n",
    "    z += np.random.normal(0,noise,size = z.size)\n",
    "    return z\n",
    "\n",
    "runs = 100\n",
    "noises = np.linspace(0.0001,2,runs)\n",
    "z = np.zeros((N,runs))\n",
    "z = z.T\n",
    "\n",
    "for i in range(runs):\n",
    "    z[i] = frankenoise(x,y,noises[i])\n",
    "\n",
    "X = tools.get_X_poly2D(x,y,deg=deg)"
   ]
  },
  {
   "cell_type": "code",
   "execution_count": 88,
   "metadata": {
    "collapsed": true
   },
   "outputs": [],
   "source": [
    "deg = 10 # degree of polynomial fit\n",
    "N = 1000 # Data points\n",
    "lambd = 0.01\n",
    "noise = 0.1\n",
    "\n",
    "x,y,z,noise = tools.generate_data(N=N, noise=noise)\n",
    "\n",
    "X = tools.get_X_poly2D(x,y,deg=deg)"
   ]
  },
  {
   "cell_type": "markdown",
   "metadata": {},
   "source": [
    "## Ordinary linear regression\n",
    "Do regression and print MSE, R2 and beta with conf.int."
   ]
  },
  {
   "cell_type": "markdown",
   "metadata": {},
   "source": []
  },
  {
   "cell_type": "code",
   "execution_count": 24,
   "metadata": {
    "collapsed": false
   },
   "outputs": [],
   "source": [
    "def olsBeta(X,z, errors = False):\n",
    "    regr = tools.Regression(X,z,lmbd = 0)\n",
    "\n",
    "    zpred = regr.yhat\n",
    "    Bvar,sigma = varBeta(regr,method='ols')\n",
    "    \n",
    "    if errors == True:\n",
    "        mse,r2 = printvar(regr,Bvar)\n",
    "        \n",
    "    return regr.beta,Bvar,sigma"
   ]
  },
  {
   "cell_type": "markdown",
   "metadata": {},
   "source": [
    "### - Mean squared error and R2-score\n",
    "MSE and R2 of ordinary linear regression, with and without k-fold and bootstrap"
   ]
  },
  {
   "cell_type": "code",
   "execution_count": 91,
   "metadata": {
    "collapsed": false
   },
   "outputs": [
    {
     "name": "stdout",
     "output_type": "stream",
     "text": [
      "MSE & 0.0101 & 0.0119 $\\pm$ 0.005 & 0.0133 $\\pm$ 0.0008 \\\n",
      "R2 & 0.8964 & 0.8131 $\\pm$ 0.1939 & 0.8425 $\\pm$ 0.0139 \\\n"
     ]
    }
   ],
   "source": [
    "print_scores_with_resmpl(X,z, method = 'ols', smplsize=1000, deg=deg)"
   ]
  },
  {
   "cell_type": "code",
   "execution_count": 135,
   "metadata": {
    "collapsed": true
   },
   "outputs": [],
   "source": [
    "## VAR PLoT\n",
    "# plt.figure(figsize=(10,6))\n",
    "# plt.subplot(2,2,1)\n",
    "# plt.imshow(Bvar)\n",
    "# plt.subplot(1,2,2)\n",
    "# plt.errorbar(np.arange(len(Bvar)), regr.beta/regr.beta, yerr = np.sqrt(np.diag(Bvar)), fmt=\".\")\n",
    "# plt.tight_layout()"
   ]
  },
  {
   "cell_type": "code",
   "execution_count": 136,
   "metadata": {
    "collapsed": true
   },
   "outputs": [],
   "source": [
    "# df = tools.get_exp_coeffs(Bvar)\n",
    "# df.columns = ['x^{}'.format(i) for i in df.columns]\n",
    "# df.index = ['y^{}'.format(i) for i in df.index]\n",
    "# print(df.to_latex(na_rep='', escape = False,  column_format='lllllll'))"
   ]
  },
  {
   "cell_type": "markdown",
   "metadata": {},
   "source": [
    "##### Beta coefficients and their confidence intervals"
   ]
  },
  {
   "cell_type": "code",
   "execution_count": 25,
   "metadata": {
    "collapsed": false
   },
   "outputs": [
    {
     "name": "stdout",
     "output_type": "stream",
     "text": [
      "For noise =  0.01\n",
      "MSE:  0.002002618377459079\n",
      "R2:  0.9755821699624704\n",
      "----- Conf. int.: -----\n",
      "$j=0$ & 0.3463 $\\pm$ 0.0349 \\\n",
      "$j=5$ & -34.5213 $\\pm$ 1.8076 \\\n",
      "$j=10$ & 26.6221 $\\pm$ 4.3474 \\\n",
      "$j=15$ & -15.9601 $\\pm$ 1.7121 \\\n",
      "$j=20$ & 0.3997 $\\pm$ 1.6632 \\\n",
      "For noise =  0.1\n",
      "MSE:  0.011894564200208731\n",
      "R2:  0.8687183146849479\n",
      "----- Conf. int.: -----\n",
      "$j=0$ & 0.3563 $\\pm$ 0.0850 \\\n",
      "$j=5$ & -33.8453 $\\pm$ 4.4054 \\\n",
      "$j=10$ & 35.6692 $\\pm$ 10.5951 \\\n",
      "$j=15$ & -19.9073 $\\pm$ 4.1726 \\\n",
      "$j=20$ & 0.3256 $\\pm$ 4.0535 \\\n",
      "For noise =  1\n",
      "MSE:  1.0040034696832565\n",
      "R2:  0.06857448126610888\n",
      "----- Conf. int.: -----\n",
      "$j=0$ & 0.4564 $\\pm$ 0.7807 \\\n",
      "$j=5$ & -27.0852 $\\pm$ 40.4743 \\\n",
      "$j=10$ & 126.1402 $\\pm$ 97.3420 \\\n",
      "$j=15$ & -59.3794 $\\pm$ 38.3356 \\\n",
      "$j=20$ & -0.4154 $\\pm$ 37.2408 \\\n"
     ]
    },
    {
     "data": {
      "image/png": "[encoded data removed]",
      "text/plain": [
       "<Figure size 432x288 with 4 Axes>"
      ]
     },
     "metadata": {},
     "output_type": "display_data"
    }
   ],
   "source": [
    "for i,noise in enumerate(noises):\n",
    "    print('For noise = ',noise)\n",
    "    olsBeta(X,z[i], errors=True)"
   ]
  },
  {
   "cell_type": "markdown",
   "metadata": {},
   "source": [
    "# OLS noise dependency plot"
   ]
  },
  {
   "cell_type": "code",
   "execution_count": 62,
   "metadata": {
    "collapsed": false
   },
   "outputs": [
    {
     "data": {
      "image/png": "[encoded data removed]",
      "text/plain": [
       "<Figure size 504x216 with 1 Axes>"
      ]
     },
     "metadata": {},
     "output_type": "display_data"
    }
   ],
   "source": [
    "MSE = np.zeros(runs)\n",
    "R2 = np.zeros(runs)\n",
    "\n",
    "for i in range(runs):\n",
    "    regr = tools.Regression(X,z[i],lmbd = 0)\n",
    "    zpred = regr.yhat\n",
    "    MSE[i] = regr.squared_error()\n",
    "    R2[i] = regr.r2score()\n",
    "\n",
    "x_ = noises\n",
    "plt.figure(figsize=[7,3])\n",
    "plt.rcParams.update({'font.size': 16})\n",
    "#plt.subplot(211)\n",
    "plt.plot(x_,MSE,'r-')\n",
    "plt.xlabel('Noise',fontsize=15)\n",
    "plt.ylabel('MSE',fontsize=15)\n",
    "# plt.subplot(212)\n",
    "# plt.plot(x_,R2,'b-')\n",
    "# plt.xlabel('Noise',fontsize=15)\n",
    "# plt.ylabel('R2',fontsize=15)\n",
    "\n",
    "#plt.tight_layout()\n",
    "plt.savefig('olsnoise.pdf')\n",
    "\n"
   ]
  },
  {
   "cell_type": "markdown",
   "metadata": {},
   "source": [
    "# Ridge regression"
   ]
  },
  {
   "cell_type": "code",
   "execution_count": 13,
   "metadata": {
    "collapsed": false
   },
   "outputs": [],
   "source": [
    "def ridgeBeta(X,z,lambd, errors = False):\n",
    "    regr = tools.Regression(X,z,lmbd = lambd)\n",
    "    \n",
    "    zpred = regr.yhat\n",
    "    Bvar,sigma = varBeta(regr,method = 'ridge', lmbd = lambd)\n",
    "\n",
    "    if errors == True:\n",
    "        mse,r2 = printvar(regr, Bvar)\n",
    "    \n",
    "    return regr.beta, Bvar, sigma\n",
    "    "
   ]
  },
  {
   "cell_type": "markdown",
   "metadata": {},
   "source": [
    "### - Mean squared error and R2-score\n",
    "MSE and R2 of ridge regression, with and without k-fold and bootstrap"
   ]
  },
  {
   "cell_type": "code",
   "execution_count": 92,
   "metadata": {
    "collapsed": false
   },
   "outputs": [
    {
     "name": "stdout",
     "output_type": "stream",
     "text": [
      "Lambda =  1e-06\n",
      "MSE & 0.0109 & 0.0119 $\\pm$ 0.0047 & 0.0133 $\\pm$ 0.0008 \\\n",
      "R2 & 0.8882 & 0.8168 $\\pm$ 0.1736 & 0.8433 $\\pm$ 0.0137 \\\n",
      "\n",
      "Lambda =  1e-05\n",
      "MSE & 0.0113 & 0.0122 $\\pm$ 0.0047 & 0.0132 $\\pm$ 0.0008 \\\n",
      "R2 & 0.8843 & 0.8158 $\\pm$ 0.1688 & 0.8427 $\\pm$ 0.0141 \\\n",
      "\n",
      "Lambda =  0.0001\n",
      "MSE & 0.0117 & 0.0124 $\\pm$ 0.0049 & 0.0135 $\\pm$ 0.0007 \\\n",
      "R2 & 0.8797 & 0.8129 $\\pm$ 0.1689 & 0.8387 $\\pm$ 0.0119 \\\n",
      "\n",
      "Lambda =  0.001\n",
      "MSE & 0.0123 & 0.0129 $\\pm$ 0.0053 & 0.0142 $\\pm$ 0.0008 \\\n",
      "R2 & 0.8735 & 0.8068 $\\pm$ 0.1775 & 0.8289 $\\pm$ 0.0126 \\\n",
      "\n",
      "Lambda =  0.01\n",
      "MSE & 0.0138 & 0.0144 $\\pm$ 0.0061 & 0.016 $\\pm$ 0.001 \\\n",
      "R2 & 0.858 & 0.7924 $\\pm$ 0.1781 & 0.7983 $\\pm$ 0.0148 \\\n",
      "\n",
      "Lambda =  0.1\n",
      "MSE & 0.0166 & 0.0171 $\\pm$ 0.0075 & 0.0193 $\\pm$ 0.0012 \\\n",
      "R2 & 0.8291 & 0.7611 $\\pm$ 0.1939 & 0.7433 $\\pm$ 0.0218 \\\n",
      "\n"
     ]
    }
   ],
   "source": [
    "lmbd_val = [0.000001,0.00001,0.0001,0.001,0.01,0.1]\n",
    "for l,lmbd in enumerate(lmbd_val):\n",
    "    print('Lambda = ',lmbd)\n",
    "    print_scores_with_resmpl(X,z, lmbd=lmbd, method = 'ridge', smplsize=1000, deg= deg)\n",
    "    print('')"
   ]
  },
  {
   "cell_type": "markdown",
   "metadata": {},
   "source": [
    "##### Beta coefficients and their confidence intervals"
   ]
  },
  {
   "cell_type": "code",
   "execution_count": 56,
   "metadata": {
    "collapsed": false
   },
   "outputs": [
    {
     "name": "stdout",
     "output_type": "stream",
     "text": [
      "MSE:  0.01176573290985534\n",
      "R2:  0.8713834312375961\n",
      "----- Conf. int.: -----\n",
      "$j=0$ & 0.4936 $\\pm$ 0.0641 \\\n",
      "$j=5$ & -25.6769 $\\pm$ 2.9862 \\\n",
      "$j=10$ & 21.5112 $\\pm$ 7.0289 \\\n",
      "$j=15$ & -12.7769 $\\pm$ 2.8822 \\\n",
      "$j=20$ & -1.8210 $\\pm$ 2.8859 \\\n"
     ]
    },
    {
     "data": {
      "text/plain": [
       "(array([  0.49360675,   3.49062133,   5.79009654,  -9.31567918,\n",
       "         -8.9352155 , -25.67688462,  -3.22501802,  11.47767941,\n",
       "         30.05438917,  33.15187287,  21.51124242, -22.36653548,\n",
       "          1.57954953, -38.67807395, -11.90083687, -12.77688724,\n",
       "         14.5382992 ,  -8.40340494,   7.72952296,  13.32126549,\n",
       "         -1.82098419]),\n",
       " array([0.03205386, 0.32579413, 0.33276242, 1.49236372, 1.24096314,\n",
       "        1.49312016, 3.29291212, 2.70707882, 2.72345992, 3.27447484,\n",
       "        3.51445071, 3.08879456, 2.87075178, 3.12186887, 3.49894314,\n",
       "        1.4410785 , 1.51227635, 1.52871271, 1.53289481, 1.53312433,\n",
       "        1.4429374 ]),\n",
       " 0.011896595459914398)"
      ]
     },
     "execution_count": 56,
     "metadata": {},
     "output_type": "execute_result"
    },
    {
     "data": {
      "image/png": "[encoded data removed]",
      "text/plain": [
       "<Figure size 432x288 with 2 Axes>"
      ]
     },
     "metadata": {},
     "output_type": "display_data"
    }
   ],
   "source": [
    "ridgeBeta(X,z, lambd=0.0001, errors=True)"
   ]
  },
  {
   "cell_type": "markdown",
   "metadata": {},
   "source": [
    "# Noise dependency plot"
   ]
  },
  {
   "cell_type": "code",
   "execution_count": 70,
   "metadata": {
    "collapsed": false
   },
   "outputs": [
    {
     "data": {
      "image/png": "[encoded data removed]",
      "text/plain": [
       "<Figure size 504x216 with 1 Axes>"
      ]
     },
     "metadata": {},
     "output_type": "display_data"
    }
   ],
   "source": [
    "lmbd_runs = [0.0001,0.001,0.01,0.1,1]\n",
    "MSE = np.zeros((runs,len(lmbd_runs)))\n",
    "R2 = np.zeros((runs,len(lmbd_runs)))\n",
    "\n",
    "for i in range(runs):\n",
    "    for l,lambd in enumerate(lmbd_runs):\n",
    "        regr = tools.Regression(X,z[i],lmbd = lambd)\n",
    "        zpred = regr.yhat\n",
    "        MSE[i][l] = regr.squared_error()\n",
    "        R2[i][l] = regr.r2score()\n",
    "\n",
    "        \n",
    "x_ = noises\n",
    "plt.figure(figsize=[7,3])\n",
    "plt.rcParams.update({'font.size': 16})\n",
    "#plt.subplot(211)\n",
    "for j in range(len(lmbd_runs)):\n",
    "    plt.plot(x_,MSE.T[:][j],'-')\n",
    "plt.xlabel('Noise',fontsize=15)\n",
    "plt.ylabel('MSE',fontsize=15)\n",
    "plt.legend(lmbd_runs)\n",
    "# plt.subplot(212)\n",
    "# for j in range(len(lmbd_runs)):\n",
    "#     plt.plot(x_,R2.T[:][j],'-')\n",
    "# plt.xlabel('Noise',fontsize=15)\n",
    "# plt.ylabel('R2',fontsize=15)\n",
    "# plt.legend(lmbd_runs)\n",
    "# plt.tight_layout()\n",
    "\n",
    "plt.savefig('ridgenoise.pdf')\n"
   ]
  },
  {
   "cell_type": "markdown",
   "metadata": {},
   "source": [
    "# Lasso regression"
   ]
  },
  {
   "cell_type": "code",
   "execution_count": 40,
   "metadata": {
    "collapsed": false
   },
   "outputs": [],
   "source": [
    "from sklearn.linear_model import Lasso\n",
    "\n",
    "def lassoBeta(X,z,lambd, errors = False):\n",
    "    reg = Lasso(alpha = lambd, fit_intercept=False, max_iter=100000)\n",
    "    reg.fit(X,z)\n",
    "    zpred = reg.predict(X)\n",
    "\n",
    "    mse = tools.squared_error(z,zpred)\n",
    "    r2 = tools.r2score(z,zpred)\n",
    "    sigma = 1/(N-deg-1) * np.sum((z-zpred)**2)\n",
    "    #Bvar = np.sqrt(np.diag(np.linalg.inv(X.T@X)*sigma))\n",
    "    blist = tools.k_fold_val(x,y,z, statistic_func=beta_stat, return_average=False,method='lasso',lmbd=lambd, k=10)\n",
    "    _,Bvar = beta_best(blist)\n",
    "    if errors == True:\n",
    "        printvar_lasso(mse,r2,Bvar,reg,deg)\n",
    "        \n",
    "    return reg.coef_, Bvar, sigma"
   ]
  },
  {
   "cell_type": "markdown",
   "metadata": {},
   "source": [
    "### - Mean squared error and R2-score\n",
    "MSE and R2 of lasso regression, with and without k-fold and bootstrap"
   ]
  },
  {
   "cell_type": "code",
   "execution_count": 42,
   "metadata": {
    "collapsed": false
   },
   "outputs": [
    {
     "name": "stdout",
     "output_type": "stream",
     "text": [
      "Lambda =  0.001\n"
     ]
    },
    {
     "name": "stderr",
     "output_type": "stream",
     "text": [
      "/Users/heine2307/anaconda/lib/python3.6/site-packages/sklearn/linear_model/coordinate_descent.py:491: ConvergenceWarning: Objective did not converge. You might want to increase the number of iterations. Fitting data with very small alpha may cause precision problems.\n",
      "  ConvergenceWarning)\n",
      "/Users/heine2307/anaconda/lib/python3.6/site-packages/sklearn/linear_model/coordinate_descent.py:491: ConvergenceWarning: Objective did not converge. You might want to increase the number of iterations. Fitting data with very small alpha may cause precision problems.\n",
      "  ConvergenceWarning)\n",
      "/Users/heine2307/anaconda/lib/python3.6/site-packages/sklearn/linear_model/coordinate_descent.py:491: ConvergenceWarning: Objective did not converge. You might want to increase the number of iterations. Fitting data with very small alpha may cause precision problems.\n",
      "  ConvergenceWarning)\n",
      "/Users/heine2307/anaconda/lib/python3.6/site-packages/sklearn/linear_model/coordinate_descent.py:491: ConvergenceWarning: Objective did not converge. You might want to increase the number of iterations. Fitting data with very small alpha may cause precision problems.\n",
      "  ConvergenceWarning)\n",
      "/Users/heine2307/anaconda/lib/python3.6/site-packages/sklearn/linear_model/coordinate_descent.py:491: ConvergenceWarning: Objective did not converge. You might want to increase the number of iterations. Fitting data with very small alpha may cause precision problems.\n",
      "  ConvergenceWarning)\n",
      "/Users/heine2307/anaconda/lib/python3.6/site-packages/sklearn/linear_model/coordinate_descent.py:491: ConvergenceWarning: Objective did not converge. You might want to increase the number of iterations. Fitting data with very small alpha may cause precision problems.\n",
      "  ConvergenceWarning)\n",
      "/Users/heine2307/anaconda/lib/python3.6/site-packages/sklearn/linear_model/coordinate_descent.py:491: ConvergenceWarning: Objective did not converge. You might want to increase the number of iterations. Fitting data with very small alpha may cause precision problems.\n",
      "  ConvergenceWarning)\n",
      "/Users/heine2307/anaconda/lib/python3.6/site-packages/sklearn/linear_model/coordinate_descent.py:491: ConvergenceWarning: Objective did not converge. You might want to increase the number of iterations. Fitting data with very small alpha may cause precision problems.\n",
      "  ConvergenceWarning)\n",
      "/Users/heine2307/anaconda/lib/python3.6/site-packages/sklearn/linear_model/coordinate_descent.py:491: ConvergenceWarning: Objective did not converge. You might want to increase the number of iterations. Fitting data with very small alpha may cause precision problems.\n",
      "  ConvergenceWarning)\n",
      "/Users/heine2307/anaconda/lib/python3.6/site-packages/sklearn/linear_model/coordinate_descent.py:491: ConvergenceWarning: Objective did not converge. You might want to increase the number of iterations. Fitting data with very small alpha may cause precision problems.\n",
      "  ConvergenceWarning)\n",
      "/Users/heine2307/anaconda/lib/python3.6/site-packages/sklearn/linear_model/coordinate_descent.py:491: ConvergenceWarning: Objective did not converge. You might want to increase the number of iterations. Fitting data with very small alpha may cause precision problems.\n",
      "  ConvergenceWarning)\n",
      "/Users/heine2307/anaconda/lib/python3.6/site-packages/sklearn/linear_model/coordinate_descent.py:491: ConvergenceWarning: Objective did not converge. You might want to increase the number of iterations. Fitting data with very small alpha may cause precision problems.\n",
      "  ConvergenceWarning)\n",
      "/Users/heine2307/anaconda/lib/python3.6/site-packages/sklearn/linear_model/coordinate_descent.py:491: ConvergenceWarning: Objective did not converge. You might want to increase the number of iterations. Fitting data with very small alpha may cause precision problems.\n",
      "  ConvergenceWarning)\n",
      "/Users/heine2307/anaconda/lib/python3.6/site-packages/sklearn/linear_model/coordinate_descent.py:491: ConvergenceWarning: Objective did not converge. You might want to increase the number of iterations. Fitting data with very small alpha may cause precision problems.\n",
      "  ConvergenceWarning)\n",
      "/Users/heine2307/anaconda/lib/python3.6/site-packages/sklearn/linear_model/coordinate_descent.py:491: ConvergenceWarning: Objective did not converge. You might want to increase the number of iterations. Fitting data with very small alpha may cause precision problems.\n",
      "  ConvergenceWarning)\n",
      "/Users/heine2307/anaconda/lib/python3.6/site-packages/sklearn/linear_model/coordinate_descent.py:491: ConvergenceWarning: Objective did not converge. You might want to increase the number of iterations. Fitting data with very small alpha may cause precision problems.\n",
      "  ConvergenceWarning)\n",
      "/Users/heine2307/anaconda/lib/python3.6/site-packages/sklearn/linear_model/coordinate_descent.py:491: ConvergenceWarning: Objective did not converge. You might want to increase the number of iterations. Fitting data with very small alpha may cause precision problems.\n",
      "  ConvergenceWarning)\n",
      "/Users/heine2307/anaconda/lib/python3.6/site-packages/sklearn/linear_model/coordinate_descent.py:491: ConvergenceWarning: Objective did not converge. You might want to increase the number of iterations. Fitting data with very small alpha may cause precision problems.\n",
      "  ConvergenceWarning)\n",
      "/Users/heine2307/anaconda/lib/python3.6/site-packages/sklearn/linear_model/coordinate_descent.py:491: ConvergenceWarning: Objective did not converge. You might want to increase the number of iterations. Fitting data with very small alpha may cause precision problems.\n",
      "  ConvergenceWarning)\n",
      "/Users/heine2307/anaconda/lib/python3.6/site-packages/sklearn/linear_model/coordinate_descent.py:491: ConvergenceWarning: Objective did not converge. You might want to increase the number of iterations. Fitting data with very small alpha may cause precision problems.\n",
      "  ConvergenceWarning)\n",
      "/Users/heine2307/anaconda/lib/python3.6/site-packages/sklearn/linear_model/coordinate_descent.py:491: ConvergenceWarning: Objective did not converge. You might want to increase the number of iterations. Fitting data with very small alpha may cause precision problems.\n",
      "  ConvergenceWarning)\n",
      "/Users/heine2307/anaconda/lib/python3.6/site-packages/sklearn/linear_model/coordinate_descent.py:491: ConvergenceWarning: Objective did not converge. You might want to increase the number of iterations. Fitting data with very small alpha may cause precision problems.\n",
      "  ConvergenceWarning)\n",
      "/Users/heine2307/anaconda/lib/python3.6/site-packages/sklearn/linear_model/coordinate_descent.py:491: ConvergenceWarning: Objective did not converge. You might want to increase the number of iterations. Fitting data with very small alpha may cause precision problems.\n",
      "  ConvergenceWarning)\n",
      "/Users/heine2307/anaconda/lib/python3.6/site-packages/sklearn/linear_model/coordinate_descent.py:491: ConvergenceWarning: Objective did not converge. You might want to increase the number of iterations. Fitting data with very small alpha may cause precision problems.\n",
      "  ConvergenceWarning)\n",
      "/Users/heine2307/anaconda/lib/python3.6/site-packages/sklearn/linear_model/coordinate_descent.py:491: ConvergenceWarning: Objective did not converge. You might want to increase the number of iterations. Fitting data with very small alpha may cause precision problems.\n",
      "  ConvergenceWarning)\n",
      "/Users/heine2307/anaconda/lib/python3.6/site-packages/sklearn/linear_model/coordinate_descent.py:491: ConvergenceWarning: Objective did not converge. You might want to increase the number of iterations. Fitting data with very small alpha may cause precision problems.\n",
      "  ConvergenceWarning)\n",
      "/Users/heine2307/anaconda/lib/python3.6/site-packages/sklearn/linear_model/coordinate_descent.py:491: ConvergenceWarning: Objective did not converge. You might want to increase the number of iterations. Fitting data with very small alpha may cause precision problems.\n",
      "  ConvergenceWarning)\n",
      "/Users/heine2307/anaconda/lib/python3.6/site-packages/sklearn/linear_model/coordinate_descent.py:491: ConvergenceWarning: Objective did not converge. You might want to increase the number of iterations. Fitting data with very small alpha may cause precision problems.\n",
      "  ConvergenceWarning)\n",
      "/Users/heine2307/anaconda/lib/python3.6/site-packages/sklearn/linear_model/coordinate_descent.py:491: ConvergenceWarning: Objective did not converge. You might want to increase the number of iterations. Fitting data with very small alpha may cause precision problems.\n",
      "  ConvergenceWarning)\n",
      "/Users/heine2307/anaconda/lib/python3.6/site-packages/sklearn/linear_model/coordinate_descent.py:491: ConvergenceWarning: Objective did not converge. You might want to increase the number of iterations. Fitting data with very small alpha may cause precision problems.\n",
      "  ConvergenceWarning)\n",
      "/Users/heine2307/anaconda/lib/python3.6/site-packages/sklearn/linear_model/coordinate_descent.py:491: ConvergenceWarning: Objective did not converge. You might want to increase the number of iterations. Fitting data with very small alpha may cause precision problems.\n",
      "  ConvergenceWarning)\n",
      "/Users/heine2307/anaconda/lib/python3.6/site-packages/sklearn/linear_model/coordinate_descent.py:491: ConvergenceWarning: Objective did not converge. You might want to increase the number of iterations. Fitting data with very small alpha may cause precision problems.\n",
      "  ConvergenceWarning)\n",
      "/Users/heine2307/anaconda/lib/python3.6/site-packages/sklearn/linear_model/coordinate_descent.py:491: ConvergenceWarning: Objective did not converge. You might want to increase the number of iterations. Fitting data with very small alpha may cause precision problems.\n",
      "  ConvergenceWarning)\n",
      "/Users/heine2307/anaconda/lib/python3.6/site-packages/sklearn/linear_model/coordinate_descent.py:491: ConvergenceWarning: Objective did not converge. You might want to increase the number of iterations. Fitting data with very small alpha may cause precision problems.\n",
      "  ConvergenceWarning)\n",
      "/Users/heine2307/anaconda/lib/python3.6/site-packages/sklearn/linear_model/coordinate_descent.py:491: ConvergenceWarning: Objective did not converge. You might want to increase the number of iterations. Fitting data with very small alpha may cause precision problems.\n",
      "  ConvergenceWarning)\n",
      "/Users/heine2307/anaconda/lib/python3.6/site-packages/sklearn/linear_model/coordinate_descent.py:491: ConvergenceWarning: Objective did not converge. You might want to increase the number of iterations. Fitting data with very small alpha may cause precision problems.\n",
      "  ConvergenceWarning)\n",
      "/Users/heine2307/anaconda/lib/python3.6/site-packages/sklearn/linear_model/coordinate_descent.py:491: ConvergenceWarning: Objective did not converge. You might want to increase the number of iterations. Fitting data with very small alpha may cause precision problems.\n",
      "  ConvergenceWarning)\n",
      "/Users/heine2307/anaconda/lib/python3.6/site-packages/sklearn/linear_model/coordinate_descent.py:491: ConvergenceWarning: Objective did not converge. You might want to increase the number of iterations. Fitting data with very small alpha may cause precision problems.\n",
      "  ConvergenceWarning)\n",
      "/Users/heine2307/anaconda/lib/python3.6/site-packages/sklearn/linear_model/coordinate_descent.py:491: ConvergenceWarning: Objective did not converge. You might want to increase the number of iterations. Fitting data with very small alpha may cause precision problems.\n",
      "  ConvergenceWarning)\n",
      "/Users/heine2307/anaconda/lib/python3.6/site-packages/sklearn/linear_model/coordinate_descent.py:491: ConvergenceWarning: Objective did not converge. You might want to increase the number of iterations. Fitting data with very small alpha may cause precision problems.\n",
      "  ConvergenceWarning)\n",
      "/Users/heine2307/anaconda/lib/python3.6/site-packages/sklearn/linear_model/coordinate_descent.py:491: ConvergenceWarning: Objective did not converge. You might want to increase the number of iterations. Fitting data with very small alpha may cause precision problems.\n",
      "  ConvergenceWarning)\n",
      "/Users/heine2307/anaconda/lib/python3.6/site-packages/sklearn/linear_model/coordinate_descent.py:491: ConvergenceWarning: Objective did not converge. You might want to increase the number of iterations. Fitting data with very small alpha may cause precision problems.\n",
      "  ConvergenceWarning)\n",
      "/Users/heine2307/anaconda/lib/python3.6/site-packages/sklearn/linear_model/coordinate_descent.py:491: ConvergenceWarning: Objective did not converge. You might want to increase the number of iterations. Fitting data with very small alpha may cause precision problems.\n",
      "  ConvergenceWarning)\n",
      "/Users/heine2307/anaconda/lib/python3.6/site-packages/sklearn/linear_model/coordinate_descent.py:491: ConvergenceWarning: Objective did not converge. You might want to increase the number of iterations. Fitting data with very small alpha may cause precision problems.\n",
      "  ConvergenceWarning)\n",
      "/Users/heine2307/anaconda/lib/python3.6/site-packages/sklearn/linear_model/coordinate_descent.py:491: ConvergenceWarning: Objective did not converge. You might want to increase the number of iterations. Fitting data with very small alpha may cause precision problems.\n",
      "  ConvergenceWarning)\n",
      "/Users/heine2307/anaconda/lib/python3.6/site-packages/sklearn/linear_model/coordinate_descent.py:491: ConvergenceWarning: Objective did not converge. You might want to increase the number of iterations. Fitting data with very small alpha may cause precision problems.\n",
      "  ConvergenceWarning)\n",
      "/Users/heine2307/anaconda/lib/python3.6/site-packages/sklearn/linear_model/coordinate_descent.py:491: ConvergenceWarning: Objective did not converge. You might want to increase the number of iterations. Fitting data with very small alpha may cause precision problems.\n",
      "  ConvergenceWarning)\n",
      "/Users/heine2307/anaconda/lib/python3.6/site-packages/sklearn/linear_model/coordinate_descent.py:491: ConvergenceWarning: Objective did not converge. You might want to increase the number of iterations. Fitting data with very small alpha may cause precision problems.\n",
      "  ConvergenceWarning)\n",
      "/Users/heine2307/anaconda/lib/python3.6/site-packages/sklearn/linear_model/coordinate_descent.py:491: ConvergenceWarning: Objective did not converge. You might want to increase the number of iterations. Fitting data with very small alpha may cause precision problems.\n",
      "  ConvergenceWarning)\n",
      "/Users/heine2307/anaconda/lib/python3.6/site-packages/sklearn/linear_model/coordinate_descent.py:491: ConvergenceWarning: Objective did not converge. You might want to increase the number of iterations. Fitting data with very small alpha may cause precision problems.\n",
      "  ConvergenceWarning)\n",
      "/Users/heine2307/anaconda/lib/python3.6/site-packages/sklearn/linear_model/coordinate_descent.py:491: ConvergenceWarning: Objective did not converge. You might want to increase the number of iterations. Fitting data with very small alpha may cause precision problems.\n",
      "  ConvergenceWarning)\n",
      "/Users/heine2307/anaconda/lib/python3.6/site-packages/sklearn/linear_model/coordinate_descent.py:491: ConvergenceWarning: Objective did not converge. You might want to increase the number of iterations. Fitting data with very small alpha may cause precision problems.\n",
      "  ConvergenceWarning)\n",
      "/Users/heine2307/anaconda/lib/python3.6/site-packages/sklearn/linear_model/coordinate_descent.py:491: ConvergenceWarning: Objective did not converge. You might want to increase the number of iterations. Fitting data with very small alpha may cause precision problems.\n",
      "  ConvergenceWarning)\n",
      "/Users/heine2307/anaconda/lib/python3.6/site-packages/sklearn/linear_model/coordinate_descent.py:491: ConvergenceWarning: Objective did not converge. You might want to increase the number of iterations. Fitting data with very small alpha may cause precision problems.\n",
      "  ConvergenceWarning)\n",
      "/Users/heine2307/anaconda/lib/python3.6/site-packages/sklearn/linear_model/coordinate_descent.py:491: ConvergenceWarning: Objective did not converge. You might want to increase the number of iterations. Fitting data with very small alpha may cause precision problems.\n",
      "  ConvergenceWarning)\n",
      "/Users/heine2307/anaconda/lib/python3.6/site-packages/sklearn/linear_model/coordinate_descent.py:491: ConvergenceWarning: Objective did not converge. You might want to increase the number of iterations. Fitting data with very small alpha may cause precision problems.\n",
      "  ConvergenceWarning)\n",
      "/Users/heine2307/anaconda/lib/python3.6/site-packages/sklearn/linear_model/coordinate_descent.py:491: ConvergenceWarning: Objective did not converge. You might want to increase the number of iterations. Fitting data with very small alpha may cause precision problems.\n",
      "  ConvergenceWarning)\n",
      "/Users/heine2307/anaconda/lib/python3.6/site-packages/sklearn/linear_model/coordinate_descent.py:491: ConvergenceWarning: Objective did not converge. You might want to increase the number of iterations. Fitting data with very small alpha may cause precision problems.\n",
      "  ConvergenceWarning)\n",
      "/Users/heine2307/anaconda/lib/python3.6/site-packages/sklearn/linear_model/coordinate_descent.py:491: ConvergenceWarning: Objective did not converge. You might want to increase the number of iterations. Fitting data with very small alpha may cause precision problems.\n",
      "  ConvergenceWarning)\n",
      "/Users/heine2307/anaconda/lib/python3.6/site-packages/sklearn/linear_model/coordinate_descent.py:491: ConvergenceWarning: Objective did not converge. You might want to increase the number of iterations. Fitting data with very small alpha may cause precision problems.\n",
      "  ConvergenceWarning)\n",
      "/Users/heine2307/anaconda/lib/python3.6/site-packages/sklearn/linear_model/coordinate_descent.py:491: ConvergenceWarning: Objective did not converge. You might want to increase the number of iterations. Fitting data with very small alpha may cause precision problems.\n",
      "  ConvergenceWarning)\n",
      "/Users/heine2307/anaconda/lib/python3.6/site-packages/sklearn/linear_model/coordinate_descent.py:491: ConvergenceWarning: Objective did not converge. You might want to increase the number of iterations. Fitting data with very small alpha may cause precision problems.\n",
      "  ConvergenceWarning)\n",
      "/Users/heine2307/anaconda/lib/python3.6/site-packages/sklearn/linear_model/coordinate_descent.py:491: ConvergenceWarning: Objective did not converge. You might want to increase the number of iterations. Fitting data with very small alpha may cause precision problems.\n",
      "  ConvergenceWarning)\n",
      "/Users/heine2307/anaconda/lib/python3.6/site-packages/sklearn/linear_model/coordinate_descent.py:491: ConvergenceWarning: Objective did not converge. You might want to increase the number of iterations. Fitting data with very small alpha may cause precision problems.\n",
      "  ConvergenceWarning)\n",
      "/Users/heine2307/anaconda/lib/python3.6/site-packages/sklearn/linear_model/coordinate_descent.py:491: ConvergenceWarning: Objective did not converge. You might want to increase the number of iterations. Fitting data with very small alpha may cause precision problems.\n",
      "  ConvergenceWarning)\n",
      "/Users/heine2307/anaconda/lib/python3.6/site-packages/sklearn/linear_model/coordinate_descent.py:491: ConvergenceWarning: Objective did not converge. You might want to increase the number of iterations. Fitting data with very small alpha may cause precision problems.\n",
      "  ConvergenceWarning)\n",
      "/Users/heine2307/anaconda/lib/python3.6/site-packages/sklearn/linear_model/coordinate_descent.py:491: ConvergenceWarning: Objective did not converge. You might want to increase the number of iterations. Fitting data with very small alpha may cause precision problems.\n",
      "  ConvergenceWarning)\n",
      "/Users/heine2307/anaconda/lib/python3.6/site-packages/sklearn/linear_model/coordinate_descent.py:491: ConvergenceWarning: Objective did not converge. You might want to increase the number of iterations. Fitting data with very small alpha may cause precision problems.\n",
      "  ConvergenceWarning)\n",
      "/Users/heine2307/anaconda/lib/python3.6/site-packages/sklearn/linear_model/coordinate_descent.py:491: ConvergenceWarning: Objective did not converge. You might want to increase the number of iterations. Fitting data with very small alpha may cause precision problems.\n",
      "  ConvergenceWarning)\n",
      "/Users/heine2307/anaconda/lib/python3.6/site-packages/sklearn/linear_model/coordinate_descent.py:491: ConvergenceWarning: Objective did not converge. You might want to increase the number of iterations. Fitting data with very small alpha may cause precision problems.\n",
      "  ConvergenceWarning)\n",
      "/Users/heine2307/anaconda/lib/python3.6/site-packages/sklearn/linear_model/coordinate_descent.py:491: ConvergenceWarning: Objective did not converge. You might want to increase the number of iterations. Fitting data with very small alpha may cause precision problems.\n",
      "  ConvergenceWarning)\n",
      "/Users/heine2307/anaconda/lib/python3.6/site-packages/sklearn/linear_model/coordinate_descent.py:491: ConvergenceWarning: Objective did not converge. You might want to increase the number of iterations. Fitting data with very small alpha may cause precision problems.\n",
      "  ConvergenceWarning)\n",
      "/Users/heine2307/anaconda/lib/python3.6/site-packages/sklearn/linear_model/coordinate_descent.py:491: ConvergenceWarning: Objective did not converge. You might want to increase the number of iterations. Fitting data with very small alpha may cause precision problems.\n",
      "  ConvergenceWarning)\n",
      "/Users/heine2307/anaconda/lib/python3.6/site-packages/sklearn/linear_model/coordinate_descent.py:491: ConvergenceWarning: Objective did not converge. You might want to increase the number of iterations. Fitting data with very small alpha may cause precision problems.\n",
      "  ConvergenceWarning)\n",
      "/Users/heine2307/anaconda/lib/python3.6/site-packages/sklearn/linear_model/coordinate_descent.py:491: ConvergenceWarning: Objective did not converge. You might want to increase the number of iterations. Fitting data with very small alpha may cause precision problems.\n",
      "  ConvergenceWarning)\n",
      "/Users/heine2307/anaconda/lib/python3.6/site-packages/sklearn/linear_model/coordinate_descent.py:491: ConvergenceWarning: Objective did not converge. You might want to increase the number of iterations. Fitting data with very small alpha may cause precision problems.\n",
      "  ConvergenceWarning)\n",
      "/Users/heine2307/anaconda/lib/python3.6/site-packages/sklearn/linear_model/coordinate_descent.py:491: ConvergenceWarning: Objective did not converge. You might want to increase the number of iterations. Fitting data with very small alpha may cause precision problems.\n",
      "  ConvergenceWarning)\n",
      "/Users/heine2307/anaconda/lib/python3.6/site-packages/sklearn/linear_model/coordinate_descent.py:491: ConvergenceWarning: Objective did not converge. You might want to increase the number of iterations. Fitting data with very small alpha may cause precision problems.\n",
      "  ConvergenceWarning)\n",
      "/Users/heine2307/anaconda/lib/python3.6/site-packages/sklearn/linear_model/coordinate_descent.py:491: ConvergenceWarning: Objective did not converge. You might want to increase the number of iterations. Fitting data with very small alpha may cause precision problems.\n",
      "  ConvergenceWarning)\n",
      "/Users/heine2307/anaconda/lib/python3.6/site-packages/sklearn/linear_model/coordinate_descent.py:491: ConvergenceWarning: Objective did not converge. You might want to increase the number of iterations. Fitting data with very small alpha may cause precision problems.\n",
      "  ConvergenceWarning)\n",
      "/Users/heine2307/anaconda/lib/python3.6/site-packages/sklearn/linear_model/coordinate_descent.py:491: ConvergenceWarning: Objective did not converge. You might want to increase the number of iterations. Fitting data with very small alpha may cause precision problems.\n",
      "  ConvergenceWarning)\n"
     ]
    },
    {
     "name": "stdout",
     "output_type": "stream",
     "text": [
      "MSE & 0.0232 & 0.0234 $\\pm$ 0.0083 & 0.0234 $\\pm$ 0.0008 \\\n",
      "R2 & 0.748 & 0.7131 $\\pm$ 0.1132 & 0.6211 $\\pm$ 0.0241 \\\n",
      "\n",
      "Lambda =  0.01\n",
      "MSE & 0.0377 & 0.0378 $\\pm$ 0.0139 & 0.0382 $\\pm$ 0.0021 \\\n",
      "R2 & 0.5909 & 0.5586 $\\pm$ 0.1043 & -0.2223 $\\pm$ 0.1631 \\\n",
      "\n",
      "Lambda =  0.1\n"
     ]
    },
    {
     "name": "stderr",
     "output_type": "stream",
     "text": [
      "/Users/heine2307/Documents/Universitet/UiO/FYS-STK4155/project1/tools.py:130: RuntimeWarning: divide by zero encountered in double_scalars\n",
      "  return 1 - (np.sum((y-yhat)**2)/np.sum((y-ymean)**2))\n",
      "/Users/heine2307/Documents/Universitet/UiO/FYS-STK4155/project1/tools.py:130: RuntimeWarning: divide by zero encountered in double_scalars\n",
      "  return 1 - (np.sum((y-yhat)**2)/np.sum((y-ymean)**2))\n",
      "/Users/heine2307/Documents/Universitet/UiO/FYS-STK4155/project1/tools.py:130: RuntimeWarning: divide by zero encountered in double_scalars\n",
      "  return 1 - (np.sum((y-yhat)**2)/np.sum((y-ymean)**2))\n",
      "/Users/heine2307/Documents/Universitet/UiO/FYS-STK4155/project1/tools.py:130: RuntimeWarning: divide by zero encountered in double_scalars\n",
      "  return 1 - (np.sum((y-yhat)**2)/np.sum((y-ymean)**2))\n",
      "/Users/heine2307/Documents/Universitet/UiO/FYS-STK4155/project1/tools.py:130: RuntimeWarning: divide by zero encountered in double_scalars\n",
      "  return 1 - (np.sum((y-yhat)**2)/np.sum((y-ymean)**2))\n",
      "/Users/heine2307/Documents/Universitet/UiO/FYS-STK4155/project1/tools.py:130: RuntimeWarning: divide by zero encountered in double_scalars\n",
      "  return 1 - (np.sum((y-yhat)**2)/np.sum((y-ymean)**2))\n",
      "/Users/heine2307/Documents/Universitet/UiO/FYS-STK4155/project1/tools.py:130: RuntimeWarning: divide by zero encountered in double_scalars\n",
      "  return 1 - (np.sum((y-yhat)**2)/np.sum((y-ymean)**2))\n",
      "/Users/heine2307/Documents/Universitet/UiO/FYS-STK4155/project1/tools.py:130: RuntimeWarning: divide by zero encountered in double_scalars\n",
      "  return 1 - (np.sum((y-yhat)**2)/np.sum((y-ymean)**2))\n",
      "/Users/heine2307/Documents/Universitet/UiO/FYS-STK4155/project1/tools.py:130: RuntimeWarning: divide by zero encountered in double_scalars\n",
      "  return 1 - (np.sum((y-yhat)**2)/np.sum((y-ymean)**2))\n",
      "/Users/heine2307/Documents/Universitet/UiO/FYS-STK4155/project1/tools.py:130: RuntimeWarning: divide by zero encountered in double_scalars\n",
      "  return 1 - (np.sum((y-yhat)**2)/np.sum((y-ymean)**2))\n",
      "/Users/heine2307/Documents/Universitet/UiO/FYS-STK4155/project1/tools.py:130: RuntimeWarning: divide by zero encountered in double_scalars\n",
      "  return 1 - (np.sum((y-yhat)**2)/np.sum((y-ymean)**2))\n",
      "/Users/heine2307/Documents/Universitet/UiO/FYS-STK4155/project1/tools.py:130: RuntimeWarning: divide by zero encountered in double_scalars\n",
      "  return 1 - (np.sum((y-yhat)**2)/np.sum((y-ymean)**2))\n",
      "/Users/heine2307/Documents/Universitet/UiO/FYS-STK4155/project1/tools.py:130: RuntimeWarning: divide by zero encountered in double_scalars\n",
      "  return 1 - (np.sum((y-yhat)**2)/np.sum((y-ymean)**2))\n",
      "/Users/heine2307/Documents/Universitet/UiO/FYS-STK4155/project1/tools.py:130: RuntimeWarning: divide by zero encountered in double_scalars\n",
      "  return 1 - (np.sum((y-yhat)**2)/np.sum((y-ymean)**2))\n",
      "/Users/heine2307/Documents/Universitet/UiO/FYS-STK4155/project1/tools.py:130: RuntimeWarning: divide by zero encountered in double_scalars\n",
      "  return 1 - (np.sum((y-yhat)**2)/np.sum((y-ymean)**2))\n",
      "/Users/heine2307/Documents/Universitet/UiO/FYS-STK4155/project1/tools.py:130: RuntimeWarning: divide by zero encountered in double_scalars\n",
      "  return 1 - (np.sum((y-yhat)**2)/np.sum((y-ymean)**2))\n",
      "/Users/heine2307/Documents/Universitet/UiO/FYS-STK4155/project1/tools.py:130: RuntimeWarning: divide by zero encountered in double_scalars\n",
      "  return 1 - (np.sum((y-yhat)**2)/np.sum((y-ymean)**2))\n",
      "/Users/heine2307/Documents/Universitet/UiO/FYS-STK4155/project1/tools.py:130: RuntimeWarning: divide by zero encountered in double_scalars\n",
      "  return 1 - (np.sum((y-yhat)**2)/np.sum((y-ymean)**2))\n",
      "/Users/heine2307/Documents/Universitet/UiO/FYS-STK4155/project1/tools.py:130: RuntimeWarning: divide by zero encountered in double_scalars\n",
      "  return 1 - (np.sum((y-yhat)**2)/np.sum((y-ymean)**2))\n",
      "/Users/heine2307/Documents/Universitet/UiO/FYS-STK4155/project1/tools.py:130: RuntimeWarning: divide by zero encountered in double_scalars\n",
      "  return 1 - (np.sum((y-yhat)**2)/np.sum((y-ymean)**2))\n",
      "/Users/heine2307/Documents/Universitet/UiO/FYS-STK4155/project1/tools.py:130: RuntimeWarning: divide by zero encountered in double_scalars\n",
      "  return 1 - (np.sum((y-yhat)**2)/np.sum((y-ymean)**2))\n",
      "/Users/heine2307/Documents/Universitet/UiO/FYS-STK4155/project1/tools.py:130: RuntimeWarning: divide by zero encountered in double_scalars\n",
      "  return 1 - (np.sum((y-yhat)**2)/np.sum((y-ymean)**2))\n",
      "/Users/heine2307/Documents/Universitet/UiO/FYS-STK4155/project1/tools.py:130: RuntimeWarning: divide by zero encountered in double_scalars\n",
      "  return 1 - (np.sum((y-yhat)**2)/np.sum((y-ymean)**2))\n",
      "/Users/heine2307/Documents/Universitet/UiO/FYS-STK4155/project1/tools.py:130: RuntimeWarning: divide by zero encountered in double_scalars\n",
      "  return 1 - (np.sum((y-yhat)**2)/np.sum((y-ymean)**2))\n",
      "/Users/heine2307/Documents/Universitet/UiO/FYS-STK4155/project1/tools.py:130: RuntimeWarning: divide by zero encountered in double_scalars\n",
      "  return 1 - (np.sum((y-yhat)**2)/np.sum((y-ymean)**2))\n",
      "/Users/heine2307/Documents/Universitet/UiO/FYS-STK4155/project1/tools.py:130: RuntimeWarning: divide by zero encountered in double_scalars\n",
      "  return 1 - (np.sum((y-yhat)**2)/np.sum((y-ymean)**2))\n",
      "/Users/heine2307/Documents/Universitet/UiO/FYS-STK4155/project1/tools.py:130: RuntimeWarning: divide by zero encountered in double_scalars\n",
      "  return 1 - (np.sum((y-yhat)**2)/np.sum((y-ymean)**2))\n",
      "/Users/heine2307/Documents/Universitet/UiO/FYS-STK4155/project1/tools.py:130: RuntimeWarning: divide by zero encountered in double_scalars\n",
      "  return 1 - (np.sum((y-yhat)**2)/np.sum((y-ymean)**2))\n",
      "/Users/heine2307/Documents/Universitet/UiO/FYS-STK4155/project1/tools.py:130: RuntimeWarning: divide by zero encountered in double_scalars\n",
      "  return 1 - (np.sum((y-yhat)**2)/np.sum((y-ymean)**2))\n"
     ]
    },
    {
     "name": "stdout",
     "output_type": "stream",
     "text": [
      "MSE & 0.1021 & 0.1022 $\\pm$ 0.0403 & 0.1017 $\\pm$ 0.005 \\\n",
      "R2 & -0.1085 & -0.1486 $\\pm$ 0.1357 & -inf $\\pm$ nan \\\n",
      "\n"
     ]
    },
    {
     "name": "stderr",
     "output_type": "stream",
     "text": [
      "/Users/heine2307/Documents/Universitet/UiO/FYS-STK4155/project1/tools.py:130: RuntimeWarning: divide by zero encountered in double_scalars\n",
      "  return 1 - (np.sum((y-yhat)**2)/np.sum((y-ymean)**2))\n",
      "/Users/heine2307/Documents/Universitet/UiO/FYS-STK4155/project1/tools.py:130: RuntimeWarning: divide by zero encountered in double_scalars\n",
      "  return 1 - (np.sum((y-yhat)**2)/np.sum((y-ymean)**2))\n",
      "/Users/heine2307/Documents/Universitet/UiO/FYS-STK4155/project1/tools.py:130: RuntimeWarning: divide by zero encountered in double_scalars\n",
      "  return 1 - (np.sum((y-yhat)**2)/np.sum((y-ymean)**2))\n",
      "/Users/heine2307/Documents/Universitet/UiO/FYS-STK4155/project1/tools.py:130: RuntimeWarning: divide by zero encountered in double_scalars\n",
      "  return 1 - (np.sum((y-yhat)**2)/np.sum((y-ymean)**2))\n",
      "/Users/heine2307/Documents/Universitet/UiO/FYS-STK4155/project1/tools.py:130: RuntimeWarning: divide by zero encountered in double_scalars\n",
      "  return 1 - (np.sum((y-yhat)**2)/np.sum((y-ymean)**2))\n",
      "/Users/heine2307/Documents/Universitet/UiO/FYS-STK4155/project1/tools.py:130: RuntimeWarning: divide by zero encountered in double_scalars\n",
      "  return 1 - (np.sum((y-yhat)**2)/np.sum((y-ymean)**2))\n",
      "/Users/heine2307/Documents/Universitet/UiO/FYS-STK4155/project1/tools.py:130: RuntimeWarning: divide by zero encountered in double_scalars\n",
      "  return 1 - (np.sum((y-yhat)**2)/np.sum((y-ymean)**2))\n",
      "/Users/heine2307/Documents/Universitet/UiO/FYS-STK4155/project1/tools.py:130: RuntimeWarning: divide by zero encountered in double_scalars\n",
      "  return 1 - (np.sum((y-yhat)**2)/np.sum((y-ymean)**2))\n",
      "/Users/heine2307/Documents/Universitet/UiO/FYS-STK4155/project1/tools.py:130: RuntimeWarning: divide by zero encountered in double_scalars\n",
      "  return 1 - (np.sum((y-yhat)**2)/np.sum((y-ymean)**2))\n",
      "/Users/heine2307/Documents/Universitet/UiO/FYS-STK4155/project1/tools.py:130: RuntimeWarning: divide by zero encountered in double_scalars\n",
      "  return 1 - (np.sum((y-yhat)**2)/np.sum((y-ymean)**2))\n",
      "/Users/heine2307/Documents/Universitet/UiO/FYS-STK4155/project1/tools.py:130: RuntimeWarning: divide by zero encountered in double_scalars\n",
      "  return 1 - (np.sum((y-yhat)**2)/np.sum((y-ymean)**2))\n",
      "/Users/heine2307/Documents/Universitet/UiO/FYS-STK4155/project1/tools.py:130: RuntimeWarning: divide by zero encountered in double_scalars\n",
      "  return 1 - (np.sum((y-yhat)**2)/np.sum((y-ymean)**2))\n",
      "/Users/heine2307/Documents/Universitet/UiO/FYS-STK4155/project1/tools.py:130: RuntimeWarning: divide by zero encountered in double_scalars\n",
      "  return 1 - (np.sum((y-yhat)**2)/np.sum((y-ymean)**2))\n",
      "/Users/heine2307/Documents/Universitet/UiO/FYS-STK4155/project1/tools.py:130: RuntimeWarning: divide by zero encountered in double_scalars\n",
      "  return 1 - (np.sum((y-yhat)**2)/np.sum((y-ymean)**2))\n",
      "/Users/heine2307/Documents/Universitet/UiO/FYS-STK4155/project1/tools.py:130: RuntimeWarning: divide by zero encountered in double_scalars\n",
      "  return 1 - (np.sum((y-yhat)**2)/np.sum((y-ymean)**2))\n",
      "/Users/heine2307/Documents/Universitet/UiO/FYS-STK4155/project1/tools.py:130: RuntimeWarning: divide by zero encountered in double_scalars\n",
      "  return 1 - (np.sum((y-yhat)**2)/np.sum((y-ymean)**2))\n",
      "/Users/heine2307/Documents/Universitet/UiO/FYS-STK4155/project1/tools.py:130: RuntimeWarning: divide by zero encountered in double_scalars\n",
      "  return 1 - (np.sum((y-yhat)**2)/np.sum((y-ymean)**2))\n",
      "/Users/heine2307/Documents/Universitet/UiO/FYS-STK4155/project1/tools.py:130: RuntimeWarning: divide by zero encountered in double_scalars\n",
      "  return 1 - (np.sum((y-yhat)**2)/np.sum((y-ymean)**2))\n",
      "/Users/heine2307/Documents/Universitet/UiO/FYS-STK4155/project1/tools.py:130: RuntimeWarning: divide by zero encountered in double_scalars\n",
      "  return 1 - (np.sum((y-yhat)**2)/np.sum((y-ymean)**2))\n",
      "/Users/heine2307/Documents/Universitet/UiO/FYS-STK4155/project1/tools.py:130: RuntimeWarning: divide by zero encountered in double_scalars\n",
      "  return 1 - (np.sum((y-yhat)**2)/np.sum((y-ymean)**2))\n",
      "/Users/heine2307/Documents/Universitet/UiO/FYS-STK4155/project1/tools.py:130: RuntimeWarning: divide by zero encountered in double_scalars\n",
      "  return 1 - (np.sum((y-yhat)**2)/np.sum((y-ymean)**2))\n",
      "/Users/heine2307/Documents/Universitet/UiO/FYS-STK4155/project1/tools.py:130: RuntimeWarning: divide by zero encountered in double_scalars\n",
      "  return 1 - (np.sum((y-yhat)**2)/np.sum((y-ymean)**2))\n",
      "/Users/heine2307/Documents/Universitet/UiO/FYS-STK4155/project1/tools.py:130: RuntimeWarning: divide by zero encountered in double_scalars\n",
      "  return 1 - (np.sum((y-yhat)**2)/np.sum((y-ymean)**2))\n",
      "/Users/heine2307/Documents/Universitet/UiO/FYS-STK4155/project1/tools.py:130: RuntimeWarning: divide by zero encountered in double_scalars\n",
      "  return 1 - (np.sum((y-yhat)**2)/np.sum((y-ymean)**2))\n",
      "/Users/heine2307/anaconda/lib/python3.6/site-packages/numpy/core/_methods.py:117: RuntimeWarning: invalid value encountered in subtract\n",
      "  x = asanyarray(arr - arrmean)\n"
     ]
    }
   ],
   "source": [
    "lmbd_val = [0.001,0.01,0.1]\n",
    "for l,lmbd in enumerate(lmbd_val):\n",
    "    print('Lambda = ',lmbd)\n",
    "    print_scores_with_resmpl(X,z, lmbd=lmbd, method = 'lasso', smplsize=1000)\n",
    "    print('')"
   ]
  },
  {
   "cell_type": "markdown",
   "metadata": {},
   "source": [
    "##### Beta coefficients and their confidence intervals\n",
    "Confidence intervals not correct, using formula for OLS "
   ]
  },
  {
   "cell_type": "code",
   "execution_count": 36,
   "metadata": {
    "collapsed": false
   },
   "outputs": [
    {
     "name": "stdout",
     "output_type": "stream",
     "text": [
      "lambda =  0.001\n",
      "MSE:  0.023262296665577765\n",
      "R2:  0.7474981038644952\n",
      "----- Conf. int.: -----\n",
      "$j=0$ & 0.9932 $\\pm$ 0.0136 \\\n",
      "$j=5$ & -0.1787 $\\pm$ 0.0400 \\\n",
      "$j=10$ & 0.0000 $\\pm$ 0.0000 \\\n",
      "$j=15$ & 0.6032 $\\pm$ 0.0259 \\\n",
      "$j=20$ & -0.0000 $\\pm$ 0.0000 \\\n",
      "\n",
      "lambda =  0.01\n",
      "MSE:  0.03769370918273045\n",
      "R2:  0.5908515320800836\n",
      "----- Conf. int.: -----\n",
      "$j=0$ & 0.6952 $\\pm$ 0.0163 \\\n",
      "$j=5$ & -0.1609 $\\pm$ 0.0398 \\\n",
      "$j=10$ & -0.0000 $\\pm$ 0.0000 \\\n",
      "$j=15$ & -0.0000 $\\pm$ 0.0000 \\\n",
      "$j=20$ & -0.0000 $\\pm$ 0.0000 \\\n",
      "\n",
      "lambda =  0.1\n",
      "MSE:  0.1021272157619525\n",
      "R2:  -0.10854555754554651\n",
      "----- Conf. int.: -----\n",
      "$j=0$ & 0.3012 $\\pm$ 0.0060 \\\n",
      "$j=5$ & -0.0000 $\\pm$ 0.0000 \\\n",
      "$j=10$ & -0.0000 $\\pm$ 0.0000 \\\n",
      "$j=15$ & -0.0000 $\\pm$ 0.0000 \\\n",
      "$j=20$ & -0.0000 $\\pm$ 0.0000 \\\n",
      "\n"
     ]
    },
    {
     "data": {
      "image/png": "[encoded data removed]",
      "text/plain": [
       "<Figure size 432x288 with 4 Axes>"
      ]
     },
     "metadata": {},
     "output_type": "display_data"
    }
   ],
   "source": [
    "lmbd_val = [0.001,0.01,0.1]\n",
    "for l, lmbd in enumerate(lmbd_val):    \n",
    "    print('lambda = ',lmbd)\n",
    "    lassoBeta(X,z,lambd=lmbd, errors=True)\n",
    "    print('')"
   ]
  },
  {
   "cell_type": "markdown",
   "metadata": {
    "collapsed": true
   },
   "source": [
    "# Plot beta as a function of lambda"
   ]
  },
  {
   "cell_type": "code",
   "execution_count": 24,
   "metadata": {
    "collapsed": false
   },
   "outputs": [
    {
     "name": "stdout",
     "output_type": "stream",
     "text": [
      "Run:  99\n"
     ]
    },
    {
     "data": {
      "image/png": "[encoded data removed]",
      "text/plain": [
       "<Figure size 504x360 with 1 Axes>"
      ]
     },
     "metadata": {},
     "output_type": "display_data"
    }
   ],
   "source": [
    "runs = 100\n",
    "#bnum = 10\n",
    "\n",
    "# OLS beta is not dependent of lambda, so every point is the same\n",
    "#Sb,Sv,Ss = olsBeta(X,z)\n",
    "#Bnum = np.argsort(np.abs(Sb))\n",
    "#bnum = Bnum[0]\n",
    "#print('Bnum: ',bnum)\n",
    "#Sbeta = np.ones(runs)*Sb[bnum]\n",
    "#Svar = np.ones(runs)*Sv[bnum]\n",
    "#Ssig = np.ones(runs)*Ss\n",
    "\n",
    "#Rbeta = np.zeros(runs)\n",
    "#Rvar = np.zeros(runs)\n",
    "#Rsig = np.zeros(runs)\n",
    "\n",
    "#Rlist = np.zeros((runs,X.shape[1]))\n",
    "\n",
    "#Lbeta = np.zeros(runs)\n",
    "#Lvar = np.zeros(runs)\n",
    "#Lsig = np.zeros(runs)\n",
    "\n",
    "Lsig = np.zeros((runs,X.shape[1]))\n",
    "Llist = np.zeros((runs,X.shape[1]))\n",
    "\n",
    "#x = 100*np.log10(np.arange(runs))\n",
    "x_ = np.logspace(-5, 0, runs)\n",
    "#x_ = np.linspace(0, 0.4, runs)\n",
    "\n",
    "for i, lambd in enumerate(x_):\n",
    "    clear_output(wait=True)\n",
    "    print('Run: ', i)\n",
    "    #Rb,Rv,Rs = ridgeBeta(X,z,lambd=lambd)\n",
    "    #Rbeta[i] = Rb[bnum]\n",
    "    #Rvar[i] = Rv[bnum]\n",
    "    #Rsig[i] = Rs\n",
    "    #Rlist[i][:] = Rb\n",
    "    \n",
    "    #b = tools.k_fold_val(x,y,z, statistic_func=beta_stat, return_average=False,method='lasso',lmbd=lambd, k=10)\n",
    "    #_,Ls = beta_best(b)\n",
    "    \n",
    "    Lb,Lv,Ls = lassoBeta(X,z,lambd=lambd)\n",
    "    #Lbeta[i] = Lb[bnum]\n",
    "    #Lvar[i] = Lv[bnum]\n",
    "    #Lsig[i][:] = Ls\n",
    "    Llist[i][:] = Lb\n",
    "\n",
    "# #OLS\n",
    "# plt.plot(x,Sbeta, 'r-')\n",
    "# plt.fill_between(x,Sbeta+Ssig,Sbeta-Ssig,alpha=0.1,color='r')\n",
    "# #Ridge\n",
    "# plt.plot(x,Rbeta, 'b-')\n",
    "# plt.fill_between(x,Rbeta+Rsig,Rbeta-Rsig,alpha=0.1,color='b')\n",
    "# #Lasso\n",
    "# plt.plot(x,Lbeta, 'g-')\n",
    "# plt.fill_between(x,Lbeta+Lsig,Lbeta-Lsig,alpha=0.1,color='g')\n",
    "\n",
    "plt.rcParams.update({'font.size': 16})\n",
    "# figridge = plt.figure(figsize=[7,5])\n",
    "# #plt.subplot(121)\n",
    "# for i in range(X.shape[1]):\n",
    "#     plt.semilogx(x_,Rlist.T[i])#,'b-')\n",
    "#     plt.fill_between(x_,Rlist.T[i]+Rsig,Rlist.T[i]-Rsig,alpha=0.1)#,color='b')\n",
    "# plt.xlabel(r'$ \\lambda $',fontsize=15)\n",
    "# plt.ylabel(r'$ \\beta_j $',fontsize=15)\n",
    "# plt.title('Ridge',fontsize=20)\n",
    "# #plt.legend(['B_{}'.format(i) for i in range(X.shape[1])])\n",
    "# plt.savefig('betaRidge.pdf')\n",
    "\n",
    "#print(Llist.T[2])\n",
    "#print(Lsig.T[2])\n",
    "\n",
    "figlasso = plt.figure(figsize=[7,5])\n",
    "for i in range(X.shape[1]):\n",
    "    plt.semilogx(x_,Llist.T[i])#,'g-')\n",
    "    plt.fill_between(x_,Llist.T[i]+Lsig.T[i],Llist.T[i]-Lsig.T[i],alpha=0.1)#,color='g')\n",
    "plt.xlabel(r'$ \\lambda $',fontsize=15)\n",
    "plt.ylabel(r'$ \\beta_j $',fontsize=15)\n",
    "plt.title('Lasso',fontsize=20)\n",
    "plt.savefig('betaLasso.pdf')\n",
    "\n",
    "plt.show()"
   ]
  },
  {
   "cell_type": "code",
   "execution_count": 32,
   "metadata": {
    "collapsed": false
   },
   "outputs": [
    {
     "name": "stderr",
     "output_type": "stream",
     "text": [
      "No handles with labels found to put in legend.\n",
      "No handles with labels found to put in legend.\n",
      "No handles with labels found to put in legend.\n",
      "No handles with labels found to put in legend.\n",
      "No handles with labels found to put in legend.\n",
      "No handles with labels found to put in legend.\n",
      "No handles with labels found to put in legend.\n",
      "No handles with labels found to put in legend.\n",
      "No handles with labels found to put in legend.\n",
      "No handles with labels found to put in legend.\n",
      "No handles with labels found to put in legend.\n",
      "No handles with labels found to put in legend.\n",
      "No handles with labels found to put in legend.\n",
      "No handles with labels found to put in legend.\n",
      "No handles with labels found to put in legend.\n",
      "No handles with labels found to put in legend.\n",
      "No handles with labels found to put in legend.\n",
      "No handles with labels found to put in legend.\n",
      "No handles with labels found to put in legend.\n",
      "No handles with labels found to put in legend.\n",
      "No handles with labels found to put in legend.\n"
     ]
    },
    {
     "data": {
      "image/png": "[encoded data removed]",
      "text/plain": [
       "<Figure size 504x360 with 1 Axes>"
      ]
     },
     "metadata": {},
     "output_type": "display_data"
    }
   ],
   "source": [
    "figlasso = plt.figure(figsize=[7,5])\n",
    "for i in range(X.shape[1]):\n",
    "    plt.semilogx(x_,Llist.T[i])#,'g-')\n",
    "    plt.fill_between(x_,Llist.T[i]+Lsig.T[i],Llist.T[i]-Lsig.T[i],alpha=0.1)#,color='g')\n",
    "plt.xlabel(r'$ \\lambda $',fontsize=15)\n",
    "plt.ylabel(r'$ \\beta_j $',fontsize=15)\n",
    "plt.title('Lasso',fontsize=20)\n",
    "plt.legend()\n",
    "plt.savefig('betaLasso.pdf')\n",
    "\n",
    "plt.show()"
   ]
  },
  {
   "cell_type": "code",
   "execution_count": 7,
   "metadata": {
    "collapsed": true
   },
   "outputs": [],
   "source": [
    "def beta_stat(regr,*args):\n",
    "    return regr.coef_\n",
    "\n",
    "def beta_best(betalist):\n",
    "    n = betalist.shape[1]\n",
    "    std = np.zeros(n)\n",
    "    best = np.zeros(n)\n",
    "    for i in range(n):\n",
    "        betas = betalist.T[i]\n",
    "        best[i] = np.mean(betas)\n",
    "        std[i] = np.std(betas)\n",
    "    return best,std"
   ]
  },
  {
   "cell_type": "code",
   "execution_count": 183,
   "metadata": {
    "collapsed": false
   },
   "outputs": [
    {
     "name": "stdout",
     "output_type": "stream",
     "text": [
      "[ 0.70289787  0.         -0.18324824 -0.4939158   0.         -0.15255257\n",
      "  0.          0.          0.          0.          0.          0.\n",
      "  0.          0.          0.          0.          0.          0.\n",
      "  0.          0.          0.        ]\n",
      "[0.00695038 0.         0.02122864 0.00457467 0.         0.01844904\n",
      " 0.         0.         0.         0.         0.         0.\n",
      " 0.         0.         0.         0.         0.         0.\n",
      " 0.         0.         0.        ]\n",
      "[ 0.7029158  -0.         -0.18328536 -0.49398098 -0.         -0.15250024\n",
      " -0.         -0.         -0.         -0.         -0.         -0.\n",
      " -0.         -0.         -0.         -0.         -0.         -0.\n",
      " -0.         -0.         -0.        ]\n"
     ]
    }
   ],
   "source": [
    "b = tools.k_fold_val(x,y,z, statistic_func=beta_stat, return_average=False,method='lasso',lmbd=lambd, k=10)\n",
    "be,s = beta_best(b)\n",
    "print(be)\n",
    "print(s)\n",
    "\n",
    "q,w,e = lassoBeta(X,z,lambd = lambd, errors=False)\n",
    "print(q)\n"
   ]
  },
  {
   "cell_type": "code",
   "execution_count": null,
   "metadata": {
    "collapsed": true
   },
   "outputs": [],
   "source": []
  },
  {
   "cell_type": "code",
   "execution_count": 393,
   "metadata": {
    "collapsed": false
   },
   "outputs": [
    {
     "data": {
      "image/png": "[encoded data removed]",
      "text/plain": [
       "<Figure size 432x288 with 2 Axes>"
      ]
     },
     "metadata": {},
     "output_type": "display_data"
    }
   ],
   "source": [
    "import plotting\n",
    "regr = tools.Regression(X,z,lmbd = 0.01)\n",
    "zpred = regr.yhat\n",
    "\n",
    "plotting.plot_covar(deg=5,regr=regr, save_plot=True)\n",
    "\n",
    "#cl = plt.imshow(regr.betaVar)\n",
    "#plt.colorbar(cl)"
   ]
  },
  {
   "cell_type": "markdown",
   "metadata": {
    "collapsed": true
   },
   "source": [
    "# LASSO noise dependency plot"
   ]
  },
  {
   "cell_type": "code",
   "execution_count": 65,
   "metadata": {
    "collapsed": false
   },
   "outputs": [
    {
     "name": "stdout",
     "output_type": "stream",
     "text": [
      "yes\n",
      "yes\n",
      "yes\n"
     ]
    },
    {
     "name": "stderr",
     "output_type": "stream",
     "text": [
      "/Users/heine2307/anaconda/lib/python3.6/site-packages/sklearn/linear_model/coordinate_descent.py:491: ConvergenceWarning: Objective did not converge. You might want to increase the number of iterations. Fitting data with very small alpha may cause precision problems.\n",
      "  ConvergenceWarning)\n",
      "/Users/heine2307/anaconda/lib/python3.6/site-packages/sklearn/linear_model/coordinate_descent.py:491: ConvergenceWarning: Objective did not converge. You might want to increase the number of iterations. Fitting data with very small alpha may cause precision problems.\n",
      "  ConvergenceWarning)\n",
      "/Users/heine2307/anaconda/lib/python3.6/site-packages/sklearn/linear_model/coordinate_descent.py:491: ConvergenceWarning: Objective did not converge. You might want to increase the number of iterations. Fitting data with very small alpha may cause precision problems.\n",
      "  ConvergenceWarning)\n",
      "/Users/heine2307/anaconda/lib/python3.6/site-packages/sklearn/linear_model/coordinate_descent.py:491: ConvergenceWarning: Objective did not converge. You might want to increase the number of iterations. Fitting data with very small alpha may cause precision problems.\n",
      "  ConvergenceWarning)\n",
      "/Users/heine2307/anaconda/lib/python3.6/site-packages/sklearn/linear_model/coordinate_descent.py:491: ConvergenceWarning: Objective did not converge. You might want to increase the number of iterations. Fitting data with very small alpha may cause precision problems.\n",
      "  ConvergenceWarning)\n",
      "/Users/heine2307/anaconda/lib/python3.6/site-packages/sklearn/linear_model/coordinate_descent.py:491: ConvergenceWarning: Objective did not converge. You might want to increase the number of iterations. Fitting data with very small alpha may cause precision problems.\n",
      "  ConvergenceWarning)\n",
      "/Users/heine2307/anaconda/lib/python3.6/site-packages/sklearn/linear_model/coordinate_descent.py:491: ConvergenceWarning: Objective did not converge. You might want to increase the number of iterations. Fitting data with very small alpha may cause precision problems.\n",
      "  ConvergenceWarning)\n",
      "/Users/heine2307/anaconda/lib/python3.6/site-packages/sklearn/linear_model/coordinate_descent.py:491: ConvergenceWarning: Objective did not converge. You might want to increase the number of iterations. Fitting data with very small alpha may cause precision problems.\n",
      "  ConvergenceWarning)\n",
      "/Users/heine2307/anaconda/lib/python3.6/site-packages/sklearn/linear_model/coordinate_descent.py:491: ConvergenceWarning: Objective did not converge. You might want to increase the number of iterations. Fitting data with very small alpha may cause precision problems.\n",
      "  ConvergenceWarning)\n",
      "/Users/heine2307/anaconda/lib/python3.6/site-packages/sklearn/linear_model/coordinate_descent.py:491: ConvergenceWarning: Objective did not converge. You might want to increase the number of iterations. Fitting data with very small alpha may cause precision problems.\n",
      "  ConvergenceWarning)\n"
     ]
    },
    {
     "name": "stdout",
     "output_type": "stream",
     "text": [
      "yes\n",
      "yes\n",
      "yes\n"
     ]
    },
    {
     "name": "stderr",
     "output_type": "stream",
     "text": [
      "/Users/heine2307/anaconda/lib/python3.6/site-packages/sklearn/linear_model/coordinate_descent.py:491: ConvergenceWarning: Objective did not converge. You might want to increase the number of iterations. Fitting data with very small alpha may cause precision problems.\n",
      "  ConvergenceWarning)\n",
      "/Users/heine2307/anaconda/lib/python3.6/site-packages/sklearn/linear_model/coordinate_descent.py:491: ConvergenceWarning: Objective did not converge. You might want to increase the number of iterations. Fitting data with very small alpha may cause precision problems.\n",
      "  ConvergenceWarning)\n",
      "/Users/heine2307/anaconda/lib/python3.6/site-packages/sklearn/linear_model/coordinate_descent.py:491: ConvergenceWarning: Objective did not converge. You might want to increase the number of iterations. Fitting data with very small alpha may cause precision problems.\n",
      "  ConvergenceWarning)\n",
      "/Users/heine2307/anaconda/lib/python3.6/site-packages/sklearn/linear_model/coordinate_descent.py:491: ConvergenceWarning: Objective did not converge. You might want to increase the number of iterations. Fitting data with very small alpha may cause precision problems.\n",
      "  ConvergenceWarning)\n"
     ]
    },
    {
     "name": "stdout",
     "output_type": "stream",
     "text": [
      "yes\n",
      "yes\n"
     ]
    },
    {
     "name": "stderr",
     "output_type": "stream",
     "text": [
      "/Users/heine2307/anaconda/lib/python3.6/site-packages/sklearn/linear_model/coordinate_descent.py:491: ConvergenceWarning: Objective did not converge. You might want to increase the number of iterations. Fitting data with very small alpha may cause precision problems.\n",
      "  ConvergenceWarning)\n",
      "/Users/heine2307/anaconda/lib/python3.6/site-packages/sklearn/linear_model/coordinate_descent.py:491: ConvergenceWarning: Objective did not converge. You might want to increase the number of iterations. Fitting data with very small alpha may cause precision problems.\n",
      "  ConvergenceWarning)\n",
      "/Users/heine2307/anaconda/lib/python3.6/site-packages/sklearn/linear_model/coordinate_descent.py:491: ConvergenceWarning: Objective did not converge. You might want to increase the number of iterations. Fitting data with very small alpha may cause precision problems.\n",
      "  ConvergenceWarning)\n",
      "/Users/heine2307/anaconda/lib/python3.6/site-packages/sklearn/linear_model/coordinate_descent.py:491: ConvergenceWarning: Objective did not converge. You might want to increase the number of iterations. Fitting data with very small alpha may cause precision problems.\n",
      "  ConvergenceWarning)\n"
     ]
    },
    {
     "name": "stdout",
     "output_type": "stream",
     "text": [
      "yes\n",
      "yes\n"
     ]
    },
    {
     "name": "stderr",
     "output_type": "stream",
     "text": [
      "/Users/heine2307/anaconda/lib/python3.6/site-packages/sklearn/linear_model/coordinate_descent.py:491: ConvergenceWarning: Objective did not converge. You might want to increase the number of iterations. Fitting data with very small alpha may cause precision problems.\n",
      "  ConvergenceWarning)\n",
      "/Users/heine2307/anaconda/lib/python3.6/site-packages/sklearn/linear_model/coordinate_descent.py:491: ConvergenceWarning: Objective did not converge. You might want to increase the number of iterations. Fitting data with very small alpha may cause precision problems.\n",
      "  ConvergenceWarning)\n",
      "/Users/heine2307/anaconda/lib/python3.6/site-packages/sklearn/linear_model/coordinate_descent.py:491: ConvergenceWarning: Objective did not converge. You might want to increase the number of iterations. Fitting data with very small alpha may cause precision problems.\n",
      "  ConvergenceWarning)\n",
      "/Users/heine2307/anaconda/lib/python3.6/site-packages/sklearn/linear_model/coordinate_descent.py:491: ConvergenceWarning: Objective did not converge. You might want to increase the number of iterations. Fitting data with very small alpha may cause precision problems.\n",
      "  ConvergenceWarning)\n",
      "/Users/heine2307/anaconda/lib/python3.6/site-packages/sklearn/linear_model/coordinate_descent.py:491: ConvergenceWarning: Objective did not converge. You might want to increase the number of iterations. Fitting data with very small alpha may cause precision problems.\n",
      "  ConvergenceWarning)\n"
     ]
    },
    {
     "name": "stdout",
     "output_type": "stream",
     "text": [
      "yes\n",
      "yes\n",
      "yes\n"
     ]
    },
    {
     "name": "stderr",
     "output_type": "stream",
     "text": [
      "/Users/heine2307/anaconda/lib/python3.6/site-packages/sklearn/linear_model/coordinate_descent.py:491: ConvergenceWarning: Objective did not converge. You might want to increase the number of iterations. Fitting data with very small alpha may cause precision problems.\n",
      "  ConvergenceWarning)\n",
      "/Users/heine2307/anaconda/lib/python3.6/site-packages/sklearn/linear_model/coordinate_descent.py:491: ConvergenceWarning: Objective did not converge. You might want to increase the number of iterations. Fitting data with very small alpha may cause precision problems.\n",
      "  ConvergenceWarning)\n",
      "/Users/heine2307/anaconda/lib/python3.6/site-packages/sklearn/linear_model/coordinate_descent.py:491: ConvergenceWarning: Objective did not converge. You might want to increase the number of iterations. Fitting data with very small alpha may cause precision problems.\n",
      "  ConvergenceWarning)\n",
      "/Users/heine2307/anaconda/lib/python3.6/site-packages/sklearn/linear_model/coordinate_descent.py:491: ConvergenceWarning: Objective did not converge. You might want to increase the number of iterations. Fitting data with very small alpha may cause precision problems.\n",
      "  ConvergenceWarning)\n"
     ]
    },
    {
     "name": "stdout",
     "output_type": "stream",
     "text": [
      "yes\n",
      "yes\n"
     ]
    },
    {
     "name": "stderr",
     "output_type": "stream",
     "text": [
      "/Users/heine2307/anaconda/lib/python3.6/site-packages/sklearn/linear_model/coordinate_descent.py:491: ConvergenceWarning: Objective did not converge. You might want to increase the number of iterations. Fitting data with very small alpha may cause precision problems.\n",
      "  ConvergenceWarning)\n",
      "/Users/heine2307/anaconda/lib/python3.6/site-packages/sklearn/linear_model/coordinate_descent.py:491: ConvergenceWarning: Objective did not converge. You might want to increase the number of iterations. Fitting data with very small alpha may cause precision problems.\n",
      "  ConvergenceWarning)\n",
      "/Users/heine2307/anaconda/lib/python3.6/site-packages/sklearn/linear_model/coordinate_descent.py:491: ConvergenceWarning: Objective did not converge. You might want to increase the number of iterations. Fitting data with very small alpha may cause precision problems.\n",
      "  ConvergenceWarning)\n",
      "/Users/heine2307/anaconda/lib/python3.6/site-packages/sklearn/linear_model/coordinate_descent.py:491: ConvergenceWarning: Objective did not converge. You might want to increase the number of iterations. Fitting data with very small alpha may cause precision problems.\n",
      "  ConvergenceWarning)\n"
     ]
    },
    {
     "name": "stdout",
     "output_type": "stream",
     "text": [
      "yes\n",
      "yes\n"
     ]
    },
    {
     "name": "stderr",
     "output_type": "stream",
     "text": [
      "/Users/heine2307/anaconda/lib/python3.6/site-packages/sklearn/linear_model/coordinate_descent.py:491: ConvergenceWarning: Objective did not converge. You might want to increase the number of iterations. Fitting data with very small alpha may cause precision problems.\n",
      "  ConvergenceWarning)\n",
      "/Users/heine2307/anaconda/lib/python3.6/site-packages/sklearn/linear_model/coordinate_descent.py:491: ConvergenceWarning: Objective did not converge. You might want to increase the number of iterations. Fitting data with very small alpha may cause precision problems.\n",
      "  ConvergenceWarning)\n",
      "/Users/heine2307/anaconda/lib/python3.6/site-packages/sklearn/linear_model/coordinate_descent.py:491: ConvergenceWarning: Objective did not converge. You might want to increase the number of iterations. Fitting data with very small alpha may cause precision problems.\n",
      "  ConvergenceWarning)\n"
     ]
    },
    {
     "name": "stdout",
     "output_type": "stream",
     "text": [
      "yes\n",
      "yes\n"
     ]
    },
    {
     "name": "stderr",
     "output_type": "stream",
     "text": [
      "/Users/heine2307/anaconda/lib/python3.6/site-packages/sklearn/linear_model/coordinate_descent.py:491: ConvergenceWarning: Objective did not converge. You might want to increase the number of iterations. Fitting data with very small alpha may cause precision problems.\n",
      "  ConvergenceWarning)\n",
      "/Users/heine2307/anaconda/lib/python3.6/site-packages/sklearn/linear_model/coordinate_descent.py:491: ConvergenceWarning: Objective did not converge. You might want to increase the number of iterations. Fitting data with very small alpha may cause precision problems.\n",
      "  ConvergenceWarning)\n",
      "/Users/heine2307/anaconda/lib/python3.6/site-packages/sklearn/linear_model/coordinate_descent.py:491: ConvergenceWarning: Objective did not converge. You might want to increase the number of iterations. Fitting data with very small alpha may cause precision problems.\n",
      "  ConvergenceWarning)\n",
      "/Users/heine2307/anaconda/lib/python3.6/site-packages/sklearn/linear_model/coordinate_descent.py:491: ConvergenceWarning: Objective did not converge. You might want to increase the number of iterations. Fitting data with very small alpha may cause precision problems.\n",
      "  ConvergenceWarning)\n",
      "/Users/heine2307/anaconda/lib/python3.6/site-packages/sklearn/linear_model/coordinate_descent.py:491: ConvergenceWarning: Objective did not converge. You might want to increase the number of iterations. Fitting data with very small alpha may cause precision problems.\n",
      "  ConvergenceWarning)\n"
     ]
    },
    {
     "name": "stdout",
     "output_type": "stream",
     "text": [
      "yes\n",
      "yes\n",
      "yes\n"
     ]
    },
    {
     "name": "stderr",
     "output_type": "stream",
     "text": [
      "/Users/heine2307/anaconda/lib/python3.6/site-packages/sklearn/linear_model/coordinate_descent.py:491: ConvergenceWarning: Objective did not converge. You might want to increase the number of iterations. Fitting data with very small alpha may cause precision problems.\n",
      "  ConvergenceWarning)\n",
      "/Users/heine2307/anaconda/lib/python3.6/site-packages/sklearn/linear_model/coordinate_descent.py:491: ConvergenceWarning: Objective did not converge. You might want to increase the number of iterations. Fitting data with very small alpha may cause precision problems.\n",
      "  ConvergenceWarning)\n",
      "/Users/heine2307/anaconda/lib/python3.6/site-packages/sklearn/linear_model/coordinate_descent.py:491: ConvergenceWarning: Objective did not converge. You might want to increase the number of iterations. Fitting data with very small alpha may cause precision problems.\n",
      "  ConvergenceWarning)\n",
      "/Users/heine2307/anaconda/lib/python3.6/site-packages/sklearn/linear_model/coordinate_descent.py:491: ConvergenceWarning: Objective did not converge. You might want to increase the number of iterations. Fitting data with very small alpha may cause precision problems.\n",
      "  ConvergenceWarning)\n",
      "/Users/heine2307/anaconda/lib/python3.6/site-packages/sklearn/linear_model/coordinate_descent.py:491: ConvergenceWarning: Objective did not converge. You might want to increase the number of iterations. Fitting data with very small alpha may cause precision problems.\n",
      "  ConvergenceWarning)\n"
     ]
    },
    {
     "name": "stdout",
     "output_type": "stream",
     "text": [
      "yes\n",
      "yes\n"
     ]
    },
    {
     "name": "stderr",
     "output_type": "stream",
     "text": [
      "/Users/heine2307/anaconda/lib/python3.6/site-packages/sklearn/linear_model/coordinate_descent.py:491: ConvergenceWarning: Objective did not converge. You might want to increase the number of iterations. Fitting data with very small alpha may cause precision problems.\n",
      "  ConvergenceWarning)\n",
      "/Users/heine2307/anaconda/lib/python3.6/site-packages/sklearn/linear_model/coordinate_descent.py:491: ConvergenceWarning: Objective did not converge. You might want to increase the number of iterations. Fitting data with very small alpha may cause precision problems.\n",
      "  ConvergenceWarning)\n",
      "/Users/heine2307/anaconda/lib/python3.6/site-packages/sklearn/linear_model/coordinate_descent.py:491: ConvergenceWarning: Objective did not converge. You might want to increase the number of iterations. Fitting data with very small alpha may cause precision problems.\n",
      "  ConvergenceWarning)\n",
      "/Users/heine2307/anaconda/lib/python3.6/site-packages/sklearn/linear_model/coordinate_descent.py:491: ConvergenceWarning: Objective did not converge. You might want to increase the number of iterations. Fitting data with very small alpha may cause precision problems.\n",
      "  ConvergenceWarning)\n",
      "/Users/heine2307/anaconda/lib/python3.6/site-packages/sklearn/linear_model/coordinate_descent.py:491: ConvergenceWarning: Objective did not converge. You might want to increase the number of iterations. Fitting data with very small alpha may cause precision problems.\n",
      "  ConvergenceWarning)\n"
     ]
    },
    {
     "name": "stdout",
     "output_type": "stream",
     "text": [
      "yes\n",
      "yes\n"
     ]
    },
    {
     "name": "stderr",
     "output_type": "stream",
     "text": [
      "/Users/heine2307/anaconda/lib/python3.6/site-packages/sklearn/linear_model/coordinate_descent.py:491: ConvergenceWarning: Objective did not converge. You might want to increase the number of iterations. Fitting data with very small alpha may cause precision problems.\n",
      "  ConvergenceWarning)\n",
      "/Users/heine2307/anaconda/lib/python3.6/site-packages/sklearn/linear_model/coordinate_descent.py:491: ConvergenceWarning: Objective did not converge. You might want to increase the number of iterations. Fitting data with very small alpha may cause precision problems.\n",
      "  ConvergenceWarning)\n",
      "/Users/heine2307/anaconda/lib/python3.6/site-packages/sklearn/linear_model/coordinate_descent.py:491: ConvergenceWarning: Objective did not converge. You might want to increase the number of iterations. Fitting data with very small alpha may cause precision problems.\n",
      "  ConvergenceWarning)\n",
      "/Users/heine2307/anaconda/lib/python3.6/site-packages/sklearn/linear_model/coordinate_descent.py:491: ConvergenceWarning: Objective did not converge. You might want to increase the number of iterations. Fitting data with very small alpha may cause precision problems.\n",
      "  ConvergenceWarning)\n"
     ]
    },
    {
     "name": "stdout",
     "output_type": "stream",
     "text": [
      "yes\n",
      "yes\n",
      "yes\n"
     ]
    },
    {
     "name": "stderr",
     "output_type": "stream",
     "text": [
      "/Users/heine2307/anaconda/lib/python3.6/site-packages/sklearn/linear_model/coordinate_descent.py:491: ConvergenceWarning: Objective did not converge. You might want to increase the number of iterations. Fitting data with very small alpha may cause precision problems.\n",
      "  ConvergenceWarning)\n",
      "/Users/heine2307/anaconda/lib/python3.6/site-packages/sklearn/linear_model/coordinate_descent.py:491: ConvergenceWarning: Objective did not converge. You might want to increase the number of iterations. Fitting data with very small alpha may cause precision problems.\n",
      "  ConvergenceWarning)\n",
      "/Users/heine2307/anaconda/lib/python3.6/site-packages/sklearn/linear_model/coordinate_descent.py:491: ConvergenceWarning: Objective did not converge. You might want to increase the number of iterations. Fitting data with very small alpha may cause precision problems.\n",
      "  ConvergenceWarning)\n",
      "/Users/heine2307/anaconda/lib/python3.6/site-packages/sklearn/linear_model/coordinate_descent.py:491: ConvergenceWarning: Objective did not converge. You might want to increase the number of iterations. Fitting data with very small alpha may cause precision problems.\n",
      "  ConvergenceWarning)\n",
      "/Users/heine2307/anaconda/lib/python3.6/site-packages/sklearn/linear_model/coordinate_descent.py:491: ConvergenceWarning: Objective did not converge. You might want to increase the number of iterations. Fitting data with very small alpha may cause precision problems.\n",
      "  ConvergenceWarning)\n"
     ]
    },
    {
     "name": "stdout",
     "output_type": "stream",
     "text": [
      "yes\n",
      "yes\n",
      "yes\n"
     ]
    },
    {
     "name": "stderr",
     "output_type": "stream",
     "text": [
      "/Users/heine2307/anaconda/lib/python3.6/site-packages/sklearn/linear_model/coordinate_descent.py:491: ConvergenceWarning: Objective did not converge. You might want to increase the number of iterations. Fitting data with very small alpha may cause precision problems.\n",
      "  ConvergenceWarning)\n",
      "/Users/heine2307/anaconda/lib/python3.6/site-packages/sklearn/linear_model/coordinate_descent.py:491: ConvergenceWarning: Objective did not converge. You might want to increase the number of iterations. Fitting data with very small alpha may cause precision problems.\n",
      "  ConvergenceWarning)\n",
      "/Users/heine2307/anaconda/lib/python3.6/site-packages/sklearn/linear_model/coordinate_descent.py:491: ConvergenceWarning: Objective did not converge. You might want to increase the number of iterations. Fitting data with very small alpha may cause precision problems.\n",
      "  ConvergenceWarning)\n"
     ]
    },
    {
     "name": "stdout",
     "output_type": "stream",
     "text": [
      "yes\n",
      "yes\n",
      "yes\n"
     ]
    },
    {
     "name": "stderr",
     "output_type": "stream",
     "text": [
      "/Users/heine2307/anaconda/lib/python3.6/site-packages/sklearn/linear_model/coordinate_descent.py:491: ConvergenceWarning: Objective did not converge. You might want to increase the number of iterations. Fitting data with very small alpha may cause precision problems.\n",
      "  ConvergenceWarning)\n",
      "/Users/heine2307/anaconda/lib/python3.6/site-packages/sklearn/linear_model/coordinate_descent.py:491: ConvergenceWarning: Objective did not converge. You might want to increase the number of iterations. Fitting data with very small alpha may cause precision problems.\n",
      "  ConvergenceWarning)\n",
      "/Users/heine2307/anaconda/lib/python3.6/site-packages/sklearn/linear_model/coordinate_descent.py:491: ConvergenceWarning: Objective did not converge. You might want to increase the number of iterations. Fitting data with very small alpha may cause precision problems.\n",
      "  ConvergenceWarning)\n"
     ]
    },
    {
     "name": "stdout",
     "output_type": "stream",
     "text": [
      "yes\n",
      "yes\n",
      "yes\n"
     ]
    },
    {
     "name": "stderr",
     "output_type": "stream",
     "text": [
      "/Users/heine2307/anaconda/lib/python3.6/site-packages/sklearn/linear_model/coordinate_descent.py:491: ConvergenceWarning: Objective did not converge. You might want to increase the number of iterations. Fitting data with very small alpha may cause precision problems.\n",
      "  ConvergenceWarning)\n",
      "/Users/heine2307/anaconda/lib/python3.6/site-packages/sklearn/linear_model/coordinate_descent.py:491: ConvergenceWarning: Objective did not converge. You might want to increase the number of iterations. Fitting data with very small alpha may cause precision problems.\n",
      "  ConvergenceWarning)\n",
      "/Users/heine2307/anaconda/lib/python3.6/site-packages/sklearn/linear_model/coordinate_descent.py:491: ConvergenceWarning: Objective did not converge. You might want to increase the number of iterations. Fitting data with very small alpha may cause precision problems.\n",
      "  ConvergenceWarning)\n"
     ]
    },
    {
     "name": "stdout",
     "output_type": "stream",
     "text": [
      "yes\n",
      "yes\n",
      "yes\n"
     ]
    },
    {
     "name": "stderr",
     "output_type": "stream",
     "text": [
      "/Users/heine2307/anaconda/lib/python3.6/site-packages/sklearn/linear_model/coordinate_descent.py:491: ConvergenceWarning: Objective did not converge. You might want to increase the number of iterations. Fitting data with very small alpha may cause precision problems.\n",
      "  ConvergenceWarning)\n",
      "/Users/heine2307/anaconda/lib/python3.6/site-packages/sklearn/linear_model/coordinate_descent.py:491: ConvergenceWarning: Objective did not converge. You might want to increase the number of iterations. Fitting data with very small alpha may cause precision problems.\n",
      "  ConvergenceWarning)\n",
      "/Users/heine2307/anaconda/lib/python3.6/site-packages/sklearn/linear_model/coordinate_descent.py:491: ConvergenceWarning: Objective did not converge. You might want to increase the number of iterations. Fitting data with very small alpha may cause precision problems.\n",
      "  ConvergenceWarning)\n"
     ]
    },
    {
     "name": "stdout",
     "output_type": "stream",
     "text": [
      "yes\n",
      "yes\n",
      "yes\n"
     ]
    },
    {
     "name": "stderr",
     "output_type": "stream",
     "text": [
      "/Users/heine2307/anaconda/lib/python3.6/site-packages/sklearn/linear_model/coordinate_descent.py:491: ConvergenceWarning: Objective did not converge. You might want to increase the number of iterations. Fitting data with very small alpha may cause precision problems.\n",
      "  ConvergenceWarning)\n",
      "/Users/heine2307/anaconda/lib/python3.6/site-packages/sklearn/linear_model/coordinate_descent.py:491: ConvergenceWarning: Objective did not converge. You might want to increase the number of iterations. Fitting data with very small alpha may cause precision problems.\n",
      "  ConvergenceWarning)\n",
      "/Users/heine2307/anaconda/lib/python3.6/site-packages/sklearn/linear_model/coordinate_descent.py:491: ConvergenceWarning: Objective did not converge. You might want to increase the number of iterations. Fitting data with very small alpha may cause precision problems.\n",
      "  ConvergenceWarning)\n"
     ]
    },
    {
     "name": "stdout",
     "output_type": "stream",
     "text": [
      "yes\n",
      "yes\n",
      "yes\n"
     ]
    },
    {
     "name": "stderr",
     "output_type": "stream",
     "text": [
      "/Users/heine2307/anaconda/lib/python3.6/site-packages/sklearn/linear_model/coordinate_descent.py:491: ConvergenceWarning: Objective did not converge. You might want to increase the number of iterations. Fitting data with very small alpha may cause precision problems.\n",
      "  ConvergenceWarning)\n",
      "/Users/heine2307/anaconda/lib/python3.6/site-packages/sklearn/linear_model/coordinate_descent.py:491: ConvergenceWarning: Objective did not converge. You might want to increase the number of iterations. Fitting data with very small alpha may cause precision problems.\n",
      "  ConvergenceWarning)\n",
      "/Users/heine2307/anaconda/lib/python3.6/site-packages/sklearn/linear_model/coordinate_descent.py:491: ConvergenceWarning: Objective did not converge. You might want to increase the number of iterations. Fitting data with very small alpha may cause precision problems.\n",
      "  ConvergenceWarning)\n"
     ]
    },
    {
     "name": "stdout",
     "output_type": "stream",
     "text": [
      "yes\n",
      "yes\n",
      "yes\n"
     ]
    },
    {
     "name": "stderr",
     "output_type": "stream",
     "text": [
      "/Users/heine2307/anaconda/lib/python3.6/site-packages/sklearn/linear_model/coordinate_descent.py:491: ConvergenceWarning: Objective did not converge. You might want to increase the number of iterations. Fitting data with very small alpha may cause precision problems.\n",
      "  ConvergenceWarning)\n",
      "/Users/heine2307/anaconda/lib/python3.6/site-packages/sklearn/linear_model/coordinate_descent.py:491: ConvergenceWarning: Objective did not converge. You might want to increase the number of iterations. Fitting data with very small alpha may cause precision problems.\n",
      "  ConvergenceWarning)\n",
      "/Users/heine2307/anaconda/lib/python3.6/site-packages/sklearn/linear_model/coordinate_descent.py:491: ConvergenceWarning: Objective did not converge. You might want to increase the number of iterations. Fitting data with very small alpha may cause precision problems.\n",
      "  ConvergenceWarning)\n"
     ]
    },
    {
     "name": "stdout",
     "output_type": "stream",
     "text": [
      "yes\n",
      "yes\n",
      "yes\n"
     ]
    },
    {
     "name": "stderr",
     "output_type": "stream",
     "text": [
      "/Users/heine2307/anaconda/lib/python3.6/site-packages/sklearn/linear_model/coordinate_descent.py:491: ConvergenceWarning: Objective did not converge. You might want to increase the number of iterations. Fitting data with very small alpha may cause precision problems.\n",
      "  ConvergenceWarning)\n",
      "/Users/heine2307/anaconda/lib/python3.6/site-packages/sklearn/linear_model/coordinate_descent.py:491: ConvergenceWarning: Objective did not converge. You might want to increase the number of iterations. Fitting data with very small alpha may cause precision problems.\n",
      "  ConvergenceWarning)\n",
      "/Users/heine2307/anaconda/lib/python3.6/site-packages/sklearn/linear_model/coordinate_descent.py:491: ConvergenceWarning: Objective did not converge. You might want to increase the number of iterations. Fitting data with very small alpha may cause precision problems.\n",
      "  ConvergenceWarning)\n"
     ]
    },
    {
     "name": "stdout",
     "output_type": "stream",
     "text": [
      "yes\n",
      "yes\n",
      "yes\n"
     ]
    },
    {
     "name": "stderr",
     "output_type": "stream",
     "text": [
      "/Users/heine2307/anaconda/lib/python3.6/site-packages/sklearn/linear_model/coordinate_descent.py:491: ConvergenceWarning: Objective did not converge. You might want to increase the number of iterations. Fitting data with very small alpha may cause precision problems.\n",
      "  ConvergenceWarning)\n",
      "/Users/heine2307/anaconda/lib/python3.6/site-packages/sklearn/linear_model/coordinate_descent.py:491: ConvergenceWarning: Objective did not converge. You might want to increase the number of iterations. Fitting data with very small alpha may cause precision problems.\n",
      "  ConvergenceWarning)\n",
      "/Users/heine2307/anaconda/lib/python3.6/site-packages/sklearn/linear_model/coordinate_descent.py:491: ConvergenceWarning: Objective did not converge. You might want to increase the number of iterations. Fitting data with very small alpha may cause precision problems.\n",
      "  ConvergenceWarning)\n"
     ]
    },
    {
     "name": "stdout",
     "output_type": "stream",
     "text": [
      "yes\n",
      "yes\n",
      "yes\n"
     ]
    },
    {
     "name": "stderr",
     "output_type": "stream",
     "text": [
      "/Users/heine2307/anaconda/lib/python3.6/site-packages/sklearn/linear_model/coordinate_descent.py:491: ConvergenceWarning: Objective did not converge. You might want to increase the number of iterations. Fitting data with very small alpha may cause precision problems.\n",
      "  ConvergenceWarning)\n",
      "/Users/heine2307/anaconda/lib/python3.6/site-packages/sklearn/linear_model/coordinate_descent.py:491: ConvergenceWarning: Objective did not converge. You might want to increase the number of iterations. Fitting data with very small alpha may cause precision problems.\n",
      "  ConvergenceWarning)\n",
      "/Users/heine2307/anaconda/lib/python3.6/site-packages/sklearn/linear_model/coordinate_descent.py:491: ConvergenceWarning: Objective did not converge. You might want to increase the number of iterations. Fitting data with very small alpha may cause precision problems.\n",
      "  ConvergenceWarning)\n"
     ]
    },
    {
     "name": "stdout",
     "output_type": "stream",
     "text": [
      "yes\n",
      "yes\n",
      "yes\n"
     ]
    },
    {
     "name": "stderr",
     "output_type": "stream",
     "text": [
      "/Users/heine2307/anaconda/lib/python3.6/site-packages/sklearn/linear_model/coordinate_descent.py:491: ConvergenceWarning: Objective did not converge. You might want to increase the number of iterations. Fitting data with very small alpha may cause precision problems.\n",
      "  ConvergenceWarning)\n",
      "/Users/heine2307/anaconda/lib/python3.6/site-packages/sklearn/linear_model/coordinate_descent.py:491: ConvergenceWarning: Objective did not converge. You might want to increase the number of iterations. Fitting data with very small alpha may cause precision problems.\n",
      "  ConvergenceWarning)\n",
      "/Users/heine2307/anaconda/lib/python3.6/site-packages/sklearn/linear_model/coordinate_descent.py:491: ConvergenceWarning: Objective did not converge. You might want to increase the number of iterations. Fitting data with very small alpha may cause precision problems.\n",
      "  ConvergenceWarning)\n"
     ]
    },
    {
     "name": "stdout",
     "output_type": "stream",
     "text": [
      "yes\n",
      "yes\n",
      "yes\n"
     ]
    },
    {
     "name": "stderr",
     "output_type": "stream",
     "text": [
      "/Users/heine2307/anaconda/lib/python3.6/site-packages/sklearn/linear_model/coordinate_descent.py:491: ConvergenceWarning: Objective did not converge. You might want to increase the number of iterations. Fitting data with very small alpha may cause precision problems.\n",
      "  ConvergenceWarning)\n",
      "/Users/heine2307/anaconda/lib/python3.6/site-packages/sklearn/linear_model/coordinate_descent.py:491: ConvergenceWarning: Objective did not converge. You might want to increase the number of iterations. Fitting data with very small alpha may cause precision problems.\n",
      "  ConvergenceWarning)\n",
      "/Users/heine2307/anaconda/lib/python3.6/site-packages/sklearn/linear_model/coordinate_descent.py:491: ConvergenceWarning: Objective did not converge. You might want to increase the number of iterations. Fitting data with very small alpha may cause precision problems.\n",
      "  ConvergenceWarning)\n"
     ]
    },
    {
     "name": "stdout",
     "output_type": "stream",
     "text": [
      "yes\n",
      "yes\n",
      "yes\n"
     ]
    },
    {
     "name": "stderr",
     "output_type": "stream",
     "text": [
      "/Users/heine2307/anaconda/lib/python3.6/site-packages/sklearn/linear_model/coordinate_descent.py:491: ConvergenceWarning: Objective did not converge. You might want to increase the number of iterations. Fitting data with very small alpha may cause precision problems.\n",
      "  ConvergenceWarning)\n",
      "/Users/heine2307/anaconda/lib/python3.6/site-packages/sklearn/linear_model/coordinate_descent.py:491: ConvergenceWarning: Objective did not converge. You might want to increase the number of iterations. Fitting data with very small alpha may cause precision problems.\n",
      "  ConvergenceWarning)\n",
      "/Users/heine2307/anaconda/lib/python3.6/site-packages/sklearn/linear_model/coordinate_descent.py:491: ConvergenceWarning: Objective did not converge. You might want to increase the number of iterations. Fitting data with very small alpha may cause precision problems.\n",
      "  ConvergenceWarning)\n"
     ]
    },
    {
     "name": "stdout",
     "output_type": "stream",
     "text": [
      "yes\n",
      "yes\n",
      "yes\n"
     ]
    },
    {
     "name": "stderr",
     "output_type": "stream",
     "text": [
      "/Users/heine2307/anaconda/lib/python3.6/site-packages/sklearn/linear_model/coordinate_descent.py:491: ConvergenceWarning: Objective did not converge. You might want to increase the number of iterations. Fitting data with very small alpha may cause precision problems.\n",
      "  ConvergenceWarning)\n",
      "/Users/heine2307/anaconda/lib/python3.6/site-packages/sklearn/linear_model/coordinate_descent.py:491: ConvergenceWarning: Objective did not converge. You might want to increase the number of iterations. Fitting data with very small alpha may cause precision problems.\n",
      "  ConvergenceWarning)\n",
      "/Users/heine2307/anaconda/lib/python3.6/site-packages/sklearn/linear_model/coordinate_descent.py:491: ConvergenceWarning: Objective did not converge. You might want to increase the number of iterations. Fitting data with very small alpha may cause precision problems.\n",
      "  ConvergenceWarning)\n"
     ]
    },
    {
     "name": "stdout",
     "output_type": "stream",
     "text": [
      "yes\n",
      "yes\n"
     ]
    },
    {
     "name": "stderr",
     "output_type": "stream",
     "text": [
      "/Users/heine2307/anaconda/lib/python3.6/site-packages/sklearn/linear_model/coordinate_descent.py:491: ConvergenceWarning: Objective did not converge. You might want to increase the number of iterations. Fitting data with very small alpha may cause precision problems.\n",
      "  ConvergenceWarning)\n",
      "/Users/heine2307/anaconda/lib/python3.6/site-packages/sklearn/linear_model/coordinate_descent.py:491: ConvergenceWarning: Objective did not converge. You might want to increase the number of iterations. Fitting data with very small alpha may cause precision problems.\n",
      "  ConvergenceWarning)\n"
     ]
    },
    {
     "name": "stdout",
     "output_type": "stream",
     "text": [
      "yes\n",
      "yes\n"
     ]
    },
    {
     "name": "stderr",
     "output_type": "stream",
     "text": [
      "/Users/heine2307/anaconda/lib/python3.6/site-packages/sklearn/linear_model/coordinate_descent.py:491: ConvergenceWarning: Objective did not converge. You might want to increase the number of iterations. Fitting data with very small alpha may cause precision problems.\n",
      "  ConvergenceWarning)\n",
      "/Users/heine2307/anaconda/lib/python3.6/site-packages/sklearn/linear_model/coordinate_descent.py:491: ConvergenceWarning: Objective did not converge. You might want to increase the number of iterations. Fitting data with very small alpha may cause precision problems.\n",
      "  ConvergenceWarning)\n"
     ]
    },
    {
     "name": "stdout",
     "output_type": "stream",
     "text": [
      "yes\n",
      "yes\n",
      "yes\n"
     ]
    },
    {
     "name": "stderr",
     "output_type": "stream",
     "text": [
      "/Users/heine2307/anaconda/lib/python3.6/site-packages/sklearn/linear_model/coordinate_descent.py:491: ConvergenceWarning: Objective did not converge. You might want to increase the number of iterations. Fitting data with very small alpha may cause precision problems.\n",
      "  ConvergenceWarning)\n",
      "/Users/heine2307/anaconda/lib/python3.6/site-packages/sklearn/linear_model/coordinate_descent.py:491: ConvergenceWarning: Objective did not converge. You might want to increase the number of iterations. Fitting data with very small alpha may cause precision problems.\n",
      "  ConvergenceWarning)\n",
      "/Users/heine2307/anaconda/lib/python3.6/site-packages/sklearn/linear_model/coordinate_descent.py:491: ConvergenceWarning: Objective did not converge. You might want to increase the number of iterations. Fitting data with very small alpha may cause precision problems.\n",
      "  ConvergenceWarning)\n"
     ]
    },
    {
     "name": "stdout",
     "output_type": "stream",
     "text": [
      "yes\n",
      "yes\n"
     ]
    },
    {
     "name": "stderr",
     "output_type": "stream",
     "text": [
      "/Users/heine2307/anaconda/lib/python3.6/site-packages/sklearn/linear_model/coordinate_descent.py:491: ConvergenceWarning: Objective did not converge. You might want to increase the number of iterations. Fitting data with very small alpha may cause precision problems.\n",
      "  ConvergenceWarning)\n",
      "/Users/heine2307/anaconda/lib/python3.6/site-packages/sklearn/linear_model/coordinate_descent.py:491: ConvergenceWarning: Objective did not converge. You might want to increase the number of iterations. Fitting data with very small alpha may cause precision problems.\n",
      "  ConvergenceWarning)\n"
     ]
    },
    {
     "name": "stdout",
     "output_type": "stream",
     "text": [
      "yes\n",
      "yes\n"
     ]
    },
    {
     "name": "stderr",
     "output_type": "stream",
     "text": [
      "/Users/heine2307/anaconda/lib/python3.6/site-packages/sklearn/linear_model/coordinate_descent.py:491: ConvergenceWarning: Objective did not converge. You might want to increase the number of iterations. Fitting data with very small alpha may cause precision problems.\n",
      "  ConvergenceWarning)\n",
      "/Users/heine2307/anaconda/lib/python3.6/site-packages/sklearn/linear_model/coordinate_descent.py:491: ConvergenceWarning: Objective did not converge. You might want to increase the number of iterations. Fitting data with very small alpha may cause precision problems.\n",
      "  ConvergenceWarning)\n"
     ]
    },
    {
     "name": "stdout",
     "output_type": "stream",
     "text": [
      "yes\n",
      "yes\n"
     ]
    },
    {
     "name": "stderr",
     "output_type": "stream",
     "text": [
      "/Users/heine2307/anaconda/lib/python3.6/site-packages/sklearn/linear_model/coordinate_descent.py:491: ConvergenceWarning: Objective did not converge. You might want to increase the number of iterations. Fitting data with very small alpha may cause precision problems.\n",
      "  ConvergenceWarning)\n",
      "/Users/heine2307/anaconda/lib/python3.6/site-packages/sklearn/linear_model/coordinate_descent.py:491: ConvergenceWarning: Objective did not converge. You might want to increase the number of iterations. Fitting data with very small alpha may cause precision problems.\n",
      "  ConvergenceWarning)\n"
     ]
    },
    {
     "name": "stdout",
     "output_type": "stream",
     "text": [
      "yes\n",
      "yes\n",
      "yes\n"
     ]
    },
    {
     "name": "stderr",
     "output_type": "stream",
     "text": [
      "/Users/heine2307/anaconda/lib/python3.6/site-packages/sklearn/linear_model/coordinate_descent.py:491: ConvergenceWarning: Objective did not converge. You might want to increase the number of iterations. Fitting data with very small alpha may cause precision problems.\n",
      "  ConvergenceWarning)\n",
      "/Users/heine2307/anaconda/lib/python3.6/site-packages/sklearn/linear_model/coordinate_descent.py:491: ConvergenceWarning: Objective did not converge. You might want to increase the number of iterations. Fitting data with very small alpha may cause precision problems.\n",
      "  ConvergenceWarning)\n",
      "/Users/heine2307/anaconda/lib/python3.6/site-packages/sklearn/linear_model/coordinate_descent.py:491: ConvergenceWarning: Objective did not converge. You might want to increase the number of iterations. Fitting data with very small alpha may cause precision problems.\n",
      "  ConvergenceWarning)\n"
     ]
    },
    {
     "name": "stdout",
     "output_type": "stream",
     "text": [
      "yes\n",
      "yes\n",
      "yes"
     ]
    },
    {
     "name": "stderr",
     "output_type": "stream",
     "text": [
      "/Users/heine2307/anaconda/lib/python3.6/site-packages/sklearn/linear_model/coordinate_descent.py:491: ConvergenceWarning: Objective did not converge. You might want to increase the number of iterations. Fitting data with very small alpha may cause precision problems.\n",
      "  ConvergenceWarning)\n",
      "/Users/heine2307/anaconda/lib/python3.6/site-packages/sklearn/linear_model/coordinate_descent.py:491: ConvergenceWarning: Objective did not converge. You might want to increase the number of iterations. Fitting data with very small alpha may cause precision problems.\n",
      "  ConvergenceWarning)\n",
      "/Users/heine2307/anaconda/lib/python3.6/site-packages/sklearn/linear_model/coordinate_descent.py:491: ConvergenceWarning: Objective did not converge. You might want to increase the number of iterations. Fitting data with very small alpha may cause precision problems.\n",
      "  ConvergenceWarning)\n"
     ]
    },
    {
     "name": "stdout",
     "output_type": "stream",
     "text": [
      "\n",
      "yes\n",
      "yes\n"
     ]
    },
    {
     "name": "stderr",
     "output_type": "stream",
     "text": [
      "/Users/heine2307/anaconda/lib/python3.6/site-packages/sklearn/linear_model/coordinate_descent.py:491: ConvergenceWarning: Objective did not converge. You might want to increase the number of iterations. Fitting data with very small alpha may cause precision problems.\n",
      "  ConvergenceWarning)\n",
      "/Users/heine2307/anaconda/lib/python3.6/site-packages/sklearn/linear_model/coordinate_descent.py:491: ConvergenceWarning: Objective did not converge. You might want to increase the number of iterations. Fitting data with very small alpha may cause precision problems.\n",
      "  ConvergenceWarning)\n",
      "/Users/heine2307/anaconda/lib/python3.6/site-packages/sklearn/linear_model/coordinate_descent.py:491: ConvergenceWarning: Objective did not converge. You might want to increase the number of iterations. Fitting data with very small alpha may cause precision problems.\n",
      "  ConvergenceWarning)\n"
     ]
    },
    {
     "name": "stdout",
     "output_type": "stream",
     "text": [
      "yes\n",
      "yes\n",
      "yes\n"
     ]
    },
    {
     "name": "stderr",
     "output_type": "stream",
     "text": [
      "/Users/heine2307/anaconda/lib/python3.6/site-packages/sklearn/linear_model/coordinate_descent.py:491: ConvergenceWarning: Objective did not converge. You might want to increase the number of iterations. Fitting data with very small alpha may cause precision problems.\n",
      "  ConvergenceWarning)\n",
      "/Users/heine2307/anaconda/lib/python3.6/site-packages/sklearn/linear_model/coordinate_descent.py:491: ConvergenceWarning: Objective did not converge. You might want to increase the number of iterations. Fitting data with very small alpha may cause precision problems.\n",
      "  ConvergenceWarning)\n",
      "/Users/heine2307/anaconda/lib/python3.6/site-packages/sklearn/linear_model/coordinate_descent.py:491: ConvergenceWarning: Objective did not converge. You might want to increase the number of iterations. Fitting data with very small alpha may cause precision problems.\n",
      "  ConvergenceWarning)\n"
     ]
    },
    {
     "name": "stdout",
     "output_type": "stream",
     "text": [
      "yes\n",
      "yes\n",
      "yes\n"
     ]
    },
    {
     "name": "stderr",
     "output_type": "stream",
     "text": [
      "/Users/heine2307/anaconda/lib/python3.6/site-packages/sklearn/linear_model/coordinate_descent.py:491: ConvergenceWarning: Objective did not converge. You might want to increase the number of iterations. Fitting data with very small alpha may cause precision problems.\n",
      "  ConvergenceWarning)\n",
      "/Users/heine2307/anaconda/lib/python3.6/site-packages/sklearn/linear_model/coordinate_descent.py:491: ConvergenceWarning: Objective did not converge. You might want to increase the number of iterations. Fitting data with very small alpha may cause precision problems.\n",
      "  ConvergenceWarning)\n",
      "/Users/heine2307/anaconda/lib/python3.6/site-packages/sklearn/linear_model/coordinate_descent.py:491: ConvergenceWarning: Objective did not converge. You might want to increase the number of iterations. Fitting data with very small alpha may cause precision problems.\n",
      "  ConvergenceWarning)\n"
     ]
    },
    {
     "name": "stdout",
     "output_type": "stream",
     "text": [
      "yes\n",
      "yes\n"
     ]
    },
    {
     "name": "stderr",
     "output_type": "stream",
     "text": [
      "/Users/heine2307/anaconda/lib/python3.6/site-packages/sklearn/linear_model/coordinate_descent.py:491: ConvergenceWarning: Objective did not converge. You might want to increase the number of iterations. Fitting data with very small alpha may cause precision problems.\n",
      "  ConvergenceWarning)\n"
     ]
    },
    {
     "data": {
      "image/png": "[encoded data removed]",
      "text/plain": [
       "<Figure size 504x216 with 1 Axes>"
      ]
     },
     "metadata": {},
     "output_type": "display_data"
    }
   ],
   "source": [
    "from sklearn.linear_model import Lasso\n",
    "\n",
    "lmbd_runs = [0.0001,0.001,0.01,0.1]\n",
    "MSE = np.zeros((runs,len(lmbd_runs)))\n",
    "R2 = np.zeros((runs,len(lmbd_runs)))\n",
    "for i in range(runs):\n",
    "    print('yes')\n",
    "    for l,lambd in enumerate(lmbd_runs):\n",
    "        reg = Lasso(alpha = lambd, fit_intercept=False)\n",
    "        reg.fit(X,z[i])\n",
    "        zpred = reg.predict(X)\n",
    "\n",
    "        MSE[i][l] = tools.squared_error(z[i],zpred)\n",
    "        R2[i][l] = tools.r2score(z[i],zpred)\n",
    "\n",
    "        \n",
    "x_ = noises\n",
    "plt.figure(figsize=[7,3])\n",
    "plt.rcParams.update({'font.size': 16})\n",
    "#plt.subplot(211)\n",
    "for j in range(len(lmbd_runs)):\n",
    "    plt.plot(x_,MSE.T[:][j],'-')\n",
    "plt.xlabel('Noise',fontsize=15)\n",
    "plt.ylabel('MSE',fontsize=15)\n",
    "plt.legend(lmbd_runs)\n",
    "# plt.subplot(212)\n",
    "# for j in range(len(lmbd_runs)):\n",
    "#     plt.plot(x_,R2.T[:][j],'-')\n",
    "# plt.xlabel('Noise',fontsize=15)\n",
    "# plt.ylabel('R2',fontsize=15)\n",
    "# plt.legend(lmbd_runs)\n",
    "#plt.tight_layout()\n",
    "\n",
    "plt.savefig('lassonoise.pdf')\n",
    "\n"
   ]
  },
  {
   "cell_type": "code",
   "execution_count": null,
   "metadata": {
    "collapsed": true
   },
   "outputs": [],
   "source": []
  },
  {
   "cell_type": "code",
   "execution_count": null,
   "metadata": {
    "collapsed": true
   },
   "outputs": [],
   "source": []
  },
  {
   "cell_type": "code",
   "execution_count": null,
   "metadata": {
    "collapsed": true
   },
   "outputs": [],
   "source": []
  }
 ],
 "metadata": {
  "kernelspec": {
   "display_name": "Python 3",
   "language": "python",
   "name": "python3"
  },
  "language_info": {
   "codemirror_mode": {
    "name": "ipython",
    "version": 3
   },
   "file_extension": ".py",
   "mimetype": "text/x-python",
   "name": "python",
   "nbconvert_exporter": "python",
   "pygments_lexer": "ipython3",
   "version": "3.6.0"
  }
 },
 "nbformat": 4,
 "nbformat_minor": 2
}
