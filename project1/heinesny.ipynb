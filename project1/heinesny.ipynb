{
 "cells": [
  {
   "cell_type": "code",
   "execution_count": 1,
   "metadata": {
    "collapsed": true
   },
   "outputs": [],
   "source": [
    "import numpy as np\n",
    "import matplotlib.pyplot as plt\n",
    "import tools"
   ]
  },
  {
   "cell_type": "code",
   "execution_count": 2,
   "metadata": {
    "collapsed": false
   },
   "outputs": [],
   "source": [
    "%matplotlib inline\n",
    "%load_ext autoreload\n",
    "%autoreload 2"
   ]
  },
  {
   "cell_type": "code",
   "execution_count": 123,
   "metadata": {
    "collapsed": false
   },
   "outputs": [],
   "source": [
    "def printvar(regr,deg=5):\n",
    "    mse = regr.squared_error()\n",
    "    r2 = regr.r2score()\n",
    "    Bvar = np.sqrt(np.diag(regr.betaVar))\n",
    "    print('MSE: ', mse)\n",
    "    print('R2: ', r2)\n",
    "    print('Conf. int.: ')\n",
    "    for i in range(len(Bvar)):\n",
    "        print('B{:}: {:f} {} {:f}'.format(i,regr.beta[i],u'\\xb1',Bvar[i]))\n",
    "        \n",
    "    df = tools.get_exp_coeffs(beta=regr.beta,deg=deg, print_beta = False)\n",
    "    plt.imshow(df)\n",
    "    \n",
    "    return mse,r2,Bvar\n",
    "\n",
    "def printvar_lasso(mse,r2,Bvar,reg, deg = 5):\n",
    "    print('MSE: ', mse)\n",
    "    print('R2: ', r2)\n",
    "    print('Conf. int.: ')\n",
    "    for i in range(len(Bvar)):\n",
    "        beta = reg.coef_[i]\n",
    "        print('B{:}: {:f} {} {:f}'.format(i,beta,u'\\xb1',Bvar[i]))\n",
    "        \n",
    "    df = tools.get_exp_coeffs(beta=beta,deg=deg, print_beta = False)\n",
    "    plt.imshow(df)"
   ]
  },
  {
   "cell_type": "markdown",
   "metadata": {},
   "source": [
    "## Ordinary linear regression\n",
    "Make data"
   ]
  },
  {
   "cell_type": "code",
   "execution_count": 103,
   "metadata": {
    "collapsed": true
   },
   "outputs": [],
   "source": [
    "deg = 5\n",
    "N = 2000\n",
    "lambd = 0.01\n",
    "noise = 0.1\n",
    "x,y,z,noise = tools.generate_data(N=N, noise=noise)\n",
    "\n",
    "X = tools.get_X_poly2D(x,y,deg=deg)"
   ]
  },
  {
   "cell_type": "markdown",
   "metadata": {},
   "source": [
    "Do regression and print MSE, R2 and beta with conf.int."
   ]
  },
  {
   "cell_type": "code",
   "execution_count": 105,
   "metadata": {
    "collapsed": false
   },
   "outputs": [
    {
     "name": "stdout",
     "output_type": "stream",
     "text": [
      "MSE:  0.0125750726662\n",
      "R2:  0.863756000942\n",
      "Conf. int.: \n",
      "B0: 0.247483 ± 0.051057\n",
      "B1: 4.973944 ± 0.506442\n",
      "B2: 9.124338 ± 0.542930\n",
      "B3: -13.261187 ± 2.352567\n",
      "B4: -18.383438 ± 1.962966\n",
      "B5: -38.887467 ± 2.486180\n",
      "B6: -0.294743 ± 5.186986\n",
      "B7: 26.697886 ± 3.998478\n",
      "B8: 49.566257 ± 4.090812\n",
      "B9: 55.766022 ± 5.423163\n",
      "B10: 23.657213 ± 5.359660\n",
      "B11: -36.273540 ± 4.167891\n",
      "B12: -10.931655 ± 4.004091\n",
      "B13: -56.736436 ± 4.294413\n",
      "B14: -29.434423 ± 5.563347\n",
      "B15: -15.186149 ± 2.090321\n",
      "B16: 19.613951 ± 1.825141\n",
      "B17: -4.869793 ± 1.836920\n",
      "B18: 12.131748 ± 1.800641\n",
      "B19: 19.230508 ± 1.875454\n",
      "B20: 3.264156 ± 2.157502\n"
     ]
    },
    {
     "data": {
      "image/png": "[encoded data removed]",
      "text/plain": [
       "<matplotlib.figure.Figure at 0x114ff7438>"
      ]
     },
     "metadata": {},
     "output_type": "display_data"
    }
   ],
   "source": [
    "# X = tools.get_X_poly2D(x,y,deg=deg)\n",
    "regr = tools.Regression(X,z,lmbd = 0)\n",
    "\n",
    "zpred = regr.yhat\n",
    "\n",
    "mse,r2,Bvar = printvar(regr)"
   ]
  },
  {
   "cell_type": "code",
   "execution_count": null,
   "metadata": {
    "collapsed": true
   },
   "outputs": [],
   "source": [
    "## VAR PLoT\n",
    "# plt.figure(figsize=(10,6))\n",
    "# plt.subplot(2,2,1)\n",
    "# plt.imshow(Bvar)\n",
    "# plt.subplot(1,2,2)\n",
    "# plt.errorbar(np.arange(len(Bvar)), regr.beta/regr.beta, yerr = np.sqrt(np.diag(Bvar)), fmt=\".\")\n",
    "# plt.tight_layout()"
   ]
  },
  {
   "cell_type": "code",
   "execution_count": 77,
   "metadata": {
    "collapsed": true
   },
   "outputs": [
    {
     "name": "stdout",
     "output_type": "stream",
     "text": [
      "      c:  0.05\n",
      "    y^1:  0.48\n",
      "    y^2:  0.47\n",
      "    y^3:  2.21\n",
      "    y^4:  1.78\n",
      "    y^5:  2.20\n",
      "   x^1 :  4.87\n",
      "x^1 y^1:  3.69\n",
      "x^1 y^2:  3.74\n",
      "x^1 y^3:  4.87\n",
      "x^1 y^4:  5.06\n",
      "   x^2 :  3.93\n",
      "x^2 y^1:  3.67\n",
      "x^2 y^2:  3.98\n",
      "x^2 y^3:  5.06\n",
      "   x^3 :  2.00\n",
      "x^3 y^1:  1.74\n",
      "x^3 y^2:  1.71\n",
      "   x^4 :  1.70\n",
      "x^4 y^1:  1.75\n",
      "   x^5 :  1.99\n",
      "\\begin{tabular}{lllllll}\n",
      "\\toprule\n",
      "{} &       x^0 &       x^1 &       x^2 &       x^3 &       x^4 &       x^5 \\\\\n",
      "\\midrule\n",
      "y^0 &  0.045241 &  0.477578 &  0.473107 &  2.211665 &  1.776748 &  2.201117 \\\\\n",
      "y^1 &  4.869500 &  3.693231 &  3.737937 &  4.868020 &  5.064018 &           \\\\\n",
      "y^2 &  3.927566 &  3.665026 &  3.977169 &  5.062300 &           &           \\\\\n",
      "y^3 &  1.995442 &  1.744240 &  1.707438 &           &           &           \\\\\n",
      "y^4 &  1.700617 &  1.751833 &           &           &           &           \\\\\n",
      "y^5 &  1.987609 &           &           &           &           &           \\\\\n",
      "\\bottomrule\n",
      "\\end{tabular}\n",
      "\n"
     ]
    }
   ],
   "source": [
    "df = tools.get_exp_coeffs(Bvar)\n",
    "df.columns = ['x^{}'.format(i) for i in df.columns]\n",
    "df.index = ['y^{}'.format(i) for i in df.index]\n",
    "print(df.to_latex(na_rep='', escape = False,  column_format='lllllll'))"
   ]
  },
  {
   "cell_type": "markdown",
   "metadata": {},
   "source": [
    "# Ridge regression"
   ]
  },
  {
   "cell_type": "code",
   "execution_count": 104,
   "metadata": {
    "collapsed": false
   },
   "outputs": [
    {
     "name": "stdout",
     "output_type": "stream",
     "text": [
      "MSE:  0.0151454424493\n",
      "R2:  0.835907457431\n",
      "Conf. int.: \n",
      "B0: 0.880478 ± 0.056032\n",
      "B1: 1.568853 ± 0.555796\n",
      "B2: 1.361917 ± 0.595840\n",
      "B3: -6.973863 ± 2.581830\n",
      "B4: 1.099762 ± 2.154262\n",
      "B5: -7.796491 ± 2.728465\n",
      "B6: 2.902282 ± 5.692471\n",
      "B7: -1.661771 ± 4.388140\n",
      "B8: 2.377488 ± 4.489472\n",
      "B9: 5.048270 ± 5.951663\n",
      "B10: 5.116252 ± 5.881972\n",
      "B11: -1.290958 ± 4.574063\n",
      "B12: 1.626181 ± 4.394300\n",
      "B13: 0.391874 ± 4.712915\n",
      "B14: 4.798048 ± 6.105509\n",
      "B15: -3.172578 ± 2.294028\n",
      "B16: 1.294598 ± 2.003006\n",
      "B17: -1.918561 ± 2.015932\n",
      "B18: 1.169127 ± 1.976118\n",
      "B19: -2.650503 ± 2.058222\n",
      "B20: -4.356716 ± 2.367756\n"
     ]
    },
    {
     "data": {
      "image/png": "[encoded data removed]",
      "text/plain": [
       "<matplotlib.figure.Figure at 0x114ecb518>"
      ]
     },
     "metadata": {},
     "output_type": "display_data"
    }
   ],
   "source": [
    "# X = tools.get_X_poly2D(x,y,deg=deg)\n",
    "regr = tools.Regression(X,z,lmbd = lambd)\n",
    "\n",
    "zpred = regr.yhat\n",
    "\n",
    "mse,r2,Bvar = printvar(regr)"
   ]
  },
  {
   "cell_type": "markdown",
   "metadata": {},
   "source": [
    "# Lasso regression"
   ]
  },
  {
   "cell_type": "code",
   "execution_count": 127,
   "metadata": {
    "collapsed": false
   },
   "outputs": [
    {
     "name": "stdout",
     "output_type": "stream",
     "text": [
      "MSE:  0.0352405199793\n",
      "R2:  0.618188339875\n",
      "Conf. int.: \n",
      "B0: 0.000000 ± 0.085127\n",
      "B1: -0.273313 ± 0.844396\n",
      "B2: -0.383378 ± 0.905234\n",
      "B3: -0.284731 ± 3.922459\n",
      "B4: -0.000000 ± 3.272874\n",
      "B5: -0.000000 ± 4.145234\n",
      "B6: -0.000000 ± 8.648317\n",
      "B7: -0.000000 ± 6.666705\n",
      "B8: -0.000000 ± 6.820653\n",
      "B9: -0.000000 ± 9.042096\n",
      "B10: -0.000000 ± 8.936217\n",
      "B11: -0.000000 ± 6.949168\n",
      "B12: -0.000000 ± 6.676063\n",
      "B13: -0.000000 ± 7.160120\n",
      "B14: -0.000000 ± 9.275826\n",
      "B15: -0.000000 ± 3.485214\n",
      "B16: -0.000000 ± 3.043077\n",
      "B17: -0.000000 ± 3.062715\n",
      "B18: -0.000000 ± 3.002227\n",
      "B19: -0.000000 ± 3.126965\n",
      "B20: -0.000000 ± 3.597225\n"
     ]
    },
    {
     "ename": "IndexError",
     "evalue": "invalid index to scalar variable.",
     "output_type": "error",
     "traceback": [
      "\u001b[0;31m---------------------------------------------------------------------------\u001b[0m",
      "\u001b[0;31mIndexError\u001b[0m                                Traceback (most recent call last)",
      "\u001b[0;32m<ipython-input-127-60af28cbee6b>\u001b[0m in \u001b[0;36m<module>\u001b[0;34m()\u001b[0m\n\u001b[1;32m     10\u001b[0m \u001b[0mBvar\u001b[0m \u001b[0;34m=\u001b[0m \u001b[0mnp\u001b[0m\u001b[0;34m.\u001b[0m\u001b[0msqrt\u001b[0m\u001b[0;34m(\u001b[0m\u001b[0mnp\u001b[0m\u001b[0;34m.\u001b[0m\u001b[0mdiag\u001b[0m\u001b[0;34m(\u001b[0m\u001b[0mnp\u001b[0m\u001b[0;34m.\u001b[0m\u001b[0mlinalg\u001b[0m\u001b[0;34m.\u001b[0m\u001b[0minv\u001b[0m\u001b[0;34m(\u001b[0m\u001b[0mX\u001b[0m\u001b[0;34m.\u001b[0m\u001b[0mT\u001b[0m\u001b[0;34m@\u001b[0m\u001b[0mX\u001b[0m\u001b[0;34m)\u001b[0m\u001b[0;34m*\u001b[0m\u001b[0msigma\u001b[0m\u001b[0;34m)\u001b[0m\u001b[0;34m)\u001b[0m\u001b[0;34m\u001b[0m\u001b[0m\n\u001b[1;32m     11\u001b[0m \u001b[0;34m\u001b[0m\u001b[0m\n\u001b[0;32m---> 12\u001b[0;31m \u001b[0mprintvar_lasso\u001b[0m\u001b[0;34m(\u001b[0m\u001b[0mmse\u001b[0m\u001b[0;34m,\u001b[0m\u001b[0mr2\u001b[0m\u001b[0;34m,\u001b[0m\u001b[0mBvar\u001b[0m\u001b[0;34m,\u001b[0m\u001b[0mreg\u001b[0m\u001b[0;34m,\u001b[0m\u001b[0mdeg\u001b[0m\u001b[0;34m)\u001b[0m\u001b[0;34m\u001b[0m\u001b[0m\n\u001b[0m",
      "\u001b[0;32m<ipython-input-123-18f9948bd9bb>\u001b[0m in \u001b[0;36mprintvar_lasso\u001b[0;34m(mse, r2, Bvar, reg, deg)\u001b[0m\n\u001b[1;32m     22\u001b[0m         \u001b[0mprint\u001b[0m\u001b[0;34m(\u001b[0m\u001b[0;34m'B{:}: {:f} {} {:f}'\u001b[0m\u001b[0;34m.\u001b[0m\u001b[0mformat\u001b[0m\u001b[0;34m(\u001b[0m\u001b[0mi\u001b[0m\u001b[0;34m,\u001b[0m\u001b[0mbeta\u001b[0m\u001b[0;34m,\u001b[0m\u001b[0;34mu'\\xb1'\u001b[0m\u001b[0;34m,\u001b[0m\u001b[0mBvar\u001b[0m\u001b[0;34m[\u001b[0m\u001b[0mi\u001b[0m\u001b[0;34m]\u001b[0m\u001b[0;34m)\u001b[0m\u001b[0;34m)\u001b[0m\u001b[0;34m\u001b[0m\u001b[0m\n\u001b[1;32m     23\u001b[0m \u001b[0;34m\u001b[0m\u001b[0m\n\u001b[0;32m---> 24\u001b[0;31m     \u001b[0mdf\u001b[0m \u001b[0;34m=\u001b[0m \u001b[0mtools\u001b[0m\u001b[0;34m.\u001b[0m\u001b[0mget_exp_coeffs\u001b[0m\u001b[0;34m(\u001b[0m\u001b[0mbeta\u001b[0m\u001b[0;34m=\u001b[0m\u001b[0mbeta\u001b[0m\u001b[0;34m,\u001b[0m\u001b[0mdeg\u001b[0m\u001b[0;34m=\u001b[0m\u001b[0mdeg\u001b[0m\u001b[0;34m,\u001b[0m \u001b[0mprint_beta\u001b[0m \u001b[0;34m=\u001b[0m \u001b[0;32mFalse\u001b[0m\u001b[0;34m)\u001b[0m\u001b[0;34m\u001b[0m\u001b[0m\n\u001b[0m\u001b[1;32m     25\u001b[0m     \u001b[0mplt\u001b[0m\u001b[0;34m.\u001b[0m\u001b[0mimshow\u001b[0m\u001b[0;34m(\u001b[0m\u001b[0mdf\u001b[0m\u001b[0;34m)\u001b[0m\u001b[0;34m\u001b[0m\u001b[0m\n",
      "\u001b[0;32m/Users/heine2307/Documents/Universitet/UiO/FYS-STK4155/project1/tools.py\u001b[0m in \u001b[0;36mget_exp_coeffs\u001b[0;34m(beta, deg, print_beta)\u001b[0m\n\u001b[1;32m    279\u001b[0m \u001b[0;34m\u001b[0m\u001b[0m\n\u001b[1;32m    280\u001b[0m                 \u001b[0mprint\u001b[0m\u001b[0;34m(\u001b[0m\u001b[0;34m\"{:>7}: {:5.2f}\"\u001b[0m\u001b[0;34m.\u001b[0m\u001b[0mformat\u001b[0m\u001b[0;34m(\u001b[0m\u001b[0mc_str\u001b[0m\u001b[0;34m,\u001b[0m \u001b[0mbeta\u001b[0m\u001b[0;34m[\u001b[0m\u001b[0mi\u001b[0m\u001b[0;34m]\u001b[0m\u001b[0;34m)\u001b[0m\u001b[0;34m)\u001b[0m\u001b[0;34m\u001b[0m\u001b[0m\n\u001b[0;32m--> 281\u001b[0;31m             \u001b[0mexps\u001b[0m\u001b[0;34m[\u001b[0m\u001b[0;34m(\u001b[0m\u001b[0mn\u001b[0m\u001b[0;34m,\u001b[0m\u001b[0mm\u001b[0m\u001b[0;34m)\u001b[0m\u001b[0;34m]\u001b[0m \u001b[0;34m=\u001b[0m \u001b[0mbeta\u001b[0m\u001b[0;34m[\u001b[0m\u001b[0mi\u001b[0m\u001b[0;34m]\u001b[0m\u001b[0;34m\u001b[0m\u001b[0m\n\u001b[0m\u001b[1;32m    282\u001b[0m             \u001b[0mi\u001b[0m\u001b[0;34m+=\u001b[0m\u001b[0;36m1\u001b[0m\u001b[0;34m\u001b[0m\u001b[0m\n\u001b[1;32m    283\u001b[0m     \u001b[0;32mimport\u001b[0m \u001b[0mpandas\u001b[0m \u001b[0;32mas\u001b[0m \u001b[0mpd\u001b[0m\u001b[0;34m\u001b[0m\u001b[0m\n",
      "\u001b[0;31mIndexError\u001b[0m: invalid index to scalar variable."
     ]
    }
   ],
   "source": [
    "from sklearn.linear_model import Lasso\n",
    "\n",
    "reg = Lasso(alpha = lambd)\n",
    "reg.fit(X,z)\n",
    "zpred = reg.predict(X)\n",
    "\n",
    "mse = tools.squared_error(z,zpred)\n",
    "r2 = tools.r2score(z,zpred)\n",
    "sigma = 1/(N-deg-1) * np.sum((z-zpred)**2)\n",
    "Bvar = np.sqrt(np.diag(np.linalg.inv(X.T@X)*sigma))\n",
    "\n",
    "printvar_lasso(mse,r2,Bvar,reg,deg)"
   ]
  },
  {
   "cell_type": "code",
   "execution_count": null,
   "metadata": {
    "collapsed": false
   },
   "outputs": [],
   "source": []
  },
  {
   "cell_type": "code",
   "execution_count": null,
   "metadata": {
    "collapsed": true
   },
   "outputs": [],
   "source": []
  },
  {
   "cell_type": "code",
   "execution_count": null,
   "metadata": {
    "collapsed": false
   },
   "outputs": [],
   "source": []
  },
  {
   "cell_type": "code",
   "execution_count": null,
   "metadata": {
    "collapsed": true
   },
   "outputs": [],
   "source": []
  },
  {
   "cell_type": "code",
   "execution_count": null,
   "metadata": {
    "collapsed": true
   },
   "outputs": [],
   "source": []
  }
 ],
 "metadata": {
  "kernelspec": {
   "display_name": "Python 3",
   "language": "python",
   "name": "python3"
  },
  "language_info": {
   "codemirror_mode": {
    "name": "ipython",
    "version": 3
   },
   "file_extension": ".py",
   "mimetype": "text/x-python",
   "name": "python",
   "nbconvert_exporter": "python",
   "pygments_lexer": "ipython3",
   "version": "3.6.0"
  }
 },
 "nbformat": 4,
 "nbformat_minor": 2
}
