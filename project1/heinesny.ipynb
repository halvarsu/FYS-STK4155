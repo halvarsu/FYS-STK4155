{
 "cells": [
  {
   "cell_type": "code",
   "execution_count": 1,
   "metadata": {
    "collapsed": false
   },
   "outputs": [],
   "source": [
    "import numpy as np\n",
    "import matplotlib.pyplot as plt\n",
    "import tools"
   ]
  },
  {
   "cell_type": "code",
   "execution_count": 2,
   "metadata": {
    "collapsed": false
   },
   "outputs": [],
   "source": [
    "%matplotlib inline\n",
    "%load_ext autoreload\n",
    "%autoreload 2"
   ]
  },
  {
   "cell_type": "code",
   "execution_count": 3,
   "metadata": {
    "collapsed": false
   },
   "outputs": [],
   "source": [
    "def varBeta(regr, method, lmbd = 0):\n",
    "    if method == 'ols':\n",
    "        Bvar = np.sqrt(np.diag(regr.betaVar))\n",
    "        return Bvar, regr.sigma_y\n",
    "    if method == 'ridge':\n",
    "        sigma = regr.sigma_y\n",
    "        x = regr.symX\n",
    "        W = np.linalg.inv(x+lmbd*np.eye(x.shape[0]))@x\n",
    "        Bvar = np.sqrt(np.diag(sigma*W@np.linalg.inv(x)@W.T))\n",
    "        \n",
    "        return Bvar, sigma\n",
    "    else:\n",
    "        raise ValueError('method needs to be either \"ols\" or \"ridge\"')\n",
    "    "
   ]
  },
  {
   "cell_type": "code",
   "execution_count": 4,
   "metadata": {
    "collapsed": false
   },
   "outputs": [],
   "source": [
    "def printvar(regr,Bvar,deg=5):\n",
    "    mse = regr.squared_error()\n",
    "    r2 = regr.r2score()\n",
    "    print('MSE: ', mse)\n",
    "    print('R2: ', r2)\n",
    "    print('Conf. int.: ')\n",
    "    for i in range(len(Bvar)):\n",
    "        print('B{:}: {:f} {} {:f}'.format(i,regr.beta[i],u'\\xb1',Bvar[i]))\n",
    "        \n",
    "    df = tools.get_exp_coeffs(beta=regr.beta,deg=deg, print_beta = False)\n",
    "    plt.imshow(df)\n",
    "    plt.colorbar()\n",
    "    plt.xlabel('x order')\n",
    "    plt.ylabel('y order')\n",
    "    \n",
    "    \n",
    "    return mse,r2\n",
    "\n",
    "def printvar_lasso(mse,r2,Bvar,reg, deg = 5):\n",
    "    betas = np.zeros((len(Bvar),))\n",
    "    print('MSE: ', mse)\n",
    "    print('R2: ', r2)\n",
    "    print('Conf. int.: ')\n",
    "    for i in range(len(Bvar)):\n",
    "        beta = reg.coef_[i]\n",
    "        betas[i] = beta\n",
    "        print('B{:}: {:f} {} {:f}'.format(i,beta,u'\\xb1',Bvar[i]))\n",
    "        \n",
    "    df = tools.get_exp_coeffs(beta=betas,deg=deg, print_beta = False)\n",
    "    plt.imshow(df)\n",
    "    plt.colorbar()\n",
    "    plt.xlabel('x order')\n",
    "    plt.ylabel('y order')"
   ]
  },
  {
   "cell_type": "markdown",
   "metadata": {},
   "source": [
    "## Ordinary linear regression\n",
    "Make data"
   ]
  },
  {
   "cell_type": "code",
   "execution_count": 33,
   "metadata": {
    "collapsed": true
   },
   "outputs": [],
   "source": [
    "deg = 5\n",
    "N = 2000\n",
    "lambd = 0.01\n",
    "noise = 0.1\n",
    "x,y,z,noise = tools.generate_data(N=N, noise=noise)\n",
    "\n",
    "X = tools.get_X_poly2D(x,y,deg=deg)"
   ]
  },
  {
   "cell_type": "markdown",
   "metadata": {},
   "source": [
    "Do regression and print MSE, R2 and beta with conf.int."
   ]
  },
  {
   "cell_type": "code",
   "execution_count": 44,
   "metadata": {
    "collapsed": false
   },
   "outputs": [],
   "source": [
    "# X = tools.get_X_poly2D(x,y,deg=deg)\n",
    "\n",
    "def olsBeta(X,z, errors = False):\n",
    "    regr = tools.Regression(X,z,lmbd = 0)\n",
    "\n",
    "    zpred = regr.yhat\n",
    "    Bvar,sigma = varBeta(regr,method='ols')\n",
    "    \n",
    "    if errors == True:\n",
    "        mse,r2 = printvar(regr,Bvar)\n",
    "        \n",
    "    return regr.beta,Bvar,sigma"
   ]
  },
  {
   "cell_type": "markdown",
   "metadata": {},
   "source": [
    "### - Mean squared error and R2-score\n",
    "MSE and R2 of ordinary linear regression, with and without k-fold and bootstrap"
   ]
  },
  {
   "cell_type": "code",
   "execution_count": 40,
   "metadata": {
    "collapsed": false
   },
   "outputs": [
    {
     "name": "stdout",
     "output_type": "stream",
     "text": [
      "------- Without resampling -------\n",
      "MSE:  0.011859337875389155\n",
      "R2:  0.872619942979\n",
      "------- With k-fold validation -------\n",
      "MSE (in):  0.011775465019837016\n",
      "R2 (in):  0.8732387229717149\n",
      "MSE (out):  0.012121818266651823\n",
      "R2 (out):  0.8695044269047545\n",
      "------- With bootstrap -------\n",
      "MSE (out):  0.012381240787699796\n",
      "R2 (out):  0.8498504886868116\n"
     ]
    }
   ],
   "source": [
    "import tools\n",
    "\n",
    "## Without resampling\n",
    "regr = tools.Regression(X,z)\n",
    "    \n",
    "zpred = regr.yhat\n",
    "mse = regr.squared_error()\n",
    "r2 = regr.r2score()\n",
    "\n",
    "print('------- Without resampling -------')\n",
    "print('MSE: ', mse)\n",
    "print('R2: ', r2)\n",
    "\n",
    "## With k-fold\n",
    "out = tools.k_fold_val(x,y,z, method = 'ols')\n",
    "\n",
    "k_R2_in = out[0]\n",
    "k_MSE_in = out[1]\n",
    "k_R2_out = out[2]\n",
    "k_MSE_out = out[3]\n",
    "\n",
    "print('------- With k-fold validation -------')\n",
    "print('MSE (in): ', k_MSE_in)\n",
    "print('R2 (in): ', k_R2_in)\n",
    "print('MSE (out): ', k_MSE_out)\n",
    "print('R2 (out): ', k_R2_out)\n",
    "\n",
    "## With bootstrap\n",
    "b_MSE_out, b_R2_out = tools.bootstrap(x,y,z, method = 'ols', r2_score=True, smplsize=1000)\n",
    "\n",
    "print('------- With bootstrap -------')\n",
    "print('MSE (out): ', np.average(b_MSE_out))\n",
    "print('R2 (out): ', np.average(b_R2_out))"
   ]
  },
  {
   "cell_type": "code",
   "execution_count": 7,
   "metadata": {
    "collapsed": true
   },
   "outputs": [],
   "source": [
    "## VAR PLoT\n",
    "# plt.figure(figsize=(10,6))\n",
    "# plt.subplot(2,2,1)\n",
    "# plt.imshow(Bvar)\n",
    "# plt.subplot(1,2,2)\n",
    "# plt.errorbar(np.arange(len(Bvar)), regr.beta/regr.beta, yerr = np.sqrt(np.diag(Bvar)), fmt=\".\")\n",
    "# plt.tight_layout()"
   ]
  },
  {
   "cell_type": "code",
   "execution_count": 9,
   "metadata": {
    "collapsed": true
   },
   "outputs": [],
   "source": [
    "# df = tools.get_exp_coeffs(Bvar)\n",
    "# df.columns = ['x^{}'.format(i) for i in df.columns]\n",
    "# df.index = ['y^{}'.format(i) for i in df.index]\n",
    "# print(df.to_latex(na_rep='', escape = False,  column_format='lllllll'))"
   ]
  },
  {
   "cell_type": "markdown",
   "metadata": {},
   "source": [
    "# Ridge regression"
   ]
  },
  {
   "cell_type": "code",
   "execution_count": 43,
   "metadata": {
    "collapsed": false
   },
   "outputs": [],
   "source": [
    "# X = tools.get_X_poly2D(x,y,deg=deg)\n",
    "def ridgeBeta(X,z,lambd, errors = False):\n",
    "    regr = tools.Regression(X,z,lmbd = lambd)\n",
    "    \n",
    "    zpred = regr.yhat\n",
    "    Bvar,sigma = varBeta(regr,method = 'ridge', lmbd = lambd)\n",
    "\n",
    "    if errors == True:\n",
    "        mse,r2 = printvar(regr, Bvar)\n",
    "    \n",
    "    return regr.beta, Bvar, sigma\n",
    "    "
   ]
  },
  {
   "cell_type": "markdown",
   "metadata": {},
   "source": [
    "### - Mean squared error and R2-score\n",
    "MSE and R2 of ridge regression, with and without k-fold and bootstrap"
   ]
  },
  {
   "cell_type": "code",
   "execution_count": 36,
   "metadata": {
    "collapsed": false
   },
   "outputs": [
    {
     "name": "stdout",
     "output_type": "stream",
     "text": [
      "------- Without resampling -------\n",
      "MSE:  0.01394262030151856\n",
      "R2:  0.850243598108861\n",
      "------- With k-fold validation -------\n",
      "MSE (in):  0.014510497188961986\n",
      "R2 (in):  0.8437597280588398\n",
      "MSE (out):  0.014779715554599695\n",
      "R2 (out):  0.8407941983826561\n",
      "------- With bootstrap -------\n",
      "MSE (out):  0.016079159976349747\n",
      "R2 (out):  0.7849896754539337\n"
     ]
    }
   ],
   "source": [
    "import tools\n",
    "\n",
    "## Without resampling\n",
    "regr = tools.Regression(X,z,lmbd = lambd)\n",
    "    \n",
    "zpred = regr.yhat\n",
    "mse = regr.squared_error()\n",
    "r2 = regr.r2score()\n",
    "#Bvar,sigma = varBeta(regr,method = 'ridge', lmbd = lambd)\n",
    "\n",
    "print('------- Without resampling -------')\n",
    "print('MSE: ', mse)\n",
    "print('R2: ', r2)\n",
    "\n",
    "## With k-fold\n",
    "out = tools.k_fold_val(x,y,z, lmbd=lambd)\n",
    "\n",
    "k_R2_in = out[0]\n",
    "k_MSE_in = out[1]\n",
    "k_R2_out = out[2]\n",
    "k_MSE_out = out[3]\n",
    "\n",
    "print('------- With k-fold validation -------')\n",
    "print('MSE (in): ', k_MSE_in)\n",
    "print('R2 (in): ', k_R2_in)\n",
    "print('MSE (out): ', k_MSE_out)\n",
    "print('R2 (out): ', k_R2_out)\n",
    "\n",
    "## With bootstrap\n",
    "b_MSE_out, b_R2_out = tools.bootstrap(x,y,z, lmbd=lambd, method = 'ridge', r2_score=True, smplsize=500)\n",
    "\n",
    "print('------- With bootstrap -------')\n",
    "print('MSE (out): ', np.average(b_MSE_out))\n",
    "print('R2 (out): ', np.average(b_R2_out))"
   ]
  },
  {
   "cell_type": "markdown",
   "metadata": {},
   "source": [
    "# Lasso regression"
   ]
  },
  {
   "cell_type": "code",
   "execution_count": 42,
   "metadata": {
    "collapsed": false
   },
   "outputs": [],
   "source": [
    "from sklearn.linear_model import Lasso\n",
    "\n",
    "def lassoBeta(X,z,lambd, errors = False):\n",
    "    reg = Lasso(alpha = lambd)\n",
    "    reg.fit(X,z)\n",
    "    zpred = reg.predict(X)\n",
    "\n",
    "    mse = tools.squared_error(z,zpred)\n",
    "    r2 = tools.r2score(z,zpred)\n",
    "    sigma = 1/(N-deg-1) * np.sum((z-zpred)**2)\n",
    "    Bvar = np.sqrt(np.diag(np.linalg.inv(X.T@X)*sigma))\n",
    "    if errors == True:\n",
    "        printvar_lasso(mse,r2,Bvar,reg,deg)\n",
    "        \n",
    "    return reg.coef_, Bvar, sigma"
   ]
  },
  {
   "cell_type": "markdown",
   "metadata": {},
   "source": [
    "### - Mean squared error and R2-score\n",
    "MSE and R2 of lasso regression, with and without k-fold and bootstrap"
   ]
  },
  {
   "cell_type": "code",
   "execution_count": 39,
   "metadata": {
    "collapsed": false
   },
   "outputs": [
    {
     "name": "stdout",
     "output_type": "stream",
     "text": [
      "------- Without resampling -------\n",
      "MSE:  0.032761609923565874\n",
      "R2:  0.6481105619881298\n",
      "------- With k-fold validation -------\n",
      "MSE (in):  0.03611448495674045\n",
      "R2 (in):  0.6107806807945044\n",
      "MSE (out):  0.036464109710808434\n",
      "R2 (out):  0.6075598172345231\n",
      "------- With bootstrap -------\n",
      "MSE (out):  0.0366502375278498\n",
      "R2 (out):  -0.11211789881324254\n"
     ]
    }
   ],
   "source": [
    "from sklearn.linear_model import Lasso\n",
    "\n",
    "#lambd = 0.005\n",
    "\n",
    "reg = Lasso(alpha = lambd)\n",
    "reg.fit(X,z)\n",
    "zpred = reg.predict(X)\n",
    "\n",
    "mse = tools.squared_error(z,zpred)\n",
    "r2 = tools.r2score(z,zpred)\n",
    "\n",
    "print('------- Without resampling -------')\n",
    "print('MSE: ', mse)\n",
    "print('R2: ', r2)\n",
    "\n",
    "## With k-fold\n",
    "out = tools.k_fold_val(x,y,z, method='lasso', lmbd=lambd)\n",
    "\n",
    "k_R2_in = out[0]\n",
    "k_MSE_in = out[1]\n",
    "k_R2_out = out[2]\n",
    "k_MSE_out = out[3]\n",
    "\n",
    "print('------- With k-fold validation -------')\n",
    "print('MSE (in): ', k_MSE_in)\n",
    "print('R2 (in): ', k_R2_in)\n",
    "print('MSE (out): ', k_MSE_out)\n",
    "print('R2 (out): ', k_R2_out)\n",
    "\n",
    "## With bootstrap\n",
    "b_MSE_out, b_R2_out = tools.bootstrap(x,y,z, lmbd=lambd, method = 'lasso', r2_score=True, smplsize=500)\n",
    "\n",
    "print('------- With bootstrap -------')\n",
    "print('MSE (out): ', np.average(b_MSE_out))\n",
    "print('R2 (out): ', np.average(b_R2_out))"
   ]
  },
  {
   "cell_type": "markdown",
   "metadata": {
    "collapsed": true
   },
   "source": [
    "# Plot beta as a function of lambda\n",
    "For b_4"
   ]
  },
  {
   "cell_type": "code",
   "execution_count": 51,
   "metadata": {
    "collapsed": false
   },
   "outputs": [
    {
     "name": "stderr",
     "output_type": "stream",
     "text": [
      "/Users/heine2307/anaconda/lib/python3.6/site-packages/ipykernel/__main__.py:5: UserWarning: With alpha=0, this algorithm does not converge well. You are advised to use the LinearRegression estimator\n",
      "/Users/heine2307/anaconda/lib/python3.6/site-packages/sklearn/linear_model/coordinate_descent.py:477: UserWarning: Coordinate descent with no regularization may lead to unexpected results and is discouraged.\n",
      "  positive)\n",
      "/Users/heine2307/anaconda/lib/python3.6/site-packages/sklearn/linear_model/coordinate_descent.py:491: ConvergenceWarning: Objective did not converge. You might want to increase the number of iterations. Fitting data with very small alpha may cause precision problems.\n",
      "  ConvergenceWarning)\n"
     ]
    },
    {
     "data": {
      "image/png": "[encoded data removed]",
      "text/plain": [
       "<Figure size 1440x720 with 2 Axes>"
      ]
     },
     "metadata": {},
     "output_type": "display_data"
    }
   ],
   "source": [
    "runs = 50\n",
    "bnum = 10\n",
    "\n",
    "# OLS beta is not dependent of lambda, so every point is the same\n",
    "Sb,Sv,Ss = olsBeta(X,z)\n",
    "Bnum = np.argsort(np.abs(Sb))\n",
    "bnum = Bnum[0]\n",
    "#print('Bnum: ',bnum)\n",
    "Sbeta = np.ones(runs)*Sb[bnum]\n",
    "Svar = np.ones(runs)*Sv[bnum]\n",
    "Ssig = np.ones(runs)*Ss\n",
    "\n",
    "Rbeta = np.zeros(runs)\n",
    "Rvar = np.zeros(runs)\n",
    "Rsig = np.zeros(runs)\n",
    "\n",
    "Rlist = np.zeros((runs,X.shape[1]))\n",
    "\n",
    "Lbeta = np.zeros(runs)\n",
    "Lvar = np.zeros(runs)\n",
    "Lsig = np.zeros(runs)\n",
    "\n",
    "Llist = np.zeros((runs,X.shape[1]))\n",
    "\n",
    "#x = 100*np.log10(np.arange(runs))\n",
    "# x = np.logspace(-3, 2, runs)\n",
    "x = np.linspace(0, 0.5, runs)\n",
    "\n",
    "for i, lambd in enumerate(x):\n",
    "    Rb,Rv,Rs = ridgeBeta(X,z,lambd=lambd)\n",
    "    Rbeta[i] = Rb[bnum]\n",
    "    Rvar[i] = Rv[bnum]\n",
    "    Rsig[i] = Rs\n",
    "    Rlist[i][:] = Rb\n",
    "    \n",
    "    Lb,Lv,Ls = lassoBeta(X,z,lambd=lambd)\n",
    "    Lbeta[i] = Lb[bnum]\n",
    "    Lvar[i] = Lv[bnum]\n",
    "    Lsig[i] = Ls\n",
    "    Llist[i][:] = Lb\n",
    "\n",
    "# #OLS\n",
    "# plt.plot(x,Sbeta, 'r-')\n",
    "# plt.fill_between(x,Sbeta+Ssig,Sbeta-Ssig,alpha=0.1,color='r')\n",
    "# #Ridge\n",
    "# plt.plot(x,Rbeta, 'b-')\n",
    "# plt.fill_between(x,Rbeta+Rsig,Rbeta-Rsig,alpha=0.1,color='b')\n",
    "# #Lasso\n",
    "# plt.plot(x,Lbeta, 'g-')\n",
    "# plt.fill_between(x,Lbeta+Lsig,Lbeta-Lsig,alpha=0.1,color='g')\n",
    "\n",
    "fig = plt.figure(figsize=[20,10])\n",
    "plt.subplot(121)\n",
    "for i in range(X.shape[1]):\n",
    "    plt.plot(x,Rlist.T[i])#,'b-')\n",
    "    plt.fill_between(x,Rlist.T[i]+Rsig,Rlist.T[i]-Rsig,alpha=0.1)#,color='b')\n",
    "plt.xlabel(r'$ \\lambda $',fontsize=15)\n",
    "plt.ylabel(r'$ \\beta_j $',fontsize=15)\n",
    "plt.title('Ridge',fontsize=20)\n",
    "#plt.legend(['B_{}'.format(i) for i in range(X.shape[1])])\n",
    "plt.subplot(122)\n",
    "for i in range(X.shape[1]):\n",
    "    plt.plot(x,Llist.T[i])#,'g-')\n",
    "    #plt.fill_between(x,Lbeta[i]+Lsig,Lbeta[i]-Lsig,alpha=0.1)#,color='g')\n",
    "plt.xlabel(r'$ \\lambda $',fontsize=15)\n",
    "plt.ylabel(r'$ \\beta_j $',fontsize=15)\n",
    "plt.title('Lasso',fontsize=20)\n",
    "\n",
    "#plt.savefig('betacoef.pdf')\n",
    "\n",
    "plt.show()\n",
    "\n",
    "\n"
   ]
  },
  {
   "cell_type": "code",
   "execution_count": null,
   "metadata": {
    "collapsed": false
   },
   "outputs": [],
   "source": []
  },
  {
   "cell_type": "code",
   "execution_count": null,
   "metadata": {
    "collapsed": true
   },
   "outputs": [],
   "source": []
  },
  {
   "cell_type": "code",
   "execution_count": null,
   "metadata": {
    "collapsed": true
   },
   "outputs": [],
   "source": []
  }
 ],
 "metadata": {
  "kernelspec": {
   "display_name": "Python 3",
   "language": "python",
   "name": "python3"
  },
  "language_info": {
   "codemirror_mode": {
    "name": "ipython",
    "version": 3
   },
   "file_extension": ".py",
   "mimetype": "text/x-python",
   "name": "python",
   "nbconvert_exporter": "python",
   "pygments_lexer": "ipython3",
   "version": "3.6.0"
  }
 },
 "nbformat": 4,
 "nbformat_minor": 2
}
