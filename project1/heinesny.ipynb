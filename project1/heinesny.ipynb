{
 "cells": [
  {
   "cell_type": "code",
   "execution_count": 127,
   "metadata": {
    "collapsed": false
   },
   "outputs": [],
   "source": [
    "import numpy as np\n",
    "import matplotlib.pyplot as plt\n",
    "import tools"
   ]
  },
  {
   "cell_type": "code",
   "execution_count": 128,
   "metadata": {
    "collapsed": false
   },
   "outputs": [
    {
     "name": "stdout",
     "output_type": "stream",
     "text": [
      "The autoreload extension is already loaded. To reload it, use:\n",
      "  %reload_ext autoreload\n"
     ]
    }
   ],
   "source": [
    "%matplotlib inline\n",
    "%load_ext autoreload\n",
    "%autoreload 2"
   ]
  },
  {
   "cell_type": "markdown",
   "metadata": {},
   "source": [
    "# Functions used:"
   ]
  },
  {
   "cell_type": "code",
   "execution_count": 214,
   "metadata": {
    "collapsed": false
   },
   "outputs": [],
   "source": [
    "def varBeta(regr, method, lmbd = 0):\n",
    "    if method == 'ols':\n",
    "        Bvar = np.sqrt(np.diag(regr.betaVar))\n",
    "        return Bvar, regr.sigma_y\n",
    "    if method == 'ridge':\n",
    "        sigma = regr.sigma_y\n",
    "        x = regr.symX\n",
    "        W = np.linalg.inv(x+lmbd*np.eye(x.shape[0]))@x\n",
    "        Bvar = np.sqrt(np.diag(sigma*W@np.linalg.inv(x)@W.T))\n",
    "        \n",
    "        return Bvar, sigma\n",
    "    else:\n",
    "        raise ValueError('method needs to be either \"ols\" or \"ridge\"')\n",
    "    \n",
    "def printvar(regr,Bvar,deg=5):\n",
    "    mse = regr.squared_error()\n",
    "    r2 = regr.r2score()\n",
    "    print('MSE: ', mse)\n",
    "    print('R2: ', r2)\n",
    "    print('----- Conf. int.: -----')\n",
    "    for i in range(len(Bvar)):\n",
    "        if i in [0,5,10,15,20]:\n",
    "            #print('B{:}: {:.4f} {} {:.4f}'.format(i,regr.beta[i],u'\\xb1',Bvar[i]))\n",
    "            #For latex\n",
    "            print('$j={:}$ & {:.4f} {} {:.4f} \\\\'.format(i,regr.beta[i],'$\\pm$',Bvar[i]))\n",
    "        \n",
    "    df = tools.get_exp_coeffs(beta=regr.beta,deg=deg, print_beta = False)\n",
    "    plt.imshow(df)\n",
    "    plt.colorbar()\n",
    "    plt.xlabel('x order')\n",
    "    plt.ylabel('y order')\n",
    "    \n",
    "    \n",
    "    return mse,r2"
   ]
  },
  {
   "cell_type": "code",
   "execution_count": 224,
   "metadata": {
    "collapsed": false
   },
   "outputs": [],
   "source": [
    "def printvar_lasso(mse,r2,Bvar,reg, deg = 5):\n",
    "    betas = np.zeros((len(Bvar),))\n",
    "    print('MSE: ', mse)\n",
    "    print('R2: ', r2)\n",
    "    print('----- Conf. int.: -----')\n",
    "    for i in range(len(Bvar)):\n",
    "        beta = reg.coef_[i]\n",
    "        betas[i] = beta\n",
    "        #print('B{:}: {:f} {} {:f}'.format(i,beta,u'\\xb1',Bvar[i]))\n",
    "        if i in [0,5,10,15,20]:\n",
    "            #For latex\n",
    "            print('$j={:}$ & {:.4f} {} {:.4f} \\\\'.format(i,beta,'$\\pm$',Bvar[i]))\n",
    "        \n",
    "    df = tools.get_exp_coeffs(beta=betas,deg=deg, print_beta = False)\n",
    "    plt.imshow(df)\n",
    "    plt.colorbar()\n",
    "    plt.xlabel('x order')\n",
    "    plt.ylabel('y order')"
   ]
  },
  {
   "cell_type": "code",
   "execution_count": 340,
   "metadata": {
    "collapsed": false
   },
   "outputs": [],
   "source": [
    "def print_scores_with_resmpl(X,z, lmbd=0, method = 'ols', smplsize=2000):\n",
    "    if method.lower() not in ['ols','ridge','lasso']:\n",
    "        raise ValueError('Invalid method flag, {}'.format(method))\n",
    "    if method.lower() == 'ols' and lmbd != 0:\n",
    "        raise ValueError('lmbd != 0 does not make sense for OLS.')\n",
    "    if method.lower() == 'lasso':\n",
    "        from sklearn.linear_model import Lasso \n",
    "    \n",
    "    #mse=0\n",
    "    #b_MSE_out = 0\n",
    "    #b_R2_out = 0\n",
    "    ## Without resampling\n",
    "    if method.lower() == 'ols':\n",
    "        regr = tools.Regression(X,z)\n",
    "        zpred = regr.yhat\n",
    "        mse = regr.squared_error()\n",
    "        r2 = regr.r2score()\n",
    "        out = tools.k_fold_val(x,y,z, method = 'ols', return_average=False,k=100)\n",
    "        b_MSE_out, b_R2_out = tools.bootstrap(x,y,z, method = 'ols', r2_score=True, smplsize=smplsize)\n",
    "    if method.lower() == 'ridge':\n",
    "        regr = tools.Regression(X,z,lmbd = lmbd)\n",
    "        zpred = regr.yhat\n",
    "        mse = regr.squared_error()\n",
    "        r2 = regr.r2score()\n",
    "        out = tools.k_fold_val(x,y,z, method = 'ridge', lmbd=lmbd, return_average=False,k=100)\n",
    "        b_MSE_out, b_R2_out = tools.bootstrap(x,y,z, lmbd=lmbd, method = 'ridge', r2_score=True, smplsize=smplsize)\n",
    "    if method.lower() == 'lasso':\n",
    "        reg = Lasso(alpha = lmbd, fit_intercept=False)\n",
    "        reg.fit(X,z)\n",
    "        zpred = reg.predict(X)\n",
    "        mse = tools.squared_error(z,zpred)\n",
    "        r2 = tools.r2score(z,zpred)\n",
    "        out = tools.k_fold_val(x,y,z, method = 'lasso', lmbd=lmbd, return_average=False,k=100)\n",
    "        b_MSE_out, b_R2_out = tools.bootstrap(x,y,z, lmbd=lmbd, method = 'lasso', r2_score=True, smplsize=smplsize)\n",
    "    \n",
    "    ## With k-fold\n",
    "    k_R2_in = out.T[0]\n",
    "    k_MSE_in = out.T[1]\n",
    "    k_R2_out = out.T[2]\n",
    "    k_MSE_out = out.T[3]   \n",
    "        \n",
    "# REGULAR PRINT, not for latex\n",
    "#     print('--------- Without resampling ---------')\n",
    "#     print('MSE: ', mse)\n",
    "#     print('R2: ', r2)\n",
    "\n",
    "#     print('------- With k-fold validation -------')\n",
    "#     print('MSE (in): ', k_MSE_in)\n",
    "#     print('R2 (in): ', k_R2_in)\n",
    "#     print('MSE (out): ', k_MSE_out)\n",
    "#     print('R2 (out): ', k_R2_out)\n",
    "\n",
    "#     ## With bootstrap\n",
    "#     print('----------- With bootstrap -----------')\n",
    "#     print('MSE (out): ', np.average(b_MSE_out))\n",
    "#     print('R2 (out): ', np.average(b_R2_out))\n",
    "\n",
    "    # FOR latex\n",
    "    print('MSE &',round(mse,4) ,\\\n",
    "          '&',round(np.average(k_MSE_out),4),'$\\pm$',round(np.std(k_MSE_out),4),\\\n",
    "          '&', round(np.average(b_MSE_out),4),'$\\pm$',round(np.std(b_MSE_out),4), '\\\\')\n",
    "    print('R2 &',round(r2,4) ,\\\n",
    "          '&',round(np.average(k_R2_out),4),'$\\pm$',round(np.std(k_R2_out),4),\\\n",
    "          '&', round(np.average(b_R2_out),4),'$\\pm$',round(np.std(b_R2_out),4), '\\\\')"
   ]
  },
  {
   "cell_type": "markdown",
   "metadata": {},
   "source": [
    "# Regression analysis\n",
    "Performed on the data set is the franke function for x,y$\\in$[0,1], defined below with additional variables used in the regression analysis"
   ]
  },
  {
   "cell_type": "code",
   "execution_count": 294,
   "metadata": {
    "collapsed": true
   },
   "outputs": [],
   "source": [
    "deg = 5 # degree of polynomial fit\n",
    "N = 2000 # Data points\n",
    "lambd = 0.01\n",
    "noise = 0.1\n",
    "\n",
    "x,y,z,noise = tools.generate_data(N=N, noise=noise)\n",
    "\n",
    "X = tools.get_X_poly2D(x,y,deg=deg)"
   ]
  },
  {
   "cell_type": "markdown",
   "metadata": {},
   "source": [
    "## Ordinary linear regression\n"
   ]
  },
  {
   "cell_type": "markdown",
   "metadata": {},
   "source": [
    "Do regression and print MSE, R2 and beta with conf.int."
   ]
  },
  {
   "cell_type": "code",
   "execution_count": 133,
   "metadata": {
    "collapsed": false
   },
   "outputs": [],
   "source": [
    "# X = tools.get_X_poly2D(x,y,deg=deg)\n",
    "\n",
    "def olsBeta(X,z, errors = False):\n",
    "    regr = tools.Regression(X,z,lmbd = 0)\n",
    "\n",
    "    zpred = regr.yhat\n",
    "    Bvar,sigma = varBeta(regr,method='ols')\n",
    "    \n",
    "    if errors == True:\n",
    "        mse,r2 = printvar(regr,Bvar)\n",
    "        \n",
    "    return regr.beta,Bvar,sigma"
   ]
  },
  {
   "cell_type": "markdown",
   "metadata": {},
   "source": [
    "### - Mean squared error and R2-score\n",
    "MSE and R2 of ordinary linear regression, with and without k-fold and bootstrap"
   ]
  },
  {
   "cell_type": "code",
   "execution_count": 341,
   "metadata": {
    "collapsed": false
   },
   "outputs": [
    {
     "name": "stdout",
     "output_type": "stream",
     "text": [
      "MSE & 0.0122 & 0.0125 $\\pm$ 0.0037 & 0.0127 $\\pm$ 0.0006 \\\n",
      "R2 & 0.8734 & 0.8532 $\\pm$ 0.0606 & 0.8494 $\\pm$ 0.01 \\\n"
     ]
    }
   ],
   "source": [
    "print_scores_with_resmpl(X,z, method = 'ols', smplsize=2000)"
   ]
  },
  {
   "cell_type": "code",
   "execution_count": 135,
   "metadata": {
    "collapsed": true
   },
   "outputs": [],
   "source": [
    "## VAR PLoT\n",
    "# plt.figure(figsize=(10,6))\n",
    "# plt.subplot(2,2,1)\n",
    "# plt.imshow(Bvar)\n",
    "# plt.subplot(1,2,2)\n",
    "# plt.errorbar(np.arange(len(Bvar)), regr.beta/regr.beta, yerr = np.sqrt(np.diag(Bvar)), fmt=\".\")\n",
    "# plt.tight_layout()"
   ]
  },
  {
   "cell_type": "code",
   "execution_count": 136,
   "metadata": {
    "collapsed": true
   },
   "outputs": [],
   "source": [
    "# df = tools.get_exp_coeffs(Bvar)\n",
    "# df.columns = ['x^{}'.format(i) for i in df.columns]\n",
    "# df.index = ['y^{}'.format(i) for i in df.index]\n",
    "# print(df.to_latex(na_rep='', escape = False,  column_format='lllllll'))"
   ]
  },
  {
   "cell_type": "markdown",
   "metadata": {},
   "source": [
    "##### Beta coefficients and their confidence intervals"
   ]
  },
  {
   "cell_type": "code",
   "execution_count": 216,
   "metadata": {
    "collapsed": false
   },
   "outputs": [
    {
     "name": "stdout",
     "output_type": "stream",
     "text": [
      "MSE:  0.01225614761676241\n",
      "R2:  0.873356925108133\n",
      "----- Conf. int.: -----\n",
      "$j=0$ & 0.3092 $\\pm$ 0.0494 \\\n",
      "$j=5$ & -33.9350 $\\pm$ 2.2095 \\\n",
      "$j=10$ & 23.5317 $\\pm$ 5.4283 \\\n",
      "$j=15$ & -14.6695 $\\pm$ 2.1170 \\\n",
      "$j=20$ & -0.2200 $\\pm$ 2.0670 \\\n"
     ]
    },
    {
     "data": {
      "text/plain": [
       "(array([  0.30922325,   4.79421388,   8.07399502, -12.63430115,\n",
       "        -17.1884009 , -33.93495674,  -1.10966407,  24.96849739,\n",
       "         47.94068287,  45.69018631,  23.53171846, -34.54650237,\n",
       "         -9.50902407, -56.98913001, -19.91011902, -14.66947795,\n",
       "         18.49651852,  -4.5164772 ,  11.11673751,  20.42581552,\n",
       "         -0.21995223]),\n",
       " array([0.04942561, 0.51815271, 0.47876823, 2.38758165, 1.93875674,\n",
       "        2.20946192, 5.25710454, 3.99554821, 3.92358276, 4.96288202,\n",
       "        5.42826611, 4.19915821, 4.01683704, 4.04862325, 5.22583925,\n",
       "        2.11703987, 1.8762476 , 1.85108905, 1.84245167, 1.81208182,\n",
       "        2.06699925]),\n",
       " 0.01239246472877898)"
      ]
     },
     "execution_count": 216,
     "metadata": {},
     "output_type": "execute_result"
    },
    {
     "data": {
      "image/png": "[encoded data removed]",
      "text/plain": [
       "<Figure size 432x288 with 2 Axes>"
      ]
     },
     "metadata": {},
     "output_type": "display_data"
    }
   ],
   "source": [
    "olsBeta(X,z, errors=True)"
   ]
  },
  {
   "cell_type": "markdown",
   "metadata": {},
   "source": [
    "# Ridge regression"
   ]
  },
  {
   "cell_type": "code",
   "execution_count": 138,
   "metadata": {
    "collapsed": false
   },
   "outputs": [],
   "source": [
    "# X = tools.get_X_poly2D(x,y,deg=deg)\n",
    "def ridgeBeta(X,z,lambd, errors = False):\n",
    "    regr = tools.Regression(X,z,lmbd = lambd)\n",
    "    \n",
    "    zpred = regr.yhat\n",
    "    Bvar,sigma = varBeta(regr,method = 'ridge', lmbd = lambd)\n",
    "\n",
    "    if errors == True:\n",
    "        mse,r2 = printvar(regr, Bvar)\n",
    "    \n",
    "    return regr.beta, Bvar, sigma\n",
    "    "
   ]
  },
  {
   "cell_type": "markdown",
   "metadata": {},
   "source": [
    "### - Mean squared error and R2-score\n",
    "MSE and R2 of ridge regression, with and without k-fold and bootstrap"
   ]
  },
  {
   "cell_type": "code",
   "execution_count": 275,
   "metadata": {
    "collapsed": false
   },
   "outputs": [
    {
     "name": "stdout",
     "output_type": "stream",
     "text": [
      "MSE & 0.0124 & 0.0131 & 0.0129 \\\n",
      "R2 & 0.8688 & 0.8614 & 0.845 \\\n"
     ]
    }
   ],
   "source": [
    "print_scores_with_resmpl(X,z, lmbd=0.00000005, method = 'ridge', smplsize=2000)"
   ]
  },
  {
   "cell_type": "markdown",
   "metadata": {},
   "source": [
    "##### Beta coefficients and their confidence intervals"
   ]
  },
  {
   "cell_type": "code",
   "execution_count": 269,
   "metadata": {
    "collapsed": false
   },
   "outputs": [
    {
     "name": "stdout",
     "output_type": "stream",
     "text": [
      "MSE:  0.013433175640649131\n",
      "R2:  0.8578197757260515\n",
      "----- Conf. int.: -----\n",
      "$j=0$ & 0.6889 $\\pm$ 0.0283 \\\n",
      "$j=5$ & -13.8691 $\\pm$ 0.5919 \\\n",
      "$j=10$ & 13.1950 $\\pm$ 1.0550 \\\n",
      "$j=15$ & -8.3841 $\\pm$ 0.5619 \\\n",
      "$j=20$ & -6.0760 $\\pm$ 0.5510 \\\n"
     ]
    },
    {
     "data": {
      "text/plain": [
       "(array([  0.68894853,   2.65677653,   3.06970482,  -9.07662932,\n",
       "         -1.30613074, -13.8690776 ,   1.10493446,   1.79045722,\n",
       "          9.617479  ,  12.19569699,  13.19495849, -10.64807866,\n",
       "          6.25212745, -12.47222206,   3.95115576,  -8.38405508,\n",
       "          8.52481774,  -7.87271352,   4.01039145,   2.50502345,\n",
       "         -6.07604639]),\n",
       " array([0.0282606 , 0.19512141, 0.19848011, 0.58532342, 0.5268527 ,\n",
       "        0.59191416, 0.91839054, 0.97494547, 0.98282125, 0.90836333,\n",
       "        1.05496033, 1.30558771, 1.31379022, 1.2962644 , 1.02793713,\n",
       "        0.5619366 , 0.86248188, 1.0422815 , 1.03969409, 0.85556991,\n",
       "        0.55102843]),\n",
       " 0.013582584065368181)"
      ]
     },
     "execution_count": 269,
     "metadata": {},
     "output_type": "execute_result"
    },
    {
     "data": {
      "image/png": "[encoded data removed]",
      "text/plain": [
       "<Figure size 432x288 with 2 Axes>"
      ]
     },
     "metadata": {},
     "output_type": "display_data"
    }
   ],
   "source": [
    "ridgeBeta(X,z, lambd=0.001, errors=True)"
   ]
  },
  {
   "cell_type": "markdown",
   "metadata": {},
   "source": [
    "# Lasso regression"
   ]
  },
  {
   "cell_type": "code",
   "execution_count": 226,
   "metadata": {
    "collapsed": false
   },
   "outputs": [],
   "source": [
    "from sklearn.linear_model import Lasso\n",
    "\n",
    "def lassoBeta(X,z,lambd, errors = False):\n",
    "    reg = Lasso(alpha = lambd, fit_intercept=False)\n",
    "    reg.fit(X,z)\n",
    "    zpred = reg.predict(X)\n",
    "\n",
    "    mse = tools.squared_error(z,zpred)\n",
    "    r2 = tools.r2score(z,zpred)\n",
    "    sigma = 1/(N-deg-1) * np.sum((z-zpred)**2)\n",
    "    #Bvar = np.sqrt(np.diag(np.linalg.inv(X.T@X)*sigma))\n",
    "    blist = tools.k_fold_val(x,y,z, statistic_func=beta_stat, return_average=False,method='lasso',lmbd=lambd, k=10)\n",
    "    _,Bvar = beta_best(blist)\n",
    "    if errors == True:\n",
    "        printvar_lasso(mse,r2,Bvar,reg,deg)\n",
    "        \n",
    "    return reg.coef_, Bvar, sigma"
   ]
  },
  {
   "cell_type": "markdown",
   "metadata": {},
   "source": [
    "### - Mean squared error and R2-score\n",
    "MSE and R2 of lasso regression, with and without k-fold and bootstrap"
   ]
  },
  {
   "cell_type": "code",
   "execution_count": 268,
   "metadata": {
    "collapsed": false
   },
   "outputs": [
    {
     "name": "stdout",
     "output_type": "stream",
     "text": [
      "MSE & 0.1045 & 0.1045 & 0.105 \\\n",
      "R2 & -0.1058 & -0.1065 & -inf \\\n"
     ]
    },
    {
     "name": "stderr",
     "output_type": "stream",
     "text": [
      "/Users/heine2307/Documents/Universitet/UiO/FYS-STK4155/project1/tools.py:111: RuntimeWarning: divide by zero encountered in double_scalars\n",
      "  return 1 - (np.sum((y-yhat)**2)/np.sum((y-ymean)**2))\n",
      "/Users/heine2307/Documents/Universitet/UiO/FYS-STK4155/project1/tools.py:111: RuntimeWarning: divide by zero encountered in double_scalars\n",
      "  return 1 - (np.sum((y-yhat)**2)/np.sum((y-ymean)**2))\n",
      "/Users/heine2307/Documents/Universitet/UiO/FYS-STK4155/project1/tools.py:111: RuntimeWarning: divide by zero encountered in double_scalars\n",
      "  return 1 - (np.sum((y-yhat)**2)/np.sum((y-ymean)**2))\n",
      "/Users/heine2307/Documents/Universitet/UiO/FYS-STK4155/project1/tools.py:111: RuntimeWarning: divide by zero encountered in double_scalars\n",
      "  return 1 - (np.sum((y-yhat)**2)/np.sum((y-ymean)**2))\n",
      "/Users/heine2307/Documents/Universitet/UiO/FYS-STK4155/project1/tools.py:111: RuntimeWarning: divide by zero encountered in double_scalars\n",
      "  return 1 - (np.sum((y-yhat)**2)/np.sum((y-ymean)**2))\n",
      "/Users/heine2307/Documents/Universitet/UiO/FYS-STK4155/project1/tools.py:111: RuntimeWarning: divide by zero encountered in double_scalars\n",
      "  return 1 - (np.sum((y-yhat)**2)/np.sum((y-ymean)**2))\n",
      "/Users/heine2307/Documents/Universitet/UiO/FYS-STK4155/project1/tools.py:111: RuntimeWarning: divide by zero encountered in double_scalars\n",
      "  return 1 - (np.sum((y-yhat)**2)/np.sum((y-ymean)**2))\n",
      "/Users/heine2307/Documents/Universitet/UiO/FYS-STK4155/project1/tools.py:111: RuntimeWarning: divide by zero encountered in double_scalars\n",
      "  return 1 - (np.sum((y-yhat)**2)/np.sum((y-ymean)**2))\n",
      "/Users/heine2307/Documents/Universitet/UiO/FYS-STK4155/project1/tools.py:111: RuntimeWarning: divide by zero encountered in double_scalars\n",
      "  return 1 - (np.sum((y-yhat)**2)/np.sum((y-ymean)**2))\n",
      "/Users/heine2307/Documents/Universitet/UiO/FYS-STK4155/project1/tools.py:111: RuntimeWarning: divide by zero encountered in double_scalars\n",
      "  return 1 - (np.sum((y-yhat)**2)/np.sum((y-ymean)**2))\n",
      "/Users/heine2307/Documents/Universitet/UiO/FYS-STK4155/project1/tools.py:111: RuntimeWarning: divide by zero encountered in double_scalars\n",
      "  return 1 - (np.sum((y-yhat)**2)/np.sum((y-ymean)**2))\n",
      "/Users/heine2307/Documents/Universitet/UiO/FYS-STK4155/project1/tools.py:111: RuntimeWarning: divide by zero encountered in double_scalars\n",
      "  return 1 - (np.sum((y-yhat)**2)/np.sum((y-ymean)**2))\n",
      "/Users/heine2307/Documents/Universitet/UiO/FYS-STK4155/project1/tools.py:111: RuntimeWarning: divide by zero encountered in double_scalars\n",
      "  return 1 - (np.sum((y-yhat)**2)/np.sum((y-ymean)**2))\n",
      "/Users/heine2307/Documents/Universitet/UiO/FYS-STK4155/project1/tools.py:111: RuntimeWarning: divide by zero encountered in double_scalars\n",
      "  return 1 - (np.sum((y-yhat)**2)/np.sum((y-ymean)**2))\n",
      "/Users/heine2307/Documents/Universitet/UiO/FYS-STK4155/project1/tools.py:111: RuntimeWarning: divide by zero encountered in double_scalars\n",
      "  return 1 - (np.sum((y-yhat)**2)/np.sum((y-ymean)**2))\n",
      "/Users/heine2307/Documents/Universitet/UiO/FYS-STK4155/project1/tools.py:111: RuntimeWarning: divide by zero encountered in double_scalars\n",
      "  return 1 - (np.sum((y-yhat)**2)/np.sum((y-ymean)**2))\n",
      "/Users/heine2307/Documents/Universitet/UiO/FYS-STK4155/project1/tools.py:111: RuntimeWarning: divide by zero encountered in double_scalars\n",
      "  return 1 - (np.sum((y-yhat)**2)/np.sum((y-ymean)**2))\n",
      "/Users/heine2307/Documents/Universitet/UiO/FYS-STK4155/project1/tools.py:111: RuntimeWarning: divide by zero encountered in double_scalars\n",
      "  return 1 - (np.sum((y-yhat)**2)/np.sum((y-ymean)**2))\n",
      "/Users/heine2307/Documents/Universitet/UiO/FYS-STK4155/project1/tools.py:111: RuntimeWarning: divide by zero encountered in double_scalars\n",
      "  return 1 - (np.sum((y-yhat)**2)/np.sum((y-ymean)**2))\n"
     ]
    }
   ],
   "source": [
    "print_scores_with_resmpl(X,z, lmbd=0.1, method = 'lasso', smplsize=2000)"
   ]
  },
  {
   "cell_type": "markdown",
   "metadata": {},
   "source": [
    "##### Beta coefficients and their confidence intervals\n",
    "Confidence intervals not correct, using formula for OLS "
   ]
  },
  {
   "cell_type": "code",
   "execution_count": 229,
   "metadata": {
    "collapsed": false
   },
   "outputs": [
    {
     "name": "stdout",
     "output_type": "stream",
     "text": [
      "MSE:  0.04019471074713284\n",
      "R2:  0.5846670648414765\n",
      "----- Conf. int.: -----\n",
      "$j=0$ & 0.7004 $\\pm$ 0.0062 \\\n",
      "$j=5$ & -0.2225 $\\pm$ 0.0221 \\\n",
      "$j=10$ & -0.0000 $\\pm$ 0.0000 \\\n",
      "$j=15$ & -0.0000 $\\pm$ 0.0000 \\\n",
      "$j=20$ & -0.0000 $\\pm$ 0.0000 \\\n"
     ]
    },
    {
     "data": {
      "text/plain": [
       "(array([ 0.70042474, -0.        , -0.10303751, -0.52372367, -0.        ,\n",
       "        -0.22249271, -0.        , -0.        , -0.        , -0.        ,\n",
       "        -0.        , -0.        , -0.        , -0.        , -0.        ,\n",
       "        -0.        , -0.        , -0.        , -0.        , -0.        ,\n",
       "        -0.        ]),\n",
       " array([0.00621539, 0.        , 0.02049908, 0.00602781, 0.        ,\n",
       "        0.02206085, 0.        , 0.        , 0.        , 0.        ,\n",
       "        0.        , 0.        , 0.        , 0.        , 0.        ,\n",
       "        0.        , 0.        , 0.        , 0.        , 0.        ,\n",
       "        0.        ]),\n",
       " 0.040315657720293725)"
      ]
     },
     "execution_count": 229,
     "metadata": {},
     "output_type": "execute_result"
    },
    {
     "data": {
      "image/png": "[encoded data removed]",
      "text/plain": [
       "<Figure size 432x288 with 2 Axes>"
      ]
     },
     "metadata": {},
     "output_type": "display_data"
    }
   ],
   "source": [
    "lassoBeta(X,z,lambd=lambd, errors=True)"
   ]
  },
  {
   "cell_type": "markdown",
   "metadata": {
    "collapsed": true
   },
   "source": [
    "# Plot beta as a function of lambda"
   ]
  },
  {
   "cell_type": "code",
   "execution_count": 295,
   "metadata": {
    "collapsed": false
   },
   "outputs": [
    {
     "name": "stderr",
     "output_type": "stream",
     "text": [
      "/Users/heine2307/anaconda/lib/python3.6/site-packages/sklearn/linear_model/coordinate_descent.py:491: ConvergenceWarning: Objective did not converge. You might want to increase the number of iterations. Fitting data with very small alpha may cause precision problems.\n",
      "  ConvergenceWarning)\n",
      "/Users/heine2307/anaconda/lib/python3.6/site-packages/sklearn/linear_model/coordinate_descent.py:491: ConvergenceWarning: Objective did not converge. You might want to increase the number of iterations. Fitting data with very small alpha may cause precision problems.\n",
      "  ConvergenceWarning)\n",
      "/Users/heine2307/anaconda/lib/python3.6/site-packages/sklearn/linear_model/coordinate_descent.py:491: ConvergenceWarning: Objective did not converge. You might want to increase the number of iterations. Fitting data with very small alpha may cause precision problems.\n",
      "  ConvergenceWarning)\n",
      "/Users/heine2307/anaconda/lib/python3.6/site-packages/sklearn/linear_model/coordinate_descent.py:491: ConvergenceWarning: Objective did not converge. You might want to increase the number of iterations. Fitting data with very small alpha may cause precision problems.\n",
      "  ConvergenceWarning)\n",
      "/Users/heine2307/anaconda/lib/python3.6/site-packages/sklearn/linear_model/coordinate_descent.py:491: ConvergenceWarning: Objective did not converge. You might want to increase the number of iterations. Fitting data with very small alpha may cause precision problems.\n",
      "  ConvergenceWarning)\n",
      "/Users/heine2307/anaconda/lib/python3.6/site-packages/sklearn/linear_model/coordinate_descent.py:491: ConvergenceWarning: Objective did not converge. You might want to increase the number of iterations. Fitting data with very small alpha may cause precision problems.\n",
      "  ConvergenceWarning)\n",
      "/Users/heine2307/anaconda/lib/python3.6/site-packages/sklearn/linear_model/coordinate_descent.py:491: ConvergenceWarning: Objective did not converge. You might want to increase the number of iterations. Fitting data with very small alpha may cause precision problems.\n",
      "  ConvergenceWarning)\n",
      "/Users/heine2307/anaconda/lib/python3.6/site-packages/sklearn/linear_model/coordinate_descent.py:491: ConvergenceWarning: Objective did not converge. You might want to increase the number of iterations. Fitting data with very small alpha may cause precision problems.\n",
      "  ConvergenceWarning)\n",
      "/Users/heine2307/anaconda/lib/python3.6/site-packages/sklearn/linear_model/coordinate_descent.py:491: ConvergenceWarning: Objective did not converge. You might want to increase the number of iterations. Fitting data with very small alpha may cause precision problems.\n",
      "  ConvergenceWarning)\n",
      "/Users/heine2307/anaconda/lib/python3.6/site-packages/sklearn/linear_model/coordinate_descent.py:491: ConvergenceWarning: Objective did not converge. You might want to increase the number of iterations. Fitting data with very small alpha may cause precision problems.\n",
      "  ConvergenceWarning)\n",
      "/Users/heine2307/anaconda/lib/python3.6/site-packages/sklearn/linear_model/coordinate_descent.py:491: ConvergenceWarning: Objective did not converge. You might want to increase the number of iterations. Fitting data with very small alpha may cause precision problems.\n",
      "  ConvergenceWarning)\n",
      "/Users/heine2307/anaconda/lib/python3.6/site-packages/sklearn/linear_model/coordinate_descent.py:491: ConvergenceWarning: Objective did not converge. You might want to increase the number of iterations. Fitting data with very small alpha may cause precision problems.\n",
      "  ConvergenceWarning)\n",
      "/Users/heine2307/anaconda/lib/python3.6/site-packages/sklearn/linear_model/coordinate_descent.py:491: ConvergenceWarning: Objective did not converge. You might want to increase the number of iterations. Fitting data with very small alpha may cause precision problems.\n",
      "  ConvergenceWarning)\n",
      "/Users/heine2307/anaconda/lib/python3.6/site-packages/sklearn/linear_model/coordinate_descent.py:491: ConvergenceWarning: Objective did not converge. You might want to increase the number of iterations. Fitting data with very small alpha may cause precision problems.\n",
      "  ConvergenceWarning)\n",
      "/Users/heine2307/anaconda/lib/python3.6/site-packages/sklearn/linear_model/coordinate_descent.py:491: ConvergenceWarning: Objective did not converge. You might want to increase the number of iterations. Fitting data with very small alpha may cause precision problems.\n",
      "  ConvergenceWarning)\n",
      "/Users/heine2307/anaconda/lib/python3.6/site-packages/sklearn/linear_model/coordinate_descent.py:491: ConvergenceWarning: Objective did not converge. You might want to increase the number of iterations. Fitting data with very small alpha may cause precision problems.\n",
      "  ConvergenceWarning)\n",
      "/Users/heine2307/anaconda/lib/python3.6/site-packages/sklearn/linear_model/coordinate_descent.py:491: ConvergenceWarning: Objective did not converge. You might want to increase the number of iterations. Fitting data with very small alpha may cause precision problems.\n",
      "  ConvergenceWarning)\n",
      "/Users/heine2307/anaconda/lib/python3.6/site-packages/sklearn/linear_model/coordinate_descent.py:491: ConvergenceWarning: Objective did not converge. You might want to increase the number of iterations. Fitting data with very small alpha may cause precision problems.\n",
      "  ConvergenceWarning)\n",
      "/Users/heine2307/anaconda/lib/python3.6/site-packages/sklearn/linear_model/coordinate_descent.py:491: ConvergenceWarning: Objective did not converge. You might want to increase the number of iterations. Fitting data with very small alpha may cause precision problems.\n",
      "  ConvergenceWarning)\n",
      "/Users/heine2307/anaconda/lib/python3.6/site-packages/sklearn/linear_model/coordinate_descent.py:491: ConvergenceWarning: Objective did not converge. You might want to increase the number of iterations. Fitting data with very small alpha may cause precision problems.\n",
      "  ConvergenceWarning)\n",
      "/Users/heine2307/anaconda/lib/python3.6/site-packages/sklearn/linear_model/coordinate_descent.py:491: ConvergenceWarning: Objective did not converge. You might want to increase the number of iterations. Fitting data with very small alpha may cause precision problems.\n",
      "  ConvergenceWarning)\n",
      "/Users/heine2307/anaconda/lib/python3.6/site-packages/sklearn/linear_model/coordinate_descent.py:491: ConvergenceWarning: Objective did not converge. You might want to increase the number of iterations. Fitting data with very small alpha may cause precision problems.\n",
      "  ConvergenceWarning)\n",
      "/Users/heine2307/anaconda/lib/python3.6/site-packages/sklearn/linear_model/coordinate_descent.py:491: ConvergenceWarning: Objective did not converge. You might want to increase the number of iterations. Fitting data with very small alpha may cause precision problems.\n",
      "  ConvergenceWarning)\n",
      "/Users/heine2307/anaconda/lib/python3.6/site-packages/sklearn/linear_model/coordinate_descent.py:491: ConvergenceWarning: Objective did not converge. You might want to increase the number of iterations. Fitting data with very small alpha may cause precision problems.\n",
      "  ConvergenceWarning)\n",
      "/Users/heine2307/anaconda/lib/python3.6/site-packages/sklearn/linear_model/coordinate_descent.py:491: ConvergenceWarning: Objective did not converge. You might want to increase the number of iterations. Fitting data with very small alpha may cause precision problems.\n",
      "  ConvergenceWarning)\n",
      "/Users/heine2307/anaconda/lib/python3.6/site-packages/sklearn/linear_model/coordinate_descent.py:491: ConvergenceWarning: Objective did not converge. You might want to increase the number of iterations. Fitting data with very small alpha may cause precision problems.\n",
      "  ConvergenceWarning)\n",
      "/Users/heine2307/anaconda/lib/python3.6/site-packages/sklearn/linear_model/coordinate_descent.py:491: ConvergenceWarning: Objective did not converge. You might want to increase the number of iterations. Fitting data with very small alpha may cause precision problems.\n",
      "  ConvergenceWarning)\n",
      "/Users/heine2307/anaconda/lib/python3.6/site-packages/sklearn/linear_model/coordinate_descent.py:491: ConvergenceWarning: Objective did not converge. You might want to increase the number of iterations. Fitting data with very small alpha may cause precision problems.\n",
      "  ConvergenceWarning)\n",
      "/Users/heine2307/anaconda/lib/python3.6/site-packages/sklearn/linear_model/coordinate_descent.py:491: ConvergenceWarning: Objective did not converge. You might want to increase the number of iterations. Fitting data with very small alpha may cause precision problems.\n",
      "  ConvergenceWarning)\n",
      "/Users/heine2307/anaconda/lib/python3.6/site-packages/sklearn/linear_model/coordinate_descent.py:491: ConvergenceWarning: Objective did not converge. You might want to increase the number of iterations. Fitting data with very small alpha may cause precision problems.\n",
      "  ConvergenceWarning)\n",
      "/Users/heine2307/anaconda/lib/python3.6/site-packages/sklearn/linear_model/coordinate_descent.py:491: ConvergenceWarning: Objective did not converge. You might want to increase the number of iterations. Fitting data with very small alpha may cause precision problems.\n",
      "  ConvergenceWarning)\n",
      "/Users/heine2307/anaconda/lib/python3.6/site-packages/sklearn/linear_model/coordinate_descent.py:491: ConvergenceWarning: Objective did not converge. You might want to increase the number of iterations. Fitting data with very small alpha may cause precision problems.\n",
      "  ConvergenceWarning)\n",
      "/Users/heine2307/anaconda/lib/python3.6/site-packages/sklearn/linear_model/coordinate_descent.py:491: ConvergenceWarning: Objective did not converge. You might want to increase the number of iterations. Fitting data with very small alpha may cause precision problems.\n",
      "  ConvergenceWarning)\n",
      "/Users/heine2307/anaconda/lib/python3.6/site-packages/sklearn/linear_model/coordinate_descent.py:491: ConvergenceWarning: Objective did not converge. You might want to increase the number of iterations. Fitting data with very small alpha may cause precision problems.\n",
      "  ConvergenceWarning)\n",
      "/Users/heine2307/anaconda/lib/python3.6/site-packages/sklearn/linear_model/coordinate_descent.py:491: ConvergenceWarning: Objective did not converge. You might want to increase the number of iterations. Fitting data with very small alpha may cause precision problems.\n",
      "  ConvergenceWarning)\n",
      "/Users/heine2307/anaconda/lib/python3.6/site-packages/sklearn/linear_model/coordinate_descent.py:491: ConvergenceWarning: Objective did not converge. You might want to increase the number of iterations. Fitting data with very small alpha may cause precision problems.\n",
      "  ConvergenceWarning)\n",
      "/Users/heine2307/anaconda/lib/python3.6/site-packages/sklearn/linear_model/coordinate_descent.py:491: ConvergenceWarning: Objective did not converge. You might want to increase the number of iterations. Fitting data with very small alpha may cause precision problems.\n",
      "  ConvergenceWarning)\n",
      "/Users/heine2307/anaconda/lib/python3.6/site-packages/sklearn/linear_model/coordinate_descent.py:491: ConvergenceWarning: Objective did not converge. You might want to increase the number of iterations. Fitting data with very small alpha may cause precision problems.\n",
      "  ConvergenceWarning)\n",
      "/Users/heine2307/anaconda/lib/python3.6/site-packages/sklearn/linear_model/coordinate_descent.py:491: ConvergenceWarning: Objective did not converge. You might want to increase the number of iterations. Fitting data with very small alpha may cause precision problems.\n",
      "  ConvergenceWarning)\n",
      "/Users/heine2307/anaconda/lib/python3.6/site-packages/sklearn/linear_model/coordinate_descent.py:491: ConvergenceWarning: Objective did not converge. You might want to increase the number of iterations. Fitting data with very small alpha may cause precision problems.\n",
      "  ConvergenceWarning)\n",
      "/Users/heine2307/anaconda/lib/python3.6/site-packages/sklearn/linear_model/coordinate_descent.py:491: ConvergenceWarning: Objective did not converge. You might want to increase the number of iterations. Fitting data with very small alpha may cause precision problems.\n",
      "  ConvergenceWarning)\n",
      "/Users/heine2307/anaconda/lib/python3.6/site-packages/sklearn/linear_model/coordinate_descent.py:491: ConvergenceWarning: Objective did not converge. You might want to increase the number of iterations. Fitting data with very small alpha may cause precision problems.\n",
      "  ConvergenceWarning)\n",
      "/Users/heine2307/anaconda/lib/python3.6/site-packages/sklearn/linear_model/coordinate_descent.py:491: ConvergenceWarning: Objective did not converge. You might want to increase the number of iterations. Fitting data with very small alpha may cause precision problems.\n",
      "  ConvergenceWarning)\n",
      "/Users/heine2307/anaconda/lib/python3.6/site-packages/sklearn/linear_model/coordinate_descent.py:491: ConvergenceWarning: Objective did not converge. You might want to increase the number of iterations. Fitting data with very small alpha may cause precision problems.\n",
      "  ConvergenceWarning)\n",
      "/Users/heine2307/anaconda/lib/python3.6/site-packages/sklearn/linear_model/coordinate_descent.py:491: ConvergenceWarning: Objective did not converge. You might want to increase the number of iterations. Fitting data with very small alpha may cause precision problems.\n",
      "  ConvergenceWarning)\n",
      "/Users/heine2307/anaconda/lib/python3.6/site-packages/sklearn/linear_model/coordinate_descent.py:491: ConvergenceWarning: Objective did not converge. You might want to increase the number of iterations. Fitting data with very small alpha may cause precision problems.\n",
      "  ConvergenceWarning)\n",
      "/Users/heine2307/anaconda/lib/python3.6/site-packages/sklearn/linear_model/coordinate_descent.py:491: ConvergenceWarning: Objective did not converge. You might want to increase the number of iterations. Fitting data with very small alpha may cause precision problems.\n",
      "  ConvergenceWarning)\n",
      "/Users/heine2307/anaconda/lib/python3.6/site-packages/sklearn/linear_model/coordinate_descent.py:491: ConvergenceWarning: Objective did not converge. You might want to increase the number of iterations. Fitting data with very small alpha may cause precision problems.\n",
      "  ConvergenceWarning)\n",
      "/Users/heine2307/anaconda/lib/python3.6/site-packages/sklearn/linear_model/coordinate_descent.py:491: ConvergenceWarning: Objective did not converge. You might want to increase the number of iterations. Fitting data with very small alpha may cause precision problems.\n",
      "  ConvergenceWarning)\n",
      "/Users/heine2307/anaconda/lib/python3.6/site-packages/sklearn/linear_model/coordinate_descent.py:491: ConvergenceWarning: Objective did not converge. You might want to increase the number of iterations. Fitting data with very small alpha may cause precision problems.\n",
      "  ConvergenceWarning)\n",
      "/Users/heine2307/anaconda/lib/python3.6/site-packages/sklearn/linear_model/coordinate_descent.py:491: ConvergenceWarning: Objective did not converge. You might want to increase the number of iterations. Fitting data with very small alpha may cause precision problems.\n",
      "  ConvergenceWarning)\n",
      "/Users/heine2307/anaconda/lib/python3.6/site-packages/sklearn/linear_model/coordinate_descent.py:491: ConvergenceWarning: Objective did not converge. You might want to increase the number of iterations. Fitting data with very small alpha may cause precision problems.\n",
      "  ConvergenceWarning)\n",
      "/Users/heine2307/anaconda/lib/python3.6/site-packages/sklearn/linear_model/coordinate_descent.py:491: ConvergenceWarning: Objective did not converge. You might want to increase the number of iterations. Fitting data with very small alpha may cause precision problems.\n",
      "  ConvergenceWarning)\n",
      "/Users/heine2307/anaconda/lib/python3.6/site-packages/sklearn/linear_model/coordinate_descent.py:491: ConvergenceWarning: Objective did not converge. You might want to increase the number of iterations. Fitting data with very small alpha may cause precision problems.\n",
      "  ConvergenceWarning)\n",
      "/Users/heine2307/anaconda/lib/python3.6/site-packages/sklearn/linear_model/coordinate_descent.py:491: ConvergenceWarning: Objective did not converge. You might want to increase the number of iterations. Fitting data with very small alpha may cause precision problems.\n",
      "  ConvergenceWarning)\n",
      "/Users/heine2307/anaconda/lib/python3.6/site-packages/sklearn/linear_model/coordinate_descent.py:491: ConvergenceWarning: Objective did not converge. You might want to increase the number of iterations. Fitting data with very small alpha may cause precision problems.\n",
      "  ConvergenceWarning)\n",
      "/Users/heine2307/anaconda/lib/python3.6/site-packages/sklearn/linear_model/coordinate_descent.py:491: ConvergenceWarning: Objective did not converge. You might want to increase the number of iterations. Fitting data with very small alpha may cause precision problems.\n",
      "  ConvergenceWarning)\n",
      "/Users/heine2307/anaconda/lib/python3.6/site-packages/sklearn/linear_model/coordinate_descent.py:491: ConvergenceWarning: Objective did not converge. You might want to increase the number of iterations. Fitting data with very small alpha may cause precision problems.\n",
      "  ConvergenceWarning)\n",
      "/Users/heine2307/anaconda/lib/python3.6/site-packages/sklearn/linear_model/coordinate_descent.py:491: ConvergenceWarning: Objective did not converge. You might want to increase the number of iterations. Fitting data with very small alpha may cause precision problems.\n",
      "  ConvergenceWarning)\n",
      "/Users/heine2307/anaconda/lib/python3.6/site-packages/sklearn/linear_model/coordinate_descent.py:491: ConvergenceWarning: Objective did not converge. You might want to increase the number of iterations. Fitting data with very small alpha may cause precision problems.\n",
      "  ConvergenceWarning)\n",
      "/Users/heine2307/anaconda/lib/python3.6/site-packages/sklearn/linear_model/coordinate_descent.py:491: ConvergenceWarning: Objective did not converge. You might want to increase the number of iterations. Fitting data with very small alpha may cause precision problems.\n",
      "  ConvergenceWarning)\n",
      "/Users/heine2307/anaconda/lib/python3.6/site-packages/sklearn/linear_model/coordinate_descent.py:491: ConvergenceWarning: Objective did not converge. You might want to increase the number of iterations. Fitting data with very small alpha may cause precision problems.\n",
      "  ConvergenceWarning)\n",
      "/Users/heine2307/anaconda/lib/python3.6/site-packages/sklearn/linear_model/coordinate_descent.py:491: ConvergenceWarning: Objective did not converge. You might want to increase the number of iterations. Fitting data with very small alpha may cause precision problems.\n",
      "  ConvergenceWarning)\n",
      "/Users/heine2307/anaconda/lib/python3.6/site-packages/sklearn/linear_model/coordinate_descent.py:491: ConvergenceWarning: Objective did not converge. You might want to increase the number of iterations. Fitting data with very small alpha may cause precision problems.\n",
      "  ConvergenceWarning)\n",
      "/Users/heine2307/anaconda/lib/python3.6/site-packages/sklearn/linear_model/coordinate_descent.py:491: ConvergenceWarning: Objective did not converge. You might want to increase the number of iterations. Fitting data with very small alpha may cause precision problems.\n",
      "  ConvergenceWarning)\n",
      "/Users/heine2307/anaconda/lib/python3.6/site-packages/sklearn/linear_model/coordinate_descent.py:491: ConvergenceWarning: Objective did not converge. You might want to increase the number of iterations. Fitting data with very small alpha may cause precision problems.\n",
      "  ConvergenceWarning)\n",
      "/Users/heine2307/anaconda/lib/python3.6/site-packages/sklearn/linear_model/coordinate_descent.py:491: ConvergenceWarning: Objective did not converge. You might want to increase the number of iterations. Fitting data with very small alpha may cause precision problems.\n",
      "  ConvergenceWarning)\n",
      "/Users/heine2307/anaconda/lib/python3.6/site-packages/sklearn/linear_model/coordinate_descent.py:491: ConvergenceWarning: Objective did not converge. You might want to increase the number of iterations. Fitting data with very small alpha may cause precision problems.\n",
      "  ConvergenceWarning)\n",
      "/Users/heine2307/anaconda/lib/python3.6/site-packages/sklearn/linear_model/coordinate_descent.py:491: ConvergenceWarning: Objective did not converge. You might want to increase the number of iterations. Fitting data with very small alpha may cause precision problems.\n",
      "  ConvergenceWarning)\n",
      "/Users/heine2307/anaconda/lib/python3.6/site-packages/sklearn/linear_model/coordinate_descent.py:491: ConvergenceWarning: Objective did not converge. You might want to increase the number of iterations. Fitting data with very small alpha may cause precision problems.\n",
      "  ConvergenceWarning)\n",
      "/Users/heine2307/anaconda/lib/python3.6/site-packages/sklearn/linear_model/coordinate_descent.py:491: ConvergenceWarning: Objective did not converge. You might want to increase the number of iterations. Fitting data with very small alpha may cause precision problems.\n",
      "  ConvergenceWarning)\n",
      "/Users/heine2307/anaconda/lib/python3.6/site-packages/sklearn/linear_model/coordinate_descent.py:491: ConvergenceWarning: Objective did not converge. You might want to increase the number of iterations. Fitting data with very small alpha may cause precision problems.\n",
      "  ConvergenceWarning)\n",
      "/Users/heine2307/anaconda/lib/python3.6/site-packages/sklearn/linear_model/coordinate_descent.py:491: ConvergenceWarning: Objective did not converge. You might want to increase the number of iterations. Fitting data with very small alpha may cause precision problems.\n",
      "  ConvergenceWarning)\n",
      "/Users/heine2307/anaconda/lib/python3.6/site-packages/sklearn/linear_model/coordinate_descent.py:491: ConvergenceWarning: Objective did not converge. You might want to increase the number of iterations. Fitting data with very small alpha may cause precision problems.\n",
      "  ConvergenceWarning)\n",
      "/Users/heine2307/anaconda/lib/python3.6/site-packages/sklearn/linear_model/coordinate_descent.py:491: ConvergenceWarning: Objective did not converge. You might want to increase the number of iterations. Fitting data with very small alpha may cause precision problems.\n",
      "  ConvergenceWarning)\n",
      "/Users/heine2307/anaconda/lib/python3.6/site-packages/sklearn/linear_model/coordinate_descent.py:491: ConvergenceWarning: Objective did not converge. You might want to increase the number of iterations. Fitting data with very small alpha may cause precision problems.\n",
      "  ConvergenceWarning)\n",
      "/Users/heine2307/anaconda/lib/python3.6/site-packages/sklearn/linear_model/coordinate_descent.py:491: ConvergenceWarning: Objective did not converge. You might want to increase the number of iterations. Fitting data with very small alpha may cause precision problems.\n",
      "  ConvergenceWarning)\n",
      "/Users/heine2307/anaconda/lib/python3.6/site-packages/sklearn/linear_model/coordinate_descent.py:491: ConvergenceWarning: Objective did not converge. You might want to increase the number of iterations. Fitting data with very small alpha may cause precision problems.\n",
      "  ConvergenceWarning)\n",
      "/Users/heine2307/anaconda/lib/python3.6/site-packages/sklearn/linear_model/coordinate_descent.py:491: ConvergenceWarning: Objective did not converge. You might want to increase the number of iterations. Fitting data with very small alpha may cause precision problems.\n",
      "  ConvergenceWarning)\n",
      "/Users/heine2307/anaconda/lib/python3.6/site-packages/sklearn/linear_model/coordinate_descent.py:491: ConvergenceWarning: Objective did not converge. You might want to increase the number of iterations. Fitting data with very small alpha may cause precision problems.\n",
      "  ConvergenceWarning)\n",
      "/Users/heine2307/anaconda/lib/python3.6/site-packages/sklearn/linear_model/coordinate_descent.py:491: ConvergenceWarning: Objective did not converge. You might want to increase the number of iterations. Fitting data with very small alpha may cause precision problems.\n",
      "  ConvergenceWarning)\n",
      "/Users/heine2307/anaconda/lib/python3.6/site-packages/sklearn/linear_model/coordinate_descent.py:491: ConvergenceWarning: Objective did not converge. You might want to increase the number of iterations. Fitting data with very small alpha may cause precision problems.\n",
      "  ConvergenceWarning)\n",
      "/Users/heine2307/anaconda/lib/python3.6/site-packages/sklearn/linear_model/coordinate_descent.py:491: ConvergenceWarning: Objective did not converge. You might want to increase the number of iterations. Fitting data with very small alpha may cause precision problems.\n",
      "  ConvergenceWarning)\n",
      "/Users/heine2307/anaconda/lib/python3.6/site-packages/sklearn/linear_model/coordinate_descent.py:491: ConvergenceWarning: Objective did not converge. You might want to increase the number of iterations. Fitting data with very small alpha may cause precision problems.\n",
      "  ConvergenceWarning)\n",
      "/Users/heine2307/anaconda/lib/python3.6/site-packages/sklearn/linear_model/coordinate_descent.py:491: ConvergenceWarning: Objective did not converge. You might want to increase the number of iterations. Fitting data with very small alpha may cause precision problems.\n",
      "  ConvergenceWarning)\n",
      "/Users/heine2307/anaconda/lib/python3.6/site-packages/sklearn/linear_model/coordinate_descent.py:491: ConvergenceWarning: Objective did not converge. You might want to increase the number of iterations. Fitting data with very small alpha may cause precision problems.\n",
      "  ConvergenceWarning)\n",
      "/Users/heine2307/anaconda/lib/python3.6/site-packages/sklearn/linear_model/coordinate_descent.py:491: ConvergenceWarning: Objective did not converge. You might want to increase the number of iterations. Fitting data with very small alpha may cause precision problems.\n",
      "  ConvergenceWarning)\n",
      "/Users/heine2307/anaconda/lib/python3.6/site-packages/sklearn/linear_model/coordinate_descent.py:491: ConvergenceWarning: Objective did not converge. You might want to increase the number of iterations. Fitting data with very small alpha may cause precision problems.\n",
      "  ConvergenceWarning)\n",
      "/Users/heine2307/anaconda/lib/python3.6/site-packages/sklearn/linear_model/coordinate_descent.py:491: ConvergenceWarning: Objective did not converge. You might want to increase the number of iterations. Fitting data with very small alpha may cause precision problems.\n",
      "  ConvergenceWarning)\n",
      "/Users/heine2307/anaconda/lib/python3.6/site-packages/sklearn/linear_model/coordinate_descent.py:491: ConvergenceWarning: Objective did not converge. You might want to increase the number of iterations. Fitting data with very small alpha may cause precision problems.\n",
      "  ConvergenceWarning)\n",
      "/Users/heine2307/anaconda/lib/python3.6/site-packages/sklearn/linear_model/coordinate_descent.py:491: ConvergenceWarning: Objective did not converge. You might want to increase the number of iterations. Fitting data with very small alpha may cause precision problems.\n",
      "  ConvergenceWarning)\n",
      "/Users/heine2307/anaconda/lib/python3.6/site-packages/sklearn/linear_model/coordinate_descent.py:491: ConvergenceWarning: Objective did not converge. You might want to increase the number of iterations. Fitting data with very small alpha may cause precision problems.\n",
      "  ConvergenceWarning)\n",
      "/Users/heine2307/anaconda/lib/python3.6/site-packages/sklearn/linear_model/coordinate_descent.py:491: ConvergenceWarning: Objective did not converge. You might want to increase the number of iterations. Fitting data with very small alpha may cause precision problems.\n",
      "  ConvergenceWarning)\n",
      "/Users/heine2307/anaconda/lib/python3.6/site-packages/sklearn/linear_model/coordinate_descent.py:491: ConvergenceWarning: Objective did not converge. You might want to increase the number of iterations. Fitting data with very small alpha may cause precision problems.\n",
      "  ConvergenceWarning)\n",
      "/Users/heine2307/anaconda/lib/python3.6/site-packages/sklearn/linear_model/coordinate_descent.py:491: ConvergenceWarning: Objective did not converge. You might want to increase the number of iterations. Fitting data with very small alpha may cause precision problems.\n",
      "  ConvergenceWarning)\n",
      "/Users/heine2307/anaconda/lib/python3.6/site-packages/sklearn/linear_model/coordinate_descent.py:491: ConvergenceWarning: Objective did not converge. You might want to increase the number of iterations. Fitting data with very small alpha may cause precision problems.\n",
      "  ConvergenceWarning)\n",
      "/Users/heine2307/anaconda/lib/python3.6/site-packages/sklearn/linear_model/coordinate_descent.py:491: ConvergenceWarning: Objective did not converge. You might want to increase the number of iterations. Fitting data with very small alpha may cause precision problems.\n",
      "  ConvergenceWarning)\n",
      "/Users/heine2307/anaconda/lib/python3.6/site-packages/sklearn/linear_model/coordinate_descent.py:491: ConvergenceWarning: Objective did not converge. You might want to increase the number of iterations. Fitting data with very small alpha may cause precision problems.\n",
      "  ConvergenceWarning)\n",
      "/Users/heine2307/anaconda/lib/python3.6/site-packages/sklearn/linear_model/coordinate_descent.py:491: ConvergenceWarning: Objective did not converge. You might want to increase the number of iterations. Fitting data with very small alpha may cause precision problems.\n",
      "  ConvergenceWarning)\n",
      "/Users/heine2307/anaconda/lib/python3.6/site-packages/sklearn/linear_model/coordinate_descent.py:491: ConvergenceWarning: Objective did not converge. You might want to increase the number of iterations. Fitting data with very small alpha may cause precision problems.\n",
      "  ConvergenceWarning)\n",
      "/Users/heine2307/anaconda/lib/python3.6/site-packages/sklearn/linear_model/coordinate_descent.py:491: ConvergenceWarning: Objective did not converge. You might want to increase the number of iterations. Fitting data with very small alpha may cause precision problems.\n",
      "  ConvergenceWarning)\n"
     ]
    },
    {
     "name": "stdout",
     "output_type": "stream",
     "text": [
      "[-0.66889252 -0.72892939 -0.75027464 -0.80859463 -0.41037931 -0.30764133\n",
      " -0.         -0.          0.          0.        ]\n",
      "[0.01893025 0.0190973  0.01966349 0.02151208 0.02579198 0.03554926\n",
      " 0.05451485 0.10302665 0.17467312 0.27070966]\n"
     ]
    },
    {
     "data": {
      "image/png": "[encoded data removed]",
      "text/plain": [
       "<Figure size 504x360 with 1 Axes>"
      ]
     },
     "metadata": {},
     "output_type": "display_data"
    },
    {
     "data": {
      "image/png": "[encoded data removed]",
      "text/plain": [
       "<Figure size 504x360 with 1 Axes>"
      ]
     },
     "metadata": {},
     "output_type": "display_data"
    }
   ],
   "source": [
    "runs = 10\n",
    "bnum = 10\n",
    "\n",
    "# OLS beta is not dependent of lambda, so every point is the same\n",
    "#Sb,Sv,Ss = olsBeta(X,z)\n",
    "#Bnum = np.argsort(np.abs(Sb))\n",
    "#bnum = Bnum[0]\n",
    "#print('Bnum: ',bnum)\n",
    "#Sbeta = np.ones(runs)*Sb[bnum]\n",
    "#Svar = np.ones(runs)*Sv[bnum]\n",
    "#Ssig = np.ones(runs)*Ss\n",
    "\n",
    "#Rbeta = np.zeros(runs)\n",
    "#Rvar = np.zeros(runs)\n",
    "Rsig = np.zeros(runs)\n",
    "\n",
    "Rlist = np.zeros((runs,X.shape[1]))\n",
    "\n",
    "#Lbeta = np.zeros(runs)\n",
    "#Lvar = np.zeros(runs)\n",
    "#Lsig = np.zeros(runs)\n",
    "\n",
    "Lsig = np.zeros((runs,X.shape[1]))\n",
    "Llist = np.zeros((runs,X.shape[1]))\n",
    "\n",
    "#x = 100*np.log10(np.arange(runs))\n",
    "x_ = np.logspace(-5, 0, runs)\n",
    "#x_ = np.linspace(0, 0.4, runs)\n",
    "\n",
    "for i, lambd in enumerate(x_):\n",
    "    Rb,Rv,Rs = ridgeBeta(X,z,lambd=lambd)\n",
    "    #Rbeta[i] = Rb[bnum]\n",
    "    #Rvar[i] = Rv[bnum]\n",
    "    Rsig[i] = Rs\n",
    "    Rlist[i][:] = Rb\n",
    "    \n",
    "    b = tools.k_fold_val(x,y,z, statistic_func=beta_stat, return_average=False,method='lasso',lmbd=lambd, k=10)\n",
    "    _,Ls = beta_best(b)\n",
    "    \n",
    "    Lb,Lv,Ls = lassoBeta(X,z,lambd=lambd)\n",
    "    #Lbeta[i] = Lb[bnum]\n",
    "    #Lvar[i] = Lv[bnum]\n",
    "    Lsig[i][:] = Ls\n",
    "    Llist[i][:] = Lb\n",
    "\n",
    "# #OLS\n",
    "# plt.plot(x,Sbeta, 'r-')\n",
    "# plt.fill_between(x,Sbeta+Ssig,Sbeta-Ssig,alpha=0.1,color='r')\n",
    "# #Ridge\n",
    "# plt.plot(x,Rbeta, 'b-')\n",
    "# plt.fill_between(x,Rbeta+Rsig,Rbeta-Rsig,alpha=0.1,color='b')\n",
    "# #Lasso\n",
    "# plt.plot(x,Lbeta, 'g-')\n",
    "# plt.fill_between(x,Lbeta+Lsig,Lbeta-Lsig,alpha=0.1,color='g')\n",
    "\n",
    "plt.rcParams.update({'font.size': 16})\n",
    "figridge = plt.figure(figsize=[7,5])\n",
    "#plt.subplot(121)\n",
    "for i in range(X.shape[1]):\n",
    "    plt.semilogx(x_,Rlist.T[i])#,'b-')\n",
    "    plt.fill_between(x_,Rlist.T[i]+Rsig,Rlist.T[i]-Rsig,alpha=0.1)#,color='b')\n",
    "plt.xlabel(r'$ \\lambda $',fontsize=15)\n",
    "plt.ylabel(r'$ \\beta_j $',fontsize=15)\n",
    "plt.title('Ridge',fontsize=20)\n",
    "#plt.legend(['B_{}'.format(i) for i in range(X.shape[1])])\n",
    "plt.savefig('betaRidge.pdf')\n",
    "\n",
    "print(Llist.T[2])\n",
    "print(Lsig.T[2])\n",
    "\n",
    "figlasso = plt.figure(figsize=[7,5])\n",
    "for i in range(X.shape[1]):\n",
    "    plt.semilogx(x_,Llist.T[i])#,'g-')\n",
    "    plt.fill_between(x_,Llist.T[i]+Lsig.T[i],Llist.T[i]-Lsig.T[i],alpha=0.1)#,color='g')\n",
    "plt.xlabel(r'$ \\lambda $',fontsize=15)\n",
    "plt.ylabel(r'$ \\beta_j $',fontsize=15)\n",
    "plt.title('Lasso',fontsize=20)\n",
    "plt.savefig('betaLasso.pdf')\n",
    "\n",
    "plt.show()"
   ]
  },
  {
   "cell_type": "code",
   "execution_count": 40,
   "metadata": {
    "collapsed": false
   },
   "outputs": [],
   "source": []
  },
  {
   "cell_type": "code",
   "execution_count": 167,
   "metadata": {
    "collapsed": true
   },
   "outputs": [],
   "source": [
    "def beta_stat(regr,*args):\n",
    "    return regr.coef_\n",
    "\n",
    "def beta_best(betalist):\n",
    "    n = betalist.shape[1]\n",
    "    std = np.zeros(n)\n",
    "    best = np.zeros(n)\n",
    "    for i in range(n):\n",
    "        betas = betalist.T[i]\n",
    "        best[i] = np.mean(betas)\n",
    "        std[i] = np.std(betas)\n",
    "    return best,std"
   ]
  },
  {
   "cell_type": "code",
   "execution_count": 183,
   "metadata": {
    "collapsed": false
   },
   "outputs": [
    {
     "name": "stdout",
     "output_type": "stream",
     "text": [
      "[ 0.70289787  0.         -0.18324824 -0.4939158   0.         -0.15255257\n",
      "  0.          0.          0.          0.          0.          0.\n",
      "  0.          0.          0.          0.          0.          0.\n",
      "  0.          0.          0.        ]\n",
      "[0.00695038 0.         0.02122864 0.00457467 0.         0.01844904\n",
      " 0.         0.         0.         0.         0.         0.\n",
      " 0.         0.         0.         0.         0.         0.\n",
      " 0.         0.         0.        ]\n",
      "[ 0.7029158  -0.         -0.18328536 -0.49398098 -0.         -0.15250024\n",
      " -0.         -0.         -0.         -0.         -0.         -0.\n",
      " -0.         -0.         -0.         -0.         -0.         -0.\n",
      " -0.         -0.         -0.        ]\n"
     ]
    }
   ],
   "source": [
    "b = tools.k_fold_val(x,y,z, statistic_func=beta_stat, return_average=False,method='lasso',lmbd=lambd, k=10)\n",
    "be,s = beta_best(b)\n",
    "print(be)\n",
    "print(s)\n",
    "\n",
    "q,w,e = lassoBeta(X,z,lambd = lambd, errors=False)\n",
    "print(q)\n"
   ]
  },
  {
   "cell_type": "code",
   "execution_count": null,
   "metadata": {
    "collapsed": true
   },
   "outputs": [],
   "source": []
  }
 ],
 "metadata": {
  "kernelspec": {
   "display_name": "Python 3",
   "language": "python",
   "name": "python3"
  },
  "language_info": {
   "codemirror_mode": {
    "name": "ipython",
    "version": 3
   },
   "file_extension": ".py",
   "mimetype": "text/x-python",
   "name": "python",
   "nbconvert_exporter": "python",
   "pygments_lexer": "ipython3",
   "version": "3.6.0"
  }
 },
 "nbformat": 4,
 "nbformat_minor": 2
}
